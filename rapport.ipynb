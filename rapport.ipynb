{
 "cells": [
  {
   "cell_type": "code",
   "execution_count": 2,
   "metadata": {},
   "outputs": [],
   "source": [
    "import numpy as np\n",
    "import pandas as pd\n",
    "import sqlite3 as sql\n",
    "import matplotlib.pyplot as plt\n",
    "import plotly.express as px\n",
    "from plotly.subplots import make_subplots\n",
    "import os"
   ]
  },
  {
   "cell_type": "code",
   "execution_count": null,
   "metadata": {},
   "outputs": [],
   "source": [
    "import sqlite3\n",
    "import pandas as pd\n",
    "\n",
    "# Connecter à la base de données SQLite\n",
    "conn = sqlite3.connect('basketball.sqlite')\n",
    "\n",
    "# Obtenir la liste des tables dans la base de données\n",
    "tables = pd.read_sql_query(\"SELECT name FROM sqlite_master WHERE type='table';\", conn)\n",
    "\n",
    "# Parcourir chaque table et l'exporter en CSV\n",
    "for table_name in tables['name']:\n",
    "    # Lire la table dans un DataFrame pandas\n",
    "    df = pd.read_sql_query(f\"SELECT * FROM {table_name};\", conn)\n",
    "    \n",
    "    # Exporter la table en fichier CSV\n",
    "    df.to_csv(f'{table_name}.csv', index=False)\n",
    "    print(f'La table {table_name} a été exportée en {table_name}.csv')\n",
    "\n",
    "# Fermer la connexion à la base de données\n",
    "conn.close()\n"
   ]
  },
  {
   "cell_type": "markdown",
   "metadata": {},
   "source": [
    "## Présentation générale des équipes et du nombres de games"
   ]
  },
  {
   "cell_type": "code",
   "execution_count": 51,
   "metadata": {},
   "outputs": [
    {
     "name": "stderr",
     "output_type": "stream",
     "text": [
      "<>:2: SyntaxWarning:\n",
      "\n",
      "invalid escape sequence '\\G'\n",
      "\n",
      "<>:2: SyntaxWarning:\n",
      "\n",
      "invalid escape sequence '\\G'\n",
      "\n",
      "C:\\Users\\Public\\Documents\\Wondershare\\CreatorTemp\\ipykernel_18068\\1217085995.py:2: SyntaxWarning:\n",
      "\n",
      "invalid escape sequence '\\G'\n",
      "\n"
     ]
    },
    {
     "data": {
      "application/vnd.plotly.v1+json": {
       "config": {
        "plotlyServerURL": "https://plot.ly"
       },
       "data": [
        {
         "alignmentgroup": "True",
         "hovertemplate": "season=%{x}<br>total_team_count=%{y}<extra></extra>",
         "legendgroup": "",
         "marker": {
          "color": "#636efa",
          "pattern": {
           "shape": ""
          }
         },
         "name": "Total des équipes",
         "offsetgroup": "",
         "opacity": 0.6,
         "orientation": "v",
         "showlegend": true,
         "textposition": "auto",
         "type": "bar",
         "x": [
          1946,
          1947,
          1948,
          1949,
          1950,
          1951,
          1952,
          1953,
          1954,
          1955,
          1956,
          1957,
          1958,
          1959,
          1960,
          1961,
          1962,
          1963,
          1964,
          1965,
          1966,
          1967,
          1968,
          1969,
          1970,
          1971,
          1972,
          1973,
          1974,
          1975,
          1976,
          1977,
          1978,
          1979,
          1980,
          1981,
          1982,
          1983,
          1984,
          1985,
          1986,
          1987,
          1988,
          1989,
          1990,
          1991,
          1992,
          1993,
          1994,
          1995,
          1996,
          1997,
          1998,
          1999,
          2000,
          2001,
          2002,
          2003,
          2004,
          2005,
          2006,
          2007,
          2008,
          2009,
          2010,
          2011,
          2012,
          2013,
          2014,
          2015,
          2016,
          2017,
          2018,
          2019,
          2020
         ],
         "xaxis": "x",
         "y": [
          11,
          12,
          12,
          19,
          17,
          11,
          10,
          10,
          9,
          8,
          8,
          8,
          8,
          8,
          8,
          9,
          9,
          9,
          9,
          9,
          10,
          12,
          14,
          14,
          17,
          17,
          17,
          17,
          18,
          18,
          22,
          22,
          22,
          22,
          23,
          23,
          23,
          23,
          23,
          23,
          23,
          23,
          25,
          27,
          27,
          27,
          27,
          27,
          27,
          29,
          29,
          29,
          29,
          29,
          29,
          29,
          30,
          29,
          30,
          30,
          30,
          30,
          30,
          30,
          30,
          30,
          30,
          30,
          30,
          30,
          30,
          30,
          30,
          30,
          30
         ],
         "yaxis": "y"
        },
        {
         "hovertemplate": "season=%{x}<br>total_game_count=%{y}<extra></extra>",
         "legendgroup": "",
         "line": {
          "color": "red",
          "dash": "solid"
         },
         "marker": {
          "symbol": "circle"
         },
         "mode": "lines",
         "name": "Total des games",
         "orientation": "v",
         "showlegend": true,
         "type": "scatter",
         "x": [
          1946,
          1947,
          1948,
          1949,
          1950,
          1951,
          1952,
          1953,
          1954,
          1955,
          1956,
          1957,
          1958,
          1959,
          1960,
          1961,
          1962,
          1963,
          1964,
          1965,
          1966,
          1967,
          1968,
          1969,
          1970,
          1971,
          1972,
          1973,
          1974,
          1975,
          1976,
          1977,
          1978,
          1979,
          1980,
          1981,
          1982,
          1983,
          1984,
          1985,
          1986,
          1987,
          1988,
          1989,
          1990,
          1991,
          1992,
          1993,
          1994,
          1995,
          1996,
          1997,
          1998,
          1999,
          2000,
          2001,
          2002,
          2003,
          2004,
          2005,
          2006,
          2007,
          2008,
          2009,
          2010,
          2011,
          2012,
          2013,
          2014,
          2015,
          2016,
          2017,
          2018,
          2019,
          2020
         ],
         "xaxis": "x",
         "y": [
          128,
          276,
          268,
          455,
          479,
          335,
          338,
          337,
          298,
          285,
          305,
          297,
          287,
          297,
          307,
          338,
          361,
          351,
          369,
          358,
          382,
          452,
          528,
          579,
          641,
          682,
          694,
          703,
          680,
          715,
          817,
          908,
          924,
          934,
          926,
          825,
          957,
          946,
          953,
          947,
          911,
          910,
          984,
          1059,
          1113,
          1116,
          1074,
          1117,
          1109,
          1149,
          1201,
          1190,
          766,
          1147,
          1206,
          1182,
          1205,
          1191,
          1165,
          1238,
          1252,
          1230,
          1246,
          1231,
          1239,
          804,
          1390,
          1239,
          1245,
          1238,
          1247,
          1268,
          1234,
          1185,
          623
         ],
         "yaxis": "y2"
        }
       ],
       "layout": {
        "template": {
         "data": {
          "bar": [
           {
            "error_x": {
             "color": "#2a3f5f"
            },
            "error_y": {
             "color": "#2a3f5f"
            },
            "marker": {
             "line": {
              "color": "#E5ECF6",
              "width": 0.5
             },
             "pattern": {
              "fillmode": "overlay",
              "size": 10,
              "solidity": 0.2
             }
            },
            "type": "bar"
           }
          ],
          "barpolar": [
           {
            "marker": {
             "line": {
              "color": "#E5ECF6",
              "width": 0.5
             },
             "pattern": {
              "fillmode": "overlay",
              "size": 10,
              "solidity": 0.2
             }
            },
            "type": "barpolar"
           }
          ],
          "carpet": [
           {
            "aaxis": {
             "endlinecolor": "#2a3f5f",
             "gridcolor": "white",
             "linecolor": "white",
             "minorgridcolor": "white",
             "startlinecolor": "#2a3f5f"
            },
            "baxis": {
             "endlinecolor": "#2a3f5f",
             "gridcolor": "white",
             "linecolor": "white",
             "minorgridcolor": "white",
             "startlinecolor": "#2a3f5f"
            },
            "type": "carpet"
           }
          ],
          "choropleth": [
           {
            "colorbar": {
             "outlinewidth": 0,
             "ticks": ""
            },
            "type": "choropleth"
           }
          ],
          "contour": [
           {
            "colorbar": {
             "outlinewidth": 0,
             "ticks": ""
            },
            "colorscale": [
             [
              0,
              "#0d0887"
             ],
             [
              0.1111111111111111,
              "#46039f"
             ],
             [
              0.2222222222222222,
              "#7201a8"
             ],
             [
              0.3333333333333333,
              "#9c179e"
             ],
             [
              0.4444444444444444,
              "#bd3786"
             ],
             [
              0.5555555555555556,
              "#d8576b"
             ],
             [
              0.6666666666666666,
              "#ed7953"
             ],
             [
              0.7777777777777778,
              "#fb9f3a"
             ],
             [
              0.8888888888888888,
              "#fdca26"
             ],
             [
              1,
              "#f0f921"
             ]
            ],
            "type": "contour"
           }
          ],
          "contourcarpet": [
           {
            "colorbar": {
             "outlinewidth": 0,
             "ticks": ""
            },
            "type": "contourcarpet"
           }
          ],
          "heatmap": [
           {
            "colorbar": {
             "outlinewidth": 0,
             "ticks": ""
            },
            "colorscale": [
             [
              0,
              "#0d0887"
             ],
             [
              0.1111111111111111,
              "#46039f"
             ],
             [
              0.2222222222222222,
              "#7201a8"
             ],
             [
              0.3333333333333333,
              "#9c179e"
             ],
             [
              0.4444444444444444,
              "#bd3786"
             ],
             [
              0.5555555555555556,
              "#d8576b"
             ],
             [
              0.6666666666666666,
              "#ed7953"
             ],
             [
              0.7777777777777778,
              "#fb9f3a"
             ],
             [
              0.8888888888888888,
              "#fdca26"
             ],
             [
              1,
              "#f0f921"
             ]
            ],
            "type": "heatmap"
           }
          ],
          "heatmapgl": [
           {
            "colorbar": {
             "outlinewidth": 0,
             "ticks": ""
            },
            "colorscale": [
             [
              0,
              "#0d0887"
             ],
             [
              0.1111111111111111,
              "#46039f"
             ],
             [
              0.2222222222222222,
              "#7201a8"
             ],
             [
              0.3333333333333333,
              "#9c179e"
             ],
             [
              0.4444444444444444,
              "#bd3786"
             ],
             [
              0.5555555555555556,
              "#d8576b"
             ],
             [
              0.6666666666666666,
              "#ed7953"
             ],
             [
              0.7777777777777778,
              "#fb9f3a"
             ],
             [
              0.8888888888888888,
              "#fdca26"
             ],
             [
              1,
              "#f0f921"
             ]
            ],
            "type": "heatmapgl"
           }
          ],
          "histogram": [
           {
            "marker": {
             "pattern": {
              "fillmode": "overlay",
              "size": 10,
              "solidity": 0.2
             }
            },
            "type": "histogram"
           }
          ],
          "histogram2d": [
           {
            "colorbar": {
             "outlinewidth": 0,
             "ticks": ""
            },
            "colorscale": [
             [
              0,
              "#0d0887"
             ],
             [
              0.1111111111111111,
              "#46039f"
             ],
             [
              0.2222222222222222,
              "#7201a8"
             ],
             [
              0.3333333333333333,
              "#9c179e"
             ],
             [
              0.4444444444444444,
              "#bd3786"
             ],
             [
              0.5555555555555556,
              "#d8576b"
             ],
             [
              0.6666666666666666,
              "#ed7953"
             ],
             [
              0.7777777777777778,
              "#fb9f3a"
             ],
             [
              0.8888888888888888,
              "#fdca26"
             ],
             [
              1,
              "#f0f921"
             ]
            ],
            "type": "histogram2d"
           }
          ],
          "histogram2dcontour": [
           {
            "colorbar": {
             "outlinewidth": 0,
             "ticks": ""
            },
            "colorscale": [
             [
              0,
              "#0d0887"
             ],
             [
              0.1111111111111111,
              "#46039f"
             ],
             [
              0.2222222222222222,
              "#7201a8"
             ],
             [
              0.3333333333333333,
              "#9c179e"
             ],
             [
              0.4444444444444444,
              "#bd3786"
             ],
             [
              0.5555555555555556,
              "#d8576b"
             ],
             [
              0.6666666666666666,
              "#ed7953"
             ],
             [
              0.7777777777777778,
              "#fb9f3a"
             ],
             [
              0.8888888888888888,
              "#fdca26"
             ],
             [
              1,
              "#f0f921"
             ]
            ],
            "type": "histogram2dcontour"
           }
          ],
          "mesh3d": [
           {
            "colorbar": {
             "outlinewidth": 0,
             "ticks": ""
            },
            "type": "mesh3d"
           }
          ],
          "parcoords": [
           {
            "line": {
             "colorbar": {
              "outlinewidth": 0,
              "ticks": ""
             }
            },
            "type": "parcoords"
           }
          ],
          "pie": [
           {
            "automargin": true,
            "type": "pie"
           }
          ],
          "scatter": [
           {
            "fillpattern": {
             "fillmode": "overlay",
             "size": 10,
             "solidity": 0.2
            },
            "type": "scatter"
           }
          ],
          "scatter3d": [
           {
            "line": {
             "colorbar": {
              "outlinewidth": 0,
              "ticks": ""
             }
            },
            "marker": {
             "colorbar": {
              "outlinewidth": 0,
              "ticks": ""
             }
            },
            "type": "scatter3d"
           }
          ],
          "scattercarpet": [
           {
            "marker": {
             "colorbar": {
              "outlinewidth": 0,
              "ticks": ""
             }
            },
            "type": "scattercarpet"
           }
          ],
          "scattergeo": [
           {
            "marker": {
             "colorbar": {
              "outlinewidth": 0,
              "ticks": ""
             }
            },
            "type": "scattergeo"
           }
          ],
          "scattergl": [
           {
            "marker": {
             "colorbar": {
              "outlinewidth": 0,
              "ticks": ""
             }
            },
            "type": "scattergl"
           }
          ],
          "scattermapbox": [
           {
            "marker": {
             "colorbar": {
              "outlinewidth": 0,
              "ticks": ""
             }
            },
            "type": "scattermapbox"
           }
          ],
          "scatterpolar": [
           {
            "marker": {
             "colorbar": {
              "outlinewidth": 0,
              "ticks": ""
             }
            },
            "type": "scatterpolar"
           }
          ],
          "scatterpolargl": [
           {
            "marker": {
             "colorbar": {
              "outlinewidth": 0,
              "ticks": ""
             }
            },
            "type": "scatterpolargl"
           }
          ],
          "scatterternary": [
           {
            "marker": {
             "colorbar": {
              "outlinewidth": 0,
              "ticks": ""
             }
            },
            "type": "scatterternary"
           }
          ],
          "surface": [
           {
            "colorbar": {
             "outlinewidth": 0,
             "ticks": ""
            },
            "colorscale": [
             [
              0,
              "#0d0887"
             ],
             [
              0.1111111111111111,
              "#46039f"
             ],
             [
              0.2222222222222222,
              "#7201a8"
             ],
             [
              0.3333333333333333,
              "#9c179e"
             ],
             [
              0.4444444444444444,
              "#bd3786"
             ],
             [
              0.5555555555555556,
              "#d8576b"
             ],
             [
              0.6666666666666666,
              "#ed7953"
             ],
             [
              0.7777777777777778,
              "#fb9f3a"
             ],
             [
              0.8888888888888888,
              "#fdca26"
             ],
             [
              1,
              "#f0f921"
             ]
            ],
            "type": "surface"
           }
          ],
          "table": [
           {
            "cells": {
             "fill": {
              "color": "#EBF0F8"
             },
             "line": {
              "color": "white"
             }
            },
            "header": {
             "fill": {
              "color": "#C8D4E3"
             },
             "line": {
              "color": "white"
             }
            },
            "type": "table"
           }
          ]
         },
         "layout": {
          "annotationdefaults": {
           "arrowcolor": "#2a3f5f",
           "arrowhead": 0,
           "arrowwidth": 1
          },
          "autotypenumbers": "strict",
          "coloraxis": {
           "colorbar": {
            "outlinewidth": 0,
            "ticks": ""
           }
          },
          "colorscale": {
           "diverging": [
            [
             0,
             "#8e0152"
            ],
            [
             0.1,
             "#c51b7d"
            ],
            [
             0.2,
             "#de77ae"
            ],
            [
             0.3,
             "#f1b6da"
            ],
            [
             0.4,
             "#fde0ef"
            ],
            [
             0.5,
             "#f7f7f7"
            ],
            [
             0.6,
             "#e6f5d0"
            ],
            [
             0.7,
             "#b8e186"
            ],
            [
             0.8,
             "#7fbc41"
            ],
            [
             0.9,
             "#4d9221"
            ],
            [
             1,
             "#276419"
            ]
           ],
           "sequential": [
            [
             0,
             "#0d0887"
            ],
            [
             0.1111111111111111,
             "#46039f"
            ],
            [
             0.2222222222222222,
             "#7201a8"
            ],
            [
             0.3333333333333333,
             "#9c179e"
            ],
            [
             0.4444444444444444,
             "#bd3786"
            ],
            [
             0.5555555555555556,
             "#d8576b"
            ],
            [
             0.6666666666666666,
             "#ed7953"
            ],
            [
             0.7777777777777778,
             "#fb9f3a"
            ],
            [
             0.8888888888888888,
             "#fdca26"
            ],
            [
             1,
             "#f0f921"
            ]
           ],
           "sequentialminus": [
            [
             0,
             "#0d0887"
            ],
            [
             0.1111111111111111,
             "#46039f"
            ],
            [
             0.2222222222222222,
             "#7201a8"
            ],
            [
             0.3333333333333333,
             "#9c179e"
            ],
            [
             0.4444444444444444,
             "#bd3786"
            ],
            [
             0.5555555555555556,
             "#d8576b"
            ],
            [
             0.6666666666666666,
             "#ed7953"
            ],
            [
             0.7777777777777778,
             "#fb9f3a"
            ],
            [
             0.8888888888888888,
             "#fdca26"
            ],
            [
             1,
             "#f0f921"
            ]
           ]
          },
          "colorway": [
           "#636efa",
           "#EF553B",
           "#00cc96",
           "#ab63fa",
           "#FFA15A",
           "#19d3f3",
           "#FF6692",
           "#B6E880",
           "#FF97FF",
           "#FECB52"
          ],
          "font": {
           "color": "#2a3f5f"
          },
          "geo": {
           "bgcolor": "white",
           "lakecolor": "white",
           "landcolor": "#E5ECF6",
           "showlakes": true,
           "showland": true,
           "subunitcolor": "white"
          },
          "hoverlabel": {
           "align": "left"
          },
          "hovermode": "closest",
          "mapbox": {
           "style": "light"
          },
          "paper_bgcolor": "white",
          "plot_bgcolor": "#E5ECF6",
          "polar": {
           "angularaxis": {
            "gridcolor": "white",
            "linecolor": "white",
            "ticks": ""
           },
           "bgcolor": "#E5ECF6",
           "radialaxis": {
            "gridcolor": "white",
            "linecolor": "white",
            "ticks": ""
           }
          },
          "scene": {
           "xaxis": {
            "backgroundcolor": "#E5ECF6",
            "gridcolor": "white",
            "gridwidth": 2,
            "linecolor": "white",
            "showbackground": true,
            "ticks": "",
            "zerolinecolor": "white"
           },
           "yaxis": {
            "backgroundcolor": "#E5ECF6",
            "gridcolor": "white",
            "gridwidth": 2,
            "linecolor": "white",
            "showbackground": true,
            "ticks": "",
            "zerolinecolor": "white"
           },
           "zaxis": {
            "backgroundcolor": "#E5ECF6",
            "gridcolor": "white",
            "gridwidth": 2,
            "linecolor": "white",
            "showbackground": true,
            "ticks": "",
            "zerolinecolor": "white"
           }
          },
          "shapedefaults": {
           "line": {
            "color": "#2a3f5f"
           }
          },
          "ternary": {
           "aaxis": {
            "gridcolor": "white",
            "linecolor": "white",
            "ticks": ""
           },
           "baxis": {
            "gridcolor": "white",
            "linecolor": "white",
            "ticks": ""
           },
           "bgcolor": "#E5ECF6",
           "caxis": {
            "gridcolor": "white",
            "linecolor": "white",
            "ticks": ""
           }
          },
          "title": {
           "x": 0.05
          },
          "xaxis": {
           "automargin": true,
           "gridcolor": "white",
           "linecolor": "white",
           "ticks": "",
           "title": {
            "standoff": 15
           },
           "zerolinecolor": "white",
           "zerolinewidth": 2
          },
          "yaxis": {
           "automargin": true,
           "gridcolor": "white",
           "linecolor": "white",
           "ticks": "",
           "title": {
            "standoff": 15
           },
           "zerolinecolor": "white",
           "zerolinewidth": 2
          }
         }
        },
        "title": {
         "text": "1946 à 2020 : Tendance du nombre total d'équipes et de games NBA"
        },
        "xaxis": {
         "anchor": "y",
         "domain": [
          0,
          0.94
         ]
        },
        "yaxis": {
         "anchor": "x",
         "domain": [
          0,
          1
         ],
         "title": {
          "text": "Total des équipes"
         }
        },
        "yaxis2": {
         "anchor": "x",
         "overlaying": "y",
         "side": "right",
         "title": {
          "text": "Total des games"
         }
        }
       }
      }
     },
     "metadata": {},
     "output_type": "display_data"
    }
   ],
   "source": [
    "# Charger le fichier CSV avec les bonnes options\n",
    "df = pd.read_csv('csv\\Game.csv', dtype=str, low_memory=False)\n",
    "\n",
    "# Convertir les colonnes numériques appropriées\n",
    "df['GAME_ID'] = df['GAME_ID'].astype(int)\n",
    "df['TEAM_ID_HOME'] = df['TEAM_ID_HOME'].astype(int)\n",
    "df['TEAM_ID_AWAY'] = df['TEAM_ID_AWAY'].astype(int)\n",
    "df['GAME_DATE'] = pd.to_datetime(df['GAME_DATE'])\n",
    "\n",
    "# Ajouter une colonne pour la saison (extraction de l'année)\n",
    "df['season'] = df['GAME_DATE'].dt.year\n",
    "\n",
    "# Exclure la saison 2021\n",
    "df = df[df['season'] != 2021]\n",
    "\n",
    "# Compter le nombre d'équipes par saison\n",
    "team_count = df.groupby('season')['TEAM_ID_HOME'].nunique().reset_index(name='total_team_count')\n",
    "\n",
    "# Compter le nombre de jeux par saison\n",
    "game_count = df.groupby('season')['GAME_ID'].nunique().reset_index(name='total_game_count')\n",
    "\n",
    "# Fusionner les deux décomptes\n",
    "team_and_game_count = pd.merge(team_count, game_count, on='season')\n",
    "\n",
    "# Créer une visualisation avec deux axes y\n",
    "two_y_axis_plot = make_subplots(specs=[[{\"secondary_y\": True}]])\n",
    "team_count_trace = px.bar(team_and_game_count, x=\"season\", y=\"total_team_count\")\n",
    "game_count_trace = px.line(team_and_game_count, x=\"season\", y=\"total_game_count\")\n",
    "\n",
    "team_count_trace.update_traces(name=\"Total des équipes\", showlegend=True, opacity=0.6)\n",
    "game_count_trace.update_traces(name=\"Total des games\", showlegend=True, line_color=\"red\")\n",
    "\n",
    "two_y_axis_plot.add_trace(team_count_trace.data[0], secondary_y=False)\n",
    "two_y_axis_plot.add_trace(game_count_trace.data[0], secondary_y=True)\n",
    "\n",
    "two_y_axis_plot.update_yaxes(title_text=\"Total des équipes\", secondary_y=False)\n",
    "two_y_axis_plot.update_yaxes(title_text=\"Total des games\", secondary_y=True)\n",
    "two_y_axis_plot.update_layout(title_text=\"1946 à 2020 : Tendance du nombre total d'équipes et de games NBA\")\n",
    "\n",
    "two_y_axis_plot.show()\n"
   ]
  },
  {
   "cell_type": "markdown",
   "metadata": {},
   "source": [
    "## L'évolution de la draft depuis 1946"
   ]
  },
  {
   "cell_type": "code",
   "execution_count": 36,
   "metadata": {},
   "outputs": [
    {
     "data": {
      "application/vnd.plotly.v1+json": {
       "config": {
        "plotlyServerURL": "https://plot.ly"
       },
       "data": [
        {
         "hovertemplate": "yearDraft=%{x}<br>total_drafted=%{y}<extra></extra>",
         "legendgroup": "",
         "line": {
          "color": "#636efa",
          "dash": "solid"
         },
         "marker": {
          "symbol": "circle"
         },
         "mode": "lines",
         "name": "",
         "orientation": "v",
         "showlegend": false,
         "type": "scatter",
         "x": [
          1949,
          1950,
          1951,
          1952,
          1953,
          1954,
          1955,
          1956,
          1957,
          1958,
          1959,
          1960,
          1961,
          1962,
          1963,
          1964,
          1965,
          1966,
          1967,
          1968,
          1969,
          1970,
          1971,
          1972,
          1973,
          1974,
          1975,
          1976,
          1977,
          1978,
          1979,
          1980,
          1981,
          1982,
          1983,
          1984,
          1985,
          1986,
          1987,
          1988,
          1989,
          1990,
          1991,
          1992,
          1993,
          1994,
          1995,
          1996,
          1997,
          1998,
          1999,
          2000,
          2001,
          2002,
          2003,
          2004,
          2005,
          2006,
          2007,
          2008,
          2009,
          2010,
          2011,
          2012,
          2013,
          2014,
          2015,
          2016,
          2017,
          2018,
          2019,
          2020
         ],
         "xaxis": "x",
         "y": [
          75,
          121,
          87,
          106,
          122,
          100,
          95,
          92,
          85,
          88,
          85,
          100,
          107,
          102,
          84,
          101,
          112,
          112,
          162,
          214,
          218,
          239,
          237,
          198,
          211,
          178,
          174,
          173,
          170,
          202,
          202,
          214,
          223,
          225,
          226,
          228,
          162,
          162,
          161,
          75,
          54,
          54,
          54,
          54,
          54,
          54,
          58,
          58,
          57,
          58,
          58,
          58,
          57,
          57,
          58,
          59,
          60,
          60,
          60,
          60,
          60,
          60,
          60,
          60,
          60,
          60,
          60,
          60,
          60,
          60,
          60,
          60
         ],
         "yaxis": "y"
        }
       ],
       "layout": {
        "legend": {
         "tracegroupgap": 0
        },
        "template": {
         "data": {
          "bar": [
           {
            "error_x": {
             "color": "#2a3f5f"
            },
            "error_y": {
             "color": "#2a3f5f"
            },
            "marker": {
             "line": {
              "color": "#E5ECF6",
              "width": 0.5
             },
             "pattern": {
              "fillmode": "overlay",
              "size": 10,
              "solidity": 0.2
             }
            },
            "type": "bar"
           }
          ],
          "barpolar": [
           {
            "marker": {
             "line": {
              "color": "#E5ECF6",
              "width": 0.5
             },
             "pattern": {
              "fillmode": "overlay",
              "size": 10,
              "solidity": 0.2
             }
            },
            "type": "barpolar"
           }
          ],
          "carpet": [
           {
            "aaxis": {
             "endlinecolor": "#2a3f5f",
             "gridcolor": "white",
             "linecolor": "white",
             "minorgridcolor": "white",
             "startlinecolor": "#2a3f5f"
            },
            "baxis": {
             "endlinecolor": "#2a3f5f",
             "gridcolor": "white",
             "linecolor": "white",
             "minorgridcolor": "white",
             "startlinecolor": "#2a3f5f"
            },
            "type": "carpet"
           }
          ],
          "choropleth": [
           {
            "colorbar": {
             "outlinewidth": 0,
             "ticks": ""
            },
            "type": "choropleth"
           }
          ],
          "contour": [
           {
            "colorbar": {
             "outlinewidth": 0,
             "ticks": ""
            },
            "colorscale": [
             [
              0,
              "#0d0887"
             ],
             [
              0.1111111111111111,
              "#46039f"
             ],
             [
              0.2222222222222222,
              "#7201a8"
             ],
             [
              0.3333333333333333,
              "#9c179e"
             ],
             [
              0.4444444444444444,
              "#bd3786"
             ],
             [
              0.5555555555555556,
              "#d8576b"
             ],
             [
              0.6666666666666666,
              "#ed7953"
             ],
             [
              0.7777777777777778,
              "#fb9f3a"
             ],
             [
              0.8888888888888888,
              "#fdca26"
             ],
             [
              1,
              "#f0f921"
             ]
            ],
            "type": "contour"
           }
          ],
          "contourcarpet": [
           {
            "colorbar": {
             "outlinewidth": 0,
             "ticks": ""
            },
            "type": "contourcarpet"
           }
          ],
          "heatmap": [
           {
            "colorbar": {
             "outlinewidth": 0,
             "ticks": ""
            },
            "colorscale": [
             [
              0,
              "#0d0887"
             ],
             [
              0.1111111111111111,
              "#46039f"
             ],
             [
              0.2222222222222222,
              "#7201a8"
             ],
             [
              0.3333333333333333,
              "#9c179e"
             ],
             [
              0.4444444444444444,
              "#bd3786"
             ],
             [
              0.5555555555555556,
              "#d8576b"
             ],
             [
              0.6666666666666666,
              "#ed7953"
             ],
             [
              0.7777777777777778,
              "#fb9f3a"
             ],
             [
              0.8888888888888888,
              "#fdca26"
             ],
             [
              1,
              "#f0f921"
             ]
            ],
            "type": "heatmap"
           }
          ],
          "heatmapgl": [
           {
            "colorbar": {
             "outlinewidth": 0,
             "ticks": ""
            },
            "colorscale": [
             [
              0,
              "#0d0887"
             ],
             [
              0.1111111111111111,
              "#46039f"
             ],
             [
              0.2222222222222222,
              "#7201a8"
             ],
             [
              0.3333333333333333,
              "#9c179e"
             ],
             [
              0.4444444444444444,
              "#bd3786"
             ],
             [
              0.5555555555555556,
              "#d8576b"
             ],
             [
              0.6666666666666666,
              "#ed7953"
             ],
             [
              0.7777777777777778,
              "#fb9f3a"
             ],
             [
              0.8888888888888888,
              "#fdca26"
             ],
             [
              1,
              "#f0f921"
             ]
            ],
            "type": "heatmapgl"
           }
          ],
          "histogram": [
           {
            "marker": {
             "pattern": {
              "fillmode": "overlay",
              "size": 10,
              "solidity": 0.2
             }
            },
            "type": "histogram"
           }
          ],
          "histogram2d": [
           {
            "colorbar": {
             "outlinewidth": 0,
             "ticks": ""
            },
            "colorscale": [
             [
              0,
              "#0d0887"
             ],
             [
              0.1111111111111111,
              "#46039f"
             ],
             [
              0.2222222222222222,
              "#7201a8"
             ],
             [
              0.3333333333333333,
              "#9c179e"
             ],
             [
              0.4444444444444444,
              "#bd3786"
             ],
             [
              0.5555555555555556,
              "#d8576b"
             ],
             [
              0.6666666666666666,
              "#ed7953"
             ],
             [
              0.7777777777777778,
              "#fb9f3a"
             ],
             [
              0.8888888888888888,
              "#fdca26"
             ],
             [
              1,
              "#f0f921"
             ]
            ],
            "type": "histogram2d"
           }
          ],
          "histogram2dcontour": [
           {
            "colorbar": {
             "outlinewidth": 0,
             "ticks": ""
            },
            "colorscale": [
             [
              0,
              "#0d0887"
             ],
             [
              0.1111111111111111,
              "#46039f"
             ],
             [
              0.2222222222222222,
              "#7201a8"
             ],
             [
              0.3333333333333333,
              "#9c179e"
             ],
             [
              0.4444444444444444,
              "#bd3786"
             ],
             [
              0.5555555555555556,
              "#d8576b"
             ],
             [
              0.6666666666666666,
              "#ed7953"
             ],
             [
              0.7777777777777778,
              "#fb9f3a"
             ],
             [
              0.8888888888888888,
              "#fdca26"
             ],
             [
              1,
              "#f0f921"
             ]
            ],
            "type": "histogram2dcontour"
           }
          ],
          "mesh3d": [
           {
            "colorbar": {
             "outlinewidth": 0,
             "ticks": ""
            },
            "type": "mesh3d"
           }
          ],
          "parcoords": [
           {
            "line": {
             "colorbar": {
              "outlinewidth": 0,
              "ticks": ""
             }
            },
            "type": "parcoords"
           }
          ],
          "pie": [
           {
            "automargin": true,
            "type": "pie"
           }
          ],
          "scatter": [
           {
            "fillpattern": {
             "fillmode": "overlay",
             "size": 10,
             "solidity": 0.2
            },
            "type": "scatter"
           }
          ],
          "scatter3d": [
           {
            "line": {
             "colorbar": {
              "outlinewidth": 0,
              "ticks": ""
             }
            },
            "marker": {
             "colorbar": {
              "outlinewidth": 0,
              "ticks": ""
             }
            },
            "type": "scatter3d"
           }
          ],
          "scattercarpet": [
           {
            "marker": {
             "colorbar": {
              "outlinewidth": 0,
              "ticks": ""
             }
            },
            "type": "scattercarpet"
           }
          ],
          "scattergeo": [
           {
            "marker": {
             "colorbar": {
              "outlinewidth": 0,
              "ticks": ""
             }
            },
            "type": "scattergeo"
           }
          ],
          "scattergl": [
           {
            "marker": {
             "colorbar": {
              "outlinewidth": 0,
              "ticks": ""
             }
            },
            "type": "scattergl"
           }
          ],
          "scattermapbox": [
           {
            "marker": {
             "colorbar": {
              "outlinewidth": 0,
              "ticks": ""
             }
            },
            "type": "scattermapbox"
           }
          ],
          "scatterpolar": [
           {
            "marker": {
             "colorbar": {
              "outlinewidth": 0,
              "ticks": ""
             }
            },
            "type": "scatterpolar"
           }
          ],
          "scatterpolargl": [
           {
            "marker": {
             "colorbar": {
              "outlinewidth": 0,
              "ticks": ""
             }
            },
            "type": "scatterpolargl"
           }
          ],
          "scatterternary": [
           {
            "marker": {
             "colorbar": {
              "outlinewidth": 0,
              "ticks": ""
             }
            },
            "type": "scatterternary"
           }
          ],
          "surface": [
           {
            "colorbar": {
             "outlinewidth": 0,
             "ticks": ""
            },
            "colorscale": [
             [
              0,
              "#0d0887"
             ],
             [
              0.1111111111111111,
              "#46039f"
             ],
             [
              0.2222222222222222,
              "#7201a8"
             ],
             [
              0.3333333333333333,
              "#9c179e"
             ],
             [
              0.4444444444444444,
              "#bd3786"
             ],
             [
              0.5555555555555556,
              "#d8576b"
             ],
             [
              0.6666666666666666,
              "#ed7953"
             ],
             [
              0.7777777777777778,
              "#fb9f3a"
             ],
             [
              0.8888888888888888,
              "#fdca26"
             ],
             [
              1,
              "#f0f921"
             ]
            ],
            "type": "surface"
           }
          ],
          "table": [
           {
            "cells": {
             "fill": {
              "color": "#EBF0F8"
             },
             "line": {
              "color": "white"
             }
            },
            "header": {
             "fill": {
              "color": "#C8D4E3"
             },
             "line": {
              "color": "white"
             }
            },
            "type": "table"
           }
          ]
         },
         "layout": {
          "annotationdefaults": {
           "arrowcolor": "#2a3f5f",
           "arrowhead": 0,
           "arrowwidth": 1
          },
          "autotypenumbers": "strict",
          "coloraxis": {
           "colorbar": {
            "outlinewidth": 0,
            "ticks": ""
           }
          },
          "colorscale": {
           "diverging": [
            [
             0,
             "#8e0152"
            ],
            [
             0.1,
             "#c51b7d"
            ],
            [
             0.2,
             "#de77ae"
            ],
            [
             0.3,
             "#f1b6da"
            ],
            [
             0.4,
             "#fde0ef"
            ],
            [
             0.5,
             "#f7f7f7"
            ],
            [
             0.6,
             "#e6f5d0"
            ],
            [
             0.7,
             "#b8e186"
            ],
            [
             0.8,
             "#7fbc41"
            ],
            [
             0.9,
             "#4d9221"
            ],
            [
             1,
             "#276419"
            ]
           ],
           "sequential": [
            [
             0,
             "#0d0887"
            ],
            [
             0.1111111111111111,
             "#46039f"
            ],
            [
             0.2222222222222222,
             "#7201a8"
            ],
            [
             0.3333333333333333,
             "#9c179e"
            ],
            [
             0.4444444444444444,
             "#bd3786"
            ],
            [
             0.5555555555555556,
             "#d8576b"
            ],
            [
             0.6666666666666666,
             "#ed7953"
            ],
            [
             0.7777777777777778,
             "#fb9f3a"
            ],
            [
             0.8888888888888888,
             "#fdca26"
            ],
            [
             1,
             "#f0f921"
            ]
           ],
           "sequentialminus": [
            [
             0,
             "#0d0887"
            ],
            [
             0.1111111111111111,
             "#46039f"
            ],
            [
             0.2222222222222222,
             "#7201a8"
            ],
            [
             0.3333333333333333,
             "#9c179e"
            ],
            [
             0.4444444444444444,
             "#bd3786"
            ],
            [
             0.5555555555555556,
             "#d8576b"
            ],
            [
             0.6666666666666666,
             "#ed7953"
            ],
            [
             0.7777777777777778,
             "#fb9f3a"
            ],
            [
             0.8888888888888888,
             "#fdca26"
            ],
            [
             1,
             "#f0f921"
            ]
           ]
          },
          "colorway": [
           "#636efa",
           "#EF553B",
           "#00cc96",
           "#ab63fa",
           "#FFA15A",
           "#19d3f3",
           "#FF6692",
           "#B6E880",
           "#FF97FF",
           "#FECB52"
          ],
          "font": {
           "color": "#2a3f5f"
          },
          "geo": {
           "bgcolor": "white",
           "lakecolor": "white",
           "landcolor": "#E5ECF6",
           "showlakes": true,
           "showland": true,
           "subunitcolor": "white"
          },
          "hoverlabel": {
           "align": "left"
          },
          "hovermode": "closest",
          "mapbox": {
           "style": "light"
          },
          "paper_bgcolor": "white",
          "plot_bgcolor": "#E5ECF6",
          "polar": {
           "angularaxis": {
            "gridcolor": "white",
            "linecolor": "white",
            "ticks": ""
           },
           "bgcolor": "#E5ECF6",
           "radialaxis": {
            "gridcolor": "white",
            "linecolor": "white",
            "ticks": ""
           }
          },
          "scene": {
           "xaxis": {
            "backgroundcolor": "#E5ECF6",
            "gridcolor": "white",
            "gridwidth": 2,
            "linecolor": "white",
            "showbackground": true,
            "ticks": "",
            "zerolinecolor": "white"
           },
           "yaxis": {
            "backgroundcolor": "#E5ECF6",
            "gridcolor": "white",
            "gridwidth": 2,
            "linecolor": "white",
            "showbackground": true,
            "ticks": "",
            "zerolinecolor": "white"
           },
           "zaxis": {
            "backgroundcolor": "#E5ECF6",
            "gridcolor": "white",
            "gridwidth": 2,
            "linecolor": "white",
            "showbackground": true,
            "ticks": "",
            "zerolinecolor": "white"
           }
          },
          "shapedefaults": {
           "line": {
            "color": "#2a3f5f"
           }
          },
          "ternary": {
           "aaxis": {
            "gridcolor": "white",
            "linecolor": "white",
            "ticks": ""
           },
           "baxis": {
            "gridcolor": "white",
            "linecolor": "white",
            "ticks": ""
           },
           "bgcolor": "#E5ECF6",
           "caxis": {
            "gridcolor": "white",
            "linecolor": "white",
            "ticks": ""
           }
          },
          "title": {
           "x": 0.05
          },
          "xaxis": {
           "automargin": true,
           "gridcolor": "white",
           "linecolor": "white",
           "ticks": "",
           "title": {
            "standoff": 15
           },
           "zerolinecolor": "white",
           "zerolinewidth": 2
          },
          "yaxis": {
           "automargin": true,
           "gridcolor": "white",
           "linecolor": "white",
           "ticks": "",
           "title": {
            "standoff": 15
           },
           "zerolinecolor": "white",
           "zerolinewidth": 2
          }
         }
        },
        "title": {
         "text": "Tendance des drafts NBA de 1949 à 2020"
        },
        "xaxis": {
         "anchor": "y",
         "domain": [
          0,
          1
         ],
         "title": {
          "text": "Année de draft"
         }
        },
        "yaxis": {
         "anchor": "x",
         "domain": [
          0,
          1
         ],
         "title": {
          "text": "Total des joueurs draftés"
         }
        }
       }
      }
     },
     "metadata": {},
     "output_type": "display_data"
    }
   ],
   "source": [
    "# Charger le fichier CSV\n",
    "df_draft = pd.read_csv('./csv/Draft.csv')\n",
    "\n",
    "# Compter le nombre total de joueurs draftés par année\n",
    "year_draft_total = df_draft.groupby('yearDraft').size().reset_index(name='total_drafted')\n",
    "\n",
    "# Créer le graphique\n",
    "fig = px.line(year_draft_total, \n",
    "              x=\"yearDraft\", y=\"total_drafted\", \n",
    "              title='Tendance des drafts NBA de 1949 à 2020')\n",
    "\n",
    "# Mettre à jour les légendes en français\n",
    "fig.update_layout(\n",
    "    xaxis_title='Année de draft',\n",
    "    yaxis_title='Total des joueurs draftés',\n",
    "    title='Tendance des drafts NBA de 1949 à 2020'\n",
    ")\n",
    "\n",
    "fig.show()\n"
   ]
  },
  {
   "cell_type": "markdown",
   "metadata": {},
   "source": [
    "### Origine des joueurs professionnels"
   ]
  },
  {
   "cell_type": "code",
   "execution_count": null,
   "metadata": {},
   "outputs": [
    {
     "data": {
      "application/vnd.plotly.v1+json": {
       "config": {
        "plotlyServerURL": "https://plot.ly"
       },
       "data": [
        {
         "domain": {
          "x": [
           0,
           1
          ],
          "y": [
           0,
           1
          ]
         },
         "hole": 0.3,
         "hovertemplate": "organization=%{label}<br>player_count=%{value}<extra></extra>",
         "labels": [
          "Université",
          "Lycée",
          "Autres équipes",
          "Inconnu"
         ],
         "legendgroup": "",
         "name": "",
         "showlegend": true,
         "type": "pie",
         "values": [
          7389,
          48,
          304,
          15
         ]
        }
       ],
       "layout": {
        "legend": {
         "tracegroupgap": 0
        },
        "template": {
         "data": {
          "bar": [
           {
            "error_x": {
             "color": "#2a3f5f"
            },
            "error_y": {
             "color": "#2a3f5f"
            },
            "marker": {
             "line": {
              "color": "#E5ECF6",
              "width": 0.5
             },
             "pattern": {
              "fillmode": "overlay",
              "size": 10,
              "solidity": 0.2
             }
            },
            "type": "bar"
           }
          ],
          "barpolar": [
           {
            "marker": {
             "line": {
              "color": "#E5ECF6",
              "width": 0.5
             },
             "pattern": {
              "fillmode": "overlay",
              "size": 10,
              "solidity": 0.2
             }
            },
            "type": "barpolar"
           }
          ],
          "carpet": [
           {
            "aaxis": {
             "endlinecolor": "#2a3f5f",
             "gridcolor": "white",
             "linecolor": "white",
             "minorgridcolor": "white",
             "startlinecolor": "#2a3f5f"
            },
            "baxis": {
             "endlinecolor": "#2a3f5f",
             "gridcolor": "white",
             "linecolor": "white",
             "minorgridcolor": "white",
             "startlinecolor": "#2a3f5f"
            },
            "type": "carpet"
           }
          ],
          "choropleth": [
           {
            "colorbar": {
             "outlinewidth": 0,
             "ticks": ""
            },
            "type": "choropleth"
           }
          ],
          "contour": [
           {
            "colorbar": {
             "outlinewidth": 0,
             "ticks": ""
            },
            "colorscale": [
             [
              0,
              "#0d0887"
             ],
             [
              0.1111111111111111,
              "#46039f"
             ],
             [
              0.2222222222222222,
              "#7201a8"
             ],
             [
              0.3333333333333333,
              "#9c179e"
             ],
             [
              0.4444444444444444,
              "#bd3786"
             ],
             [
              0.5555555555555556,
              "#d8576b"
             ],
             [
              0.6666666666666666,
              "#ed7953"
             ],
             [
              0.7777777777777778,
              "#fb9f3a"
             ],
             [
              0.8888888888888888,
              "#fdca26"
             ],
             [
              1,
              "#f0f921"
             ]
            ],
            "type": "contour"
           }
          ],
          "contourcarpet": [
           {
            "colorbar": {
             "outlinewidth": 0,
             "ticks": ""
            },
            "type": "contourcarpet"
           }
          ],
          "heatmap": [
           {
            "colorbar": {
             "outlinewidth": 0,
             "ticks": ""
            },
            "colorscale": [
             [
              0,
              "#0d0887"
             ],
             [
              0.1111111111111111,
              "#46039f"
             ],
             [
              0.2222222222222222,
              "#7201a8"
             ],
             [
              0.3333333333333333,
              "#9c179e"
             ],
             [
              0.4444444444444444,
              "#bd3786"
             ],
             [
              0.5555555555555556,
              "#d8576b"
             ],
             [
              0.6666666666666666,
              "#ed7953"
             ],
             [
              0.7777777777777778,
              "#fb9f3a"
             ],
             [
              0.8888888888888888,
              "#fdca26"
             ],
             [
              1,
              "#f0f921"
             ]
            ],
            "type": "heatmap"
           }
          ],
          "heatmapgl": [
           {
            "colorbar": {
             "outlinewidth": 0,
             "ticks": ""
            },
            "colorscale": [
             [
              0,
              "#0d0887"
             ],
             [
              0.1111111111111111,
              "#46039f"
             ],
             [
              0.2222222222222222,
              "#7201a8"
             ],
             [
              0.3333333333333333,
              "#9c179e"
             ],
             [
              0.4444444444444444,
              "#bd3786"
             ],
             [
              0.5555555555555556,
              "#d8576b"
             ],
             [
              0.6666666666666666,
              "#ed7953"
             ],
             [
              0.7777777777777778,
              "#fb9f3a"
             ],
             [
              0.8888888888888888,
              "#fdca26"
             ],
             [
              1,
              "#f0f921"
             ]
            ],
            "type": "heatmapgl"
           }
          ],
          "histogram": [
           {
            "marker": {
             "pattern": {
              "fillmode": "overlay",
              "size": 10,
              "solidity": 0.2
             }
            },
            "type": "histogram"
           }
          ],
          "histogram2d": [
           {
            "colorbar": {
             "outlinewidth": 0,
             "ticks": ""
            },
            "colorscale": [
             [
              0,
              "#0d0887"
             ],
             [
              0.1111111111111111,
              "#46039f"
             ],
             [
              0.2222222222222222,
              "#7201a8"
             ],
             [
              0.3333333333333333,
              "#9c179e"
             ],
             [
              0.4444444444444444,
              "#bd3786"
             ],
             [
              0.5555555555555556,
              "#d8576b"
             ],
             [
              0.6666666666666666,
              "#ed7953"
             ],
             [
              0.7777777777777778,
              "#fb9f3a"
             ],
             [
              0.8888888888888888,
              "#fdca26"
             ],
             [
              1,
              "#f0f921"
             ]
            ],
            "type": "histogram2d"
           }
          ],
          "histogram2dcontour": [
           {
            "colorbar": {
             "outlinewidth": 0,
             "ticks": ""
            },
            "colorscale": [
             [
              0,
              "#0d0887"
             ],
             [
              0.1111111111111111,
              "#46039f"
             ],
             [
              0.2222222222222222,
              "#7201a8"
             ],
             [
              0.3333333333333333,
              "#9c179e"
             ],
             [
              0.4444444444444444,
              "#bd3786"
             ],
             [
              0.5555555555555556,
              "#d8576b"
             ],
             [
              0.6666666666666666,
              "#ed7953"
             ],
             [
              0.7777777777777778,
              "#fb9f3a"
             ],
             [
              0.8888888888888888,
              "#fdca26"
             ],
             [
              1,
              "#f0f921"
             ]
            ],
            "type": "histogram2dcontour"
           }
          ],
          "mesh3d": [
           {
            "colorbar": {
             "outlinewidth": 0,
             "ticks": ""
            },
            "type": "mesh3d"
           }
          ],
          "parcoords": [
           {
            "line": {
             "colorbar": {
              "outlinewidth": 0,
              "ticks": ""
             }
            },
            "type": "parcoords"
           }
          ],
          "pie": [
           {
            "automargin": true,
            "type": "pie"
           }
          ],
          "scatter": [
           {
            "fillpattern": {
             "fillmode": "overlay",
             "size": 10,
             "solidity": 0.2
            },
            "type": "scatter"
           }
          ],
          "scatter3d": [
           {
            "line": {
             "colorbar": {
              "outlinewidth": 0,
              "ticks": ""
             }
            },
            "marker": {
             "colorbar": {
              "outlinewidth": 0,
              "ticks": ""
             }
            },
            "type": "scatter3d"
           }
          ],
          "scattercarpet": [
           {
            "marker": {
             "colorbar": {
              "outlinewidth": 0,
              "ticks": ""
             }
            },
            "type": "scattercarpet"
           }
          ],
          "scattergeo": [
           {
            "marker": {
             "colorbar": {
              "outlinewidth": 0,
              "ticks": ""
             }
            },
            "type": "scattergeo"
           }
          ],
          "scattergl": [
           {
            "marker": {
             "colorbar": {
              "outlinewidth": 0,
              "ticks": ""
             }
            },
            "type": "scattergl"
           }
          ],
          "scattermapbox": [
           {
            "marker": {
             "colorbar": {
              "outlinewidth": 0,
              "ticks": ""
             }
            },
            "type": "scattermapbox"
           }
          ],
          "scatterpolar": [
           {
            "marker": {
             "colorbar": {
              "outlinewidth": 0,
              "ticks": ""
             }
            },
            "type": "scatterpolar"
           }
          ],
          "scatterpolargl": [
           {
            "marker": {
             "colorbar": {
              "outlinewidth": 0,
              "ticks": ""
             }
            },
            "type": "scatterpolargl"
           }
          ],
          "scatterternary": [
           {
            "marker": {
             "colorbar": {
              "outlinewidth": 0,
              "ticks": ""
             }
            },
            "type": "scatterternary"
           }
          ],
          "surface": [
           {
            "colorbar": {
             "outlinewidth": 0,
             "ticks": ""
            },
            "colorscale": [
             [
              0,
              "#0d0887"
             ],
             [
              0.1111111111111111,
              "#46039f"
             ],
             [
              0.2222222222222222,
              "#7201a8"
             ],
             [
              0.3333333333333333,
              "#9c179e"
             ],
             [
              0.4444444444444444,
              "#bd3786"
             ],
             [
              0.5555555555555556,
              "#d8576b"
             ],
             [
              0.6666666666666666,
              "#ed7953"
             ],
             [
              0.7777777777777778,
              "#fb9f3a"
             ],
             [
              0.8888888888888888,
              "#fdca26"
             ],
             [
              1,
              "#f0f921"
             ]
            ],
            "type": "surface"
           }
          ],
          "table": [
           {
            "cells": {
             "fill": {
              "color": "#EBF0F8"
             },
             "line": {
              "color": "white"
             }
            },
            "header": {
             "fill": {
              "color": "#C8D4E3"
             },
             "line": {
              "color": "white"
             }
            },
            "type": "table"
           }
          ]
         },
         "layout": {
          "annotationdefaults": {
           "arrowcolor": "#2a3f5f",
           "arrowhead": 0,
           "arrowwidth": 1
          },
          "autotypenumbers": "strict",
          "coloraxis": {
           "colorbar": {
            "outlinewidth": 0,
            "ticks": ""
           }
          },
          "colorscale": {
           "diverging": [
            [
             0,
             "#8e0152"
            ],
            [
             0.1,
             "#c51b7d"
            ],
            [
             0.2,
             "#de77ae"
            ],
            [
             0.3,
             "#f1b6da"
            ],
            [
             0.4,
             "#fde0ef"
            ],
            [
             0.5,
             "#f7f7f7"
            ],
            [
             0.6,
             "#e6f5d0"
            ],
            [
             0.7,
             "#b8e186"
            ],
            [
             0.8,
             "#7fbc41"
            ],
            [
             0.9,
             "#4d9221"
            ],
            [
             1,
             "#276419"
            ]
           ],
           "sequential": [
            [
             0,
             "#0d0887"
            ],
            [
             0.1111111111111111,
             "#46039f"
            ],
            [
             0.2222222222222222,
             "#7201a8"
            ],
            [
             0.3333333333333333,
             "#9c179e"
            ],
            [
             0.4444444444444444,
             "#bd3786"
            ],
            [
             0.5555555555555556,
             "#d8576b"
            ],
            [
             0.6666666666666666,
             "#ed7953"
            ],
            [
             0.7777777777777778,
             "#fb9f3a"
            ],
            [
             0.8888888888888888,
             "#fdca26"
            ],
            [
             1,
             "#f0f921"
            ]
           ],
           "sequentialminus": [
            [
             0,
             "#0d0887"
            ],
            [
             0.1111111111111111,
             "#46039f"
            ],
            [
             0.2222222222222222,
             "#7201a8"
            ],
            [
             0.3333333333333333,
             "#9c179e"
            ],
            [
             0.4444444444444444,
             "#bd3786"
            ],
            [
             0.5555555555555556,
             "#d8576b"
            ],
            [
             0.6666666666666666,
             "#ed7953"
            ],
            [
             0.7777777777777778,
             "#fb9f3a"
            ],
            [
             0.8888888888888888,
             "#fdca26"
            ],
            [
             1,
             "#f0f921"
            ]
           ]
          },
          "colorway": [
           "#636efa",
           "#EF553B",
           "#00cc96",
           "#ab63fa",
           "#FFA15A",
           "#19d3f3",
           "#FF6692",
           "#B6E880",
           "#FF97FF",
           "#FECB52"
          ],
          "font": {
           "color": "#2a3f5f"
          },
          "geo": {
           "bgcolor": "white",
           "lakecolor": "white",
           "landcolor": "#E5ECF6",
           "showlakes": true,
           "showland": true,
           "subunitcolor": "white"
          },
          "hoverlabel": {
           "align": "left"
          },
          "hovermode": "closest",
          "mapbox": {
           "style": "light"
          },
          "paper_bgcolor": "white",
          "plot_bgcolor": "#E5ECF6",
          "polar": {
           "angularaxis": {
            "gridcolor": "white",
            "linecolor": "white",
            "ticks": ""
           },
           "bgcolor": "#E5ECF6",
           "radialaxis": {
            "gridcolor": "white",
            "linecolor": "white",
            "ticks": ""
           }
          },
          "scene": {
           "xaxis": {
            "backgroundcolor": "#E5ECF6",
            "gridcolor": "white",
            "gridwidth": 2,
            "linecolor": "white",
            "showbackground": true,
            "ticks": "",
            "zerolinecolor": "white"
           },
           "yaxis": {
            "backgroundcolor": "#E5ECF6",
            "gridcolor": "white",
            "gridwidth": 2,
            "linecolor": "white",
            "showbackground": true,
            "ticks": "",
            "zerolinecolor": "white"
           },
           "zaxis": {
            "backgroundcolor": "#E5ECF6",
            "gridcolor": "white",
            "gridwidth": 2,
            "linecolor": "white",
            "showbackground": true,
            "ticks": "",
            "zerolinecolor": "white"
           }
          },
          "shapedefaults": {
           "line": {
            "color": "#2a3f5f"
           }
          },
          "ternary": {
           "aaxis": {
            "gridcolor": "white",
            "linecolor": "white",
            "ticks": ""
           },
           "baxis": {
            "gridcolor": "white",
            "linecolor": "white",
            "ticks": ""
           },
           "bgcolor": "#E5ECF6",
           "caxis": {
            "gridcolor": "white",
            "linecolor": "white",
            "ticks": ""
           }
          },
          "title": {
           "x": 0.05
          },
          "xaxis": {
           "automargin": true,
           "gridcolor": "white",
           "linecolor": "white",
           "ticks": "",
           "title": {
            "standoff": 15
           },
           "zerolinecolor": "white",
           "zerolinewidth": 2
          },
          "yaxis": {
           "automargin": true,
           "gridcolor": "white",
           "linecolor": "white",
           "ticks": "",
           "title": {
            "standoff": 15
           },
           "zerolinecolor": "white",
           "zerolinewidth": 2
          }
         }
        },
        "title": {
         "text": "Répartition des joueurs draftés par organisation"
        }
       }
      }
     },
     "metadata": {},
     "output_type": "display_data"
    },
    {
     "data": {
      "application/vnd.plotly.v1+json": {
       "config": {
        "plotlyServerURL": "https://plot.ly"
       },
       "data": [
        {
         "hovertemplate": "organization=Université<br>year_drafted=%{x}<br>drafted_count=%{y}<extra></extra>",
         "legendgroup": "Université",
         "line": {
          "color": "#636efa",
          "dash": "solid"
         },
         "marker": {
          "symbol": "circle"
         },
         "mode": "lines",
         "name": "Université",
         "orientation": "v",
         "showlegend": true,
         "type": "scatter",
         "x": [
          1949,
          1950,
          1951,
          1952,
          1953,
          1954,
          1955,
          1956,
          1957,
          1958,
          1959,
          1960,
          1961,
          1962,
          1963,
          1964,
          1965,
          1966,
          1967,
          1968,
          1969,
          1970,
          1971,
          1972,
          1973,
          1974,
          1975,
          1976,
          1977,
          1978,
          1979,
          1980,
          1981,
          1982,
          1983,
          1984,
          1985,
          1986,
          1987,
          1988,
          1989,
          1990,
          1991,
          1992,
          1993,
          1994,
          1995,
          1996,
          1997,
          1998,
          1999,
          2000,
          2001,
          2002,
          2003,
          2004,
          2005,
          2006,
          2007,
          2008,
          2009,
          2010,
          2011,
          2012,
          2013,
          2014,
          2015,
          2016,
          2017,
          2018,
          2019,
          2020
         ],
         "xaxis": "x",
         "y": [
          75,
          121,
          87,
          106,
          116,
          99,
          94,
          92,
          83,
          88,
          85,
          100,
          107,
          101,
          83,
          101,
          111,
          112,
          162,
          211,
          218,
          237,
          236,
          198,
          211,
          178,
          171,
          173,
          170,
          202,
          202,
          214,
          222,
          225,
          226,
          227,
          158,
          157,
          155,
          74,
          52,
          52,
          53,
          53,
          52,
          52,
          54,
          51,
          50,
          50,
          51,
          46,
          45,
          42,
          34,
          38,
          37,
          44,
          47,
          48,
          47,
          53,
          47,
          52,
          47,
          45,
          46,
          43,
          50,
          51,
          52,
          49
         ],
         "yaxis": "y"
        },
        {
         "hovertemplate": "organization=Inconnu<br>year_drafted=%{x}<br>drafted_count=%{y}<extra></extra>",
         "legendgroup": "Inconnu",
         "line": {
          "color": "#EF553B",
          "dash": "solid"
         },
         "marker": {
          "symbol": "circle"
         },
         "mode": "lines",
         "name": "Inconnu",
         "orientation": "v",
         "showlegend": true,
         "type": "scatter",
         "x": [
          1953,
          1954,
          1955,
          1957,
          1965,
          1968,
          2016,
          2018
         ],
         "xaxis": "x",
         "y": [
          6,
          1,
          1,
          2,
          1,
          2,
          1,
          1
         ],
         "yaxis": "y"
        },
        {
         "hovertemplate": "organization=Lycée<br>year_drafted=%{x}<br>drafted_count=%{y}<extra></extra>",
         "legendgroup": "Lycée",
         "line": {
          "color": "#00cc96",
          "dash": "solid"
         },
         "marker": {
          "symbol": "circle"
         },
         "mode": "lines",
         "name": "Lycée",
         "orientation": "v",
         "showlegend": true,
         "type": "scatter",
         "x": [
          1962,
          1963,
          1968,
          1975,
          1995,
          1996,
          1997,
          1998,
          1999,
          2000,
          2001,
          2002,
          2003,
          2004,
          2005,
          2015,
          2016,
          2018,
          2019,
          2020
         ],
         "xaxis": "x",
         "y": [
          1,
          1,
          1,
          2,
          1,
          2,
          1,
          3,
          2,
          2,
          5,
          1,
          5,
          8,
          9,
          1,
          1,
          1,
          1,
          1
         ],
         "yaxis": "y"
        },
        {
         "hovertemplate": "organization=Autres équipes<br>year_drafted=%{x}<br>drafted_count=%{y}<extra></extra>",
         "legendgroup": "Autres équipes",
         "line": {
          "color": "#ab63fa",
          "dash": "solid"
         },
         "marker": {
          "symbol": "circle"
         },
         "mode": "lines",
         "name": "Autres équipes",
         "orientation": "v",
         "showlegend": true,
         "type": "scatter",
         "x": [
          1970,
          1971,
          1975,
          1981,
          1984,
          1985,
          1986,
          1987,
          1988,
          1989,
          1990,
          1991,
          1992,
          1993,
          1994,
          1995,
          1996,
          1997,
          1998,
          1999,
          2000,
          2001,
          2002,
          2003,
          2004,
          2005,
          2006,
          2007,
          2008,
          2009,
          2010,
          2011,
          2012,
          2013,
          2014,
          2015,
          2016,
          2017,
          2018,
          2019,
          2020
         ],
         "xaxis": "x",
         "y": [
          2,
          1,
          1,
          1,
          1,
          4,
          5,
          6,
          1,
          2,
          2,
          1,
          1,
          2,
          2,
          3,
          5,
          6,
          5,
          5,
          10,
          7,
          14,
          19,
          13,
          14,
          16,
          13,
          12,
          13,
          7,
          13,
          8,
          13,
          15,
          13,
          15,
          10,
          7,
          7,
          10
         ],
         "yaxis": "y"
        }
       ],
       "layout": {
        "legend": {
         "title": {
          "text": "Organisation"
         },
         "tracegroupgap": 0
        },
        "template": {
         "data": {
          "bar": [
           {
            "error_x": {
             "color": "#2a3f5f"
            },
            "error_y": {
             "color": "#2a3f5f"
            },
            "marker": {
             "line": {
              "color": "#E5ECF6",
              "width": 0.5
             },
             "pattern": {
              "fillmode": "overlay",
              "size": 10,
              "solidity": 0.2
             }
            },
            "type": "bar"
           }
          ],
          "barpolar": [
           {
            "marker": {
             "line": {
              "color": "#E5ECF6",
              "width": 0.5
             },
             "pattern": {
              "fillmode": "overlay",
              "size": 10,
              "solidity": 0.2
             }
            },
            "type": "barpolar"
           }
          ],
          "carpet": [
           {
            "aaxis": {
             "endlinecolor": "#2a3f5f",
             "gridcolor": "white",
             "linecolor": "white",
             "minorgridcolor": "white",
             "startlinecolor": "#2a3f5f"
            },
            "baxis": {
             "endlinecolor": "#2a3f5f",
             "gridcolor": "white",
             "linecolor": "white",
             "minorgridcolor": "white",
             "startlinecolor": "#2a3f5f"
            },
            "type": "carpet"
           }
          ],
          "choropleth": [
           {
            "colorbar": {
             "outlinewidth": 0,
             "ticks": ""
            },
            "type": "choropleth"
           }
          ],
          "contour": [
           {
            "colorbar": {
             "outlinewidth": 0,
             "ticks": ""
            },
            "colorscale": [
             [
              0,
              "#0d0887"
             ],
             [
              0.1111111111111111,
              "#46039f"
             ],
             [
              0.2222222222222222,
              "#7201a8"
             ],
             [
              0.3333333333333333,
              "#9c179e"
             ],
             [
              0.4444444444444444,
              "#bd3786"
             ],
             [
              0.5555555555555556,
              "#d8576b"
             ],
             [
              0.6666666666666666,
              "#ed7953"
             ],
             [
              0.7777777777777778,
              "#fb9f3a"
             ],
             [
              0.8888888888888888,
              "#fdca26"
             ],
             [
              1,
              "#f0f921"
             ]
            ],
            "type": "contour"
           }
          ],
          "contourcarpet": [
           {
            "colorbar": {
             "outlinewidth": 0,
             "ticks": ""
            },
            "type": "contourcarpet"
           }
          ],
          "heatmap": [
           {
            "colorbar": {
             "outlinewidth": 0,
             "ticks": ""
            },
            "colorscale": [
             [
              0,
              "#0d0887"
             ],
             [
              0.1111111111111111,
              "#46039f"
             ],
             [
              0.2222222222222222,
              "#7201a8"
             ],
             [
              0.3333333333333333,
              "#9c179e"
             ],
             [
              0.4444444444444444,
              "#bd3786"
             ],
             [
              0.5555555555555556,
              "#d8576b"
             ],
             [
              0.6666666666666666,
              "#ed7953"
             ],
             [
              0.7777777777777778,
              "#fb9f3a"
             ],
             [
              0.8888888888888888,
              "#fdca26"
             ],
             [
              1,
              "#f0f921"
             ]
            ],
            "type": "heatmap"
           }
          ],
          "heatmapgl": [
           {
            "colorbar": {
             "outlinewidth": 0,
             "ticks": ""
            },
            "colorscale": [
             [
              0,
              "#0d0887"
             ],
             [
              0.1111111111111111,
              "#46039f"
             ],
             [
              0.2222222222222222,
              "#7201a8"
             ],
             [
              0.3333333333333333,
              "#9c179e"
             ],
             [
              0.4444444444444444,
              "#bd3786"
             ],
             [
              0.5555555555555556,
              "#d8576b"
             ],
             [
              0.6666666666666666,
              "#ed7953"
             ],
             [
              0.7777777777777778,
              "#fb9f3a"
             ],
             [
              0.8888888888888888,
              "#fdca26"
             ],
             [
              1,
              "#f0f921"
             ]
            ],
            "type": "heatmapgl"
           }
          ],
          "histogram": [
           {
            "marker": {
             "pattern": {
              "fillmode": "overlay",
              "size": 10,
              "solidity": 0.2
             }
            },
            "type": "histogram"
           }
          ],
          "histogram2d": [
           {
            "colorbar": {
             "outlinewidth": 0,
             "ticks": ""
            },
            "colorscale": [
             [
              0,
              "#0d0887"
             ],
             [
              0.1111111111111111,
              "#46039f"
             ],
             [
              0.2222222222222222,
              "#7201a8"
             ],
             [
              0.3333333333333333,
              "#9c179e"
             ],
             [
              0.4444444444444444,
              "#bd3786"
             ],
             [
              0.5555555555555556,
              "#d8576b"
             ],
             [
              0.6666666666666666,
              "#ed7953"
             ],
             [
              0.7777777777777778,
              "#fb9f3a"
             ],
             [
              0.8888888888888888,
              "#fdca26"
             ],
             [
              1,
              "#f0f921"
             ]
            ],
            "type": "histogram2d"
           }
          ],
          "histogram2dcontour": [
           {
            "colorbar": {
             "outlinewidth": 0,
             "ticks": ""
            },
            "colorscale": [
             [
              0,
              "#0d0887"
             ],
             [
              0.1111111111111111,
              "#46039f"
             ],
             [
              0.2222222222222222,
              "#7201a8"
             ],
             [
              0.3333333333333333,
              "#9c179e"
             ],
             [
              0.4444444444444444,
              "#bd3786"
             ],
             [
              0.5555555555555556,
              "#d8576b"
             ],
             [
              0.6666666666666666,
              "#ed7953"
             ],
             [
              0.7777777777777778,
              "#fb9f3a"
             ],
             [
              0.8888888888888888,
              "#fdca26"
             ],
             [
              1,
              "#f0f921"
             ]
            ],
            "type": "histogram2dcontour"
           }
          ],
          "mesh3d": [
           {
            "colorbar": {
             "outlinewidth": 0,
             "ticks": ""
            },
            "type": "mesh3d"
           }
          ],
          "parcoords": [
           {
            "line": {
             "colorbar": {
              "outlinewidth": 0,
              "ticks": ""
             }
            },
            "type": "parcoords"
           }
          ],
          "pie": [
           {
            "automargin": true,
            "type": "pie"
           }
          ],
          "scatter": [
           {
            "fillpattern": {
             "fillmode": "overlay",
             "size": 10,
             "solidity": 0.2
            },
            "type": "scatter"
           }
          ],
          "scatter3d": [
           {
            "line": {
             "colorbar": {
              "outlinewidth": 0,
              "ticks": ""
             }
            },
            "marker": {
             "colorbar": {
              "outlinewidth": 0,
              "ticks": ""
             }
            },
            "type": "scatter3d"
           }
          ],
          "scattercarpet": [
           {
            "marker": {
             "colorbar": {
              "outlinewidth": 0,
              "ticks": ""
             }
            },
            "type": "scattercarpet"
           }
          ],
          "scattergeo": [
           {
            "marker": {
             "colorbar": {
              "outlinewidth": 0,
              "ticks": ""
             }
            },
            "type": "scattergeo"
           }
          ],
          "scattergl": [
           {
            "marker": {
             "colorbar": {
              "outlinewidth": 0,
              "ticks": ""
             }
            },
            "type": "scattergl"
           }
          ],
          "scattermapbox": [
           {
            "marker": {
             "colorbar": {
              "outlinewidth": 0,
              "ticks": ""
             }
            },
            "type": "scattermapbox"
           }
          ],
          "scatterpolar": [
           {
            "marker": {
             "colorbar": {
              "outlinewidth": 0,
              "ticks": ""
             }
            },
            "type": "scatterpolar"
           }
          ],
          "scatterpolargl": [
           {
            "marker": {
             "colorbar": {
              "outlinewidth": 0,
              "ticks": ""
             }
            },
            "type": "scatterpolargl"
           }
          ],
          "scatterternary": [
           {
            "marker": {
             "colorbar": {
              "outlinewidth": 0,
              "ticks": ""
             }
            },
            "type": "scatterternary"
           }
          ],
          "surface": [
           {
            "colorbar": {
             "outlinewidth": 0,
             "ticks": ""
            },
            "colorscale": [
             [
              0,
              "#0d0887"
             ],
             [
              0.1111111111111111,
              "#46039f"
             ],
             [
              0.2222222222222222,
              "#7201a8"
             ],
             [
              0.3333333333333333,
              "#9c179e"
             ],
             [
              0.4444444444444444,
              "#bd3786"
             ],
             [
              0.5555555555555556,
              "#d8576b"
             ],
             [
              0.6666666666666666,
              "#ed7953"
             ],
             [
              0.7777777777777778,
              "#fb9f3a"
             ],
             [
              0.8888888888888888,
              "#fdca26"
             ],
             [
              1,
              "#f0f921"
             ]
            ],
            "type": "surface"
           }
          ],
          "table": [
           {
            "cells": {
             "fill": {
              "color": "#EBF0F8"
             },
             "line": {
              "color": "white"
             }
            },
            "header": {
             "fill": {
              "color": "#C8D4E3"
             },
             "line": {
              "color": "white"
             }
            },
            "type": "table"
           }
          ]
         },
         "layout": {
          "annotationdefaults": {
           "arrowcolor": "#2a3f5f",
           "arrowhead": 0,
           "arrowwidth": 1
          },
          "autotypenumbers": "strict",
          "coloraxis": {
           "colorbar": {
            "outlinewidth": 0,
            "ticks": ""
           }
          },
          "colorscale": {
           "diverging": [
            [
             0,
             "#8e0152"
            ],
            [
             0.1,
             "#c51b7d"
            ],
            [
             0.2,
             "#de77ae"
            ],
            [
             0.3,
             "#f1b6da"
            ],
            [
             0.4,
             "#fde0ef"
            ],
            [
             0.5,
             "#f7f7f7"
            ],
            [
             0.6,
             "#e6f5d0"
            ],
            [
             0.7,
             "#b8e186"
            ],
            [
             0.8,
             "#7fbc41"
            ],
            [
             0.9,
             "#4d9221"
            ],
            [
             1,
             "#276419"
            ]
           ],
           "sequential": [
            [
             0,
             "#0d0887"
            ],
            [
             0.1111111111111111,
             "#46039f"
            ],
            [
             0.2222222222222222,
             "#7201a8"
            ],
            [
             0.3333333333333333,
             "#9c179e"
            ],
            [
             0.4444444444444444,
             "#bd3786"
            ],
            [
             0.5555555555555556,
             "#d8576b"
            ],
            [
             0.6666666666666666,
             "#ed7953"
            ],
            [
             0.7777777777777778,
             "#fb9f3a"
            ],
            [
             0.8888888888888888,
             "#fdca26"
            ],
            [
             1,
             "#f0f921"
            ]
           ],
           "sequentialminus": [
            [
             0,
             "#0d0887"
            ],
            [
             0.1111111111111111,
             "#46039f"
            ],
            [
             0.2222222222222222,
             "#7201a8"
            ],
            [
             0.3333333333333333,
             "#9c179e"
            ],
            [
             0.4444444444444444,
             "#bd3786"
            ],
            [
             0.5555555555555556,
             "#d8576b"
            ],
            [
             0.6666666666666666,
             "#ed7953"
            ],
            [
             0.7777777777777778,
             "#fb9f3a"
            ],
            [
             0.8888888888888888,
             "#fdca26"
            ],
            [
             1,
             "#f0f921"
            ]
           ]
          },
          "colorway": [
           "#636efa",
           "#EF553B",
           "#00cc96",
           "#ab63fa",
           "#FFA15A",
           "#19d3f3",
           "#FF6692",
           "#B6E880",
           "#FF97FF",
           "#FECB52"
          ],
          "font": {
           "color": "#2a3f5f"
          },
          "geo": {
           "bgcolor": "white",
           "lakecolor": "white",
           "landcolor": "#E5ECF6",
           "showlakes": true,
           "showland": true,
           "subunitcolor": "white"
          },
          "hoverlabel": {
           "align": "left"
          },
          "hovermode": "closest",
          "mapbox": {
           "style": "light"
          },
          "paper_bgcolor": "white",
          "plot_bgcolor": "#E5ECF6",
          "polar": {
           "angularaxis": {
            "gridcolor": "white",
            "linecolor": "white",
            "ticks": ""
           },
           "bgcolor": "#E5ECF6",
           "radialaxis": {
            "gridcolor": "white",
            "linecolor": "white",
            "ticks": ""
           }
          },
          "scene": {
           "xaxis": {
            "backgroundcolor": "#E5ECF6",
            "gridcolor": "white",
            "gridwidth": 2,
            "linecolor": "white",
            "showbackground": true,
            "ticks": "",
            "zerolinecolor": "white"
           },
           "yaxis": {
            "backgroundcolor": "#E5ECF6",
            "gridcolor": "white",
            "gridwidth": 2,
            "linecolor": "white",
            "showbackground": true,
            "ticks": "",
            "zerolinecolor": "white"
           },
           "zaxis": {
            "backgroundcolor": "#E5ECF6",
            "gridcolor": "white",
            "gridwidth": 2,
            "linecolor": "white",
            "showbackground": true,
            "ticks": "",
            "zerolinecolor": "white"
           }
          },
          "shapedefaults": {
           "line": {
            "color": "#2a3f5f"
           }
          },
          "ternary": {
           "aaxis": {
            "gridcolor": "white",
            "linecolor": "white",
            "ticks": ""
           },
           "baxis": {
            "gridcolor": "white",
            "linecolor": "white",
            "ticks": ""
           },
           "bgcolor": "#E5ECF6",
           "caxis": {
            "gridcolor": "white",
            "linecolor": "white",
            "ticks": ""
           }
          },
          "title": {
           "x": 0.05
          },
          "xaxis": {
           "automargin": true,
           "gridcolor": "white",
           "linecolor": "white",
           "ticks": "",
           "title": {
            "standoff": 15
           },
           "zerolinecolor": "white",
           "zerolinewidth": 2
          },
          "yaxis": {
           "automargin": true,
           "gridcolor": "white",
           "linecolor": "white",
           "ticks": "",
           "title": {
            "standoff": 15
           },
           "zerolinecolor": "white",
           "zerolinewidth": 2
          }
         }
        },
        "title": {
         "text": "Tendance des drafts NBA par type d'organisation source de joueurs de 1949 à 2020"
        },
        "xaxis": {
         "anchor": "y",
         "domain": [
          0,
          1
         ],
         "title": {
          "text": "Année de draft"
         }
        },
        "yaxis": {
         "anchor": "x",
         "domain": [
          0,
          1
         ],
         "title": {
          "text": "Nombre de joueurs draftés"
         }
        }
       }
      }
     },
     "metadata": {},
     "output_type": "display_data"
    }
   ],
   "source": [
    "import pandas as pd\n",
    "import plotly.express as px\n",
    "import plotly.graph_objects as go\n",
    "\n",
    "# Charger le fichier CSV\n",
    "df_draft = pd.read_csv('./csv/Draft.csv')\n",
    "\n",
    "# Agréger les données nécessaires pour le graphique en secteurs\n",
    "draft_player_org = df_draft.groupby('slugOrganizationTypeFrom')['idPlayer'].nunique().reset_index()\n",
    "draft_player_org.columns = ['organization', 'player_count']\n",
    "\n",
    "# Renommer les catégories\n",
    "draft_player_org['organization'] = draft_player_org['organization'].replace({\n",
    "    'COL': 'Université',\n",
    "    'PRO': 'Autres équipes',\n",
    "    'HS': 'Lycée',\n",
    "    'UNK': 'Inconnu'\n",
    "})\n",
    "\n",
    "# Créer le graphique en secteurs (camembert)\n",
    "fig_pie = px.pie(draft_player_org, values='player_count', names='organization', hole=0.3,\n",
    "                 title=\"Répartition des joueurs draftés par organisation\")\n",
    "\n",
    "# Agréger les données nécessaires pour le graphique de ligne\n",
    "draft_player_org_trend = df_draft.groupby(['yearDraft', 'slugOrganizationTypeFrom'])['idPlayer'].nunique().reset_index()\n",
    "draft_player_org_trend.columns = ['year_drafted', 'organization', 'drafted_count']\n",
    "\n",
    "# Renommer les catégories pour le graphique de ligne\n",
    "draft_player_org_trend['organization'] = draft_player_org_trend['organization'].replace({\n",
    "    'COL': 'Université',\n",
    "    'PRO': 'Autres équipes',\n",
    "    'HS': 'Lycée',\n",
    "    'UNK': 'Inconnu'\n",
    "})\n",
    "\n",
    "# Créer le graphique de ligne\n",
    "fig_line = px.line(draft_player_org_trend.dropna(), \n",
    "                   x=\"year_drafted\", y=\"drafted_count\", color=\"organization\",\n",
    "                   title=\"Tendance des drafts NBA par type d'organisation source de joueurs de 1949 à 2020\")\n",
    "\n",
    "# Mettre à jour les légendes en français\n",
    "fig_line.update_layout(\n",
    "    xaxis_title='Année de draft',\n",
    "    yaxis_title='Nombre de joueurs draftés',\n",
    "    title='Tendance des drafts NBA par source de joueurs de 1949 à 2020',\n",
    "    legend_title='Organisation'\n",
    ")\n",
    "\n",
    "# Afficher les graphiques l'un à côté de l'autre\n",
    "fig_pie.show()\n",
    "fig_line.show()\n"
   ]
  },
  {
   "cell_type": "markdown",
   "metadata": {},
   "source": [
    "## Evolution du jeu depuis 1946"
   ]
  },
  {
   "cell_type": "markdown",
   "metadata": {},
   "source": [
    "### Taux de victoire à domicile"
   ]
  },
  {
   "cell_type": "code",
   "execution_count": 50,
   "metadata": {},
   "outputs": [
    {
     "name": "stderr",
     "output_type": "stream",
     "text": [
      "C:\\Users\\Public\\Documents\\Wondershare\\CreatorTemp\\ipykernel_18068\\4145886089.py:5: DtypeWarning:\n",
      "\n",
      "Columns (58,64,65,68,79,93) have mixed types. Specify dtype option on import or set low_memory=False.\n",
      "\n"
     ]
    },
    {
     "data": {
      "application/vnd.plotly.v1+json": {
       "config": {
        "plotlyServerURL": "https://plot.ly"
       },
       "data": [
        {
         "hovertemplate": "Saison=%{x}<br>Pourcentage de victoires à domicile=%{y}<extra></extra>",
         "legendgroup": "",
         "line": {
          "color": "#636efa",
          "dash": "solid"
         },
         "marker": {
          "symbol": "circle"
         },
         "mode": "lines",
         "name": "",
         "orientation": "v",
         "showlegend": false,
         "type": "scatter",
         "x": [
          1946,
          1947,
          1948,
          1949,
          1950,
          1951,
          1952,
          1953,
          1954,
          1955,
          1956,
          1957,
          1958,
          1959,
          1960,
          1961,
          1962,
          1963,
          1964,
          1965,
          1966,
          1967,
          1968,
          1969,
          1970,
          1971,
          1972,
          1973,
          1974,
          1975,
          1976,
          1977,
          1978,
          1979,
          1980,
          1981,
          1982,
          1983,
          1984,
          1985,
          1986,
          1987,
          1988,
          1989,
          1990,
          1991,
          1992,
          1993,
          1994,
          1995,
          1996,
          1997,
          1998,
          1999,
          2000,
          2001,
          2002,
          2003,
          2004,
          2005,
          2006,
          2007,
          2008,
          2009,
          2010,
          2011,
          2012,
          2013,
          2014,
          2015,
          2016,
          2017,
          2018,
          2019,
          2020
         ],
         "xaxis": "x",
         "y": [
          61.631419939577036,
          57.21649484536082,
          63.33333333333333,
          69.62699822380107,
          74.85875706214689,
          75.45454545454545,
          75.21367521367522,
          73.37461300309597,
          75.34722222222221,
          70,
          77.58620689655173,
          70.83333333333334,
          70.83333333333334,
          69,
          71.51898734177216,
          68.05555555555556,
          68.33333333333333,
          63.33333333333333,
          63.33333333333333,
          74.16666666666667,
          64.93827160493827,
          60.97560975609756,
          61.846689895470384,
          63.2404181184669,
          61.11908177905308,
          58.24964131994261,
          58.82352941176471,
          62.12338593974175,
          64.09214092140921,
          65.31165311653116,
          68.51441241685144,
          67.62749445676275,
          66.51884700665188,
          65.29933481152993,
          62.142099681866384,
          59.91516436903499,
          62.03605514316013,
          67.86850477200424,
          63.73276776246023,
          65.42948038176034,
          66.48992576882291,
          67.86850477200424,
          67.70731707317074,
          64.40831074977417,
          65.94399277326106,
          63.143631436314365,
          61.06594399277326,
          61.15627822944896,
          59.71093044263775,
          60.38687973086627,
          57.5273338940286,
          59.54583683767872,
          62.3448275862069,
          61.059714045416314,
          59.798149705634984,
          59.12531539108494,
          62.80436607892528,
          61.396131202691336,
          60.48780487804878,
          60.32520325203252,
          59.10569105691057,
          60.113728675873276,
          60.8130081300813,
          59.430894308943095,
          60.40650406504066,
          58.58585858585859,
          61.1879576891782,
          57.62052877138414,
          57.47967479674797,
          58.86178861788618,
          58.40779853777417,
          57.94165316045381,
          59.26829268292683,
          55.14636449480642,
          51.42857142857142
         ],
         "yaxis": "y"
        }
       ],
       "layout": {
        "legend": {
         "tracegroupgap": 0
        },
        "template": {
         "data": {
          "bar": [
           {
            "error_x": {
             "color": "#2a3f5f"
            },
            "error_y": {
             "color": "#2a3f5f"
            },
            "marker": {
             "line": {
              "color": "#E5ECF6",
              "width": 0.5
             },
             "pattern": {
              "fillmode": "overlay",
              "size": 10,
              "solidity": 0.2
             }
            },
            "type": "bar"
           }
          ],
          "barpolar": [
           {
            "marker": {
             "line": {
              "color": "#E5ECF6",
              "width": 0.5
             },
             "pattern": {
              "fillmode": "overlay",
              "size": 10,
              "solidity": 0.2
             }
            },
            "type": "barpolar"
           }
          ],
          "carpet": [
           {
            "aaxis": {
             "endlinecolor": "#2a3f5f",
             "gridcolor": "white",
             "linecolor": "white",
             "minorgridcolor": "white",
             "startlinecolor": "#2a3f5f"
            },
            "baxis": {
             "endlinecolor": "#2a3f5f",
             "gridcolor": "white",
             "linecolor": "white",
             "minorgridcolor": "white",
             "startlinecolor": "#2a3f5f"
            },
            "type": "carpet"
           }
          ],
          "choropleth": [
           {
            "colorbar": {
             "outlinewidth": 0,
             "ticks": ""
            },
            "type": "choropleth"
           }
          ],
          "contour": [
           {
            "colorbar": {
             "outlinewidth": 0,
             "ticks": ""
            },
            "colorscale": [
             [
              0,
              "#0d0887"
             ],
             [
              0.1111111111111111,
              "#46039f"
             ],
             [
              0.2222222222222222,
              "#7201a8"
             ],
             [
              0.3333333333333333,
              "#9c179e"
             ],
             [
              0.4444444444444444,
              "#bd3786"
             ],
             [
              0.5555555555555556,
              "#d8576b"
             ],
             [
              0.6666666666666666,
              "#ed7953"
             ],
             [
              0.7777777777777778,
              "#fb9f3a"
             ],
             [
              0.8888888888888888,
              "#fdca26"
             ],
             [
              1,
              "#f0f921"
             ]
            ],
            "type": "contour"
           }
          ],
          "contourcarpet": [
           {
            "colorbar": {
             "outlinewidth": 0,
             "ticks": ""
            },
            "type": "contourcarpet"
           }
          ],
          "heatmap": [
           {
            "colorbar": {
             "outlinewidth": 0,
             "ticks": ""
            },
            "colorscale": [
             [
              0,
              "#0d0887"
             ],
             [
              0.1111111111111111,
              "#46039f"
             ],
             [
              0.2222222222222222,
              "#7201a8"
             ],
             [
              0.3333333333333333,
              "#9c179e"
             ],
             [
              0.4444444444444444,
              "#bd3786"
             ],
             [
              0.5555555555555556,
              "#d8576b"
             ],
             [
              0.6666666666666666,
              "#ed7953"
             ],
             [
              0.7777777777777778,
              "#fb9f3a"
             ],
             [
              0.8888888888888888,
              "#fdca26"
             ],
             [
              1,
              "#f0f921"
             ]
            ],
            "type": "heatmap"
           }
          ],
          "heatmapgl": [
           {
            "colorbar": {
             "outlinewidth": 0,
             "ticks": ""
            },
            "colorscale": [
             [
              0,
              "#0d0887"
             ],
             [
              0.1111111111111111,
              "#46039f"
             ],
             [
              0.2222222222222222,
              "#7201a8"
             ],
             [
              0.3333333333333333,
              "#9c179e"
             ],
             [
              0.4444444444444444,
              "#bd3786"
             ],
             [
              0.5555555555555556,
              "#d8576b"
             ],
             [
              0.6666666666666666,
              "#ed7953"
             ],
             [
              0.7777777777777778,
              "#fb9f3a"
             ],
             [
              0.8888888888888888,
              "#fdca26"
             ],
             [
              1,
              "#f0f921"
             ]
            ],
            "type": "heatmapgl"
           }
          ],
          "histogram": [
           {
            "marker": {
             "pattern": {
              "fillmode": "overlay",
              "size": 10,
              "solidity": 0.2
             }
            },
            "type": "histogram"
           }
          ],
          "histogram2d": [
           {
            "colorbar": {
             "outlinewidth": 0,
             "ticks": ""
            },
            "colorscale": [
             [
              0,
              "#0d0887"
             ],
             [
              0.1111111111111111,
              "#46039f"
             ],
             [
              0.2222222222222222,
              "#7201a8"
             ],
             [
              0.3333333333333333,
              "#9c179e"
             ],
             [
              0.4444444444444444,
              "#bd3786"
             ],
             [
              0.5555555555555556,
              "#d8576b"
             ],
             [
              0.6666666666666666,
              "#ed7953"
             ],
             [
              0.7777777777777778,
              "#fb9f3a"
             ],
             [
              0.8888888888888888,
              "#fdca26"
             ],
             [
              1,
              "#f0f921"
             ]
            ],
            "type": "histogram2d"
           }
          ],
          "histogram2dcontour": [
           {
            "colorbar": {
             "outlinewidth": 0,
             "ticks": ""
            },
            "colorscale": [
             [
              0,
              "#0d0887"
             ],
             [
              0.1111111111111111,
              "#46039f"
             ],
             [
              0.2222222222222222,
              "#7201a8"
             ],
             [
              0.3333333333333333,
              "#9c179e"
             ],
             [
              0.4444444444444444,
              "#bd3786"
             ],
             [
              0.5555555555555556,
              "#d8576b"
             ],
             [
              0.6666666666666666,
              "#ed7953"
             ],
             [
              0.7777777777777778,
              "#fb9f3a"
             ],
             [
              0.8888888888888888,
              "#fdca26"
             ],
             [
              1,
              "#f0f921"
             ]
            ],
            "type": "histogram2dcontour"
           }
          ],
          "mesh3d": [
           {
            "colorbar": {
             "outlinewidth": 0,
             "ticks": ""
            },
            "type": "mesh3d"
           }
          ],
          "parcoords": [
           {
            "line": {
             "colorbar": {
              "outlinewidth": 0,
              "ticks": ""
             }
            },
            "type": "parcoords"
           }
          ],
          "pie": [
           {
            "automargin": true,
            "type": "pie"
           }
          ],
          "scatter": [
           {
            "fillpattern": {
             "fillmode": "overlay",
             "size": 10,
             "solidity": 0.2
            },
            "type": "scatter"
           }
          ],
          "scatter3d": [
           {
            "line": {
             "colorbar": {
              "outlinewidth": 0,
              "ticks": ""
             }
            },
            "marker": {
             "colorbar": {
              "outlinewidth": 0,
              "ticks": ""
             }
            },
            "type": "scatter3d"
           }
          ],
          "scattercarpet": [
           {
            "marker": {
             "colorbar": {
              "outlinewidth": 0,
              "ticks": ""
             }
            },
            "type": "scattercarpet"
           }
          ],
          "scattergeo": [
           {
            "marker": {
             "colorbar": {
              "outlinewidth": 0,
              "ticks": ""
             }
            },
            "type": "scattergeo"
           }
          ],
          "scattergl": [
           {
            "marker": {
             "colorbar": {
              "outlinewidth": 0,
              "ticks": ""
             }
            },
            "type": "scattergl"
           }
          ],
          "scattermapbox": [
           {
            "marker": {
             "colorbar": {
              "outlinewidth": 0,
              "ticks": ""
             }
            },
            "type": "scattermapbox"
           }
          ],
          "scatterpolar": [
           {
            "marker": {
             "colorbar": {
              "outlinewidth": 0,
              "ticks": ""
             }
            },
            "type": "scatterpolar"
           }
          ],
          "scatterpolargl": [
           {
            "marker": {
             "colorbar": {
              "outlinewidth": 0,
              "ticks": ""
             }
            },
            "type": "scatterpolargl"
           }
          ],
          "scatterternary": [
           {
            "marker": {
             "colorbar": {
              "outlinewidth": 0,
              "ticks": ""
             }
            },
            "type": "scatterternary"
           }
          ],
          "surface": [
           {
            "colorbar": {
             "outlinewidth": 0,
             "ticks": ""
            },
            "colorscale": [
             [
              0,
              "#0d0887"
             ],
             [
              0.1111111111111111,
              "#46039f"
             ],
             [
              0.2222222222222222,
              "#7201a8"
             ],
             [
              0.3333333333333333,
              "#9c179e"
             ],
             [
              0.4444444444444444,
              "#bd3786"
             ],
             [
              0.5555555555555556,
              "#d8576b"
             ],
             [
              0.6666666666666666,
              "#ed7953"
             ],
             [
              0.7777777777777778,
              "#fb9f3a"
             ],
             [
              0.8888888888888888,
              "#fdca26"
             ],
             [
              1,
              "#f0f921"
             ]
            ],
            "type": "surface"
           }
          ],
          "table": [
           {
            "cells": {
             "fill": {
              "color": "#EBF0F8"
             },
             "line": {
              "color": "white"
             }
            },
            "header": {
             "fill": {
              "color": "#C8D4E3"
             },
             "line": {
              "color": "white"
             }
            },
            "type": "table"
           }
          ]
         },
         "layout": {
          "annotationdefaults": {
           "arrowcolor": "#2a3f5f",
           "arrowhead": 0,
           "arrowwidth": 1
          },
          "autotypenumbers": "strict",
          "coloraxis": {
           "colorbar": {
            "outlinewidth": 0,
            "ticks": ""
           }
          },
          "colorscale": {
           "diverging": [
            [
             0,
             "#8e0152"
            ],
            [
             0.1,
             "#c51b7d"
            ],
            [
             0.2,
             "#de77ae"
            ],
            [
             0.3,
             "#f1b6da"
            ],
            [
             0.4,
             "#fde0ef"
            ],
            [
             0.5,
             "#f7f7f7"
            ],
            [
             0.6,
             "#e6f5d0"
            ],
            [
             0.7,
             "#b8e186"
            ],
            [
             0.8,
             "#7fbc41"
            ],
            [
             0.9,
             "#4d9221"
            ],
            [
             1,
             "#276419"
            ]
           ],
           "sequential": [
            [
             0,
             "#0d0887"
            ],
            [
             0.1111111111111111,
             "#46039f"
            ],
            [
             0.2222222222222222,
             "#7201a8"
            ],
            [
             0.3333333333333333,
             "#9c179e"
            ],
            [
             0.4444444444444444,
             "#bd3786"
            ],
            [
             0.5555555555555556,
             "#d8576b"
            ],
            [
             0.6666666666666666,
             "#ed7953"
            ],
            [
             0.7777777777777778,
             "#fb9f3a"
            ],
            [
             0.8888888888888888,
             "#fdca26"
            ],
            [
             1,
             "#f0f921"
            ]
           ],
           "sequentialminus": [
            [
             0,
             "#0d0887"
            ],
            [
             0.1111111111111111,
             "#46039f"
            ],
            [
             0.2222222222222222,
             "#7201a8"
            ],
            [
             0.3333333333333333,
             "#9c179e"
            ],
            [
             0.4444444444444444,
             "#bd3786"
            ],
            [
             0.5555555555555556,
             "#d8576b"
            ],
            [
             0.6666666666666666,
             "#ed7953"
            ],
            [
             0.7777777777777778,
             "#fb9f3a"
            ],
            [
             0.8888888888888888,
             "#fdca26"
            ],
            [
             1,
             "#f0f921"
            ]
           ]
          },
          "colorway": [
           "#636efa",
           "#EF553B",
           "#00cc96",
           "#ab63fa",
           "#FFA15A",
           "#19d3f3",
           "#FF6692",
           "#B6E880",
           "#FF97FF",
           "#FECB52"
          ],
          "font": {
           "color": "#2a3f5f"
          },
          "geo": {
           "bgcolor": "white",
           "lakecolor": "white",
           "landcolor": "#E5ECF6",
           "showlakes": true,
           "showland": true,
           "subunitcolor": "white"
          },
          "hoverlabel": {
           "align": "left"
          },
          "hovermode": "closest",
          "mapbox": {
           "style": "light"
          },
          "paper_bgcolor": "white",
          "plot_bgcolor": "#E5ECF6",
          "polar": {
           "angularaxis": {
            "gridcolor": "white",
            "linecolor": "white",
            "ticks": ""
           },
           "bgcolor": "#E5ECF6",
           "radialaxis": {
            "gridcolor": "white",
            "linecolor": "white",
            "ticks": ""
           }
          },
          "scene": {
           "xaxis": {
            "backgroundcolor": "#E5ECF6",
            "gridcolor": "white",
            "gridwidth": 2,
            "linecolor": "white",
            "showbackground": true,
            "ticks": "",
            "zerolinecolor": "white"
           },
           "yaxis": {
            "backgroundcolor": "#E5ECF6",
            "gridcolor": "white",
            "gridwidth": 2,
            "linecolor": "white",
            "showbackground": true,
            "ticks": "",
            "zerolinecolor": "white"
           },
           "zaxis": {
            "backgroundcolor": "#E5ECF6",
            "gridcolor": "white",
            "gridwidth": 2,
            "linecolor": "white",
            "showbackground": true,
            "ticks": "",
            "zerolinecolor": "white"
           }
          },
          "shapedefaults": {
           "line": {
            "color": "#2a3f5f"
           }
          },
          "ternary": {
           "aaxis": {
            "gridcolor": "white",
            "linecolor": "white",
            "ticks": ""
           },
           "baxis": {
            "gridcolor": "white",
            "linecolor": "white",
            "ticks": ""
           },
           "bgcolor": "#E5ECF6",
           "caxis": {
            "gridcolor": "white",
            "linecolor": "white",
            "ticks": ""
           }
          },
          "title": {
           "x": 0.05
          },
          "xaxis": {
           "automargin": true,
           "gridcolor": "white",
           "linecolor": "white",
           "ticks": "",
           "title": {
            "standoff": 15
           },
           "zerolinecolor": "white",
           "zerolinewidth": 2
          },
          "yaxis": {
           "automargin": true,
           "gridcolor": "white",
           "linecolor": "white",
           "ticks": "",
           "title": {
            "standoff": 15
           },
           "zerolinecolor": "white",
           "zerolinewidth": 2
          }
         }
        },
        "title": {
         "text": "1946-2020: Pourcentage global de victoires à domicile"
        },
        "xaxis": {
         "anchor": "y",
         "domain": [
          0,
          1
         ],
         "title": {
          "text": "Saison"
         }
        },
        "yaxis": {
         "anchor": "x",
         "domain": [
          0,
          1
         ],
         "title": {
          "text": "Pourcentage de victoires à domicile"
         }
        }
       }
      }
     },
     "metadata": {},
     "output_type": "display_data"
    },
    {
     "data": {
      "application/vnd.plotly.v1+json": {
       "config": {
        "plotlyServerURL": "https://plot.ly"
       },
       "data": [
        {
         "customdata": [
          [
           null
          ],
          [
           null
          ],
          [
           null
          ],
          [
           null
          ],
          [
           null
          ],
          [
           null
          ],
          [
           null
          ],
          [
           null
          ],
          [
           "Celtics"
          ],
          [
           "Warriors"
          ],
          [
           "Knicks"
          ],
          [
           null
          ],
          [
           null
          ],
          [
           null
          ],
          [
           null
          ],
          [
           null
          ],
          [
           "Celtics"
          ],
          [
           "Warriors"
          ],
          [
           "Knicks"
          ],
          [
           null
          ],
          [
           null
          ],
          [
           null
          ],
          [
           null
          ],
          [
           null
          ],
          [
           null
          ],
          [
           "Celtics"
          ],
          [
           "Warriors"
          ],
          [
           "Lakers"
          ],
          [
           "Knicks"
          ],
          [
           "Kings"
          ],
          [
           "Pistons"
          ],
          [
           null
          ],
          [
           null
          ],
          [
           null
          ],
          [
           null
          ],
          [
           null
          ],
          [
           null
          ],
          [
           null
          ],
          [
           null
          ],
          [
           null
          ],
          [
           "Hawks"
          ],
          [
           "Celtics"
          ],
          [
           "Warriors"
          ],
          [
           "Lakers"
          ],
          [
           "Knicks"
          ],
          [
           "76ers"
          ],
          [
           "Kings"
          ],
          [
           "Pistons"
          ],
          [
           null
          ],
          [
           null
          ],
          [
           null
          ],
          [
           "Hawks"
          ],
          [
           "Celtics"
          ],
          [
           "Warriors"
          ],
          [
           "Lakers"
          ],
          [
           "Knicks"
          ],
          [
           "76ers"
          ],
          [
           "Kings"
          ],
          [
           "Pistons"
          ],
          [
           null
          ],
          [
           null
          ],
          [
           "Hawks"
          ],
          [
           "Celtics"
          ],
          [
           "Warriors"
          ],
          [
           "Lakers"
          ],
          [
           "Knicks"
          ],
          [
           "76ers"
          ],
          [
           "Kings"
          ],
          [
           "Pistons"
          ],
          [
           null
          ],
          [
           null
          ],
          [
           "Hawks"
          ],
          [
           "Celtics"
          ],
          [
           "Warriors"
          ],
          [
           "Lakers"
          ],
          [
           "Knicks"
          ],
          [
           "76ers"
          ],
          [
           "Kings"
          ],
          [
           "Pistons"
          ],
          [
           null
          ],
          [
           "Hawks"
          ],
          [
           "Celtics"
          ],
          [
           "Warriors"
          ],
          [
           "Lakers"
          ],
          [
           "Knicks"
          ],
          [
           "76ers"
          ],
          [
           "Kings"
          ],
          [
           "Pistons"
          ],
          [
           "Hawks"
          ],
          [
           "Celtics"
          ],
          [
           "Warriors"
          ],
          [
           "Lakers"
          ],
          [
           "Knicks"
          ],
          [
           "76ers"
          ],
          [
           "Kings"
          ],
          [
           "Pistons"
          ],
          [
           "Hawks"
          ],
          [
           "Celtics"
          ],
          [
           "Warriors"
          ],
          [
           "Lakers"
          ],
          [
           "Knicks"
          ],
          [
           "76ers"
          ],
          [
           "Kings"
          ],
          [
           "Pistons"
          ],
          [
           "Hawks"
          ],
          [
           "Celtics"
          ],
          [
           "Warriors"
          ],
          [
           "Lakers"
          ],
          [
           "Knicks"
          ],
          [
           "76ers"
          ],
          [
           "Kings"
          ],
          [
           "Pistons"
          ],
          [
           "Hawks"
          ],
          [
           "Celtics"
          ],
          [
           "Warriors"
          ],
          [
           "Lakers"
          ],
          [
           "Knicks"
          ],
          [
           "76ers"
          ],
          [
           "Kings"
          ],
          [
           "Pistons"
          ],
          [
           "Hawks"
          ],
          [
           "Celtics"
          ],
          [
           "Warriors"
          ],
          [
           "Lakers"
          ],
          [
           "Knicks"
          ],
          [
           "76ers"
          ],
          [
           "Kings"
          ],
          [
           "Pistons"
          ],
          [
           "Hawks"
          ],
          [
           "Celtics"
          ],
          [
           "Warriors"
          ],
          [
           "Lakers"
          ],
          [
           "Knicks"
          ],
          [
           "76ers"
          ],
          [
           "Kings"
          ],
          [
           "Pistons"
          ],
          [
           "Hawks"
          ],
          [
           "Celtics"
          ],
          [
           "Warriors"
          ],
          [
           "Lakers"
          ],
          [
           "Knicks"
          ],
          [
           "76ers"
          ],
          [
           "Kings"
          ],
          [
           "Pistons"
          ],
          [
           "Hawks"
          ],
          [
           "Celtics"
          ],
          [
           "Warriors"
          ],
          [
           "Lakers"
          ],
          [
           "Knicks"
          ],
          [
           "76ers"
          ],
          [
           "Kings"
          ],
          [
           "Wizards"
          ],
          [
           "Pistons"
          ],
          [
           "Hawks"
          ],
          [
           "Celtics"
          ],
          [
           "Warriors"
          ],
          [
           "Lakers"
          ],
          [
           "Knicks"
          ],
          [
           "76ers"
          ],
          [
           "Kings"
          ],
          [
           "Wizards"
          ],
          [
           "Pistons"
          ],
          [
           "Hawks"
          ],
          [
           "Celtics"
          ],
          [
           "Warriors"
          ],
          [
           "Lakers"
          ],
          [
           "Knicks"
          ],
          [
           "76ers"
          ],
          [
           "Kings"
          ],
          [
           "Wizards"
          ],
          [
           "Pistons"
          ],
          [
           "Hawks"
          ],
          [
           "Celtics"
          ],
          [
           "Warriors"
          ],
          [
           "Lakers"
          ],
          [
           "Knicks"
          ],
          [
           "76ers"
          ],
          [
           "Kings"
          ],
          [
           "Wizards"
          ],
          [
           "Pistons"
          ],
          [
           "Hawks"
          ],
          [
           "Celtics"
          ],
          [
           "Warriors"
          ],
          [
           "Lakers"
          ],
          [
           "Knicks"
          ],
          [
           "76ers"
          ],
          [
           "Kings"
          ],
          [
           "Wizards"
          ],
          [
           "Pistons"
          ],
          [
           "Hawks"
          ],
          [
           "Celtics"
          ],
          [
           "Bulls"
          ],
          [
           "Warriors"
          ],
          [
           "Lakers"
          ],
          [
           "Knicks"
          ],
          [
           "76ers"
          ],
          [
           "Kings"
          ],
          [
           "Wizards"
          ],
          [
           "Pistons"
          ],
          [
           "Hawks"
          ],
          [
           "Celtics"
          ],
          [
           "Bulls"
          ],
          [
           "Warriors"
          ],
          [
           "Rockets"
          ],
          [
           "Lakers"
          ],
          [
           "Knicks"
          ],
          [
           "76ers"
          ],
          [
           "Kings"
          ],
          [
           "Thunder"
          ],
          [
           "Wizards"
          ],
          [
           "Pistons"
          ],
          [
           "Hawks"
          ],
          [
           "Celtics"
          ],
          [
           "Bulls"
          ],
          [
           "Warriors"
          ],
          [
           "Rockets"
          ],
          [
           "Lakers"
          ],
          [
           "Bucks"
          ],
          [
           "Knicks"
          ],
          [
           "76ers"
          ],
          [
           "Suns"
          ],
          [
           "Kings"
          ],
          [
           "Thunder"
          ],
          [
           "Wizards"
          ],
          [
           "Pistons"
          ],
          [
           "Hawks"
          ],
          [
           "Celtics"
          ],
          [
           "Bulls"
          ],
          [
           "Warriors"
          ],
          [
           "Rockets"
          ],
          [
           "Lakers"
          ],
          [
           "Bucks"
          ],
          [
           "Knicks"
          ],
          [
           "76ers"
          ],
          [
           "Suns"
          ],
          [
           "Kings"
          ],
          [
           "Thunder"
          ],
          [
           "Wizards"
          ],
          [
           "Pistons"
          ],
          [
           "Hawks"
          ],
          [
           "Celtics"
          ],
          [
           "Cavaliers"
          ],
          [
           "Bulls"
          ],
          [
           "Warriors"
          ],
          [
           "Rockets"
          ],
          [
           "Clippers"
          ],
          [
           "Lakers"
          ],
          [
           "Bucks"
          ],
          [
           "Knicks"
          ],
          [
           "76ers"
          ],
          [
           "Suns"
          ],
          [
           "Trail Blazers"
          ],
          [
           "Kings"
          ],
          [
           "Thunder"
          ],
          [
           "Wizards"
          ],
          [
           "Pistons"
          ],
          [
           "Hawks"
          ],
          [
           "Celtics"
          ],
          [
           "Cavaliers"
          ],
          [
           "Bulls"
          ],
          [
           "Warriors"
          ],
          [
           "Rockets"
          ],
          [
           "Clippers"
          ],
          [
           "Lakers"
          ],
          [
           "Bucks"
          ],
          [
           "Knicks"
          ],
          [
           "76ers"
          ],
          [
           "Suns"
          ],
          [
           "Trail Blazers"
          ],
          [
           "Kings"
          ],
          [
           "Thunder"
          ],
          [
           "Wizards"
          ],
          [
           "Pistons"
          ],
          [
           "Hawks"
          ],
          [
           "Celtics"
          ],
          [
           "Cavaliers"
          ],
          [
           "Bulls"
          ],
          [
           "Warriors"
          ],
          [
           "Rockets"
          ],
          [
           "Clippers"
          ],
          [
           "Lakers"
          ],
          [
           "Bucks"
          ],
          [
           "Knicks"
          ],
          [
           "76ers"
          ],
          [
           "Suns"
          ],
          [
           "Trail Blazers"
          ],
          [
           "Kings"
          ],
          [
           "Thunder"
          ],
          [
           "Wizards"
          ],
          [
           "Pistons"
          ],
          [
           "Hawks"
          ],
          [
           "Celtics"
          ],
          [
           "Cavaliers"
          ],
          [
           "Bulls"
          ],
          [
           "Warriors"
          ],
          [
           "Rockets"
          ],
          [
           "Clippers"
          ],
          [
           "Lakers"
          ],
          [
           "Bucks"
          ],
          [
           "Knicks"
          ],
          [
           "76ers"
          ],
          [
           "Suns"
          ],
          [
           "Trail Blazers"
          ],
          [
           "Kings"
          ],
          [
           "Thunder"
          ],
          [
           "Wizards"
          ],
          [
           "Pistons"
          ],
          [
           "Hawks"
          ],
          [
           "Celtics"
          ],
          [
           "Cavaliers"
          ],
          [
           "Bulls"
          ],
          [
           "Warriors"
          ],
          [
           "Rockets"
          ],
          [
           "Clippers"
          ],
          [
           "Lakers"
          ],
          [
           "Bucks"
          ],
          [
           "Knicks"
          ],
          [
           "76ers"
          ],
          [
           "Suns"
          ],
          [
           "Trail Blazers"
          ],
          [
           "Kings"
          ],
          [
           "Thunder"
          ],
          [
           "Jazz"
          ],
          [
           "Wizards"
          ],
          [
           "Pistons"
          ],
          [
           "Hawks"
          ],
          [
           "Celtics"
          ],
          [
           "Cavaliers"
          ],
          [
           "Bulls"
          ],
          [
           "Warriors"
          ],
          [
           "Rockets"
          ],
          [
           "Clippers"
          ],
          [
           "Lakers"
          ],
          [
           "Bucks"
          ],
          [
           "Knicks"
          ],
          [
           "76ers"
          ],
          [
           "Suns"
          ],
          [
           "Trail Blazers"
          ],
          [
           "Kings"
          ],
          [
           "Thunder"
          ],
          [
           "Jazz"
          ],
          [
           "Wizards"
          ],
          [
           "Pistons"
          ],
          [
           "Hawks"
          ],
          [
           "Celtics"
          ],
          [
           "Cavaliers"
          ],
          [
           "Bulls"
          ],
          [
           "Nuggets"
          ],
          [
           "Warriors"
          ],
          [
           "Rockets"
          ],
          [
           "Clippers"
          ],
          [
           "Lakers"
          ],
          [
           "Bucks"
          ],
          [
           "Nets"
          ],
          [
           "Knicks"
          ],
          [
           "Pacers"
          ],
          [
           "76ers"
          ],
          [
           "Suns"
          ],
          [
           "Trail Blazers"
          ],
          [
           "Kings"
          ],
          [
           "Spurs"
          ],
          [
           "Thunder"
          ],
          [
           "Jazz"
          ],
          [
           "Wizards"
          ],
          [
           "Pistons"
          ],
          [
           "Hawks"
          ],
          [
           "Celtics"
          ],
          [
           "Cavaliers"
          ],
          [
           "Bulls"
          ],
          [
           "Nuggets"
          ],
          [
           "Warriors"
          ],
          [
           "Rockets"
          ],
          [
           "Clippers"
          ],
          [
           "Lakers"
          ],
          [
           "Bucks"
          ],
          [
           "Nets"
          ],
          [
           "Knicks"
          ],
          [
           "Pacers"
          ],
          [
           "76ers"
          ],
          [
           "Suns"
          ],
          [
           "Trail Blazers"
          ],
          [
           "Kings"
          ],
          [
           "Spurs"
          ],
          [
           "Thunder"
          ],
          [
           "Jazz"
          ],
          [
           "Wizards"
          ],
          [
           "Pistons"
          ],
          [
           "Hawks"
          ],
          [
           "Celtics"
          ],
          [
           "Cavaliers"
          ],
          [
           "Bulls"
          ],
          [
           "Nuggets"
          ],
          [
           "Warriors"
          ],
          [
           "Rockets"
          ],
          [
           "Clippers"
          ],
          [
           "Lakers"
          ],
          [
           "Bucks"
          ],
          [
           "Nets"
          ],
          [
           "Knicks"
          ],
          [
           "Pacers"
          ],
          [
           "76ers"
          ],
          [
           "Suns"
          ],
          [
           "Trail Blazers"
          ],
          [
           "Kings"
          ],
          [
           "Spurs"
          ],
          [
           "Thunder"
          ],
          [
           "Jazz"
          ],
          [
           "Wizards"
          ],
          [
           "Pistons"
          ],
          [
           "Hawks"
          ],
          [
           "Celtics"
          ],
          [
           "Cavaliers"
          ],
          [
           "Bulls"
          ],
          [
           "Nuggets"
          ],
          [
           "Warriors"
          ],
          [
           "Rockets"
          ],
          [
           "Clippers"
          ],
          [
           "Lakers"
          ],
          [
           "Bucks"
          ],
          [
           "Nets"
          ],
          [
           "Knicks"
          ],
          [
           "Pacers"
          ],
          [
           "76ers"
          ],
          [
           "Suns"
          ],
          [
           "Trail Blazers"
          ],
          [
           "Kings"
          ],
          [
           "Spurs"
          ],
          [
           "Thunder"
          ],
          [
           "Jazz"
          ],
          [
           "Wizards"
          ],
          [
           "Pistons"
          ],
          [
           "Hawks"
          ],
          [
           "Celtics"
          ],
          [
           "Cavaliers"
          ],
          [
           "Bulls"
          ],
          [
           "Mavericks"
          ],
          [
           "Nuggets"
          ],
          [
           "Warriors"
          ],
          [
           "Rockets"
          ],
          [
           "Clippers"
          ],
          [
           "Lakers"
          ],
          [
           "Bucks"
          ],
          [
           "Nets"
          ],
          [
           "Knicks"
          ],
          [
           "Pacers"
          ],
          [
           "76ers"
          ],
          [
           "Suns"
          ],
          [
           "Trail Blazers"
          ],
          [
           "Kings"
          ],
          [
           "Spurs"
          ],
          [
           "Thunder"
          ],
          [
           "Jazz"
          ],
          [
           "Wizards"
          ],
          [
           "Pistons"
          ],
          [
           "Hawks"
          ],
          [
           "Celtics"
          ],
          [
           "Cavaliers"
          ],
          [
           "Bulls"
          ],
          [
           "Mavericks"
          ],
          [
           "Nuggets"
          ],
          [
           "Warriors"
          ],
          [
           "Rockets"
          ],
          [
           "Clippers"
          ],
          [
           "Lakers"
          ],
          [
           "Bucks"
          ],
          [
           "Nets"
          ],
          [
           "Knicks"
          ],
          [
           "Pacers"
          ],
          [
           "76ers"
          ],
          [
           "Suns"
          ],
          [
           "Trail Blazers"
          ],
          [
           "Kings"
          ],
          [
           "Spurs"
          ],
          [
           "Thunder"
          ],
          [
           "Jazz"
          ],
          [
           "Wizards"
          ],
          [
           "Pistons"
          ],
          [
           "Hawks"
          ],
          [
           "Celtics"
          ],
          [
           "Cavaliers"
          ],
          [
           "Bulls"
          ],
          [
           "Mavericks"
          ],
          [
           "Nuggets"
          ],
          [
           "Warriors"
          ],
          [
           "Rockets"
          ],
          [
           "Clippers"
          ],
          [
           "Lakers"
          ],
          [
           "Bucks"
          ],
          [
           "Nets"
          ],
          [
           "Knicks"
          ],
          [
           "Pacers"
          ],
          [
           "76ers"
          ],
          [
           "Suns"
          ],
          [
           "Trail Blazers"
          ],
          [
           "Kings"
          ],
          [
           "Spurs"
          ],
          [
           "Thunder"
          ],
          [
           "Jazz"
          ],
          [
           "Wizards"
          ],
          [
           "Pistons"
          ],
          [
           "Hawks"
          ],
          [
           "Celtics"
          ],
          [
           "Cavaliers"
          ],
          [
           "Bulls"
          ],
          [
           "Mavericks"
          ],
          [
           "Nuggets"
          ],
          [
           "Warriors"
          ],
          [
           "Rockets"
          ],
          [
           "Clippers"
          ],
          [
           "Lakers"
          ],
          [
           "Bucks"
          ],
          [
           "Nets"
          ],
          [
           "Knicks"
          ],
          [
           "Pacers"
          ],
          [
           "76ers"
          ],
          [
           "Suns"
          ],
          [
           "Trail Blazers"
          ],
          [
           "Kings"
          ],
          [
           "Spurs"
          ],
          [
           "Thunder"
          ],
          [
           "Jazz"
          ],
          [
           "Wizards"
          ],
          [
           "Pistons"
          ],
          [
           "Hawks"
          ],
          [
           "Celtics"
          ],
          [
           "Cavaliers"
          ],
          [
           "Bulls"
          ],
          [
           "Mavericks"
          ],
          [
           "Nuggets"
          ],
          [
           "Warriors"
          ],
          [
           "Rockets"
          ],
          [
           "Clippers"
          ],
          [
           "Lakers"
          ],
          [
           "Bucks"
          ],
          [
           "Nets"
          ],
          [
           "Knicks"
          ],
          [
           "Pacers"
          ],
          [
           "76ers"
          ],
          [
           "Suns"
          ],
          [
           "Trail Blazers"
          ],
          [
           "Kings"
          ],
          [
           "Spurs"
          ],
          [
           "Thunder"
          ],
          [
           "Jazz"
          ],
          [
           "Wizards"
          ],
          [
           "Pistons"
          ],
          [
           "Hawks"
          ],
          [
           "Celtics"
          ],
          [
           "Cavaliers"
          ],
          [
           "Bulls"
          ],
          [
           "Mavericks"
          ],
          [
           "Nuggets"
          ],
          [
           "Warriors"
          ],
          [
           "Rockets"
          ],
          [
           "Clippers"
          ],
          [
           "Lakers"
          ],
          [
           "Bucks"
          ],
          [
           "Nets"
          ],
          [
           "Knicks"
          ],
          [
           "Pacers"
          ],
          [
           "76ers"
          ],
          [
           "Suns"
          ],
          [
           "Trail Blazers"
          ],
          [
           "Kings"
          ],
          [
           "Spurs"
          ],
          [
           "Thunder"
          ],
          [
           "Jazz"
          ],
          [
           "Wizards"
          ],
          [
           "Pistons"
          ],
          [
           "Hawks"
          ],
          [
           "Celtics"
          ],
          [
           "Cavaliers"
          ],
          [
           "Bulls"
          ],
          [
           "Mavericks"
          ],
          [
           "Nuggets"
          ],
          [
           "Warriors"
          ],
          [
           "Rockets"
          ],
          [
           "Clippers"
          ],
          [
           "Lakers"
          ],
          [
           "Bucks"
          ],
          [
           "Nets"
          ],
          [
           "Knicks"
          ],
          [
           "Pacers"
          ],
          [
           "76ers"
          ],
          [
           "Suns"
          ],
          [
           "Trail Blazers"
          ],
          [
           "Kings"
          ],
          [
           "Spurs"
          ],
          [
           "Thunder"
          ],
          [
           "Jazz"
          ],
          [
           "Wizards"
          ],
          [
           "Pistons"
          ],
          [
           "Hawks"
          ],
          [
           "Celtics"
          ],
          [
           "Cavaliers"
          ],
          [
           "Bulls"
          ],
          [
           "Mavericks"
          ],
          [
           "Nuggets"
          ],
          [
           "Warriors"
          ],
          [
           "Rockets"
          ],
          [
           "Clippers"
          ],
          [
           "Lakers"
          ],
          [
           "Bucks"
          ],
          [
           "Nets"
          ],
          [
           "Knicks"
          ],
          [
           "Pacers"
          ],
          [
           "76ers"
          ],
          [
           "Suns"
          ],
          [
           "Trail Blazers"
          ],
          [
           "Kings"
          ],
          [
           "Spurs"
          ],
          [
           "Thunder"
          ],
          [
           "Jazz"
          ],
          [
           "Wizards"
          ],
          [
           "Pistons"
          ],
          [
           "Hawks"
          ],
          [
           "Celtics"
          ],
          [
           "Cavaliers"
          ],
          [
           "Bulls"
          ],
          [
           "Mavericks"
          ],
          [
           "Nuggets"
          ],
          [
           "Warriors"
          ],
          [
           "Rockets"
          ],
          [
           "Clippers"
          ],
          [
           "Lakers"
          ],
          [
           "Heat"
          ],
          [
           "Bucks"
          ],
          [
           "Nets"
          ],
          [
           "Knicks"
          ],
          [
           "Pacers"
          ],
          [
           "76ers"
          ],
          [
           "Suns"
          ],
          [
           "Trail Blazers"
          ],
          [
           "Kings"
          ],
          [
           "Spurs"
          ],
          [
           "Thunder"
          ],
          [
           "Jazz"
          ],
          [
           "Wizards"
          ],
          [
           "Pistons"
          ],
          [
           "Hornets"
          ],
          [
           "Hawks"
          ],
          [
           "Celtics"
          ],
          [
           "Cavaliers"
          ],
          [
           "Bulls"
          ],
          [
           "Mavericks"
          ],
          [
           "Nuggets"
          ],
          [
           "Warriors"
          ],
          [
           "Rockets"
          ],
          [
           "Clippers"
          ],
          [
           "Lakers"
          ],
          [
           "Heat"
          ],
          [
           "Bucks"
          ],
          [
           "Timberwolves"
          ],
          [
           "Nets"
          ],
          [
           "Knicks"
          ],
          [
           "Magic"
          ],
          [
           "Pacers"
          ],
          [
           "76ers"
          ],
          [
           "Suns"
          ],
          [
           "Trail Blazers"
          ],
          [
           "Kings"
          ],
          [
           "Spurs"
          ],
          [
           "Thunder"
          ],
          [
           "Jazz"
          ],
          [
           "Wizards"
          ],
          [
           "Pistons"
          ],
          [
           "Hornets"
          ],
          [
           "Hawks"
          ],
          [
           "Celtics"
          ],
          [
           "Cavaliers"
          ],
          [
           "Bulls"
          ],
          [
           "Mavericks"
          ],
          [
           "Nuggets"
          ],
          [
           "Warriors"
          ],
          [
           "Rockets"
          ],
          [
           "Clippers"
          ],
          [
           "Lakers"
          ],
          [
           "Heat"
          ],
          [
           "Bucks"
          ],
          [
           "Timberwolves"
          ],
          [
           "Nets"
          ],
          [
           "Knicks"
          ],
          [
           "Magic"
          ],
          [
           "Pacers"
          ],
          [
           "76ers"
          ],
          [
           "Suns"
          ],
          [
           "Trail Blazers"
          ],
          [
           "Kings"
          ],
          [
           "Spurs"
          ],
          [
           "Thunder"
          ],
          [
           "Jazz"
          ],
          [
           "Wizards"
          ],
          [
           "Pistons"
          ],
          [
           "Hornets"
          ],
          [
           "Hawks"
          ],
          [
           "Celtics"
          ],
          [
           "Cavaliers"
          ],
          [
           "Bulls"
          ],
          [
           "Mavericks"
          ],
          [
           "Nuggets"
          ],
          [
           "Warriors"
          ],
          [
           "Rockets"
          ],
          [
           "Clippers"
          ],
          [
           "Lakers"
          ],
          [
           "Heat"
          ],
          [
           "Bucks"
          ],
          [
           "Timberwolves"
          ],
          [
           "Nets"
          ],
          [
           "Knicks"
          ],
          [
           "Magic"
          ],
          [
           "Pacers"
          ],
          [
           "76ers"
          ],
          [
           "Suns"
          ],
          [
           "Trail Blazers"
          ],
          [
           "Kings"
          ],
          [
           "Spurs"
          ],
          [
           "Thunder"
          ],
          [
           "Jazz"
          ],
          [
           "Wizards"
          ],
          [
           "Pistons"
          ],
          [
           "Hornets"
          ],
          [
           "Hawks"
          ],
          [
           "Celtics"
          ],
          [
           "Cavaliers"
          ],
          [
           "Bulls"
          ],
          [
           "Mavericks"
          ],
          [
           "Nuggets"
          ],
          [
           "Warriors"
          ],
          [
           "Rockets"
          ],
          [
           "Clippers"
          ],
          [
           "Lakers"
          ],
          [
           "Heat"
          ],
          [
           "Bucks"
          ],
          [
           "Timberwolves"
          ],
          [
           "Nets"
          ],
          [
           "Knicks"
          ],
          [
           "Magic"
          ],
          [
           "Pacers"
          ],
          [
           "76ers"
          ],
          [
           "Suns"
          ],
          [
           "Trail Blazers"
          ],
          [
           "Kings"
          ],
          [
           "Spurs"
          ],
          [
           "Thunder"
          ],
          [
           "Jazz"
          ],
          [
           "Wizards"
          ],
          [
           "Pistons"
          ],
          [
           "Hornets"
          ],
          [
           "Hawks"
          ],
          [
           "Celtics"
          ],
          [
           "Cavaliers"
          ],
          [
           "Bulls"
          ],
          [
           "Mavericks"
          ],
          [
           "Nuggets"
          ],
          [
           "Warriors"
          ],
          [
           "Rockets"
          ],
          [
           "Clippers"
          ],
          [
           "Lakers"
          ],
          [
           "Heat"
          ],
          [
           "Bucks"
          ],
          [
           "Timberwolves"
          ],
          [
           "Nets"
          ],
          [
           "Knicks"
          ],
          [
           "Magic"
          ],
          [
           "Pacers"
          ],
          [
           "76ers"
          ],
          [
           "Suns"
          ],
          [
           "Trail Blazers"
          ],
          [
           "Kings"
          ],
          [
           "Spurs"
          ],
          [
           "Thunder"
          ],
          [
           "Jazz"
          ],
          [
           "Wizards"
          ],
          [
           "Pistons"
          ],
          [
           "Hornets"
          ],
          [
           "Hawks"
          ],
          [
           "Celtics"
          ],
          [
           "Cavaliers"
          ],
          [
           "Bulls"
          ],
          [
           "Mavericks"
          ],
          [
           "Nuggets"
          ],
          [
           "Warriors"
          ],
          [
           "Rockets"
          ],
          [
           "Clippers"
          ],
          [
           "Lakers"
          ],
          [
           "Heat"
          ],
          [
           "Bucks"
          ],
          [
           "Timberwolves"
          ],
          [
           "Nets"
          ],
          [
           "Knicks"
          ],
          [
           "Magic"
          ],
          [
           "Pacers"
          ],
          [
           "76ers"
          ],
          [
           "Suns"
          ],
          [
           "Trail Blazers"
          ],
          [
           "Kings"
          ],
          [
           "Spurs"
          ],
          [
           "Thunder"
          ],
          [
           "Jazz"
          ],
          [
           "Wizards"
          ],
          [
           "Pistons"
          ],
          [
           "Hornets"
          ],
          [
           "Hawks"
          ],
          [
           "Celtics"
          ],
          [
           "Cavaliers"
          ],
          [
           "Bulls"
          ],
          [
           "Mavericks"
          ],
          [
           "Nuggets"
          ],
          [
           "Warriors"
          ],
          [
           "Rockets"
          ],
          [
           "Clippers"
          ],
          [
           "Lakers"
          ],
          [
           "Heat"
          ],
          [
           "Bucks"
          ],
          [
           "Timberwolves"
          ],
          [
           "Nets"
          ],
          [
           "Knicks"
          ],
          [
           "Magic"
          ],
          [
           "Pacers"
          ],
          [
           "76ers"
          ],
          [
           "Suns"
          ],
          [
           "Trail Blazers"
          ],
          [
           "Kings"
          ],
          [
           "Spurs"
          ],
          [
           "Thunder"
          ],
          [
           "Raptors"
          ],
          [
           "Jazz"
          ],
          [
           "Grizzlies"
          ],
          [
           "Wizards"
          ],
          [
           "Pistons"
          ],
          [
           "Hornets"
          ],
          [
           "Hawks"
          ],
          [
           "Celtics"
          ],
          [
           "Cavaliers"
          ],
          [
           "Bulls"
          ],
          [
           "Mavericks"
          ],
          [
           "Nuggets"
          ],
          [
           "Warriors"
          ],
          [
           "Rockets"
          ],
          [
           "Clippers"
          ],
          [
           "Lakers"
          ],
          [
           "Heat"
          ],
          [
           "Bucks"
          ],
          [
           "Timberwolves"
          ],
          [
           "Nets"
          ],
          [
           "Knicks"
          ],
          [
           "Magic"
          ],
          [
           "Pacers"
          ],
          [
           "76ers"
          ],
          [
           "Suns"
          ],
          [
           "Trail Blazers"
          ],
          [
           "Kings"
          ],
          [
           "Spurs"
          ],
          [
           "Thunder"
          ],
          [
           "Raptors"
          ],
          [
           "Jazz"
          ],
          [
           "Grizzlies"
          ],
          [
           "Wizards"
          ],
          [
           "Pistons"
          ],
          [
           "Hornets"
          ],
          [
           "Hawks"
          ],
          [
           "Celtics"
          ],
          [
           "Cavaliers"
          ],
          [
           "Bulls"
          ],
          [
           "Mavericks"
          ],
          [
           "Nuggets"
          ],
          [
           "Warriors"
          ],
          [
           "Rockets"
          ],
          [
           "Clippers"
          ],
          [
           "Lakers"
          ],
          [
           "Heat"
          ],
          [
           "Bucks"
          ],
          [
           "Timberwolves"
          ],
          [
           "Nets"
          ],
          [
           "Knicks"
          ],
          [
           "Magic"
          ],
          [
           "Pacers"
          ],
          [
           "76ers"
          ],
          [
           "Suns"
          ],
          [
           "Trail Blazers"
          ],
          [
           "Kings"
          ],
          [
           "Spurs"
          ],
          [
           "Thunder"
          ],
          [
           "Raptors"
          ],
          [
           "Jazz"
          ],
          [
           "Grizzlies"
          ],
          [
           "Wizards"
          ],
          [
           "Pistons"
          ],
          [
           "Hornets"
          ],
          [
           "Hawks"
          ],
          [
           "Celtics"
          ],
          [
           "Cavaliers"
          ],
          [
           "Bulls"
          ],
          [
           "Mavericks"
          ],
          [
           "Nuggets"
          ],
          [
           "Warriors"
          ],
          [
           "Rockets"
          ],
          [
           "Clippers"
          ],
          [
           "Lakers"
          ],
          [
           "Heat"
          ],
          [
           "Bucks"
          ],
          [
           "Timberwolves"
          ],
          [
           "Nets"
          ],
          [
           "Knicks"
          ],
          [
           "Magic"
          ],
          [
           "Pacers"
          ],
          [
           "76ers"
          ],
          [
           "Suns"
          ],
          [
           "Trail Blazers"
          ],
          [
           "Kings"
          ],
          [
           "Spurs"
          ],
          [
           "Thunder"
          ],
          [
           "Raptors"
          ],
          [
           "Jazz"
          ],
          [
           "Grizzlies"
          ],
          [
           "Wizards"
          ],
          [
           "Pistons"
          ],
          [
           "Hornets"
          ],
          [
           "Hawks"
          ],
          [
           "Celtics"
          ],
          [
           "Cavaliers"
          ],
          [
           "Bulls"
          ],
          [
           "Mavericks"
          ],
          [
           "Nuggets"
          ],
          [
           "Warriors"
          ],
          [
           "Rockets"
          ],
          [
           "Clippers"
          ],
          [
           "Lakers"
          ],
          [
           "Heat"
          ],
          [
           "Bucks"
          ],
          [
           "Timberwolves"
          ],
          [
           "Nets"
          ],
          [
           "Knicks"
          ],
          [
           "Magic"
          ],
          [
           "Pacers"
          ],
          [
           "76ers"
          ],
          [
           "Suns"
          ],
          [
           "Trail Blazers"
          ],
          [
           "Kings"
          ],
          [
           "Spurs"
          ],
          [
           "Thunder"
          ],
          [
           "Raptors"
          ],
          [
           "Jazz"
          ],
          [
           "Grizzlies"
          ],
          [
           "Wizards"
          ],
          [
           "Pistons"
          ],
          [
           "Hornets"
          ],
          [
           "Hawks"
          ],
          [
           "Celtics"
          ],
          [
           "Cavaliers"
          ],
          [
           "Bulls"
          ],
          [
           "Mavericks"
          ],
          [
           "Nuggets"
          ],
          [
           "Warriors"
          ],
          [
           "Rockets"
          ],
          [
           "Clippers"
          ],
          [
           "Lakers"
          ],
          [
           "Heat"
          ],
          [
           "Bucks"
          ],
          [
           "Timberwolves"
          ],
          [
           "Nets"
          ],
          [
           "Knicks"
          ],
          [
           "Magic"
          ],
          [
           "Pacers"
          ],
          [
           "76ers"
          ],
          [
           "Suns"
          ],
          [
           "Trail Blazers"
          ],
          [
           "Kings"
          ],
          [
           "Spurs"
          ],
          [
           "Thunder"
          ],
          [
           "Raptors"
          ],
          [
           "Jazz"
          ],
          [
           "Grizzlies"
          ],
          [
           "Wizards"
          ],
          [
           "Pistons"
          ],
          [
           "Hornets"
          ],
          [
           "Hawks"
          ],
          [
           "Celtics"
          ],
          [
           "Cavaliers"
          ],
          [
           "Bulls"
          ],
          [
           "Mavericks"
          ],
          [
           "Nuggets"
          ],
          [
           "Warriors"
          ],
          [
           "Rockets"
          ],
          [
           "Clippers"
          ],
          [
           "Lakers"
          ],
          [
           "Heat"
          ],
          [
           "Bucks"
          ],
          [
           "Timberwolves"
          ],
          [
           "Nets"
          ],
          [
           "Knicks"
          ],
          [
           "Magic"
          ],
          [
           "Pacers"
          ],
          [
           "76ers"
          ],
          [
           "Suns"
          ],
          [
           "Trail Blazers"
          ],
          [
           "Kings"
          ],
          [
           "Spurs"
          ],
          [
           "Thunder"
          ],
          [
           "Raptors"
          ],
          [
           "Jazz"
          ],
          [
           "Grizzlies"
          ],
          [
           "Wizards"
          ],
          [
           "Pistons"
          ],
          [
           "Hornets"
          ],
          [
           "Hawks"
          ],
          [
           "Celtics"
          ],
          [
           "Cavaliers"
          ],
          [
           "Pelicans"
          ],
          [
           "Bulls"
          ],
          [
           "Mavericks"
          ],
          [
           "Nuggets"
          ],
          [
           "Warriors"
          ],
          [
           "Rockets"
          ],
          [
           "Clippers"
          ],
          [
           "Lakers"
          ],
          [
           "Heat"
          ],
          [
           "Bucks"
          ],
          [
           "Timberwolves"
          ],
          [
           "Nets"
          ],
          [
           "Knicks"
          ],
          [
           "Magic"
          ],
          [
           "Pacers"
          ],
          [
           "76ers"
          ],
          [
           "Suns"
          ],
          [
           "Trail Blazers"
          ],
          [
           "Kings"
          ],
          [
           "Spurs"
          ],
          [
           "Thunder"
          ],
          [
           "Raptors"
          ],
          [
           "Jazz"
          ],
          [
           "Grizzlies"
          ],
          [
           "Wizards"
          ],
          [
           "Pistons"
          ],
          [
           "Hawks"
          ],
          [
           "Celtics"
          ],
          [
           "Cavaliers"
          ],
          [
           "Pelicans"
          ],
          [
           "Bulls"
          ],
          [
           "Mavericks"
          ],
          [
           "Nuggets"
          ],
          [
           "Warriors"
          ],
          [
           "Rockets"
          ],
          [
           "Clippers"
          ],
          [
           "Lakers"
          ],
          [
           "Heat"
          ],
          [
           "Bucks"
          ],
          [
           "Timberwolves"
          ],
          [
           "Nets"
          ],
          [
           "Knicks"
          ],
          [
           "Magic"
          ],
          [
           "Pacers"
          ],
          [
           "76ers"
          ],
          [
           "Suns"
          ],
          [
           "Trail Blazers"
          ],
          [
           "Kings"
          ],
          [
           "Spurs"
          ],
          [
           "Thunder"
          ],
          [
           "Raptors"
          ],
          [
           "Jazz"
          ],
          [
           "Grizzlies"
          ],
          [
           "Wizards"
          ],
          [
           "Pistons"
          ],
          [
           "Hawks"
          ],
          [
           "Celtics"
          ],
          [
           "Cavaliers"
          ],
          [
           "Pelicans"
          ],
          [
           "Bulls"
          ],
          [
           "Mavericks"
          ],
          [
           "Nuggets"
          ],
          [
           "Warriors"
          ],
          [
           "Rockets"
          ],
          [
           "Clippers"
          ],
          [
           "Lakers"
          ],
          [
           "Heat"
          ],
          [
           "Bucks"
          ],
          [
           "Timberwolves"
          ],
          [
           "Nets"
          ],
          [
           "Knicks"
          ],
          [
           "Magic"
          ],
          [
           "Pacers"
          ],
          [
           "76ers"
          ],
          [
           "Suns"
          ],
          [
           "Trail Blazers"
          ],
          [
           "Kings"
          ],
          [
           "Spurs"
          ],
          [
           "Thunder"
          ],
          [
           "Raptors"
          ],
          [
           "Jazz"
          ],
          [
           "Grizzlies"
          ],
          [
           "Wizards"
          ],
          [
           "Pistons"
          ],
          [
           "Hornets"
          ],
          [
           "Hawks"
          ],
          [
           "Celtics"
          ],
          [
           "Cavaliers"
          ],
          [
           "Pelicans"
          ],
          [
           "Bulls"
          ],
          [
           "Mavericks"
          ],
          [
           "Nuggets"
          ],
          [
           "Warriors"
          ],
          [
           "Rockets"
          ],
          [
           "Clippers"
          ],
          [
           "Lakers"
          ],
          [
           "Heat"
          ],
          [
           "Bucks"
          ],
          [
           "Timberwolves"
          ],
          [
           "Nets"
          ],
          [
           "Knicks"
          ],
          [
           "Magic"
          ],
          [
           "Pacers"
          ],
          [
           "76ers"
          ],
          [
           "Suns"
          ],
          [
           "Trail Blazers"
          ],
          [
           "Kings"
          ],
          [
           "Spurs"
          ],
          [
           "Thunder"
          ],
          [
           "Raptors"
          ],
          [
           "Jazz"
          ],
          [
           "Grizzlies"
          ],
          [
           "Wizards"
          ],
          [
           "Pistons"
          ],
          [
           "Hornets"
          ],
          [
           "Hawks"
          ],
          [
           "Celtics"
          ],
          [
           "Cavaliers"
          ],
          [
           "Pelicans"
          ],
          [
           "Bulls"
          ],
          [
           "Mavericks"
          ],
          [
           "Nuggets"
          ],
          [
           "Warriors"
          ],
          [
           "Rockets"
          ],
          [
           "Clippers"
          ],
          [
           "Lakers"
          ],
          [
           "Heat"
          ],
          [
           "Bucks"
          ],
          [
           "Timberwolves"
          ],
          [
           "Nets"
          ],
          [
           "Knicks"
          ],
          [
           "Magic"
          ],
          [
           "Pacers"
          ],
          [
           "76ers"
          ],
          [
           "Suns"
          ],
          [
           "Trail Blazers"
          ],
          [
           "Kings"
          ],
          [
           "Spurs"
          ],
          [
           "Thunder"
          ],
          [
           "Raptors"
          ],
          [
           "Jazz"
          ],
          [
           "Grizzlies"
          ],
          [
           "Wizards"
          ],
          [
           "Pistons"
          ],
          [
           "Hornets"
          ],
          [
           "Hawks"
          ],
          [
           "Celtics"
          ],
          [
           "Cavaliers"
          ],
          [
           "Pelicans"
          ],
          [
           "Bulls"
          ],
          [
           "Mavericks"
          ],
          [
           "Nuggets"
          ],
          [
           "Warriors"
          ],
          [
           "Rockets"
          ],
          [
           "Clippers"
          ],
          [
           "Lakers"
          ],
          [
           "Heat"
          ],
          [
           "Bucks"
          ],
          [
           "Timberwolves"
          ],
          [
           "Nets"
          ],
          [
           "Knicks"
          ],
          [
           "Magic"
          ],
          [
           "Pacers"
          ],
          [
           "76ers"
          ],
          [
           "Suns"
          ],
          [
           "Trail Blazers"
          ],
          [
           "Kings"
          ],
          [
           "Spurs"
          ],
          [
           "Thunder"
          ],
          [
           "Raptors"
          ],
          [
           "Jazz"
          ],
          [
           "Grizzlies"
          ],
          [
           "Wizards"
          ],
          [
           "Pistons"
          ],
          [
           "Hornets"
          ],
          [
           "Hawks"
          ],
          [
           "Celtics"
          ],
          [
           "Cavaliers"
          ],
          [
           "Pelicans"
          ],
          [
           "Bulls"
          ],
          [
           "Mavericks"
          ],
          [
           "Nuggets"
          ],
          [
           "Warriors"
          ],
          [
           "Rockets"
          ],
          [
           "Clippers"
          ],
          [
           "Lakers"
          ],
          [
           "Heat"
          ],
          [
           "Bucks"
          ],
          [
           "Timberwolves"
          ],
          [
           "Nets"
          ],
          [
           "Knicks"
          ],
          [
           "Magic"
          ],
          [
           "Pacers"
          ],
          [
           "76ers"
          ],
          [
           "Suns"
          ],
          [
           "Trail Blazers"
          ],
          [
           "Kings"
          ],
          [
           "Spurs"
          ],
          [
           "Thunder"
          ],
          [
           "Raptors"
          ],
          [
           "Jazz"
          ],
          [
           "Grizzlies"
          ],
          [
           "Wizards"
          ],
          [
           "Pistons"
          ],
          [
           "Hornets"
          ],
          [
           "Hawks"
          ],
          [
           "Celtics"
          ],
          [
           "Cavaliers"
          ],
          [
           "Pelicans"
          ],
          [
           "Bulls"
          ],
          [
           "Mavericks"
          ],
          [
           "Nuggets"
          ],
          [
           "Warriors"
          ],
          [
           "Rockets"
          ],
          [
           "Clippers"
          ],
          [
           "Lakers"
          ],
          [
           "Heat"
          ],
          [
           "Bucks"
          ],
          [
           "Timberwolves"
          ],
          [
           "Nets"
          ],
          [
           "Knicks"
          ],
          [
           "Magic"
          ],
          [
           "Pacers"
          ],
          [
           "76ers"
          ],
          [
           "Suns"
          ],
          [
           "Trail Blazers"
          ],
          [
           "Kings"
          ],
          [
           "Spurs"
          ],
          [
           "Thunder"
          ],
          [
           "Raptors"
          ],
          [
           "Jazz"
          ],
          [
           "Grizzlies"
          ],
          [
           "Wizards"
          ],
          [
           "Pistons"
          ],
          [
           "Hornets"
          ],
          [
           "Hawks"
          ],
          [
           "Celtics"
          ],
          [
           "Cavaliers"
          ],
          [
           "Pelicans"
          ],
          [
           "Bulls"
          ],
          [
           "Mavericks"
          ],
          [
           "Nuggets"
          ],
          [
           "Warriors"
          ],
          [
           "Rockets"
          ],
          [
           "Clippers"
          ],
          [
           "Lakers"
          ],
          [
           "Heat"
          ],
          [
           "Bucks"
          ],
          [
           "Timberwolves"
          ],
          [
           "Nets"
          ],
          [
           "Knicks"
          ],
          [
           "Magic"
          ],
          [
           "Pacers"
          ],
          [
           "76ers"
          ],
          [
           "Suns"
          ],
          [
           "Trail Blazers"
          ],
          [
           "Kings"
          ],
          [
           "Spurs"
          ],
          [
           "Thunder"
          ],
          [
           "Raptors"
          ],
          [
           "Jazz"
          ],
          [
           "Grizzlies"
          ],
          [
           "Wizards"
          ],
          [
           "Pistons"
          ],
          [
           "Hornets"
          ],
          [
           "Hawks"
          ],
          [
           "Celtics"
          ],
          [
           "Cavaliers"
          ],
          [
           "Pelicans"
          ],
          [
           "Bulls"
          ],
          [
           "Mavericks"
          ],
          [
           "Nuggets"
          ],
          [
           "Warriors"
          ],
          [
           "Rockets"
          ],
          [
           "Clippers"
          ],
          [
           "Lakers"
          ],
          [
           "Heat"
          ],
          [
           "Bucks"
          ],
          [
           "Timberwolves"
          ],
          [
           "Nets"
          ],
          [
           "Knicks"
          ],
          [
           "Magic"
          ],
          [
           "Pacers"
          ],
          [
           "76ers"
          ],
          [
           "Suns"
          ],
          [
           "Trail Blazers"
          ],
          [
           "Kings"
          ],
          [
           "Spurs"
          ],
          [
           "Thunder"
          ],
          [
           "Raptors"
          ],
          [
           "Jazz"
          ],
          [
           "Grizzlies"
          ],
          [
           "Wizards"
          ],
          [
           "Pistons"
          ],
          [
           "Hornets"
          ],
          [
           "Hawks"
          ],
          [
           "Celtics"
          ],
          [
           "Cavaliers"
          ],
          [
           "Pelicans"
          ],
          [
           "Bulls"
          ],
          [
           "Mavericks"
          ],
          [
           "Nuggets"
          ],
          [
           "Warriors"
          ],
          [
           "Rockets"
          ],
          [
           "Clippers"
          ],
          [
           "Lakers"
          ],
          [
           "Heat"
          ],
          [
           "Bucks"
          ],
          [
           "Timberwolves"
          ],
          [
           "Nets"
          ],
          [
           "Knicks"
          ],
          [
           "Magic"
          ],
          [
           "Pacers"
          ],
          [
           "76ers"
          ],
          [
           "Suns"
          ],
          [
           "Trail Blazers"
          ],
          [
           "Kings"
          ],
          [
           "Spurs"
          ],
          [
           "Thunder"
          ],
          [
           "Raptors"
          ],
          [
           "Jazz"
          ],
          [
           "Grizzlies"
          ],
          [
           "Wizards"
          ],
          [
           "Pistons"
          ],
          [
           "Hornets"
          ],
          [
           "Hawks"
          ],
          [
           "Celtics"
          ],
          [
           "Cavaliers"
          ],
          [
           "Pelicans"
          ],
          [
           "Bulls"
          ],
          [
           "Mavericks"
          ],
          [
           "Nuggets"
          ],
          [
           "Warriors"
          ],
          [
           "Rockets"
          ],
          [
           "Clippers"
          ],
          [
           "Lakers"
          ],
          [
           "Heat"
          ],
          [
           "Bucks"
          ],
          [
           "Timberwolves"
          ],
          [
           "Nets"
          ],
          [
           "Knicks"
          ],
          [
           "Magic"
          ],
          [
           "Pacers"
          ],
          [
           "76ers"
          ],
          [
           "Suns"
          ],
          [
           "Trail Blazers"
          ],
          [
           "Kings"
          ],
          [
           "Spurs"
          ],
          [
           "Thunder"
          ],
          [
           "Raptors"
          ],
          [
           "Jazz"
          ],
          [
           "Grizzlies"
          ],
          [
           "Wizards"
          ],
          [
           "Pistons"
          ],
          [
           "Hornets"
          ],
          [
           "Hawks"
          ],
          [
           "Celtics"
          ],
          [
           "Cavaliers"
          ],
          [
           "Pelicans"
          ],
          [
           "Bulls"
          ],
          [
           "Mavericks"
          ],
          [
           "Nuggets"
          ],
          [
           "Warriors"
          ],
          [
           "Rockets"
          ],
          [
           "Clippers"
          ],
          [
           "Lakers"
          ],
          [
           "Heat"
          ],
          [
           "Bucks"
          ],
          [
           "Timberwolves"
          ],
          [
           "Nets"
          ],
          [
           "Knicks"
          ],
          [
           "Magic"
          ],
          [
           "Pacers"
          ],
          [
           "76ers"
          ],
          [
           "Suns"
          ],
          [
           "Trail Blazers"
          ],
          [
           "Kings"
          ],
          [
           "Spurs"
          ],
          [
           "Thunder"
          ],
          [
           "Raptors"
          ],
          [
           "Jazz"
          ],
          [
           "Grizzlies"
          ],
          [
           "Wizards"
          ],
          [
           "Pistons"
          ],
          [
           "Hornets"
          ],
          [
           "Hawks"
          ],
          [
           "Celtics"
          ],
          [
           "Cavaliers"
          ],
          [
           "Pelicans"
          ],
          [
           "Bulls"
          ],
          [
           "Mavericks"
          ],
          [
           "Nuggets"
          ],
          [
           "Warriors"
          ],
          [
           "Rockets"
          ],
          [
           "Clippers"
          ],
          [
           "Lakers"
          ],
          [
           "Heat"
          ],
          [
           "Bucks"
          ],
          [
           "Timberwolves"
          ],
          [
           "Nets"
          ],
          [
           "Knicks"
          ],
          [
           "Magic"
          ],
          [
           "Pacers"
          ],
          [
           "76ers"
          ],
          [
           "Suns"
          ],
          [
           "Trail Blazers"
          ],
          [
           "Kings"
          ],
          [
           "Spurs"
          ],
          [
           "Thunder"
          ],
          [
           "Raptors"
          ],
          [
           "Jazz"
          ],
          [
           "Grizzlies"
          ],
          [
           "Wizards"
          ],
          [
           "Pistons"
          ],
          [
           "Hornets"
          ],
          [
           "Hawks"
          ],
          [
           "Celtics"
          ],
          [
           "Cavaliers"
          ],
          [
           "Pelicans"
          ],
          [
           "Bulls"
          ],
          [
           "Mavericks"
          ],
          [
           "Nuggets"
          ],
          [
           "Warriors"
          ],
          [
           "Rockets"
          ],
          [
           "Clippers"
          ],
          [
           "Lakers"
          ],
          [
           "Heat"
          ],
          [
           "Bucks"
          ],
          [
           "Timberwolves"
          ],
          [
           "Nets"
          ],
          [
           "Knicks"
          ],
          [
           "Magic"
          ],
          [
           "Pacers"
          ],
          [
           "76ers"
          ],
          [
           "Suns"
          ],
          [
           "Trail Blazers"
          ],
          [
           "Kings"
          ],
          [
           "Spurs"
          ],
          [
           "Thunder"
          ],
          [
           "Raptors"
          ],
          [
           "Jazz"
          ],
          [
           "Grizzlies"
          ],
          [
           "Wizards"
          ],
          [
           "Pistons"
          ],
          [
           "Hornets"
          ],
          [
           "Hawks"
          ],
          [
           "Celtics"
          ],
          [
           "Cavaliers"
          ],
          [
           "Pelicans"
          ],
          [
           "Bulls"
          ],
          [
           "Mavericks"
          ],
          [
           "Nuggets"
          ],
          [
           "Warriors"
          ],
          [
           "Rockets"
          ],
          [
           "Clippers"
          ],
          [
           "Lakers"
          ],
          [
           "Heat"
          ],
          [
           "Bucks"
          ],
          [
           "Timberwolves"
          ],
          [
           "Nets"
          ],
          [
           "Knicks"
          ],
          [
           "Magic"
          ],
          [
           "Pacers"
          ],
          [
           "76ers"
          ],
          [
           "Suns"
          ],
          [
           "Trail Blazers"
          ],
          [
           "Kings"
          ],
          [
           "Spurs"
          ],
          [
           "Thunder"
          ],
          [
           "Raptors"
          ],
          [
           "Jazz"
          ],
          [
           "Grizzlies"
          ],
          [
           "Wizards"
          ],
          [
           "Pistons"
          ],
          [
           "Hornets"
          ],
          [
           "Hawks"
          ],
          [
           "Celtics"
          ],
          [
           "Cavaliers"
          ],
          [
           "Pelicans"
          ],
          [
           "Bulls"
          ],
          [
           "Mavericks"
          ],
          [
           "Nuggets"
          ],
          [
           "Warriors"
          ],
          [
           "Rockets"
          ],
          [
           "Clippers"
          ],
          [
           "Lakers"
          ],
          [
           "Heat"
          ],
          [
           "Bucks"
          ],
          [
           "Timberwolves"
          ],
          [
           "Nets"
          ],
          [
           "Knicks"
          ],
          [
           "Magic"
          ],
          [
           "Pacers"
          ],
          [
           "76ers"
          ],
          [
           "Suns"
          ],
          [
           "Trail Blazers"
          ],
          [
           "Kings"
          ],
          [
           "Spurs"
          ],
          [
           "Thunder"
          ],
          [
           "Raptors"
          ],
          [
           "Jazz"
          ],
          [
           "Grizzlies"
          ],
          [
           "Wizards"
          ],
          [
           "Pistons"
          ],
          [
           "Hornets"
          ],
          [
           "Hawks"
          ],
          [
           "Celtics"
          ],
          [
           "Cavaliers"
          ],
          [
           "Pelicans"
          ],
          [
           "Bulls"
          ],
          [
           "Mavericks"
          ],
          [
           "Nuggets"
          ],
          [
           "Warriors"
          ],
          [
           "Rockets"
          ],
          [
           "Clippers"
          ],
          [
           "Lakers"
          ],
          [
           "Heat"
          ],
          [
           "Bucks"
          ],
          [
           "Timberwolves"
          ],
          [
           "Nets"
          ],
          [
           "Knicks"
          ],
          [
           "Magic"
          ],
          [
           "Pacers"
          ],
          [
           "76ers"
          ],
          [
           "Suns"
          ],
          [
           "Trail Blazers"
          ],
          [
           "Kings"
          ],
          [
           "Spurs"
          ],
          [
           "Thunder"
          ],
          [
           "Raptors"
          ],
          [
           "Jazz"
          ],
          [
           "Grizzlies"
          ],
          [
           "Wizards"
          ],
          [
           "Pistons"
          ],
          [
           "Hornets"
          ],
          [
           "Hawks"
          ],
          [
           "Celtics"
          ],
          [
           "Cavaliers"
          ],
          [
           "Pelicans"
          ],
          [
           "Bulls"
          ],
          [
           "Mavericks"
          ],
          [
           "Nuggets"
          ],
          [
           "Warriors"
          ],
          [
           "Rockets"
          ],
          [
           "Clippers"
          ],
          [
           "Lakers"
          ],
          [
           "Heat"
          ],
          [
           "Bucks"
          ],
          [
           "Timberwolves"
          ],
          [
           "Nets"
          ],
          [
           "Knicks"
          ],
          [
           "Magic"
          ],
          [
           "Pacers"
          ],
          [
           "76ers"
          ],
          [
           "Suns"
          ],
          [
           "Trail Blazers"
          ],
          [
           "Kings"
          ],
          [
           "Spurs"
          ],
          [
           "Thunder"
          ],
          [
           "Raptors"
          ],
          [
           "Jazz"
          ],
          [
           "Grizzlies"
          ],
          [
           "Wizards"
          ],
          [
           "Pistons"
          ],
          [
           "Hornets"
          ]
         ],
         "hovertemplate": "Lieu de jeu=home<br>Saison=%{x}<br>Pourcentage de victoires=%{y}<br>Équipe=%{customdata[0]}<extra></extra>",
         "legendgroup": "home",
         "marker": {
          "color": "#636efa",
          "symbol": "circle"
         },
         "mode": "markers",
         "name": "home",
         "showlegend": true,
         "type": "scattergl",
         "x": [
          1946,
          1946,
          1946,
          1946,
          1946,
          1946,
          1946,
          1946,
          1946,
          1946,
          1946,
          1947,
          1947,
          1947,
          1947,
          1947,
          1947,
          1947,
          1947,
          1948,
          1948,
          1948,
          1948,
          1948,
          1948,
          1948,
          1948,
          1948,
          1948,
          1948,
          1948,
          1949,
          1949,
          1949,
          1949,
          1949,
          1949,
          1949,
          1949,
          1949,
          1949,
          1949,
          1949,
          1949,
          1949,
          1949,
          1949,
          1949,
          1950,
          1950,
          1950,
          1950,
          1950,
          1950,
          1950,
          1950,
          1950,
          1950,
          1950,
          1951,
          1951,
          1951,
          1951,
          1951,
          1951,
          1951,
          1951,
          1951,
          1951,
          1952,
          1952,
          1952,
          1952,
          1952,
          1952,
          1952,
          1952,
          1952,
          1952,
          1953,
          1953,
          1953,
          1953,
          1953,
          1953,
          1953,
          1953,
          1953,
          1954,
          1954,
          1954,
          1954,
          1954,
          1954,
          1954,
          1954,
          1955,
          1955,
          1955,
          1955,
          1955,
          1955,
          1955,
          1955,
          1956,
          1956,
          1956,
          1956,
          1956,
          1956,
          1956,
          1956,
          1957,
          1957,
          1957,
          1957,
          1957,
          1957,
          1957,
          1957,
          1958,
          1958,
          1958,
          1958,
          1958,
          1958,
          1958,
          1958,
          1959,
          1959,
          1959,
          1959,
          1959,
          1959,
          1959,
          1959,
          1960,
          1960,
          1960,
          1960,
          1960,
          1960,
          1960,
          1960,
          1961,
          1961,
          1961,
          1961,
          1961,
          1961,
          1961,
          1961,
          1961,
          1962,
          1962,
          1962,
          1962,
          1962,
          1962,
          1962,
          1962,
          1962,
          1963,
          1963,
          1963,
          1963,
          1963,
          1963,
          1963,
          1963,
          1963,
          1964,
          1964,
          1964,
          1964,
          1964,
          1964,
          1964,
          1964,
          1964,
          1965,
          1965,
          1965,
          1965,
          1965,
          1965,
          1965,
          1965,
          1965,
          1966,
          1966,
          1966,
          1966,
          1966,
          1966,
          1966,
          1966,
          1966,
          1966,
          1967,
          1967,
          1967,
          1967,
          1967,
          1967,
          1967,
          1967,
          1967,
          1967,
          1967,
          1967,
          1968,
          1968,
          1968,
          1968,
          1968,
          1968,
          1968,
          1968,
          1968,
          1968,
          1968,
          1968,
          1968,
          1968,
          1969,
          1969,
          1969,
          1969,
          1969,
          1969,
          1969,
          1969,
          1969,
          1969,
          1969,
          1969,
          1969,
          1969,
          1970,
          1970,
          1970,
          1970,
          1970,
          1970,
          1970,
          1970,
          1970,
          1970,
          1970,
          1970,
          1970,
          1970,
          1970,
          1970,
          1970,
          1971,
          1971,
          1971,
          1971,
          1971,
          1971,
          1971,
          1971,
          1971,
          1971,
          1971,
          1971,
          1971,
          1971,
          1971,
          1971,
          1971,
          1972,
          1972,
          1972,
          1972,
          1972,
          1972,
          1972,
          1972,
          1972,
          1972,
          1972,
          1972,
          1972,
          1972,
          1972,
          1972,
          1972,
          1973,
          1973,
          1973,
          1973,
          1973,
          1973,
          1973,
          1973,
          1973,
          1973,
          1973,
          1973,
          1973,
          1973,
          1973,
          1973,
          1973,
          1974,
          1974,
          1974,
          1974,
          1974,
          1974,
          1974,
          1974,
          1974,
          1974,
          1974,
          1974,
          1974,
          1974,
          1974,
          1974,
          1974,
          1974,
          1975,
          1975,
          1975,
          1975,
          1975,
          1975,
          1975,
          1975,
          1975,
          1975,
          1975,
          1975,
          1975,
          1975,
          1975,
          1975,
          1975,
          1975,
          1976,
          1976,
          1976,
          1976,
          1976,
          1976,
          1976,
          1976,
          1976,
          1976,
          1976,
          1976,
          1976,
          1976,
          1976,
          1976,
          1976,
          1976,
          1976,
          1976,
          1976,
          1976,
          1977,
          1977,
          1977,
          1977,
          1977,
          1977,
          1977,
          1977,
          1977,
          1977,
          1977,
          1977,
          1977,
          1977,
          1977,
          1977,
          1977,
          1977,
          1977,
          1977,
          1977,
          1977,
          1978,
          1978,
          1978,
          1978,
          1978,
          1978,
          1978,
          1978,
          1978,
          1978,
          1978,
          1978,
          1978,
          1978,
          1978,
          1978,
          1978,
          1978,
          1978,
          1978,
          1978,
          1978,
          1979,
          1979,
          1979,
          1979,
          1979,
          1979,
          1979,
          1979,
          1979,
          1979,
          1979,
          1979,
          1979,
          1979,
          1979,
          1979,
          1979,
          1979,
          1979,
          1979,
          1979,
          1979,
          1980,
          1980,
          1980,
          1980,
          1980,
          1980,
          1980,
          1980,
          1980,
          1980,
          1980,
          1980,
          1980,
          1980,
          1980,
          1980,
          1980,
          1980,
          1980,
          1980,
          1980,
          1980,
          1980,
          1981,
          1981,
          1981,
          1981,
          1981,
          1981,
          1981,
          1981,
          1981,
          1981,
          1981,
          1981,
          1981,
          1981,
          1981,
          1981,
          1981,
          1981,
          1981,
          1981,
          1981,
          1981,
          1981,
          1982,
          1982,
          1982,
          1982,
          1982,
          1982,
          1982,
          1982,
          1982,
          1982,
          1982,
          1982,
          1982,
          1982,
          1982,
          1982,
          1982,
          1982,
          1982,
          1982,
          1982,
          1982,
          1982,
          1983,
          1983,
          1983,
          1983,
          1983,
          1983,
          1983,
          1983,
          1983,
          1983,
          1983,
          1983,
          1983,
          1983,
          1983,
          1983,
          1983,
          1983,
          1983,
          1983,
          1983,
          1983,
          1983,
          1984,
          1984,
          1984,
          1984,
          1984,
          1984,
          1984,
          1984,
          1984,
          1984,
          1984,
          1984,
          1984,
          1984,
          1984,
          1984,
          1984,
          1984,
          1984,
          1984,
          1984,
          1984,
          1984,
          1985,
          1985,
          1985,
          1985,
          1985,
          1985,
          1985,
          1985,
          1985,
          1985,
          1985,
          1985,
          1985,
          1985,
          1985,
          1985,
          1985,
          1985,
          1985,
          1985,
          1985,
          1985,
          1985,
          1986,
          1986,
          1986,
          1986,
          1986,
          1986,
          1986,
          1986,
          1986,
          1986,
          1986,
          1986,
          1986,
          1986,
          1986,
          1986,
          1986,
          1986,
          1986,
          1986,
          1986,
          1986,
          1986,
          1987,
          1987,
          1987,
          1987,
          1987,
          1987,
          1987,
          1987,
          1987,
          1987,
          1987,
          1987,
          1987,
          1987,
          1987,
          1987,
          1987,
          1987,
          1987,
          1987,
          1987,
          1987,
          1987,
          1988,
          1988,
          1988,
          1988,
          1988,
          1988,
          1988,
          1988,
          1988,
          1988,
          1988,
          1988,
          1988,
          1988,
          1988,
          1988,
          1988,
          1988,
          1988,
          1988,
          1988,
          1988,
          1988,
          1988,
          1988,
          1989,
          1989,
          1989,
          1989,
          1989,
          1989,
          1989,
          1989,
          1989,
          1989,
          1989,
          1989,
          1989,
          1989,
          1989,
          1989,
          1989,
          1989,
          1989,
          1989,
          1989,
          1989,
          1989,
          1989,
          1989,
          1989,
          1989,
          1990,
          1990,
          1990,
          1990,
          1990,
          1990,
          1990,
          1990,
          1990,
          1990,
          1990,
          1990,
          1990,
          1990,
          1990,
          1990,
          1990,
          1990,
          1990,
          1990,
          1990,
          1990,
          1990,
          1990,
          1990,
          1990,
          1990,
          1991,
          1991,
          1991,
          1991,
          1991,
          1991,
          1991,
          1991,
          1991,
          1991,
          1991,
          1991,
          1991,
          1991,
          1991,
          1991,
          1991,
          1991,
          1991,
          1991,
          1991,
          1991,
          1991,
          1991,
          1991,
          1991,
          1991,
          1992,
          1992,
          1992,
          1992,
          1992,
          1992,
          1992,
          1992,
          1992,
          1992,
          1992,
          1992,
          1992,
          1992,
          1992,
          1992,
          1992,
          1992,
          1992,
          1992,
          1992,
          1992,
          1992,
          1992,
          1992,
          1992,
          1992,
          1993,
          1993,
          1993,
          1993,
          1993,
          1993,
          1993,
          1993,
          1993,
          1993,
          1993,
          1993,
          1993,
          1993,
          1993,
          1993,
          1993,
          1993,
          1993,
          1993,
          1993,
          1993,
          1993,
          1993,
          1993,
          1993,
          1993,
          1994,
          1994,
          1994,
          1994,
          1994,
          1994,
          1994,
          1994,
          1994,
          1994,
          1994,
          1994,
          1994,
          1994,
          1994,
          1994,
          1994,
          1994,
          1994,
          1994,
          1994,
          1994,
          1994,
          1994,
          1994,
          1994,
          1994,
          1995,
          1995,
          1995,
          1995,
          1995,
          1995,
          1995,
          1995,
          1995,
          1995,
          1995,
          1995,
          1995,
          1995,
          1995,
          1995,
          1995,
          1995,
          1995,
          1995,
          1995,
          1995,
          1995,
          1995,
          1995,
          1995,
          1995,
          1995,
          1995,
          1996,
          1996,
          1996,
          1996,
          1996,
          1996,
          1996,
          1996,
          1996,
          1996,
          1996,
          1996,
          1996,
          1996,
          1996,
          1996,
          1996,
          1996,
          1996,
          1996,
          1996,
          1996,
          1996,
          1996,
          1996,
          1996,
          1996,
          1996,
          1996,
          1997,
          1997,
          1997,
          1997,
          1997,
          1997,
          1997,
          1997,
          1997,
          1997,
          1997,
          1997,
          1997,
          1997,
          1997,
          1997,
          1997,
          1997,
          1997,
          1997,
          1997,
          1997,
          1997,
          1997,
          1997,
          1997,
          1997,
          1997,
          1997,
          1998,
          1998,
          1998,
          1998,
          1998,
          1998,
          1998,
          1998,
          1998,
          1998,
          1998,
          1998,
          1998,
          1998,
          1998,
          1998,
          1998,
          1998,
          1998,
          1998,
          1998,
          1998,
          1998,
          1998,
          1998,
          1998,
          1998,
          1998,
          1998,
          1999,
          1999,
          1999,
          1999,
          1999,
          1999,
          1999,
          1999,
          1999,
          1999,
          1999,
          1999,
          1999,
          1999,
          1999,
          1999,
          1999,
          1999,
          1999,
          1999,
          1999,
          1999,
          1999,
          1999,
          1999,
          1999,
          1999,
          1999,
          1999,
          2000,
          2000,
          2000,
          2000,
          2000,
          2000,
          2000,
          2000,
          2000,
          2000,
          2000,
          2000,
          2000,
          2000,
          2000,
          2000,
          2000,
          2000,
          2000,
          2000,
          2000,
          2000,
          2000,
          2000,
          2000,
          2000,
          2000,
          2000,
          2000,
          2001,
          2001,
          2001,
          2001,
          2001,
          2001,
          2001,
          2001,
          2001,
          2001,
          2001,
          2001,
          2001,
          2001,
          2001,
          2001,
          2001,
          2001,
          2001,
          2001,
          2001,
          2001,
          2001,
          2001,
          2001,
          2001,
          2001,
          2001,
          2001,
          2002,
          2002,
          2002,
          2002,
          2002,
          2002,
          2002,
          2002,
          2002,
          2002,
          2002,
          2002,
          2002,
          2002,
          2002,
          2002,
          2002,
          2002,
          2002,
          2002,
          2002,
          2002,
          2002,
          2002,
          2002,
          2002,
          2002,
          2002,
          2002,
          2003,
          2003,
          2003,
          2003,
          2003,
          2003,
          2003,
          2003,
          2003,
          2003,
          2003,
          2003,
          2003,
          2003,
          2003,
          2003,
          2003,
          2003,
          2003,
          2003,
          2003,
          2003,
          2003,
          2003,
          2003,
          2003,
          2003,
          2003,
          2003,
          2004,
          2004,
          2004,
          2004,
          2004,
          2004,
          2004,
          2004,
          2004,
          2004,
          2004,
          2004,
          2004,
          2004,
          2004,
          2004,
          2004,
          2004,
          2004,
          2004,
          2004,
          2004,
          2004,
          2004,
          2004,
          2004,
          2004,
          2004,
          2004,
          2004,
          2005,
          2005,
          2005,
          2005,
          2005,
          2005,
          2005,
          2005,
          2005,
          2005,
          2005,
          2005,
          2005,
          2005,
          2005,
          2005,
          2005,
          2005,
          2005,
          2005,
          2005,
          2005,
          2005,
          2005,
          2005,
          2005,
          2005,
          2005,
          2005,
          2005,
          2006,
          2006,
          2006,
          2006,
          2006,
          2006,
          2006,
          2006,
          2006,
          2006,
          2006,
          2006,
          2006,
          2006,
          2006,
          2006,
          2006,
          2006,
          2006,
          2006,
          2006,
          2006,
          2006,
          2006,
          2006,
          2006,
          2006,
          2006,
          2006,
          2006,
          2007,
          2007,
          2007,
          2007,
          2007,
          2007,
          2007,
          2007,
          2007,
          2007,
          2007,
          2007,
          2007,
          2007,
          2007,
          2007,
          2007,
          2007,
          2007,
          2007,
          2007,
          2007,
          2007,
          2007,
          2007,
          2007,
          2007,
          2007,
          2007,
          2007,
          2008,
          2008,
          2008,
          2008,
          2008,
          2008,
          2008,
          2008,
          2008,
          2008,
          2008,
          2008,
          2008,
          2008,
          2008,
          2008,
          2008,
          2008,
          2008,
          2008,
          2008,
          2008,
          2008,
          2008,
          2008,
          2008,
          2008,
          2008,
          2008,
          2008,
          2009,
          2009,
          2009,
          2009,
          2009,
          2009,
          2009,
          2009,
          2009,
          2009,
          2009,
          2009,
          2009,
          2009,
          2009,
          2009,
          2009,
          2009,
          2009,
          2009,
          2009,
          2009,
          2009,
          2009,
          2009,
          2009,
          2009,
          2009,
          2009,
          2009,
          2010,
          2010,
          2010,
          2010,
          2010,
          2010,
          2010,
          2010,
          2010,
          2010,
          2010,
          2010,
          2010,
          2010,
          2010,
          2010,
          2010,
          2010,
          2010,
          2010,
          2010,
          2010,
          2010,
          2010,
          2010,
          2010,
          2010,
          2010,
          2010,
          2010,
          2011,
          2011,
          2011,
          2011,
          2011,
          2011,
          2011,
          2011,
          2011,
          2011,
          2011,
          2011,
          2011,
          2011,
          2011,
          2011,
          2011,
          2011,
          2011,
          2011,
          2011,
          2011,
          2011,
          2011,
          2011,
          2011,
          2011,
          2011,
          2011,
          2011,
          2012,
          2012,
          2012,
          2012,
          2012,
          2012,
          2012,
          2012,
          2012,
          2012,
          2012,
          2012,
          2012,
          2012,
          2012,
          2012,
          2012,
          2012,
          2012,
          2012,
          2012,
          2012,
          2012,
          2012,
          2012,
          2012,
          2012,
          2012,
          2012,
          2012,
          2013,
          2013,
          2013,
          2013,
          2013,
          2013,
          2013,
          2013,
          2013,
          2013,
          2013,
          2013,
          2013,
          2013,
          2013,
          2013,
          2013,
          2013,
          2013,
          2013,
          2013,
          2013,
          2013,
          2013,
          2013,
          2013,
          2013,
          2013,
          2013,
          2013,
          2014,
          2014,
          2014,
          2014,
          2014,
          2014,
          2014,
          2014,
          2014,
          2014,
          2014,
          2014,
          2014,
          2014,
          2014,
          2014,
          2014,
          2014,
          2014,
          2014,
          2014,
          2014,
          2014,
          2014,
          2014,
          2014,
          2014,
          2014,
          2014,
          2014,
          2015,
          2015,
          2015,
          2015,
          2015,
          2015,
          2015,
          2015,
          2015,
          2015,
          2015,
          2015,
          2015,
          2015,
          2015,
          2015,
          2015,
          2015,
          2015,
          2015,
          2015,
          2015,
          2015,
          2015,
          2015,
          2015,
          2015,
          2015,
          2015,
          2015,
          2016,
          2016,
          2016,
          2016,
          2016,
          2016,
          2016,
          2016,
          2016,
          2016,
          2016,
          2016,
          2016,
          2016,
          2016,
          2016,
          2016,
          2016,
          2016,
          2016,
          2016,
          2016,
          2016,
          2016,
          2016,
          2016,
          2016,
          2016,
          2016,
          2016,
          2017,
          2017,
          2017,
          2017,
          2017,
          2017,
          2017,
          2017,
          2017,
          2017,
          2017,
          2017,
          2017,
          2017,
          2017,
          2017,
          2017,
          2017,
          2017,
          2017,
          2017,
          2017,
          2017,
          2017,
          2017,
          2017,
          2017,
          2017,
          2017,
          2017,
          2018,
          2018,
          2018,
          2018,
          2018,
          2018,
          2018,
          2018,
          2018,
          2018,
          2018,
          2018,
          2018,
          2018,
          2018,
          2018,
          2018,
          2018,
          2018,
          2018,
          2018,
          2018,
          2018,
          2018,
          2018,
          2018,
          2018,
          2018,
          2018,
          2018,
          2019,
          2019,
          2019,
          2019,
          2019,
          2019,
          2019,
          2019,
          2019,
          2019,
          2019,
          2019,
          2019,
          2019,
          2019,
          2019,
          2019,
          2019,
          2019,
          2019,
          2019,
          2019,
          2019,
          2019,
          2019,
          2019,
          2019,
          2019,
          2019,
          2019,
          2020,
          2020,
          2020,
          2020,
          2020,
          2020,
          2020,
          2020,
          2020,
          2020,
          2020,
          2020,
          2020,
          2020,
          2020,
          2020,
          2020,
          2020,
          2020,
          2020,
          2020,
          2020,
          2020,
          2020,
          2020,
          2020,
          2020,
          2020,
          2020,
          2020
         ],
         "xaxis": "x",
         "y": [
          70.96774193548387,
          56.666666666666664,
          40,
          36.666666666666664,
          63.33333333333333,
          73.33333333333333,
          50,
          96.66666666666667,
          48.275862068965516,
          78.125,
          62.06896551724138,
          69.56521739130434,
          61.53846153846154,
          10,
          70.83333333333334,
          80,
          50,
          58.333333333333336,
          50,
          60,
          72.41379310344827,
          48.275862068965516,
          24.137931034482758,
          61.29032258064516,
          76.66666666666667,
          60,
          65.51724137931035,
          90.32258064516128,
          61.29032258064516,
          83.33333333333334,
          54.83870967741935,
          73.52941176470588,
          53.125,
          81.25,
          38.46153846153847,
          79.41176470588235,
          54.83870967741935,
          57.57575757575758,
          62.857142857142854,
          53.125,
          63.888888888888886,
          54.83870967741935,
          54.54545454545454,
          97.05882352941177,
          68.75,
          97.2972972972973,
          94.44444444444444,
          82.85714285714286,
          62.5,
          63.63636363636363,
          36.84210526315789,
          63.888888888888886,
          85.29411764705883,
          85.29411764705883,
          91.42857142857143,
          83.33333333333334,
          69.6969696969697,
          85.29411764705883,
          79.41176470588235,
          54.54545454545454,
          83.33333333333334,
          51.85185185185185,
          80,
          79.41176470588235,
          81.81818181818183,
          86.20689655172413,
          80,
          85.29411764705883,
          67.64705882352942,
          39.39393939393939,
          60.526315789473685,
          71.875,
          89.47368421052632,
          47.82608695652174,
          91.42857142857143,
          88.88888888888889,
          94.87179487179486,
          77.5,
          75.67567567567568,
          45.45454545454545,
          51.724137931034484,
          83.78378378378379,
          70.96774193548387,
          86.8421052631579,
          78.37837837837837,
          79.48717948717949,
          76.19047619047619,
          78.37837837837837,
          59.25925925925925,
          83.33333333333334,
          81.25,
          80,
          76.92307692307693,
          75.60975609756098,
          62.5,
          81.57894736842105,
          63.63636363636363,
          78.78787878787878,
          81.57894736842105,
          69.23076923076923,
          54.285714285714285,
          72.97297297297297,
          62.5,
          77.14285714285715,
          72.22222222222221,
          88.57142857142857,
          86.11111111111111,
          75.67567567567568,
          71.05263157894737,
          74.35897435897436,
          68.57142857142857,
          85.29411764705883,
          80,
          88.57142857142857,
          70.27027027027027,
          46.875,
          66.66666666666666,
          84.61538461538461,
          65.71428571428571,
          58.82352941176471,
          92.10526315789474,
          90.2439024390244,
          72.72727272727273,
          77.41935483870968,
          69.44444444444444,
          62.16216216216216,
          45.714285714285715,
          54.054054054054056,
          86.8421052631579,
          94.44444444444444,
          86.04651162790698,
          48.484848484848484,
          45.94594594594595,
          82.5,
          40.54054054054054,
          61.111111111111114,
          87.8048780487805,
          82.5,
          82.5,
          70,
          37.83783783783784,
          73.17073170731707,
          61.111111111111114,
          73.17073170731707,
          56.75675675675676,
          87.17948717948718,
          71.7948717948718,
          87.8048780487805,
          63.41463414634146,
          69.04761904761905,
          68.29268292682927,
          39.473684210526315,
          66.66666666666666,
          82.92682926829268,
          88.09523809523809,
          50,
          82.5,
          41.02564102564102,
          80.95238095238095,
          71.05263157894737,
          55.26315789473685,
          60,
          70.73170731707317,
          90,
          65,
          67.5,
          34.21052631578947,
          59.45945945945946,
          83.72093023255815,
          53.48837209302325,
          42.10526315789473,
          68.18181818181817,
          92.10526315789474,
          27.500000000000004,
          68.29268292682927,
          50,
          70.73170731707317,
          79.48717948717949,
          61.53846153846154,
          52.77777777777778,
          74.35897435897436,
          87.5,
          60.46511627906976,
          74.4186046511628,
          63.1578947368421,
          92.10526315789474,
          82.92682926829268,
          79.06976744186046,
          51.42857142857142,
          69.23076923076923,
          89.47368421052632,
          54.761904761904766,
          72.09302325581395,
          54.761904761904766,
          60.526315789473685,
          93.02325581395348,
          60.46511627906976,
          42.5,
          51.35135135135135,
          82.92682926829268,
          78.57142857142857,
          40.54054054054054,
          65.85365853658537,
          25,
          75,
          56.41025641025641,
          81.3953488372093,
          61.904761904761905,
          39.02439024390244,
          53.65853658536586,
          70.27027027027027,
          70.73170731707317,
          68.42105263157895,
          50,
          53.65853658536586,
          63.63636363636363,
          78.04878048780488,
          46.34146341463415,
          83.33333333333334,
          78.94736842105263,
          29.268292682926827,
          53.48837209302325,
          55.00000000000001,
          78.04878048780488,
          58.536585365853654,
          69.76744186046511,
          50,
          74.35897435897436,
          44.44444444444444,
          57.49999999999999,
          66.66666666666666,
          72.09302325581395,
          74.4186046511628,
          61.904761904761905,
          64.28571428571429,
          57.89473684210527,
          65,
          72.09302325581395,
          51.21951219512195,
          51.21951219512195,
          65,
          26.82926829268293,
          73.80952380952381,
          53.65853658536586,
          60.97560975609756,
          38.095238095238095,
          73.80952380952381,
          92.6829268292683,
          78.04878048780488,
          63.41463414634146,
          66.66666666666666,
          47.61904761904761,
          56.75675675675676,
          67.5,
          63.41463414634146,
          59.523809523809526,
          53.65853658536586,
          78.57142857142857,
          31.70731707317073,
          70.73170731707317,
          73.17073170731707,
          45.23809523809524,
          34.146341463414636,
          87.8048780487805,
          82.92682926829268,
          65.85365853658537,
          39.02439024390244,
          73.17073170731707,
          35,
          55.00000000000001,
          70.73170731707317,
          53.65853658536586,
          39.02439024390244,
          68.29268292682927,
          85.36585365853658,
          48.78048780487805,
          70.73170731707317,
          65.85365853658537,
          51.21951219512195,
          34.146341463414636,
          73.17073170731707,
          85.36585365853658,
          85.36585365853658,
          14.634146341463413,
          53.65853658536586,
          31.70731707317073,
          58.536585365853654,
          39.02439024390244,
          70.73170731707317,
          63.41463414634146,
          56.09756097560976,
          85,
          43.90243902439025,
          78.57142857142857,
          56.09756097560976,
          45.23809523809524,
          65.78947368421053,
          73.17073170731707,
          83.33333333333334,
          68.29268292682927,
          39.02439024390244,
          58.536585365853654,
          53.65853658536586,
          48.78048780487805,
          53.65853658536586,
          76.19047619047619,
          70.73170731707317,
          53.65853658536586,
          68.29268292682927,
          70.73170731707317,
          70.73170731707317,
          75.60975609756098,
          70.73170731707317,
          73.17073170731707,
          51.21951219512195,
          60.97560975609756,
          56.09756097560976,
          48.78048780487805,
          53.65853658536586,
          69.04761904761905,
          70.73170731707317,
          60,
          48.78048780487805,
          87.8048780487805,
          63.41463414634146,
          48.78048780487805,
          75.60975609756098,
          70.73170731707317,
          36.58536585365854,
          87.8048780487805,
          67.5,
          66.66666666666666,
          73.80952380952381,
          53.65853658536586,
          58.536585365853654,
          82.92682926829268,
          65.85365853658537,
          62.5,
          60.97560975609756,
          75.60975609756098,
          53.65853658536586,
          75.60975609756098,
          58.536585365853654,
          46.34146341463415,
          68.29268292682927,
          70.73170731707317,
          75.60975609756098,
          87.8048780487805,
          70.73170731707317,
          82.92682926829268,
          56.09756097560976,
          90.2439024390244,
          58.536585365853654,
          24.390243902439025,
          63.41463414634146,
          60.97560975609756,
          78.04878048780488,
          63.41463414634146,
          85.36585365853658,
          68.29268292682927,
          75.60975609756098,
          65.85365853658537,
          63.41463414634146,
          78.04878048780488,
          73.17073170731707,
          70.73170731707317,
          58.536585365853654,
          65.85365853658537,
          70.73170731707317,
          80.48780487804879,
          73.17073170731707,
          51.21951219512195,
          48.78048780487805,
          70.73170731707317,
          68.29268292682927,
          43.90243902439025,
          70.73170731707317,
          51.21951219512195,
          90.2439024390244,
          82.92682926829268,
          87.8048780487805,
          53.65853658536586,
          78.04878048780488,
          75.60975609756098,
          65.85365853658537,
          70.73170731707317,
          58.536585365853654,
          82.92682926829268,
          51.21951219512195,
          48.78048780487805,
          46.34146341463415,
          70.73170731707317,
          56.09756097560976,
          73.17073170731707,
          70.73170731707317,
          75.60975609756098,
          68.29268292682927,
          60.97560975609756,
          56.09756097560976,
          60.97560975609756,
          75.60975609756098,
          78.04878048780488,
          80.48780487804879,
          78.04878048780488,
          70.73170731707317,
          75.60975609756098,
          53.65853658536586,
          75.60975609756098,
          53.65853658536586,
          78.04878048780488,
          85.36585365853658,
          68.29268292682927,
          51.21951219512195,
          58.536585365853654,
          36.58536585365854,
          70.73170731707317,
          58.536585365853654,
          90.2439024390244,
          70,
          53.65853658536586,
          60.97560975609756,
          63.41463414634146,
          87.8048780487805,
          88.09523809523809,
          63.41463414634146,
          73.17073170731707,
          65.85365853658537,
          80.48780487804879,
          41.46341463414634,
          58.536585365853654,
          31.70731707317073,
          48.78048780487805,
          85.36585365853658,
          48.78048780487805,
          63.41463414634146,
          26.82926829268293,
          56.09756097560976,
          63.41463414634146,
          60.97560975609756,
          53.65853658536586,
          73.17073170731707,
          82.92682926829268,
          39.02439024390244,
          68.29268292682927,
          65.85365853658537,
          90.2439024390244,
          87.8048780487805,
          73.17073170731707,
          58.536585365853654,
          82.92682926829268,
          53.65853658536586,
          48.78048780487805,
          63.41463414634146,
          34.146341463414636,
          58.536585365853654,
          85.36585365853658,
          21.951219512195124,
          53.65853658536586,
          39.02439024390244,
          70.73170731707317,
          68.29268292682927,
          60.97560975609756,
          26.82926829268293,
          73.17073170731707,
          75.60975609756098,
          60.97560975609756,
          46.34146341463415,
          60.97560975609756,
          78.04878048780488,
          75.60975609756098,
          65.85365853658537,
          56.09756097560976,
          70.73170731707317,
          75.60975609756098,
          43.90243902439025,
          53.65853658536586,
          56.09756097560976,
          63.41463414634146,
          80.48780487804879,
          36.58536585365854,
          43.90243902439025,
          56.09756097560976,
          70.73170731707317,
          51.21951219512195,
          21.951219512195124,
          43.90243902439025,
          80.48780487804879,
          75.60975609756098,
          73.17073170731707,
          63.41463414634146,
          34.146341463414636,
          85.36585365853658,
          78.04878048780488,
          75.60975609756098,
          73.17073170731707,
          75.60975609756098,
          70.73170731707317,
          51.21951219512195,
          65.85365853658537,
          56.09756097560976,
          75.60975609756098,
          80.48780487804879,
          56.09756097560976,
          43.90243902439025,
          75.60975609756098,
          65.85365853658537,
          65.85365853658537,
          51.21951219512195,
          60.97560975609756,
          68.29268292682927,
          73.17073170731707,
          70.73170731707317,
          70.73170731707317,
          48.78048780487805,
          78.04878048780488,
          75.60975609756098,
          80.48780487804879,
          63.41463414634146,
          68.29268292682927,
          78.04878048780488,
          75.60975609756098,
          60.97560975609756,
          73.17073170731707,
          46.34146341463415,
          85.36585365853658,
          48.78048780487805,
          63.41463414634146,
          58.536585365853654,
          82.92682926829268,
          41.46341463414634,
          70.73170731707317,
          48.78048780487805,
          87.8048780487805,
          87.8048780487805,
          65.85365853658537,
          46.34146341463415,
          39.02439024390244,
          82.92682926829268,
          63.41463414634146,
          73.17073170731707,
          56.09756097560976,
          73.17073170731707,
          48.78048780487805,
          63.41463414634146,
          68.29268292682927,
          63.41463414634146,
          82.92682926829268,
          97.5609756097561,
          39.02439024390244,
          53.65853658536586,
          63.41463414634146,
          82.92682926829268,
          58.536585365853654,
          87.8048780487805,
          53.65853658536586,
          85.36585365853658,
          80.48780487804879,
          63.41463414634146,
          36.58536585365854,
          46.34146341463415,
          75.60975609756098,
          56.09756097560976,
          65.85365853658537,
          60.97560975609756,
          51.21951219512195,
          58.536585365853654,
          65.85365853658537,
          63.41463414634146,
          75.60975609756098,
          85.36585365853658,
          95.1219512195122,
          60.97560975609756,
          70.73170731707317,
          85.36585365853658,
          65.85365853658537,
          60.97560975609756,
          60.97560975609756,
          21.951219512195124,
          90.2439024390244,
          78.04878048780488,
          46.34146341463415,
          43.90243902439025,
          68.29268292682927,
          68.29268292682927,
          63.41463414634146,
          82.92682926829268,
          48.78048780487805,
          51.21951219512195,
          60.97560975609756,
          75.60975609756098,
          65.85365853658537,
          78.04878048780488,
          73.17073170731707,
          87.8048780487805,
          75.60975609756098,
          73.17073170731707,
          80.48780487804879,
          85.36585365853658,
          39.02439024390244,
          75.60975609756098,
          34.146341463414636,
          87.8048780487805,
          73.17073170731707,
          39.02439024390244,
          70.73170731707317,
          60.97560975609756,
          65.85365853658537,
          53.65853658536586,
          80.48780487804879,
          46.34146341463415,
          56.09756097560976,
          78.04878048780488,
          80.48780487804879,
          60.97560975609756,
          82.92682926829268,
          80.48780487804879,
          78.04878048780488,
          90.2439024390244,
          73.17073170731707,
          58.536585365853654,
          85.36585365853658,
          70.73170731707317,
          75.60975609756098,
          41.46341463414634,
          85.36585365853658,
          29.268292682926827,
          75.60975609756098,
          41.46341463414634,
          85.36585365853658,
          48.78048780487805,
          73.17073170731707,
          85.36585365853658,
          68.29268292682927,
          51.21951219512195,
          43.90243902439025,
          75.60975609756098,
          82.92682926829268,
          73.17073170731707,
          90.2439024390244,
          29.268292682926827,
          60.97560975609756,
          73.17073170731707,
          65.85365853658537,
          87.8048780487805,
          73.17073170731707,
          68.29268292682927,
          65.85365853658537,
          75.60975609756098,
          48.78048780487805,
          90.2439024390244,
          26.82926829268293,
          65.85365853658537,
          41.46341463414634,
          31.70731707317073,
          70.73170731707317,
          29.268292682926827,
          68.29268292682927,
          82.92682926829268,
          78.04878048780488,
          85.36585365853658,
          39.02439024390244,
          82.92682926829268,
          73.17073170731707,
          87.8048780487805,
          48.78048780487805,
          85.36585365853658,
          31.70731707317073,
          70.73170731707317,
          85.36585365853658,
          56.09756097560976,
          85.36585365853658,
          48.78048780487805,
          41.46341463414634,
          73.17073170731707,
          75.60975609756098,
          56.09756097560976,
          80.48780487804879,
          43.90243902439025,
          80.48780487804879,
          51.21951219512195,
          48.78048780487805,
          51.21951219512195,
          58.536585365853654,
          70.73170731707317,
          70.73170731707317,
          78.04878048780488,
          87.8048780487805,
          58.536585365853654,
          80.48780487804879,
          68.29268292682927,
          87.8048780487805,
          51.21951219512195,
          78.04878048780488,
          41.46341463414634,
          56.09756097560976,
          82.92682926829268,
          85.36585365853658,
          87.8048780487805,
          36.58536585365854,
          43.90243902439025,
          75.60975609756098,
          68.29268292682927,
          70.73170731707317,
          58.536585365853654,
          68.29268292682927,
          60.97560975609756,
          21.951219512195124,
          60.97560975609756,
          73.17073170731707,
          31.70731707317073,
          63.41463414634146,
          56.09756097560976,
          87.8048780487805,
          80.48780487804879,
          51.21951219512195,
          75.60975609756098,
          68.29268292682927,
          90.2439024390244,
          34.146341463414636,
          60.97560975609756,
          53.65853658536586,
          60.97560975609756,
          68.29268292682927,
          85.36585365853658,
          75.60975609756098,
          17.073170731707318,
          68.29268292682927,
          46.34146341463415,
          75.60975609756098,
          65.85365853658537,
          48.78048780487805,
          63.41463414634146,
          43.90243902439025,
          26.82926829268293,
          63.41463414634146,
          90.2439024390244,
          65.85365853658537,
          65.85365853658537,
          36.58536585365854,
          85.36585365853658,
          73.17073170731707,
          39.02439024390244,
          75.60975609756098,
          80.48780487804879,
          68.29268292682927,
          36.58536585365854,
          68.29268292682927,
          53.65853658536586,
          87.8048780487805,
          43.90243902439025,
          75.60975609756098,
          75.60975609756098,
          14.634146341463413,
          68.29268292682927,
          70.73170731707317,
          85.36585365853658,
          41.46341463414634,
          51.21951219512195,
          53.65853658536586,
          26.82926829268293,
          31.70731707317073,
          70.73170731707317,
          78.04878048780488,
          75.60975609756098,
          70.73170731707317,
          36.58536585365854,
          87.8048780487805,
          73.17073170731707,
          48.78048780487805,
          78.04878048780488,
          90.2439024390244,
          80.48780487804879,
          41.46341463414634,
          24.390243902439025,
          68.29268292682927,
          58.536585365853654,
          48.78048780487805,
          63.41463414634146,
          68.29268292682927,
          46.34146341463415,
          56.09756097560976,
          36.58536585365854,
          60.97560975609756,
          31.70731707317073,
          70.73170731707317,
          53.65853658536586,
          53.65853658536586,
          31.70731707317073,
          48.78048780487805,
          70.73170731707317,
          95.1219512195122,
          80.48780487804879,
          34.146341463414636,
          78.04878048780488,
          63.41463414634146,
          65.85365853658537,
          80.48780487804879,
          78.04878048780488,
          80.48780487804879,
          31.70731707317073,
          53.65853658536586,
          70.73170731707317,
          63.41463414634146,
          43.90243902439025,
          63.41463414634146,
          95.1219512195122,
          39.02439024390244,
          58.536585365853654,
          56.09756097560976,
          65.85365853658537,
          46.34146341463415,
          73.17073170731707,
          63.41463414634146,
          34.146341463414636,
          41.46341463414634,
          48.78048780487805,
          63.41463414634146,
          90.2439024390244,
          78.04878048780488,
          26.82926829268293,
          60.97560975609756,
          63.41463414634146,
          63.41463414634146,
          80.48780487804879,
          92.6829268292683,
          36.58536585365854,
          82.92682926829268,
          24.390243902439025,
          60.97560975609756,
          73.17073170731707,
          60.97560975609756,
          87.8048780487805,
          26.82926829268293,
          60.97560975609756,
          95.1219512195122,
          34.146341463414636,
          29.268292682926827,
          43.90243902439025,
          73.17073170731707,
          51.21951219512195,
          75.60975609756098,
          70.73170731707317,
          48.78048780487805,
          60.97560975609756,
          39.02439024390244,
          75.60975609756098,
          63.41463414634146,
          51.21951219512195,
          26.82926829268293,
          60.97560975609756,
          70.73170731707317,
          53.65853658536586,
          29.268292682926827,
          75.60975609756098,
          43.90243902439025,
          92.6829268292683,
          19.51219512195122,
          60.97560975609756,
          73.17073170731707,
          73.17073170731707,
          70.73170731707317,
          58.536585365853654,
          65.85365853658537,
          90.2439024390244,
          31.70731707317073,
          21.951219512195124,
          29.268292682926827,
          58.536585365853654,
          26.82926829268293,
          80.48780487804879,
          73.17073170731707,
          51.21951219512195,
          63.41463414634146,
          63.41463414634146,
          68.29268292682927,
          58.536585365853654,
          78.04878048780488,
          46.34146341463415,
          73.17073170731707,
          63.41463414634146,
          51.21951219512195,
          75.60975609756098,
          85.36585365853658,
          21.951219512195124,
          87.8048780487805,
          34.146341463414636,
          58.536585365853654,
          60.97560975609756,
          78.04878048780488,
          64,
          40,
          60,
          32,
          60,
          48,
          52,
          76,
          24,
          72,
          72,
          68,
          72,
          48,
          76,
          84,
          72,
          68,
          60,
          88,
          64,
          84,
          68,
          56.00000000000001,
          88,
          28.000000000000004,
          52,
          68,
          64,
          51.21951219512195,
          63.41463414634146,
          53.65853658536586,
          29.268292682926827,
          53.65853658536586,
          60.97560975609756,
          29.268292682926827,
          53.65853658536586,
          24.390243902439025,
          87.8048780487805,
          80.48780487804879,
          56.09756097560976,
          63.41463414634146,
          53.65853658536586,
          80.48780487804879,
          63.41463414634146,
          87.8048780487805,
          70.73170731707317,
          78.04878048780488,
          73.17073170731707,
          73.17073170731707,
          75.60975609756098,
          58.536585365853654,
          63.41463414634146,
          75.60975609756098,
          29.268292682926827,
          41.46341463414634,
          65.85365853658537,
          73.17073170731707,
          43.90243902439025,
          48.78048780487805,
          48.78048780487805,
          24.390243902439025,
          68.29268292682927,
          70.73170731707317,
          26.82926829268293,
          58.536585365853654,
          53.65853658536586,
          75.60975609756098,
          70.73170731707317,
          75.60975609756098,
          73.17073170731707,
          43.90243902439025,
          73.17073170731707,
          63.41463414634146,
          63.41463414634146,
          70.73170731707317,
          75.60975609756098,
          68.29268292682927,
          80.48780487804879,
          80.48780487804879,
          63.41463414634146,
          65.85365853658537,
          68.29268292682927,
          36.58536585365854,
          29.268292682926827,
          43.90243902439025,
          68.29268292682927,
          56.09756097560976,
          65.85365853658537,
          48.78048780487805,
          34.146341463414636,
          73.17073170731707,
          48.78048780487805,
          34.146341463414636,
          43.90243902439025,
          60.97560975609756,
          82.92682926829268,
          43.90243902439025,
          60.97560975609756,
          70.73170731707317,
          80.48780487804879,
          46.34146341463415,
          65.85365853658537,
          60.97560975609756,
          53.65853658536586,
          56.09756097560976,
          73.17073170731707,
          87.8048780487805,
          78.04878048780488,
          63.41463414634146,
          58.536585365853654,
          60.97560975609756,
          36.58536585365854,
          53.65853658536586,
          63.41463414634146,
          51.21951219512195,
          63.41463414634146,
          60.97560975609756,
          34.146341463414636,
          70.73170731707317,
          65.85365853658537,
          80.48780487804879,
          31.70731707317073,
          58.536585365853654,
          68.29268292682927,
          39.02439024390244,
          73.80952380952381,
          39.02439024390244,
          60.97560975609756,
          80.48780487804879,
          80.48780487804879,
          58.536585365853654,
          63.41463414634146,
          78.04878048780488,
          61.904761904761905,
          73.17073170731707,
          65.85365853658537,
          85.36585365853658,
          80.48780487804879,
          60.97560975609756,
          36.58536585365854,
          70.73170731707317,
          48.78048780487805,
          56.09756097560976,
          73.17073170731707,
          43.90243902439025,
          46.34146341463415,
          56.09756097560976,
          60.97560975609756,
          34.146341463414636,
          87.8048780487805,
          70.73170731707317,
          65.85365853658537,
          65.85365853658537,
          43.90243902439025,
          82.92682926829268,
          70.73170731707317,
          65.85365853658537,
          75.60975609756098,
          68.29268292682927,
          56.09756097560976,
          26.82926829268293,
          82.92682926829268,
          51.21951219512195,
          43.90243902439025,
          60.97560975609756,
          82.92682926829268,
          80.48780487804879,
          51.21951219512195,
          43.90243902439025,
          68.29268292682927,
          75.60975609756098,
          41.46341463414634,
          75.60975609756098,
          21.951219512195124,
          65.85365853658537,
          70.73170731707317,
          26.82926829268293,
          65.85365853658537,
          70.73170731707317,
          75.60975609756098,
          48.78048780487805,
          63.41463414634146,
          65.85365853658537,
          53.65853658536586,
          85.36585365853658,
          56.09756097560976,
          58.536585365853654,
          58.536585365853654,
          53.65853658536586,
          58.536585365853654,
          60.97560975609756,
          60.97560975609756,
          75.60975609756098,
          43.90243902439025,
          73.17073170731707,
          92.6829268292683,
          63.41463414634146,
          53.65853658536586,
          43.90243902439025,
          63.41463414634146,
          70.73170731707317,
          78.04878048780488,
          34.146341463414636,
          43.90243902439025,
          51.21951219512195,
          75.60975609756098,
          58.536585365853654,
          51.21951219512195,
          82.92682926829268,
          63.41463414634146,
          51.21951219512195,
          36.58536585365854,
          65.85365853658537,
          65.85365853658537,
          75.60975609756098,
          60.97560975609756,
          58.536585365853654,
          70.73170731707317,
          36.58536585365854,
          63.41463414634146,
          65.85365853658537,
          56.09756097560976,
          75.60975609756098,
          36.58536585365854,
          65.85365853658537,
          82.92682926829268,
          53.65853658536586,
          36.58536585365854,
          53.65853658536586,
          73.17073170731707,
          65.85365853658537,
          90.2439024390244,
          41.46341463414634,
          43.90243902439025,
          29.268292682926827,
          73.17073170731707,
          58.536585365853654,
          75.60975609756098,
          87.8048780487805,
          56.09756097560976,
          73.17073170731707,
          68.29268292682927,
          60.97560975609756,
          60.97560975609756,
          65.85365853658537,
          43.90243902439025,
          48.78048780487805,
          58.536585365853654,
          46.34146341463415,
          60.97560975609756,
          53.65853658536586,
          51.21951219512195,
          80.48780487804879,
          43.90243902439025,
          48.78048780487805,
          75.60975609756098,
          48.78048780487805,
          73.17073170731707,
          75.60975609756098,
          34.146341463414636,
          63.41463414634146,
          63.41463414634146,
          48.78048780487805,
          60.97560975609756,
          85.71428571428571,
          65.85365853658537,
          73.17073170731707,
          48.78048780487805,
          82.92682926829268,
          80.48780487804879,
          65.85365853658537,
          75.60975609756098,
          31.70731707317073,
          73.17073170731707,
          21.951219512195124,
          46.34146341463415,
          36.58536585365854,
          51.21951219512195,
          36.58536585365854,
          60.97560975609756,
          51.21951219512195,
          53.65853658536586,
          73.17073170731707,
          68.29268292682927,
          63.41463414634146,
          82.92682926829268,
          31.70731707317073,
          60.97560975609756,
          90.2439024390244,
          34.146341463414636,
          60.97560975609756,
          82.92682926829268,
          51.21951219512195,
          75.60975609756098,
          85.36585365853658,
          95.1219512195122,
          68.29268292682927,
          68.29268292682927,
          78.04878048780488,
          80.48780487804879,
          51.21951219512195,
          80.48780487804879,
          26.82926829268293,
          87.8048780487805,
          68.29268292682927,
          53.65853658536586,
          26.82926829268293,
          46.34146341463415,
          48.78048780487805,
          78.04878048780488,
          60.97560975609756,
          58.536585365853654,
          68.29268292682927,
          82.92682926829268,
          26.82926829268293,
          68.29268292682927,
          36.58536585365854,
          43.90243902439025,
          80.48780487804879,
          39.02439024390244,
          31.70731707317073,
          51.21951219512195,
          56.09756097560976,
          82.92682926829268,
          58.536585365853654,
          85.36585365853658,
          58.536585365853654,
          58.536585365853654,
          68.29268292682927,
          82.92682926829268,
          43.90243902439025,
          56.09756097560976,
          51.21951219512195,
          82.92682926829268,
          58.536585365853654,
          68.29268292682927,
          24.390243902439025,
          19.51219512195122,
          43.90243902439025,
          82.92682926829268,
          56.09756097560976,
          29.268292682926827,
          78.04878048780488,
          63.41463414634146,
          43.90243902439025,
          70.73170731707317,
          65.85365853658537,
          60.97560975609756,
          78.04878048780488,
          56.09756097560976,
          36.58536585365854,
          41.46341463414634,
          75.60975609756098,
          58.536585365853654,
          80.48780487804879,
          29.268292682926827,
          68.29268292682927,
          87.8048780487805,
          70.73170731707317,
          80.48780487804879,
          63.41463414634146,
          60.97560975609756,
          56.09756097560976,
          73.17073170731707,
          73.17073170731707,
          53.65853658536586,
          29.268292682926827,
          46.34146341463415,
          56.09756097560976,
          70.73170731707317,
          58.536585365853654,
          63.41463414634146,
          56.09756097560976,
          73.17073170731707,
          26.82926829268293,
          87.8048780487805,
          73.17073170731707,
          39.02439024390244,
          51.21951219512195,
          73.17073170731707,
          48.78048780487805,
          51.21951219512195,
          51.21951219512195,
          69.6969696969697,
          72.72727272727273,
          33.33333333333333,
          33.33333333333333,
          78.78787878787878,
          69.6969696969697,
          60.60606060606061,
          36.36363636363637,
          66.66666666666666,
          72.72727272727273,
          78.78787878787878,
          84.84848484848484,
          51.515151515151516,
          39.39393939393939,
          27.27272727272727,
          66.66666666666666,
          63.63636363636363,
          69.6969696969697,
          57.57575757575758,
          57.57575757575758,
          60.60606060606061,
          48.484848484848484,
          84.84848484848484,
          78.78787878787878,
          39.39393939393939,
          75.75757575757575,
          78.78787878787878,
          33.33333333333333,
          54.54545454545454,
          12.121212121212121,
          60.97560975609756,
          67.5,
          34.146341463414636,
          39.02439024390244,
          58.536585365853654,
          58.536585365853654,
          92.6829268292683,
          68.29268292682927,
          70.73170731707317,
          78.04878048780488,
          70.73170731707317,
          90.2439024390244,
          51.21951219512195,
          48.78048780487805,
          63.41463414634146,
          75.60975609756098,
          29.268292682926827,
          73.17073170731707,
          56.09756097560976,
          41.46341463414634,
          53.65853658536586,
          48.78048780487805,
          85.36585365853658,
          82.92682926829268,
          51.21951219512195,
          73.17073170731707,
          78.04878048780488,
          53.65853658536586,
          43.90243902439025,
          36.58536585365854,
          57.14285714285714,
          37.2093023255814,
          45.23809523809524,
          52.38095238095239,
          64.28571428571429,
          63.41463414634146,
          54.761904761904766,
          64.28571428571429,
          80.48780487804879,
          83.33333333333334,
          33.33333333333333,
          78.57142857142857,
          23.25581395348837,
          58.536585365853654,
          67.3913043478261,
          45.23809523809524,
          46.51162790697674,
          85.71428571428571,
          23.809523809523807,
          61.904761904761905,
          75.60975609756098,
          41.46341463414634,
          78.04878048780488,
          82.92682926829268,
          63.63636363636363,
          39.02439024390244,
          66.66666666666666,
          54.6875,
          43.18181818181818,
          60.46511627906976,
          85.36585365853658,
          51.21951219512195,
          75.60975609756098,
          68.29268292682927,
          65.85365853658537,
          65.85365853658537,
          46.34146341463415,
          95.1219512195122,
          73.17073170731707,
          73.17073170731707,
          29.268292682926827,
          48.78048780487805,
          56.09756097560976,
          21.951219512195124,
          46.34146341463415,
          24.390243902439025,
          31.70731707317073,
          56.09756097560976,
          29.268292682926827,
          53.65853658536586,
          78.04878048780488,
          43.90243902439025,
          80.48780487804879,
          70.73170731707317,
          65.85365853658537,
          51.21951219512195,
          75.60975609756098,
          70.73170731707317,
          43.90243902439025,
          46.34146341463415,
          65.85365853658537,
          68.29268292682927,
          80.48780487804879,
          51.21951219512195,
          63.41463414634146,
          56.09756097560976,
          43.90243902439025,
          95.1219512195122,
          56.09756097560976,
          70.73170731707317,
          29.268292682926827,
          68.29268292682927,
          56.09756097560976,
          34.146341463414636,
          34.146341463414636,
          43.90243902439025,
          56.09756097560976,
          63.41463414634146,
          17.073170731707318,
          34.146341463414636,
          68.29268292682927,
          43.90243902439025,
          97.5609756097561,
          78.04878048780488,
          78.04878048780488,
          58.536585365853654,
          63.41463414634146,
          53.65853658536586,
          63.41463414634146,
          73.17073170731707,
          56.09756097560976,
          73.17073170731707,
          75.60975609756098,
          51.21951219512195,
          60.97560975609756,
          51.21951219512195,
          53.65853658536586,
          87.8048780487805,
          73.17073170731707,
          70.73170731707317,
          41.46341463414634,
          56.09756097560976,
          56.09756097560976,
          48.78048780487805,
          31.70731707317073,
          46.34146341463415,
          39.02439024390244,
          70.73170731707317,
          41.46341463414634,
          36.58536585365854,
          61.904761904761905,
          41.46341463414634,
          75.60975609756098,
          68.29268292682927,
          68.29268292682927,
          70.73170731707317,
          58.536585365853654,
          73.17073170731707,
          58.536585365853654,
          53.65853658536586,
          39.02439024390244,
          65.85365853658537,
          70.73170731707317,
          58.536585365853654,
          41.46341463414634,
          35.714285714285715,
          75.60975609756098,
          70.73170731707317,
          82.92682926829268,
          53.65853658536586,
          48.78048780487805,
          63.41463414634146,
          60.97560975609756,
          73.17073170731707,
          36.58536585365854,
          46.34146341463415,
          41.46341463414634,
          65.85365853658537,
          73.17073170731707,
          24.390243902439025,
          69.76744186046511,
          34.146341463414636,
          80.48780487804879,
          65.85365853658537,
          83.33333333333334,
          68.29268292682927,
          39.02439024390244,
          56.09756097560976,
          60.97560975609756,
          51.21951219512195,
          41.46341463414634,
          68.29268292682927,
          31.70731707317073,
          46.34146341463415,
          21.951219512195124,
          58.536585365853654,
          82.92682926829268,
          73.17073170731707,
          75.60975609756098,
          63.41463414634146,
          53.65853658536586,
          46.34146341463415,
          80.48780487804879,
          60.97560975609756,
          56.09756097560976,
          21.951219512195124,
          60.97560975609756,
          70.73170731707317,
          75.60975609756098,
          29.268292682926827,
          78.04878048780488,
          58.536585365853654,
          78.04878048780488,
          65.85365853658537,
          78.04878048780488,
          70.73170731707317,
          51.21951219512195,
          53.65853658536586,
          63.41463414634146,
          60.97560975609756,
          41.17647058823529,
          72.22222222222221,
          30.555555555555557,
          41.66666666666667,
          41.17647058823529,
          52.63157894736842,
          70.27027027027027,
          23.52941176470588,
          66.66666666666666,
          75,
          71.42857142857143,
          80.55555555555556,
          85.71428571428571,
          25,
          55.55555555555556,
          33.33333333333333,
          51.42857142857142,
          69.44444444444444,
          88.57142857142857,
          43.58974358974359,
          58.333333333333336,
          45.714285714285715,
          55.88235294117647,
          62.16216216216216,
          72.22222222222221,
          65.71428571428571,
          54.054054054054056,
          44.44444444444444,
          33.33333333333333,
          32.25806451612903,
          67.56756756756756,
          58.333333333333336,
          36.11111111111111,
          48.64864864864865,
          41.66666666666667,
          55.55555555555556,
          66.66666666666666,
          52.77777777777778,
          25,
          63.888888888888886,
          48.64864864864865,
          58.333333333333336,
          72.22222222222221,
          36.11111111111111,
          77.77777777777779,
          70.27027027027027,
          30.555555555555557,
          33.33333333333333,
          80.55555555555556,
          63.888888888888886,
          45.94594594594595,
          33.33333333333333,
          38.88888888888889,
          27.77777777777778,
          44.44444444444444,
          75,
          50,
          52.77777777777778,
          36.11111111111111,
          50
         ],
         "yaxis": "y"
        },
        {
         "customdata": [
          [
           null
          ],
          [
           null
          ],
          [
           null
          ],
          [
           null
          ],
          [
           null
          ],
          [
           null
          ],
          [
           null
          ],
          [
           null
          ],
          [
           "Celtics"
          ],
          [
           "Warriors"
          ],
          [
           "Knicks"
          ],
          [
           null
          ],
          [
           null
          ],
          [
           null
          ],
          [
           null
          ],
          [
           null
          ],
          [
           "Celtics"
          ],
          [
           "Warriors"
          ],
          [
           "Knicks"
          ],
          [
           null
          ],
          [
           null
          ],
          [
           null
          ],
          [
           null
          ],
          [
           null
          ],
          [
           null
          ],
          [
           "Celtics"
          ],
          [
           "Warriors"
          ],
          [
           "Lakers"
          ],
          [
           "Knicks"
          ],
          [
           "Kings"
          ],
          [
           "Pistons"
          ],
          [
           null
          ],
          [
           null
          ],
          [
           null
          ],
          [
           null
          ],
          [
           null
          ],
          [
           null
          ],
          [
           null
          ],
          [
           null
          ],
          [
           null
          ],
          [
           "Hawks"
          ],
          [
           "Celtics"
          ],
          [
           "Warriors"
          ],
          [
           "Lakers"
          ],
          [
           "Knicks"
          ],
          [
           "76ers"
          ],
          [
           "Kings"
          ],
          [
           "Pistons"
          ],
          [
           null
          ],
          [
           null
          ],
          [
           null
          ],
          [
           "Hawks"
          ],
          [
           "Celtics"
          ],
          [
           "Warriors"
          ],
          [
           "Lakers"
          ],
          [
           "Knicks"
          ],
          [
           "76ers"
          ],
          [
           "Kings"
          ],
          [
           "Pistons"
          ],
          [
           null
          ],
          [
           null
          ],
          [
           "Hawks"
          ],
          [
           "Celtics"
          ],
          [
           "Warriors"
          ],
          [
           "Lakers"
          ],
          [
           "Knicks"
          ],
          [
           "76ers"
          ],
          [
           "Kings"
          ],
          [
           "Pistons"
          ],
          [
           null
          ],
          [
           null
          ],
          [
           "Hawks"
          ],
          [
           "Celtics"
          ],
          [
           "Warriors"
          ],
          [
           "Lakers"
          ],
          [
           "Knicks"
          ],
          [
           "76ers"
          ],
          [
           "Kings"
          ],
          [
           "Pistons"
          ],
          [
           null
          ],
          [
           "Hawks"
          ],
          [
           "Celtics"
          ],
          [
           "Warriors"
          ],
          [
           "Lakers"
          ],
          [
           "Knicks"
          ],
          [
           "76ers"
          ],
          [
           "Kings"
          ],
          [
           "Pistons"
          ],
          [
           "Hawks"
          ],
          [
           "Celtics"
          ],
          [
           "Warriors"
          ],
          [
           "Lakers"
          ],
          [
           "Knicks"
          ],
          [
           "76ers"
          ],
          [
           "Kings"
          ],
          [
           "Pistons"
          ],
          [
           "Hawks"
          ],
          [
           "Celtics"
          ],
          [
           "Warriors"
          ],
          [
           "Lakers"
          ],
          [
           "Knicks"
          ],
          [
           "76ers"
          ],
          [
           "Kings"
          ],
          [
           "Pistons"
          ],
          [
           "Hawks"
          ],
          [
           "Celtics"
          ],
          [
           "Warriors"
          ],
          [
           "Lakers"
          ],
          [
           "Knicks"
          ],
          [
           "76ers"
          ],
          [
           "Kings"
          ],
          [
           "Pistons"
          ],
          [
           "Hawks"
          ],
          [
           "Celtics"
          ],
          [
           "Warriors"
          ],
          [
           "Lakers"
          ],
          [
           "Knicks"
          ],
          [
           "76ers"
          ],
          [
           "Kings"
          ],
          [
           "Pistons"
          ],
          [
           "Hawks"
          ],
          [
           "Celtics"
          ],
          [
           "Warriors"
          ],
          [
           "Lakers"
          ],
          [
           "Knicks"
          ],
          [
           "76ers"
          ],
          [
           "Kings"
          ],
          [
           "Pistons"
          ],
          [
           "Hawks"
          ],
          [
           "Celtics"
          ],
          [
           "Warriors"
          ],
          [
           "Lakers"
          ],
          [
           "Knicks"
          ],
          [
           "76ers"
          ],
          [
           "Kings"
          ],
          [
           "Pistons"
          ],
          [
           "Hawks"
          ],
          [
           "Celtics"
          ],
          [
           "Warriors"
          ],
          [
           "Lakers"
          ],
          [
           "Knicks"
          ],
          [
           "76ers"
          ],
          [
           "Kings"
          ],
          [
           "Pistons"
          ],
          [
           "Hawks"
          ],
          [
           "Celtics"
          ],
          [
           "Warriors"
          ],
          [
           "Lakers"
          ],
          [
           "Knicks"
          ],
          [
           "76ers"
          ],
          [
           "Kings"
          ],
          [
           "Wizards"
          ],
          [
           "Pistons"
          ],
          [
           "Hawks"
          ],
          [
           "Celtics"
          ],
          [
           "Warriors"
          ],
          [
           "Lakers"
          ],
          [
           "Knicks"
          ],
          [
           "76ers"
          ],
          [
           "Kings"
          ],
          [
           "Wizards"
          ],
          [
           "Pistons"
          ],
          [
           "Hawks"
          ],
          [
           "Celtics"
          ],
          [
           "Warriors"
          ],
          [
           "Lakers"
          ],
          [
           "Knicks"
          ],
          [
           "76ers"
          ],
          [
           "Kings"
          ],
          [
           "Wizards"
          ],
          [
           "Pistons"
          ],
          [
           "Hawks"
          ],
          [
           "Celtics"
          ],
          [
           "Warriors"
          ],
          [
           "Lakers"
          ],
          [
           "Knicks"
          ],
          [
           "76ers"
          ],
          [
           "Kings"
          ],
          [
           "Wizards"
          ],
          [
           "Pistons"
          ],
          [
           "Hawks"
          ],
          [
           "Celtics"
          ],
          [
           "Warriors"
          ],
          [
           "Lakers"
          ],
          [
           "Knicks"
          ],
          [
           "76ers"
          ],
          [
           "Kings"
          ],
          [
           "Wizards"
          ],
          [
           "Pistons"
          ],
          [
           "Hawks"
          ],
          [
           "Celtics"
          ],
          [
           "Bulls"
          ],
          [
           "Warriors"
          ],
          [
           "Lakers"
          ],
          [
           "Knicks"
          ],
          [
           "76ers"
          ],
          [
           "Kings"
          ],
          [
           "Wizards"
          ],
          [
           "Pistons"
          ],
          [
           "Hawks"
          ],
          [
           "Celtics"
          ],
          [
           "Bulls"
          ],
          [
           "Warriors"
          ],
          [
           "Rockets"
          ],
          [
           "Lakers"
          ],
          [
           "Knicks"
          ],
          [
           "76ers"
          ],
          [
           "Kings"
          ],
          [
           "Thunder"
          ],
          [
           "Wizards"
          ],
          [
           "Pistons"
          ],
          [
           "Hawks"
          ],
          [
           "Celtics"
          ],
          [
           "Bulls"
          ],
          [
           "Warriors"
          ],
          [
           "Rockets"
          ],
          [
           "Lakers"
          ],
          [
           "Bucks"
          ],
          [
           "Knicks"
          ],
          [
           "76ers"
          ],
          [
           "Suns"
          ],
          [
           "Kings"
          ],
          [
           "Thunder"
          ],
          [
           "Wizards"
          ],
          [
           "Pistons"
          ],
          [
           "Hawks"
          ],
          [
           "Celtics"
          ],
          [
           "Bulls"
          ],
          [
           "Warriors"
          ],
          [
           "Rockets"
          ],
          [
           "Lakers"
          ],
          [
           "Bucks"
          ],
          [
           "Knicks"
          ],
          [
           "76ers"
          ],
          [
           "Suns"
          ],
          [
           "Kings"
          ],
          [
           "Thunder"
          ],
          [
           "Wizards"
          ],
          [
           "Pistons"
          ],
          [
           "Hawks"
          ],
          [
           "Celtics"
          ],
          [
           "Cavaliers"
          ],
          [
           "Bulls"
          ],
          [
           "Warriors"
          ],
          [
           "Rockets"
          ],
          [
           "Clippers"
          ],
          [
           "Lakers"
          ],
          [
           "Bucks"
          ],
          [
           "Knicks"
          ],
          [
           "76ers"
          ],
          [
           "Suns"
          ],
          [
           "Trail Blazers"
          ],
          [
           "Kings"
          ],
          [
           "Thunder"
          ],
          [
           "Wizards"
          ],
          [
           "Pistons"
          ],
          [
           "Hawks"
          ],
          [
           "Celtics"
          ],
          [
           "Cavaliers"
          ],
          [
           "Bulls"
          ],
          [
           "Warriors"
          ],
          [
           "Rockets"
          ],
          [
           "Clippers"
          ],
          [
           "Lakers"
          ],
          [
           "Bucks"
          ],
          [
           "Knicks"
          ],
          [
           "76ers"
          ],
          [
           "Suns"
          ],
          [
           "Trail Blazers"
          ],
          [
           "Kings"
          ],
          [
           "Thunder"
          ],
          [
           "Wizards"
          ],
          [
           "Pistons"
          ],
          [
           "Hawks"
          ],
          [
           "Celtics"
          ],
          [
           "Cavaliers"
          ],
          [
           "Bulls"
          ],
          [
           "Warriors"
          ],
          [
           "Rockets"
          ],
          [
           "Clippers"
          ],
          [
           "Lakers"
          ],
          [
           "Bucks"
          ],
          [
           "Knicks"
          ],
          [
           "76ers"
          ],
          [
           "Suns"
          ],
          [
           "Trail Blazers"
          ],
          [
           "Kings"
          ],
          [
           "Thunder"
          ],
          [
           "Wizards"
          ],
          [
           "Pistons"
          ],
          [
           "Hawks"
          ],
          [
           "Celtics"
          ],
          [
           "Cavaliers"
          ],
          [
           "Bulls"
          ],
          [
           "Warriors"
          ],
          [
           "Rockets"
          ],
          [
           "Clippers"
          ],
          [
           "Lakers"
          ],
          [
           "Bucks"
          ],
          [
           "Knicks"
          ],
          [
           "76ers"
          ],
          [
           "Suns"
          ],
          [
           "Trail Blazers"
          ],
          [
           "Kings"
          ],
          [
           "Thunder"
          ],
          [
           "Wizards"
          ],
          [
           "Pistons"
          ],
          [
           "Hawks"
          ],
          [
           "Celtics"
          ],
          [
           "Cavaliers"
          ],
          [
           "Bulls"
          ],
          [
           "Warriors"
          ],
          [
           "Rockets"
          ],
          [
           "Clippers"
          ],
          [
           "Lakers"
          ],
          [
           "Bucks"
          ],
          [
           "Knicks"
          ],
          [
           "76ers"
          ],
          [
           "Suns"
          ],
          [
           "Trail Blazers"
          ],
          [
           "Kings"
          ],
          [
           "Thunder"
          ],
          [
           "Jazz"
          ],
          [
           "Wizards"
          ],
          [
           "Pistons"
          ],
          [
           "Hawks"
          ],
          [
           "Celtics"
          ],
          [
           "Cavaliers"
          ],
          [
           "Bulls"
          ],
          [
           "Warriors"
          ],
          [
           "Rockets"
          ],
          [
           "Clippers"
          ],
          [
           "Lakers"
          ],
          [
           "Bucks"
          ],
          [
           "Knicks"
          ],
          [
           "76ers"
          ],
          [
           "Suns"
          ],
          [
           "Trail Blazers"
          ],
          [
           "Kings"
          ],
          [
           "Thunder"
          ],
          [
           "Jazz"
          ],
          [
           "Wizards"
          ],
          [
           "Pistons"
          ],
          [
           "Hawks"
          ],
          [
           "Celtics"
          ],
          [
           "Cavaliers"
          ],
          [
           "Bulls"
          ],
          [
           "Nuggets"
          ],
          [
           "Warriors"
          ],
          [
           "Rockets"
          ],
          [
           "Clippers"
          ],
          [
           "Lakers"
          ],
          [
           "Bucks"
          ],
          [
           "Nets"
          ],
          [
           "Knicks"
          ],
          [
           "Pacers"
          ],
          [
           "76ers"
          ],
          [
           "Suns"
          ],
          [
           "Trail Blazers"
          ],
          [
           "Kings"
          ],
          [
           "Spurs"
          ],
          [
           "Thunder"
          ],
          [
           "Jazz"
          ],
          [
           "Wizards"
          ],
          [
           "Pistons"
          ],
          [
           "Hawks"
          ],
          [
           "Celtics"
          ],
          [
           "Cavaliers"
          ],
          [
           "Bulls"
          ],
          [
           "Nuggets"
          ],
          [
           "Warriors"
          ],
          [
           "Rockets"
          ],
          [
           "Clippers"
          ],
          [
           "Lakers"
          ],
          [
           "Bucks"
          ],
          [
           "Nets"
          ],
          [
           "Knicks"
          ],
          [
           "Pacers"
          ],
          [
           "76ers"
          ],
          [
           "Suns"
          ],
          [
           "Trail Blazers"
          ],
          [
           "Kings"
          ],
          [
           "Spurs"
          ],
          [
           "Thunder"
          ],
          [
           "Jazz"
          ],
          [
           "Wizards"
          ],
          [
           "Pistons"
          ],
          [
           "Hawks"
          ],
          [
           "Celtics"
          ],
          [
           "Cavaliers"
          ],
          [
           "Bulls"
          ],
          [
           "Nuggets"
          ],
          [
           "Warriors"
          ],
          [
           "Rockets"
          ],
          [
           "Clippers"
          ],
          [
           "Lakers"
          ],
          [
           "Bucks"
          ],
          [
           "Nets"
          ],
          [
           "Knicks"
          ],
          [
           "Pacers"
          ],
          [
           "76ers"
          ],
          [
           "Suns"
          ],
          [
           "Trail Blazers"
          ],
          [
           "Kings"
          ],
          [
           "Spurs"
          ],
          [
           "Thunder"
          ],
          [
           "Jazz"
          ],
          [
           "Wizards"
          ],
          [
           "Pistons"
          ],
          [
           "Hawks"
          ],
          [
           "Celtics"
          ],
          [
           "Cavaliers"
          ],
          [
           "Bulls"
          ],
          [
           "Nuggets"
          ],
          [
           "Warriors"
          ],
          [
           "Rockets"
          ],
          [
           "Clippers"
          ],
          [
           "Lakers"
          ],
          [
           "Bucks"
          ],
          [
           "Nets"
          ],
          [
           "Knicks"
          ],
          [
           "Pacers"
          ],
          [
           "76ers"
          ],
          [
           "Suns"
          ],
          [
           "Trail Blazers"
          ],
          [
           "Kings"
          ],
          [
           "Spurs"
          ],
          [
           "Thunder"
          ],
          [
           "Jazz"
          ],
          [
           "Wizards"
          ],
          [
           "Pistons"
          ],
          [
           "Hawks"
          ],
          [
           "Celtics"
          ],
          [
           "Cavaliers"
          ],
          [
           "Bulls"
          ],
          [
           "Mavericks"
          ],
          [
           "Nuggets"
          ],
          [
           "Warriors"
          ],
          [
           "Rockets"
          ],
          [
           "Clippers"
          ],
          [
           "Lakers"
          ],
          [
           "Bucks"
          ],
          [
           "Nets"
          ],
          [
           "Knicks"
          ],
          [
           "Pacers"
          ],
          [
           "76ers"
          ],
          [
           "Suns"
          ],
          [
           "Trail Blazers"
          ],
          [
           "Kings"
          ],
          [
           "Spurs"
          ],
          [
           "Thunder"
          ],
          [
           "Jazz"
          ],
          [
           "Wizards"
          ],
          [
           "Pistons"
          ],
          [
           "Hawks"
          ],
          [
           "Celtics"
          ],
          [
           "Cavaliers"
          ],
          [
           "Bulls"
          ],
          [
           "Mavericks"
          ],
          [
           "Nuggets"
          ],
          [
           "Warriors"
          ],
          [
           "Rockets"
          ],
          [
           "Clippers"
          ],
          [
           "Lakers"
          ],
          [
           "Bucks"
          ],
          [
           "Nets"
          ],
          [
           "Knicks"
          ],
          [
           "Pacers"
          ],
          [
           "76ers"
          ],
          [
           "Suns"
          ],
          [
           "Trail Blazers"
          ],
          [
           "Kings"
          ],
          [
           "Spurs"
          ],
          [
           "Thunder"
          ],
          [
           "Jazz"
          ],
          [
           "Wizards"
          ],
          [
           "Pistons"
          ],
          [
           "Hawks"
          ],
          [
           "Celtics"
          ],
          [
           "Cavaliers"
          ],
          [
           "Bulls"
          ],
          [
           "Mavericks"
          ],
          [
           "Nuggets"
          ],
          [
           "Warriors"
          ],
          [
           "Rockets"
          ],
          [
           "Clippers"
          ],
          [
           "Lakers"
          ],
          [
           "Bucks"
          ],
          [
           "Nets"
          ],
          [
           "Knicks"
          ],
          [
           "Pacers"
          ],
          [
           "76ers"
          ],
          [
           "Suns"
          ],
          [
           "Trail Blazers"
          ],
          [
           "Kings"
          ],
          [
           "Spurs"
          ],
          [
           "Thunder"
          ],
          [
           "Jazz"
          ],
          [
           "Wizards"
          ],
          [
           "Pistons"
          ],
          [
           "Hawks"
          ],
          [
           "Celtics"
          ],
          [
           "Cavaliers"
          ],
          [
           "Bulls"
          ],
          [
           "Mavericks"
          ],
          [
           "Nuggets"
          ],
          [
           "Warriors"
          ],
          [
           "Rockets"
          ],
          [
           "Clippers"
          ],
          [
           "Lakers"
          ],
          [
           "Bucks"
          ],
          [
           "Nets"
          ],
          [
           "Knicks"
          ],
          [
           "Pacers"
          ],
          [
           "76ers"
          ],
          [
           "Suns"
          ],
          [
           "Trail Blazers"
          ],
          [
           "Kings"
          ],
          [
           "Spurs"
          ],
          [
           "Thunder"
          ],
          [
           "Jazz"
          ],
          [
           "Wizards"
          ],
          [
           "Pistons"
          ],
          [
           "Hawks"
          ],
          [
           "Celtics"
          ],
          [
           "Cavaliers"
          ],
          [
           "Bulls"
          ],
          [
           "Mavericks"
          ],
          [
           "Nuggets"
          ],
          [
           "Warriors"
          ],
          [
           "Rockets"
          ],
          [
           "Clippers"
          ],
          [
           "Lakers"
          ],
          [
           "Bucks"
          ],
          [
           "Nets"
          ],
          [
           "Knicks"
          ],
          [
           "Pacers"
          ],
          [
           "76ers"
          ],
          [
           "Suns"
          ],
          [
           "Trail Blazers"
          ],
          [
           "Kings"
          ],
          [
           "Spurs"
          ],
          [
           "Thunder"
          ],
          [
           "Jazz"
          ],
          [
           "Wizards"
          ],
          [
           "Pistons"
          ],
          [
           "Hawks"
          ],
          [
           "Celtics"
          ],
          [
           "Cavaliers"
          ],
          [
           "Bulls"
          ],
          [
           "Mavericks"
          ],
          [
           "Nuggets"
          ],
          [
           "Warriors"
          ],
          [
           "Rockets"
          ],
          [
           "Clippers"
          ],
          [
           "Lakers"
          ],
          [
           "Bucks"
          ],
          [
           "Nets"
          ],
          [
           "Knicks"
          ],
          [
           "Pacers"
          ],
          [
           "76ers"
          ],
          [
           "Suns"
          ],
          [
           "Trail Blazers"
          ],
          [
           "Kings"
          ],
          [
           "Spurs"
          ],
          [
           "Thunder"
          ],
          [
           "Jazz"
          ],
          [
           "Wizards"
          ],
          [
           "Pistons"
          ],
          [
           "Hawks"
          ],
          [
           "Celtics"
          ],
          [
           "Cavaliers"
          ],
          [
           "Bulls"
          ],
          [
           "Mavericks"
          ],
          [
           "Nuggets"
          ],
          [
           "Warriors"
          ],
          [
           "Rockets"
          ],
          [
           "Clippers"
          ],
          [
           "Lakers"
          ],
          [
           "Bucks"
          ],
          [
           "Nets"
          ],
          [
           "Knicks"
          ],
          [
           "Pacers"
          ],
          [
           "76ers"
          ],
          [
           "Suns"
          ],
          [
           "Trail Blazers"
          ],
          [
           "Kings"
          ],
          [
           "Spurs"
          ],
          [
           "Thunder"
          ],
          [
           "Jazz"
          ],
          [
           "Wizards"
          ],
          [
           "Pistons"
          ],
          [
           "Hawks"
          ],
          [
           "Celtics"
          ],
          [
           "Cavaliers"
          ],
          [
           "Bulls"
          ],
          [
           "Mavericks"
          ],
          [
           "Nuggets"
          ],
          [
           "Warriors"
          ],
          [
           "Rockets"
          ],
          [
           "Clippers"
          ],
          [
           "Lakers"
          ],
          [
           "Bucks"
          ],
          [
           "Nets"
          ],
          [
           "Knicks"
          ],
          [
           "Pacers"
          ],
          [
           "76ers"
          ],
          [
           "Suns"
          ],
          [
           "Trail Blazers"
          ],
          [
           "Kings"
          ],
          [
           "Spurs"
          ],
          [
           "Thunder"
          ],
          [
           "Jazz"
          ],
          [
           "Wizards"
          ],
          [
           "Pistons"
          ],
          [
           "Hawks"
          ],
          [
           "Celtics"
          ],
          [
           "Cavaliers"
          ],
          [
           "Bulls"
          ],
          [
           "Mavericks"
          ],
          [
           "Nuggets"
          ],
          [
           "Warriors"
          ],
          [
           "Rockets"
          ],
          [
           "Clippers"
          ],
          [
           "Lakers"
          ],
          [
           "Heat"
          ],
          [
           "Bucks"
          ],
          [
           "Nets"
          ],
          [
           "Knicks"
          ],
          [
           "Pacers"
          ],
          [
           "76ers"
          ],
          [
           "Suns"
          ],
          [
           "Trail Blazers"
          ],
          [
           "Kings"
          ],
          [
           "Spurs"
          ],
          [
           "Thunder"
          ],
          [
           "Jazz"
          ],
          [
           "Wizards"
          ],
          [
           "Pistons"
          ],
          [
           "Hornets"
          ],
          [
           "Hawks"
          ],
          [
           "Celtics"
          ],
          [
           "Cavaliers"
          ],
          [
           "Bulls"
          ],
          [
           "Mavericks"
          ],
          [
           "Nuggets"
          ],
          [
           "Warriors"
          ],
          [
           "Rockets"
          ],
          [
           "Clippers"
          ],
          [
           "Lakers"
          ],
          [
           "Heat"
          ],
          [
           "Bucks"
          ],
          [
           "Timberwolves"
          ],
          [
           "Nets"
          ],
          [
           "Knicks"
          ],
          [
           "Magic"
          ],
          [
           "Pacers"
          ],
          [
           "76ers"
          ],
          [
           "Suns"
          ],
          [
           "Trail Blazers"
          ],
          [
           "Kings"
          ],
          [
           "Spurs"
          ],
          [
           "Thunder"
          ],
          [
           "Jazz"
          ],
          [
           "Wizards"
          ],
          [
           "Pistons"
          ],
          [
           "Hornets"
          ],
          [
           "Hawks"
          ],
          [
           "Celtics"
          ],
          [
           "Cavaliers"
          ],
          [
           "Bulls"
          ],
          [
           "Mavericks"
          ],
          [
           "Nuggets"
          ],
          [
           "Warriors"
          ],
          [
           "Rockets"
          ],
          [
           "Clippers"
          ],
          [
           "Lakers"
          ],
          [
           "Heat"
          ],
          [
           "Bucks"
          ],
          [
           "Timberwolves"
          ],
          [
           "Nets"
          ],
          [
           "Knicks"
          ],
          [
           "Magic"
          ],
          [
           "Pacers"
          ],
          [
           "76ers"
          ],
          [
           "Suns"
          ],
          [
           "Trail Blazers"
          ],
          [
           "Kings"
          ],
          [
           "Spurs"
          ],
          [
           "Thunder"
          ],
          [
           "Jazz"
          ],
          [
           "Wizards"
          ],
          [
           "Pistons"
          ],
          [
           "Hornets"
          ],
          [
           "Hawks"
          ],
          [
           "Celtics"
          ],
          [
           "Cavaliers"
          ],
          [
           "Bulls"
          ],
          [
           "Mavericks"
          ],
          [
           "Nuggets"
          ],
          [
           "Warriors"
          ],
          [
           "Rockets"
          ],
          [
           "Clippers"
          ],
          [
           "Lakers"
          ],
          [
           "Heat"
          ],
          [
           "Bucks"
          ],
          [
           "Timberwolves"
          ],
          [
           "Nets"
          ],
          [
           "Knicks"
          ],
          [
           "Magic"
          ],
          [
           "Pacers"
          ],
          [
           "76ers"
          ],
          [
           "Suns"
          ],
          [
           "Trail Blazers"
          ],
          [
           "Kings"
          ],
          [
           "Spurs"
          ],
          [
           "Thunder"
          ],
          [
           "Jazz"
          ],
          [
           "Wizards"
          ],
          [
           "Pistons"
          ],
          [
           "Hornets"
          ],
          [
           "Hawks"
          ],
          [
           "Celtics"
          ],
          [
           "Cavaliers"
          ],
          [
           "Bulls"
          ],
          [
           "Mavericks"
          ],
          [
           "Nuggets"
          ],
          [
           "Warriors"
          ],
          [
           "Rockets"
          ],
          [
           "Clippers"
          ],
          [
           "Lakers"
          ],
          [
           "Heat"
          ],
          [
           "Bucks"
          ],
          [
           "Timberwolves"
          ],
          [
           "Nets"
          ],
          [
           "Knicks"
          ],
          [
           "Magic"
          ],
          [
           "Pacers"
          ],
          [
           "76ers"
          ],
          [
           "Suns"
          ],
          [
           "Trail Blazers"
          ],
          [
           "Kings"
          ],
          [
           "Spurs"
          ],
          [
           "Thunder"
          ],
          [
           "Jazz"
          ],
          [
           "Wizards"
          ],
          [
           "Pistons"
          ],
          [
           "Hornets"
          ],
          [
           "Hawks"
          ],
          [
           "Celtics"
          ],
          [
           "Cavaliers"
          ],
          [
           "Bulls"
          ],
          [
           "Mavericks"
          ],
          [
           "Nuggets"
          ],
          [
           "Warriors"
          ],
          [
           "Rockets"
          ],
          [
           "Clippers"
          ],
          [
           "Lakers"
          ],
          [
           "Heat"
          ],
          [
           "Bucks"
          ],
          [
           "Timberwolves"
          ],
          [
           "Nets"
          ],
          [
           "Knicks"
          ],
          [
           "Magic"
          ],
          [
           "Pacers"
          ],
          [
           "76ers"
          ],
          [
           "Suns"
          ],
          [
           "Trail Blazers"
          ],
          [
           "Kings"
          ],
          [
           "Spurs"
          ],
          [
           "Thunder"
          ],
          [
           "Jazz"
          ],
          [
           "Wizards"
          ],
          [
           "Pistons"
          ],
          [
           "Hornets"
          ],
          [
           "Hawks"
          ],
          [
           "Celtics"
          ],
          [
           "Cavaliers"
          ],
          [
           "Bulls"
          ],
          [
           "Mavericks"
          ],
          [
           "Nuggets"
          ],
          [
           "Warriors"
          ],
          [
           "Rockets"
          ],
          [
           "Clippers"
          ],
          [
           "Lakers"
          ],
          [
           "Heat"
          ],
          [
           "Bucks"
          ],
          [
           "Timberwolves"
          ],
          [
           "Nets"
          ],
          [
           "Knicks"
          ],
          [
           "Magic"
          ],
          [
           "Pacers"
          ],
          [
           "76ers"
          ],
          [
           "Suns"
          ],
          [
           "Trail Blazers"
          ],
          [
           "Kings"
          ],
          [
           "Spurs"
          ],
          [
           "Thunder"
          ],
          [
           "Jazz"
          ],
          [
           "Wizards"
          ],
          [
           "Pistons"
          ],
          [
           "Hornets"
          ],
          [
           "Hawks"
          ],
          [
           "Celtics"
          ],
          [
           "Cavaliers"
          ],
          [
           "Bulls"
          ],
          [
           "Mavericks"
          ],
          [
           "Nuggets"
          ],
          [
           "Warriors"
          ],
          [
           "Rockets"
          ],
          [
           "Clippers"
          ],
          [
           "Lakers"
          ],
          [
           "Heat"
          ],
          [
           "Bucks"
          ],
          [
           "Timberwolves"
          ],
          [
           "Nets"
          ],
          [
           "Knicks"
          ],
          [
           "Magic"
          ],
          [
           "Pacers"
          ],
          [
           "76ers"
          ],
          [
           "Suns"
          ],
          [
           "Trail Blazers"
          ],
          [
           "Kings"
          ],
          [
           "Spurs"
          ],
          [
           "Thunder"
          ],
          [
           "Raptors"
          ],
          [
           "Jazz"
          ],
          [
           "Grizzlies"
          ],
          [
           "Wizards"
          ],
          [
           "Pistons"
          ],
          [
           "Hornets"
          ],
          [
           "Hawks"
          ],
          [
           "Celtics"
          ],
          [
           "Cavaliers"
          ],
          [
           "Bulls"
          ],
          [
           "Mavericks"
          ],
          [
           "Nuggets"
          ],
          [
           "Warriors"
          ],
          [
           "Rockets"
          ],
          [
           "Clippers"
          ],
          [
           "Lakers"
          ],
          [
           "Heat"
          ],
          [
           "Bucks"
          ],
          [
           "Timberwolves"
          ],
          [
           "Nets"
          ],
          [
           "Knicks"
          ],
          [
           "Magic"
          ],
          [
           "Pacers"
          ],
          [
           "76ers"
          ],
          [
           "Suns"
          ],
          [
           "Trail Blazers"
          ],
          [
           "Kings"
          ],
          [
           "Spurs"
          ],
          [
           "Thunder"
          ],
          [
           "Raptors"
          ],
          [
           "Jazz"
          ],
          [
           "Grizzlies"
          ],
          [
           "Wizards"
          ],
          [
           "Pistons"
          ],
          [
           "Hornets"
          ],
          [
           "Hawks"
          ],
          [
           "Celtics"
          ],
          [
           "Cavaliers"
          ],
          [
           "Bulls"
          ],
          [
           "Mavericks"
          ],
          [
           "Nuggets"
          ],
          [
           "Warriors"
          ],
          [
           "Rockets"
          ],
          [
           "Clippers"
          ],
          [
           "Lakers"
          ],
          [
           "Heat"
          ],
          [
           "Bucks"
          ],
          [
           "Timberwolves"
          ],
          [
           "Nets"
          ],
          [
           "Knicks"
          ],
          [
           "Magic"
          ],
          [
           "Pacers"
          ],
          [
           "76ers"
          ],
          [
           "Suns"
          ],
          [
           "Trail Blazers"
          ],
          [
           "Kings"
          ],
          [
           "Spurs"
          ],
          [
           "Thunder"
          ],
          [
           "Raptors"
          ],
          [
           "Jazz"
          ],
          [
           "Grizzlies"
          ],
          [
           "Wizards"
          ],
          [
           "Pistons"
          ],
          [
           "Hornets"
          ],
          [
           "Hawks"
          ],
          [
           "Celtics"
          ],
          [
           "Cavaliers"
          ],
          [
           "Bulls"
          ],
          [
           "Mavericks"
          ],
          [
           "Nuggets"
          ],
          [
           "Warriors"
          ],
          [
           "Rockets"
          ],
          [
           "Clippers"
          ],
          [
           "Lakers"
          ],
          [
           "Heat"
          ],
          [
           "Bucks"
          ],
          [
           "Timberwolves"
          ],
          [
           "Nets"
          ],
          [
           "Knicks"
          ],
          [
           "Magic"
          ],
          [
           "Pacers"
          ],
          [
           "76ers"
          ],
          [
           "Suns"
          ],
          [
           "Trail Blazers"
          ],
          [
           "Kings"
          ],
          [
           "Spurs"
          ],
          [
           "Thunder"
          ],
          [
           "Raptors"
          ],
          [
           "Jazz"
          ],
          [
           "Grizzlies"
          ],
          [
           "Wizards"
          ],
          [
           "Pistons"
          ],
          [
           "Hornets"
          ],
          [
           "Hawks"
          ],
          [
           "Celtics"
          ],
          [
           "Cavaliers"
          ],
          [
           "Bulls"
          ],
          [
           "Mavericks"
          ],
          [
           "Nuggets"
          ],
          [
           "Warriors"
          ],
          [
           "Rockets"
          ],
          [
           "Clippers"
          ],
          [
           "Lakers"
          ],
          [
           "Heat"
          ],
          [
           "Bucks"
          ],
          [
           "Timberwolves"
          ],
          [
           "Nets"
          ],
          [
           "Knicks"
          ],
          [
           "Magic"
          ],
          [
           "Pacers"
          ],
          [
           "76ers"
          ],
          [
           "Suns"
          ],
          [
           "Trail Blazers"
          ],
          [
           "Kings"
          ],
          [
           "Spurs"
          ],
          [
           "Thunder"
          ],
          [
           "Raptors"
          ],
          [
           "Jazz"
          ],
          [
           "Grizzlies"
          ],
          [
           "Wizards"
          ],
          [
           "Pistons"
          ],
          [
           "Hornets"
          ],
          [
           "Hawks"
          ],
          [
           "Celtics"
          ],
          [
           "Cavaliers"
          ],
          [
           "Bulls"
          ],
          [
           "Mavericks"
          ],
          [
           "Nuggets"
          ],
          [
           "Warriors"
          ],
          [
           "Rockets"
          ],
          [
           "Clippers"
          ],
          [
           "Lakers"
          ],
          [
           "Heat"
          ],
          [
           "Bucks"
          ],
          [
           "Timberwolves"
          ],
          [
           "Nets"
          ],
          [
           "Knicks"
          ],
          [
           "Magic"
          ],
          [
           "Pacers"
          ],
          [
           "76ers"
          ],
          [
           "Suns"
          ],
          [
           "Trail Blazers"
          ],
          [
           "Kings"
          ],
          [
           "Spurs"
          ],
          [
           "Thunder"
          ],
          [
           "Raptors"
          ],
          [
           "Jazz"
          ],
          [
           "Grizzlies"
          ],
          [
           "Wizards"
          ],
          [
           "Pistons"
          ],
          [
           "Hornets"
          ],
          [
           "Hawks"
          ],
          [
           "Celtics"
          ],
          [
           "Cavaliers"
          ],
          [
           "Bulls"
          ],
          [
           "Mavericks"
          ],
          [
           "Nuggets"
          ],
          [
           "Warriors"
          ],
          [
           "Rockets"
          ],
          [
           "Clippers"
          ],
          [
           "Lakers"
          ],
          [
           "Heat"
          ],
          [
           "Bucks"
          ],
          [
           "Timberwolves"
          ],
          [
           "Nets"
          ],
          [
           "Knicks"
          ],
          [
           "Magic"
          ],
          [
           "Pacers"
          ],
          [
           "76ers"
          ],
          [
           "Suns"
          ],
          [
           "Trail Blazers"
          ],
          [
           "Kings"
          ],
          [
           "Spurs"
          ],
          [
           "Thunder"
          ],
          [
           "Raptors"
          ],
          [
           "Jazz"
          ],
          [
           "Grizzlies"
          ],
          [
           "Wizards"
          ],
          [
           "Pistons"
          ],
          [
           "Hornets"
          ],
          [
           "Hawks"
          ],
          [
           "Celtics"
          ],
          [
           "Cavaliers"
          ],
          [
           "Pelicans"
          ],
          [
           "Bulls"
          ],
          [
           "Mavericks"
          ],
          [
           "Nuggets"
          ],
          [
           "Warriors"
          ],
          [
           "Rockets"
          ],
          [
           "Clippers"
          ],
          [
           "Lakers"
          ],
          [
           "Heat"
          ],
          [
           "Bucks"
          ],
          [
           "Timberwolves"
          ],
          [
           "Nets"
          ],
          [
           "Knicks"
          ],
          [
           "Magic"
          ],
          [
           "Pacers"
          ],
          [
           "76ers"
          ],
          [
           "Suns"
          ],
          [
           "Trail Blazers"
          ],
          [
           "Kings"
          ],
          [
           "Spurs"
          ],
          [
           "Thunder"
          ],
          [
           "Raptors"
          ],
          [
           "Jazz"
          ],
          [
           "Grizzlies"
          ],
          [
           "Wizards"
          ],
          [
           "Pistons"
          ],
          [
           "Hawks"
          ],
          [
           "Celtics"
          ],
          [
           "Cavaliers"
          ],
          [
           "Pelicans"
          ],
          [
           "Bulls"
          ],
          [
           "Mavericks"
          ],
          [
           "Nuggets"
          ],
          [
           "Warriors"
          ],
          [
           "Rockets"
          ],
          [
           "Clippers"
          ],
          [
           "Lakers"
          ],
          [
           "Heat"
          ],
          [
           "Bucks"
          ],
          [
           "Timberwolves"
          ],
          [
           "Nets"
          ],
          [
           "Knicks"
          ],
          [
           "Magic"
          ],
          [
           "Pacers"
          ],
          [
           "76ers"
          ],
          [
           "Suns"
          ],
          [
           "Trail Blazers"
          ],
          [
           "Kings"
          ],
          [
           "Spurs"
          ],
          [
           "Thunder"
          ],
          [
           "Raptors"
          ],
          [
           "Jazz"
          ],
          [
           "Grizzlies"
          ],
          [
           "Wizards"
          ],
          [
           "Pistons"
          ],
          [
           "Hawks"
          ],
          [
           "Celtics"
          ],
          [
           "Cavaliers"
          ],
          [
           "Pelicans"
          ],
          [
           "Bulls"
          ],
          [
           "Mavericks"
          ],
          [
           "Nuggets"
          ],
          [
           "Warriors"
          ],
          [
           "Rockets"
          ],
          [
           "Clippers"
          ],
          [
           "Lakers"
          ],
          [
           "Heat"
          ],
          [
           "Bucks"
          ],
          [
           "Timberwolves"
          ],
          [
           "Nets"
          ],
          [
           "Knicks"
          ],
          [
           "Magic"
          ],
          [
           "Pacers"
          ],
          [
           "76ers"
          ],
          [
           "Suns"
          ],
          [
           "Trail Blazers"
          ],
          [
           "Kings"
          ],
          [
           "Spurs"
          ],
          [
           "Thunder"
          ],
          [
           "Raptors"
          ],
          [
           "Jazz"
          ],
          [
           "Grizzlies"
          ],
          [
           "Wizards"
          ],
          [
           "Pistons"
          ],
          [
           "Hornets"
          ],
          [
           "Hawks"
          ],
          [
           "Celtics"
          ],
          [
           "Cavaliers"
          ],
          [
           "Pelicans"
          ],
          [
           "Bulls"
          ],
          [
           "Mavericks"
          ],
          [
           "Nuggets"
          ],
          [
           "Warriors"
          ],
          [
           "Rockets"
          ],
          [
           "Clippers"
          ],
          [
           "Lakers"
          ],
          [
           "Heat"
          ],
          [
           "Bucks"
          ],
          [
           "Timberwolves"
          ],
          [
           "Nets"
          ],
          [
           "Knicks"
          ],
          [
           "Magic"
          ],
          [
           "Pacers"
          ],
          [
           "76ers"
          ],
          [
           "Suns"
          ],
          [
           "Trail Blazers"
          ],
          [
           "Kings"
          ],
          [
           "Spurs"
          ],
          [
           "Thunder"
          ],
          [
           "Raptors"
          ],
          [
           "Jazz"
          ],
          [
           "Grizzlies"
          ],
          [
           "Wizards"
          ],
          [
           "Pistons"
          ],
          [
           "Hornets"
          ],
          [
           "Hawks"
          ],
          [
           "Celtics"
          ],
          [
           "Cavaliers"
          ],
          [
           "Pelicans"
          ],
          [
           "Bulls"
          ],
          [
           "Mavericks"
          ],
          [
           "Nuggets"
          ],
          [
           "Warriors"
          ],
          [
           "Rockets"
          ],
          [
           "Clippers"
          ],
          [
           "Lakers"
          ],
          [
           "Heat"
          ],
          [
           "Bucks"
          ],
          [
           "Timberwolves"
          ],
          [
           "Nets"
          ],
          [
           "Knicks"
          ],
          [
           "Magic"
          ],
          [
           "Pacers"
          ],
          [
           "76ers"
          ],
          [
           "Suns"
          ],
          [
           "Trail Blazers"
          ],
          [
           "Kings"
          ],
          [
           "Spurs"
          ],
          [
           "Thunder"
          ],
          [
           "Raptors"
          ],
          [
           "Jazz"
          ],
          [
           "Grizzlies"
          ],
          [
           "Wizards"
          ],
          [
           "Pistons"
          ],
          [
           "Hornets"
          ],
          [
           "Hawks"
          ],
          [
           "Celtics"
          ],
          [
           "Cavaliers"
          ],
          [
           "Pelicans"
          ],
          [
           "Bulls"
          ],
          [
           "Mavericks"
          ],
          [
           "Nuggets"
          ],
          [
           "Warriors"
          ],
          [
           "Rockets"
          ],
          [
           "Clippers"
          ],
          [
           "Lakers"
          ],
          [
           "Heat"
          ],
          [
           "Bucks"
          ],
          [
           "Timberwolves"
          ],
          [
           "Nets"
          ],
          [
           "Knicks"
          ],
          [
           "Magic"
          ],
          [
           "Pacers"
          ],
          [
           "76ers"
          ],
          [
           "Suns"
          ],
          [
           "Trail Blazers"
          ],
          [
           "Kings"
          ],
          [
           "Spurs"
          ],
          [
           "Thunder"
          ],
          [
           "Raptors"
          ],
          [
           "Jazz"
          ],
          [
           "Grizzlies"
          ],
          [
           "Wizards"
          ],
          [
           "Pistons"
          ],
          [
           "Hornets"
          ],
          [
           "Hawks"
          ],
          [
           "Celtics"
          ],
          [
           "Cavaliers"
          ],
          [
           "Pelicans"
          ],
          [
           "Bulls"
          ],
          [
           "Mavericks"
          ],
          [
           "Nuggets"
          ],
          [
           "Warriors"
          ],
          [
           "Rockets"
          ],
          [
           "Clippers"
          ],
          [
           "Lakers"
          ],
          [
           "Heat"
          ],
          [
           "Bucks"
          ],
          [
           "Timberwolves"
          ],
          [
           "Nets"
          ],
          [
           "Knicks"
          ],
          [
           "Magic"
          ],
          [
           "Pacers"
          ],
          [
           "76ers"
          ],
          [
           "Suns"
          ],
          [
           "Trail Blazers"
          ],
          [
           "Kings"
          ],
          [
           "Spurs"
          ],
          [
           "Thunder"
          ],
          [
           "Raptors"
          ],
          [
           "Jazz"
          ],
          [
           "Grizzlies"
          ],
          [
           "Wizards"
          ],
          [
           "Pistons"
          ],
          [
           "Hornets"
          ],
          [
           "Hawks"
          ],
          [
           "Celtics"
          ],
          [
           "Cavaliers"
          ],
          [
           "Pelicans"
          ],
          [
           "Bulls"
          ],
          [
           "Mavericks"
          ],
          [
           "Nuggets"
          ],
          [
           "Warriors"
          ],
          [
           "Rockets"
          ],
          [
           "Clippers"
          ],
          [
           "Lakers"
          ],
          [
           "Heat"
          ],
          [
           "Bucks"
          ],
          [
           "Timberwolves"
          ],
          [
           "Nets"
          ],
          [
           "Knicks"
          ],
          [
           "Magic"
          ],
          [
           "Pacers"
          ],
          [
           "76ers"
          ],
          [
           "Suns"
          ],
          [
           "Trail Blazers"
          ],
          [
           "Kings"
          ],
          [
           "Spurs"
          ],
          [
           "Thunder"
          ],
          [
           "Raptors"
          ],
          [
           "Jazz"
          ],
          [
           "Grizzlies"
          ],
          [
           "Wizards"
          ],
          [
           "Pistons"
          ],
          [
           "Hornets"
          ],
          [
           "Hawks"
          ],
          [
           "Celtics"
          ],
          [
           "Cavaliers"
          ],
          [
           "Pelicans"
          ],
          [
           "Bulls"
          ],
          [
           "Mavericks"
          ],
          [
           "Nuggets"
          ],
          [
           "Warriors"
          ],
          [
           "Rockets"
          ],
          [
           "Clippers"
          ],
          [
           "Lakers"
          ],
          [
           "Heat"
          ],
          [
           "Bucks"
          ],
          [
           "Timberwolves"
          ],
          [
           "Nets"
          ],
          [
           "Knicks"
          ],
          [
           "Magic"
          ],
          [
           "Pacers"
          ],
          [
           "76ers"
          ],
          [
           "Suns"
          ],
          [
           "Trail Blazers"
          ],
          [
           "Kings"
          ],
          [
           "Spurs"
          ],
          [
           "Thunder"
          ],
          [
           "Raptors"
          ],
          [
           "Jazz"
          ],
          [
           "Grizzlies"
          ],
          [
           "Wizards"
          ],
          [
           "Pistons"
          ],
          [
           "Hornets"
          ],
          [
           "Hawks"
          ],
          [
           "Celtics"
          ],
          [
           "Cavaliers"
          ],
          [
           "Pelicans"
          ],
          [
           "Bulls"
          ],
          [
           "Mavericks"
          ],
          [
           "Nuggets"
          ],
          [
           "Warriors"
          ],
          [
           "Rockets"
          ],
          [
           "Clippers"
          ],
          [
           "Lakers"
          ],
          [
           "Heat"
          ],
          [
           "Bucks"
          ],
          [
           "Timberwolves"
          ],
          [
           "Nets"
          ],
          [
           "Knicks"
          ],
          [
           "Magic"
          ],
          [
           "Pacers"
          ],
          [
           "76ers"
          ],
          [
           "Suns"
          ],
          [
           "Trail Blazers"
          ],
          [
           "Kings"
          ],
          [
           "Spurs"
          ],
          [
           "Thunder"
          ],
          [
           "Raptors"
          ],
          [
           "Jazz"
          ],
          [
           "Grizzlies"
          ],
          [
           "Wizards"
          ],
          [
           "Pistons"
          ],
          [
           "Hornets"
          ],
          [
           "Hawks"
          ],
          [
           "Celtics"
          ],
          [
           "Cavaliers"
          ],
          [
           "Pelicans"
          ],
          [
           "Bulls"
          ],
          [
           "Mavericks"
          ],
          [
           "Nuggets"
          ],
          [
           "Warriors"
          ],
          [
           "Rockets"
          ],
          [
           "Clippers"
          ],
          [
           "Lakers"
          ],
          [
           "Heat"
          ],
          [
           "Bucks"
          ],
          [
           "Timberwolves"
          ],
          [
           "Nets"
          ],
          [
           "Knicks"
          ],
          [
           "Magic"
          ],
          [
           "Pacers"
          ],
          [
           "76ers"
          ],
          [
           "Suns"
          ],
          [
           "Trail Blazers"
          ],
          [
           "Kings"
          ],
          [
           "Spurs"
          ],
          [
           "Thunder"
          ],
          [
           "Raptors"
          ],
          [
           "Jazz"
          ],
          [
           "Grizzlies"
          ],
          [
           "Wizards"
          ],
          [
           "Pistons"
          ],
          [
           "Hornets"
          ],
          [
           "Hawks"
          ],
          [
           "Celtics"
          ],
          [
           "Cavaliers"
          ],
          [
           "Pelicans"
          ],
          [
           "Bulls"
          ],
          [
           "Mavericks"
          ],
          [
           "Nuggets"
          ],
          [
           "Warriors"
          ],
          [
           "Rockets"
          ],
          [
           "Clippers"
          ],
          [
           "Lakers"
          ],
          [
           "Heat"
          ],
          [
           "Bucks"
          ],
          [
           "Timberwolves"
          ],
          [
           "Nets"
          ],
          [
           "Knicks"
          ],
          [
           "Magic"
          ],
          [
           "Pacers"
          ],
          [
           "76ers"
          ],
          [
           "Suns"
          ],
          [
           "Trail Blazers"
          ],
          [
           "Kings"
          ],
          [
           "Spurs"
          ],
          [
           "Thunder"
          ],
          [
           "Raptors"
          ],
          [
           "Jazz"
          ],
          [
           "Grizzlies"
          ],
          [
           "Wizards"
          ],
          [
           "Pistons"
          ],
          [
           "Hornets"
          ],
          [
           "Hawks"
          ],
          [
           "Celtics"
          ],
          [
           "Cavaliers"
          ],
          [
           "Pelicans"
          ],
          [
           "Bulls"
          ],
          [
           "Mavericks"
          ],
          [
           "Nuggets"
          ],
          [
           "Warriors"
          ],
          [
           "Rockets"
          ],
          [
           "Clippers"
          ],
          [
           "Lakers"
          ],
          [
           "Heat"
          ],
          [
           "Bucks"
          ],
          [
           "Timberwolves"
          ],
          [
           "Nets"
          ],
          [
           "Knicks"
          ],
          [
           "Magic"
          ],
          [
           "Pacers"
          ],
          [
           "76ers"
          ],
          [
           "Suns"
          ],
          [
           "Trail Blazers"
          ],
          [
           "Kings"
          ],
          [
           "Spurs"
          ],
          [
           "Thunder"
          ],
          [
           "Raptors"
          ],
          [
           "Jazz"
          ],
          [
           "Grizzlies"
          ],
          [
           "Wizards"
          ],
          [
           "Pistons"
          ],
          [
           "Hornets"
          ],
          [
           "Hawks"
          ],
          [
           "Celtics"
          ],
          [
           "Cavaliers"
          ],
          [
           "Pelicans"
          ],
          [
           "Bulls"
          ],
          [
           "Mavericks"
          ],
          [
           "Nuggets"
          ],
          [
           "Warriors"
          ],
          [
           "Rockets"
          ],
          [
           "Clippers"
          ],
          [
           "Lakers"
          ],
          [
           "Heat"
          ],
          [
           "Bucks"
          ],
          [
           "Timberwolves"
          ],
          [
           "Nets"
          ],
          [
           "Knicks"
          ],
          [
           "Magic"
          ],
          [
           "Pacers"
          ],
          [
           "76ers"
          ],
          [
           "Suns"
          ],
          [
           "Trail Blazers"
          ],
          [
           "Kings"
          ],
          [
           "Spurs"
          ],
          [
           "Thunder"
          ],
          [
           "Raptors"
          ],
          [
           "Jazz"
          ],
          [
           "Grizzlies"
          ],
          [
           "Wizards"
          ],
          [
           "Pistons"
          ],
          [
           "Hornets"
          ],
          [
           "Hawks"
          ],
          [
           "Celtics"
          ],
          [
           "Cavaliers"
          ],
          [
           "Pelicans"
          ],
          [
           "Bulls"
          ],
          [
           "Mavericks"
          ],
          [
           "Nuggets"
          ],
          [
           "Warriors"
          ],
          [
           "Rockets"
          ],
          [
           "Clippers"
          ],
          [
           "Lakers"
          ],
          [
           "Heat"
          ],
          [
           "Bucks"
          ],
          [
           "Timberwolves"
          ],
          [
           "Nets"
          ],
          [
           "Knicks"
          ],
          [
           "Magic"
          ],
          [
           "Pacers"
          ],
          [
           "76ers"
          ],
          [
           "Suns"
          ],
          [
           "Trail Blazers"
          ],
          [
           "Kings"
          ],
          [
           "Spurs"
          ],
          [
           "Thunder"
          ],
          [
           "Raptors"
          ],
          [
           "Jazz"
          ],
          [
           "Grizzlies"
          ],
          [
           "Wizards"
          ],
          [
           "Pistons"
          ],
          [
           "Hornets"
          ],
          [
           "Hawks"
          ],
          [
           "Celtics"
          ],
          [
           "Cavaliers"
          ],
          [
           "Pelicans"
          ],
          [
           "Bulls"
          ],
          [
           "Mavericks"
          ],
          [
           "Nuggets"
          ],
          [
           "Warriors"
          ],
          [
           "Rockets"
          ],
          [
           "Clippers"
          ],
          [
           "Lakers"
          ],
          [
           "Heat"
          ],
          [
           "Bucks"
          ],
          [
           "Timberwolves"
          ],
          [
           "Nets"
          ],
          [
           "Knicks"
          ],
          [
           "Magic"
          ],
          [
           "Pacers"
          ],
          [
           "76ers"
          ],
          [
           "Suns"
          ],
          [
           "Trail Blazers"
          ],
          [
           "Kings"
          ],
          [
           "Spurs"
          ],
          [
           "Thunder"
          ],
          [
           "Raptors"
          ],
          [
           "Jazz"
          ],
          [
           "Grizzlies"
          ],
          [
           "Wizards"
          ],
          [
           "Pistons"
          ],
          [
           "Hornets"
          ],
          [
           "Hawks"
          ],
          [
           "Celtics"
          ],
          [
           "Cavaliers"
          ],
          [
           "Pelicans"
          ],
          [
           "Bulls"
          ],
          [
           "Mavericks"
          ],
          [
           "Nuggets"
          ],
          [
           "Warriors"
          ],
          [
           "Rockets"
          ],
          [
           "Clippers"
          ],
          [
           "Lakers"
          ],
          [
           "Heat"
          ],
          [
           "Bucks"
          ],
          [
           "Timberwolves"
          ],
          [
           "Nets"
          ],
          [
           "Knicks"
          ],
          [
           "Magic"
          ],
          [
           "Pacers"
          ],
          [
           "76ers"
          ],
          [
           "Suns"
          ],
          [
           "Trail Blazers"
          ],
          [
           "Kings"
          ],
          [
           "Spurs"
          ],
          [
           "Thunder"
          ],
          [
           "Raptors"
          ],
          [
           "Jazz"
          ],
          [
           "Grizzlies"
          ],
          [
           "Wizards"
          ],
          [
           "Pistons"
          ],
          [
           "Hornets"
          ],
          [
           "Hawks"
          ],
          [
           "Celtics"
          ],
          [
           "Cavaliers"
          ],
          [
           "Pelicans"
          ],
          [
           "Bulls"
          ],
          [
           "Mavericks"
          ],
          [
           "Nuggets"
          ],
          [
           "Warriors"
          ],
          [
           "Rockets"
          ],
          [
           "Clippers"
          ],
          [
           "Lakers"
          ],
          [
           "Heat"
          ],
          [
           "Bucks"
          ],
          [
           "Timberwolves"
          ],
          [
           "Nets"
          ],
          [
           "Knicks"
          ],
          [
           "Magic"
          ],
          [
           "Pacers"
          ],
          [
           "76ers"
          ],
          [
           "Suns"
          ],
          [
           "Trail Blazers"
          ],
          [
           "Kings"
          ],
          [
           "Spurs"
          ],
          [
           "Thunder"
          ],
          [
           "Raptors"
          ],
          [
           "Jazz"
          ],
          [
           "Grizzlies"
          ],
          [
           "Wizards"
          ],
          [
           "Pistons"
          ],
          [
           "Hornets"
          ],
          [
           "Hawks"
          ],
          [
           "Celtics"
          ],
          [
           "Cavaliers"
          ],
          [
           "Pelicans"
          ],
          [
           "Bulls"
          ],
          [
           "Mavericks"
          ],
          [
           "Nuggets"
          ],
          [
           "Warriors"
          ],
          [
           "Rockets"
          ],
          [
           "Clippers"
          ],
          [
           "Lakers"
          ],
          [
           "Heat"
          ],
          [
           "Bucks"
          ],
          [
           "Timberwolves"
          ],
          [
           "Nets"
          ],
          [
           "Knicks"
          ],
          [
           "Magic"
          ],
          [
           "Pacers"
          ],
          [
           "76ers"
          ],
          [
           "Suns"
          ],
          [
           "Trail Blazers"
          ],
          [
           "Kings"
          ],
          [
           "Spurs"
          ],
          [
           "Thunder"
          ],
          [
           "Raptors"
          ],
          [
           "Jazz"
          ],
          [
           "Grizzlies"
          ],
          [
           "Wizards"
          ],
          [
           "Pistons"
          ],
          [
           "Hornets"
          ]
         ],
         "hovertemplate": "Lieu de jeu=away<br>Saison=%{x}<br>Pourcentage de victoires=%{y}<br>Équipe=%{customdata[0]}<extra></extra>",
         "legendgroup": "away",
         "marker": {
          "color": "#EF553B",
          "symbol": "circle"
         },
         "mode": "markers",
         "name": "away",
         "showlegend": true,
         "type": "scattergl",
         "x": [
          1946,
          1946,
          1946,
          1946,
          1946,
          1946,
          1946,
          1946,
          1946,
          1946,
          1946,
          1947,
          1947,
          1947,
          1947,
          1947,
          1947,
          1947,
          1947,
          1948,
          1948,
          1948,
          1948,
          1948,
          1948,
          1948,
          1948,
          1948,
          1948,
          1948,
          1948,
          1949,
          1949,
          1949,
          1949,
          1949,
          1949,
          1949,
          1949,
          1949,
          1949,
          1949,
          1949,
          1949,
          1949,
          1949,
          1949,
          1949,
          1950,
          1950,
          1950,
          1950,
          1950,
          1950,
          1950,
          1950,
          1950,
          1950,
          1950,
          1951,
          1951,
          1951,
          1951,
          1951,
          1951,
          1951,
          1951,
          1951,
          1951,
          1952,
          1952,
          1952,
          1952,
          1952,
          1952,
          1952,
          1952,
          1952,
          1952,
          1953,
          1953,
          1953,
          1953,
          1953,
          1953,
          1953,
          1953,
          1953,
          1954,
          1954,
          1954,
          1954,
          1954,
          1954,
          1954,
          1954,
          1955,
          1955,
          1955,
          1955,
          1955,
          1955,
          1955,
          1955,
          1956,
          1956,
          1956,
          1956,
          1956,
          1956,
          1956,
          1956,
          1957,
          1957,
          1957,
          1957,
          1957,
          1957,
          1957,
          1957,
          1958,
          1958,
          1958,
          1958,
          1958,
          1958,
          1958,
          1958,
          1959,
          1959,
          1959,
          1959,
          1959,
          1959,
          1959,
          1959,
          1960,
          1960,
          1960,
          1960,
          1960,
          1960,
          1960,
          1960,
          1961,
          1961,
          1961,
          1961,
          1961,
          1961,
          1961,
          1961,
          1961,
          1962,
          1962,
          1962,
          1962,
          1962,
          1962,
          1962,
          1962,
          1962,
          1963,
          1963,
          1963,
          1963,
          1963,
          1963,
          1963,
          1963,
          1963,
          1964,
          1964,
          1964,
          1964,
          1964,
          1964,
          1964,
          1964,
          1964,
          1965,
          1965,
          1965,
          1965,
          1965,
          1965,
          1965,
          1965,
          1965,
          1966,
          1966,
          1966,
          1966,
          1966,
          1966,
          1966,
          1966,
          1966,
          1966,
          1967,
          1967,
          1967,
          1967,
          1967,
          1967,
          1967,
          1967,
          1967,
          1967,
          1967,
          1967,
          1968,
          1968,
          1968,
          1968,
          1968,
          1968,
          1968,
          1968,
          1968,
          1968,
          1968,
          1968,
          1968,
          1968,
          1969,
          1969,
          1969,
          1969,
          1969,
          1969,
          1969,
          1969,
          1969,
          1969,
          1969,
          1969,
          1969,
          1969,
          1970,
          1970,
          1970,
          1970,
          1970,
          1970,
          1970,
          1970,
          1970,
          1970,
          1970,
          1970,
          1970,
          1970,
          1970,
          1970,
          1970,
          1971,
          1971,
          1971,
          1971,
          1971,
          1971,
          1971,
          1971,
          1971,
          1971,
          1971,
          1971,
          1971,
          1971,
          1971,
          1971,
          1971,
          1972,
          1972,
          1972,
          1972,
          1972,
          1972,
          1972,
          1972,
          1972,
          1972,
          1972,
          1972,
          1972,
          1972,
          1972,
          1972,
          1972,
          1973,
          1973,
          1973,
          1973,
          1973,
          1973,
          1973,
          1973,
          1973,
          1973,
          1973,
          1973,
          1973,
          1973,
          1973,
          1973,
          1973,
          1974,
          1974,
          1974,
          1974,
          1974,
          1974,
          1974,
          1974,
          1974,
          1974,
          1974,
          1974,
          1974,
          1974,
          1974,
          1974,
          1974,
          1974,
          1975,
          1975,
          1975,
          1975,
          1975,
          1975,
          1975,
          1975,
          1975,
          1975,
          1975,
          1975,
          1975,
          1975,
          1975,
          1975,
          1975,
          1975,
          1976,
          1976,
          1976,
          1976,
          1976,
          1976,
          1976,
          1976,
          1976,
          1976,
          1976,
          1976,
          1976,
          1976,
          1976,
          1976,
          1976,
          1976,
          1976,
          1976,
          1976,
          1976,
          1977,
          1977,
          1977,
          1977,
          1977,
          1977,
          1977,
          1977,
          1977,
          1977,
          1977,
          1977,
          1977,
          1977,
          1977,
          1977,
          1977,
          1977,
          1977,
          1977,
          1977,
          1977,
          1978,
          1978,
          1978,
          1978,
          1978,
          1978,
          1978,
          1978,
          1978,
          1978,
          1978,
          1978,
          1978,
          1978,
          1978,
          1978,
          1978,
          1978,
          1978,
          1978,
          1978,
          1978,
          1979,
          1979,
          1979,
          1979,
          1979,
          1979,
          1979,
          1979,
          1979,
          1979,
          1979,
          1979,
          1979,
          1979,
          1979,
          1979,
          1979,
          1979,
          1979,
          1979,
          1979,
          1979,
          1980,
          1980,
          1980,
          1980,
          1980,
          1980,
          1980,
          1980,
          1980,
          1980,
          1980,
          1980,
          1980,
          1980,
          1980,
          1980,
          1980,
          1980,
          1980,
          1980,
          1980,
          1980,
          1980,
          1981,
          1981,
          1981,
          1981,
          1981,
          1981,
          1981,
          1981,
          1981,
          1981,
          1981,
          1981,
          1981,
          1981,
          1981,
          1981,
          1981,
          1981,
          1981,
          1981,
          1981,
          1981,
          1981,
          1982,
          1982,
          1982,
          1982,
          1982,
          1982,
          1982,
          1982,
          1982,
          1982,
          1982,
          1982,
          1982,
          1982,
          1982,
          1982,
          1982,
          1982,
          1982,
          1982,
          1982,
          1982,
          1982,
          1983,
          1983,
          1983,
          1983,
          1983,
          1983,
          1983,
          1983,
          1983,
          1983,
          1983,
          1983,
          1983,
          1983,
          1983,
          1983,
          1983,
          1983,
          1983,
          1983,
          1983,
          1983,
          1983,
          1984,
          1984,
          1984,
          1984,
          1984,
          1984,
          1984,
          1984,
          1984,
          1984,
          1984,
          1984,
          1984,
          1984,
          1984,
          1984,
          1984,
          1984,
          1984,
          1984,
          1984,
          1984,
          1984,
          1985,
          1985,
          1985,
          1985,
          1985,
          1985,
          1985,
          1985,
          1985,
          1985,
          1985,
          1985,
          1985,
          1985,
          1985,
          1985,
          1985,
          1985,
          1985,
          1985,
          1985,
          1985,
          1985,
          1986,
          1986,
          1986,
          1986,
          1986,
          1986,
          1986,
          1986,
          1986,
          1986,
          1986,
          1986,
          1986,
          1986,
          1986,
          1986,
          1986,
          1986,
          1986,
          1986,
          1986,
          1986,
          1986,
          1987,
          1987,
          1987,
          1987,
          1987,
          1987,
          1987,
          1987,
          1987,
          1987,
          1987,
          1987,
          1987,
          1987,
          1987,
          1987,
          1987,
          1987,
          1987,
          1987,
          1987,
          1987,
          1987,
          1988,
          1988,
          1988,
          1988,
          1988,
          1988,
          1988,
          1988,
          1988,
          1988,
          1988,
          1988,
          1988,
          1988,
          1988,
          1988,
          1988,
          1988,
          1988,
          1988,
          1988,
          1988,
          1988,
          1988,
          1988,
          1989,
          1989,
          1989,
          1989,
          1989,
          1989,
          1989,
          1989,
          1989,
          1989,
          1989,
          1989,
          1989,
          1989,
          1989,
          1989,
          1989,
          1989,
          1989,
          1989,
          1989,
          1989,
          1989,
          1989,
          1989,
          1989,
          1989,
          1990,
          1990,
          1990,
          1990,
          1990,
          1990,
          1990,
          1990,
          1990,
          1990,
          1990,
          1990,
          1990,
          1990,
          1990,
          1990,
          1990,
          1990,
          1990,
          1990,
          1990,
          1990,
          1990,
          1990,
          1990,
          1990,
          1990,
          1991,
          1991,
          1991,
          1991,
          1991,
          1991,
          1991,
          1991,
          1991,
          1991,
          1991,
          1991,
          1991,
          1991,
          1991,
          1991,
          1991,
          1991,
          1991,
          1991,
          1991,
          1991,
          1991,
          1991,
          1991,
          1991,
          1991,
          1992,
          1992,
          1992,
          1992,
          1992,
          1992,
          1992,
          1992,
          1992,
          1992,
          1992,
          1992,
          1992,
          1992,
          1992,
          1992,
          1992,
          1992,
          1992,
          1992,
          1992,
          1992,
          1992,
          1992,
          1992,
          1992,
          1992,
          1993,
          1993,
          1993,
          1993,
          1993,
          1993,
          1993,
          1993,
          1993,
          1993,
          1993,
          1993,
          1993,
          1993,
          1993,
          1993,
          1993,
          1993,
          1993,
          1993,
          1993,
          1993,
          1993,
          1993,
          1993,
          1993,
          1993,
          1994,
          1994,
          1994,
          1994,
          1994,
          1994,
          1994,
          1994,
          1994,
          1994,
          1994,
          1994,
          1994,
          1994,
          1994,
          1994,
          1994,
          1994,
          1994,
          1994,
          1994,
          1994,
          1994,
          1994,
          1994,
          1994,
          1994,
          1995,
          1995,
          1995,
          1995,
          1995,
          1995,
          1995,
          1995,
          1995,
          1995,
          1995,
          1995,
          1995,
          1995,
          1995,
          1995,
          1995,
          1995,
          1995,
          1995,
          1995,
          1995,
          1995,
          1995,
          1995,
          1995,
          1995,
          1995,
          1995,
          1996,
          1996,
          1996,
          1996,
          1996,
          1996,
          1996,
          1996,
          1996,
          1996,
          1996,
          1996,
          1996,
          1996,
          1996,
          1996,
          1996,
          1996,
          1996,
          1996,
          1996,
          1996,
          1996,
          1996,
          1996,
          1996,
          1996,
          1996,
          1996,
          1997,
          1997,
          1997,
          1997,
          1997,
          1997,
          1997,
          1997,
          1997,
          1997,
          1997,
          1997,
          1997,
          1997,
          1997,
          1997,
          1997,
          1997,
          1997,
          1997,
          1997,
          1997,
          1997,
          1997,
          1997,
          1997,
          1997,
          1997,
          1997,
          1998,
          1998,
          1998,
          1998,
          1998,
          1998,
          1998,
          1998,
          1998,
          1998,
          1998,
          1998,
          1998,
          1998,
          1998,
          1998,
          1998,
          1998,
          1998,
          1998,
          1998,
          1998,
          1998,
          1998,
          1998,
          1998,
          1998,
          1998,
          1998,
          1999,
          1999,
          1999,
          1999,
          1999,
          1999,
          1999,
          1999,
          1999,
          1999,
          1999,
          1999,
          1999,
          1999,
          1999,
          1999,
          1999,
          1999,
          1999,
          1999,
          1999,
          1999,
          1999,
          1999,
          1999,
          1999,
          1999,
          1999,
          1999,
          2000,
          2000,
          2000,
          2000,
          2000,
          2000,
          2000,
          2000,
          2000,
          2000,
          2000,
          2000,
          2000,
          2000,
          2000,
          2000,
          2000,
          2000,
          2000,
          2000,
          2000,
          2000,
          2000,
          2000,
          2000,
          2000,
          2000,
          2000,
          2000,
          2001,
          2001,
          2001,
          2001,
          2001,
          2001,
          2001,
          2001,
          2001,
          2001,
          2001,
          2001,
          2001,
          2001,
          2001,
          2001,
          2001,
          2001,
          2001,
          2001,
          2001,
          2001,
          2001,
          2001,
          2001,
          2001,
          2001,
          2001,
          2001,
          2002,
          2002,
          2002,
          2002,
          2002,
          2002,
          2002,
          2002,
          2002,
          2002,
          2002,
          2002,
          2002,
          2002,
          2002,
          2002,
          2002,
          2002,
          2002,
          2002,
          2002,
          2002,
          2002,
          2002,
          2002,
          2002,
          2002,
          2002,
          2002,
          2003,
          2003,
          2003,
          2003,
          2003,
          2003,
          2003,
          2003,
          2003,
          2003,
          2003,
          2003,
          2003,
          2003,
          2003,
          2003,
          2003,
          2003,
          2003,
          2003,
          2003,
          2003,
          2003,
          2003,
          2003,
          2003,
          2003,
          2003,
          2003,
          2004,
          2004,
          2004,
          2004,
          2004,
          2004,
          2004,
          2004,
          2004,
          2004,
          2004,
          2004,
          2004,
          2004,
          2004,
          2004,
          2004,
          2004,
          2004,
          2004,
          2004,
          2004,
          2004,
          2004,
          2004,
          2004,
          2004,
          2004,
          2004,
          2004,
          2005,
          2005,
          2005,
          2005,
          2005,
          2005,
          2005,
          2005,
          2005,
          2005,
          2005,
          2005,
          2005,
          2005,
          2005,
          2005,
          2005,
          2005,
          2005,
          2005,
          2005,
          2005,
          2005,
          2005,
          2005,
          2005,
          2005,
          2005,
          2005,
          2005,
          2006,
          2006,
          2006,
          2006,
          2006,
          2006,
          2006,
          2006,
          2006,
          2006,
          2006,
          2006,
          2006,
          2006,
          2006,
          2006,
          2006,
          2006,
          2006,
          2006,
          2006,
          2006,
          2006,
          2006,
          2006,
          2006,
          2006,
          2006,
          2006,
          2006,
          2007,
          2007,
          2007,
          2007,
          2007,
          2007,
          2007,
          2007,
          2007,
          2007,
          2007,
          2007,
          2007,
          2007,
          2007,
          2007,
          2007,
          2007,
          2007,
          2007,
          2007,
          2007,
          2007,
          2007,
          2007,
          2007,
          2007,
          2007,
          2007,
          2007,
          2008,
          2008,
          2008,
          2008,
          2008,
          2008,
          2008,
          2008,
          2008,
          2008,
          2008,
          2008,
          2008,
          2008,
          2008,
          2008,
          2008,
          2008,
          2008,
          2008,
          2008,
          2008,
          2008,
          2008,
          2008,
          2008,
          2008,
          2008,
          2008,
          2008,
          2009,
          2009,
          2009,
          2009,
          2009,
          2009,
          2009,
          2009,
          2009,
          2009,
          2009,
          2009,
          2009,
          2009,
          2009,
          2009,
          2009,
          2009,
          2009,
          2009,
          2009,
          2009,
          2009,
          2009,
          2009,
          2009,
          2009,
          2009,
          2009,
          2009,
          2010,
          2010,
          2010,
          2010,
          2010,
          2010,
          2010,
          2010,
          2010,
          2010,
          2010,
          2010,
          2010,
          2010,
          2010,
          2010,
          2010,
          2010,
          2010,
          2010,
          2010,
          2010,
          2010,
          2010,
          2010,
          2010,
          2010,
          2010,
          2010,
          2010,
          2011,
          2011,
          2011,
          2011,
          2011,
          2011,
          2011,
          2011,
          2011,
          2011,
          2011,
          2011,
          2011,
          2011,
          2011,
          2011,
          2011,
          2011,
          2011,
          2011,
          2011,
          2011,
          2011,
          2011,
          2011,
          2011,
          2011,
          2011,
          2011,
          2011,
          2012,
          2012,
          2012,
          2012,
          2012,
          2012,
          2012,
          2012,
          2012,
          2012,
          2012,
          2012,
          2012,
          2012,
          2012,
          2012,
          2012,
          2012,
          2012,
          2012,
          2012,
          2012,
          2012,
          2012,
          2012,
          2012,
          2012,
          2012,
          2012,
          2012,
          2013,
          2013,
          2013,
          2013,
          2013,
          2013,
          2013,
          2013,
          2013,
          2013,
          2013,
          2013,
          2013,
          2013,
          2013,
          2013,
          2013,
          2013,
          2013,
          2013,
          2013,
          2013,
          2013,
          2013,
          2013,
          2013,
          2013,
          2013,
          2013,
          2013,
          2014,
          2014,
          2014,
          2014,
          2014,
          2014,
          2014,
          2014,
          2014,
          2014,
          2014,
          2014,
          2014,
          2014,
          2014,
          2014,
          2014,
          2014,
          2014,
          2014,
          2014,
          2014,
          2014,
          2014,
          2014,
          2014,
          2014,
          2014,
          2014,
          2014,
          2015,
          2015,
          2015,
          2015,
          2015,
          2015,
          2015,
          2015,
          2015,
          2015,
          2015,
          2015,
          2015,
          2015,
          2015,
          2015,
          2015,
          2015,
          2015,
          2015,
          2015,
          2015,
          2015,
          2015,
          2015,
          2015,
          2015,
          2015,
          2015,
          2015,
          2016,
          2016,
          2016,
          2016,
          2016,
          2016,
          2016,
          2016,
          2016,
          2016,
          2016,
          2016,
          2016,
          2016,
          2016,
          2016,
          2016,
          2016,
          2016,
          2016,
          2016,
          2016,
          2016,
          2016,
          2016,
          2016,
          2016,
          2016,
          2016,
          2016,
          2017,
          2017,
          2017,
          2017,
          2017,
          2017,
          2017,
          2017,
          2017,
          2017,
          2017,
          2017,
          2017,
          2017,
          2017,
          2017,
          2017,
          2017,
          2017,
          2017,
          2017,
          2017,
          2017,
          2017,
          2017,
          2017,
          2017,
          2017,
          2017,
          2017,
          2018,
          2018,
          2018,
          2018,
          2018,
          2018,
          2018,
          2018,
          2018,
          2018,
          2018,
          2018,
          2018,
          2018,
          2018,
          2018,
          2018,
          2018,
          2018,
          2018,
          2018,
          2018,
          2018,
          2018,
          2018,
          2018,
          2018,
          2018,
          2018,
          2018,
          2019,
          2019,
          2019,
          2019,
          2019,
          2019,
          2019,
          2019,
          2019,
          2019,
          2019,
          2019,
          2019,
          2019,
          2019,
          2019,
          2019,
          2019,
          2019,
          2019,
          2019,
          2019,
          2019,
          2019,
          2019,
          2019,
          2019,
          2019,
          2019,
          2019,
          2020,
          2020,
          2020,
          2020,
          2020,
          2020,
          2020,
          2020,
          2020,
          2020,
          2020,
          2020,
          2020,
          2020,
          2020,
          2020,
          2020,
          2020,
          2020,
          2020,
          2020,
          2020,
          2020,
          2020,
          2020,
          2020,
          2020,
          2020,
          2020,
          2020
         ],
         "xaxis": "x",
         "y": [
          56.666666666666664,
          43.333333333333336,
          26.666666666666668,
          13.333333333333334,
          30,
          51.61290322580645,
          23.333333333333332,
          66.66666666666666,
          25.806451612903224,
          35.714285714285715,
          48.38709677419355,
          46.15384615384615,
          58.333333333333336,
          14.285714285714285,
          50,
          33.33333333333333,
          30,
          54.166666666666664,
          58.333333333333336,
          36.666666666666664,
          54.83870967741935,
          12.903225806451612,
          16.129032258064516,
          34.48275862068966,
          50,
          23.333333333333332,
          29.03225806451613,
          55.172413793103445,
          44.827586206896555,
          66.66666666666666,
          17.24137931034483,
          40,
          22.22222222222222,
          37.83783783783784,
          2.7777777777777777,
          40,
          16.129032258064516,
          20,
          30.303030303030305,
          6.666666666666667,
          21.428571428571427,
          13.513513513513514,
          22.857142857142858,
          54.285714285714285,
          50,
          55.55555555555556,
          51.515151515151516,
          35.294117647058826,
          11.76470588235294,
          28.57142857142857,
          18.75,
          6.25,
          28.57142857142857,
          34.375,
          36.36363636363637,
          30.555555555555557,
          27.27272727272727,
          35.294117647058826,
          14.705882352941178,
          6.0606060606060606,
          13.333333333333334,
          7.6923076923076925,
          35.483870967741936,
          18.75,
          39.39393939393939,
          32.432432432432435,
          38.70967741935484,
          37.5,
          18.75,
          8.108108108108109,
          15.151515151515152,
          10.256410256410255,
          36.36363636363637,
          2.1739130434782608,
          45.714285714285715,
          44.11764705882353,
          31.25,
          43.333333333333336,
          25,
          2.631578947368421,
          11.904761904761903,
          31.428571428571427,
          17.073170731707318,
          38.23529411764706,
          42.857142857142854,
          33.33333333333333,
          40,
          31.428571428571427,
          22.22222222222222,
          16.666666666666664,
          17.5,
          32.432432432432435,
          24.242424242424242,
          38.70967741935484,
          12.5,
          35.294117647058826,
          30,
          33.33333333333333,
          41.17647058823529,
          20.588235294117645,
          42.10526315789473,
          25,
          18.75,
          27.027027027027028,
          26.31578947368421,
          35.13513513513514,
          16.666666666666664,
          16.666666666666664,
          26.47058823529412,
          27.27272727272727,
          18.91891891891892,
          12.82051282051282,
          28.125,
          48.64864864864865,
          31.428571428571427,
          10,
          30.555555555555557,
          24.242424242424242,
          27.027027027027028,
          34.21052631578947,
          41.17647058823529,
          48.38709677419355,
          20.51282051282051,
          21.951219512195124,
          41.66666666666667,
          34.285714285714285,
          8.108108108108109,
          22.857142857142858,
          35.13513513513514,
          64.1025641025641,
          37.5,
          21.428571428571427,
          26.31578947368421,
          34.285714285714285,
          10.526315789473683,
          20.51282051282051,
          39.473684210526315,
          61.53846153846154,
          33.33333333333333,
          20.51282051282051,
          16.666666666666664,
          21.052631578947366,
          25.581395348837212,
          10.526315789473683,
          18.6046511627907,
          63.41463414634146,
          51.21951219512195,
          46.15384615384615,
          7.6923076923076925,
          31.57894736842105,
          38.46153846153847,
          7.142857142857142,
          23.684210526315788,
          35.8974358974359,
          55.26315789473685,
          27.500000000000004,
          50,
          12.195121951219512,
          36.84210526315789,
          35.714285714285715,
          9.523809523809524,
          25,
          43.58974358974359,
          57.49999999999999,
          55.00000000000001,
          37.5,
          21.428571428571427,
          27.906976744186046,
          51.35135135135135,
          21.62162162162162,
          16.666666666666664,
          41.66666666666667,
          64.28571428571429,
          15,
          53.84615384615385,
          26.31578947368421,
          28.205128205128204,
          41.46341463414634,
          31.70731707317073,
          27.27272727272727,
          17.073170731707318,
          47.5,
          24.324324324324326,
          35.13513513513514,
          14.285714285714285,
          47.61904761904761,
          28.205128205128204,
          10.81081081081081,
          8.88888888888889,
          28.57142857142857,
          60.46511627906976,
          25.64102564102564,
          34.21052631578947,
          33.33333333333333,
          30.23255813953488,
          73.68421052631578,
          34.21052631578947,
          7.317073170731707,
          25,
          53.65853658536586,
          52.5,
          31.11111111111111,
          39.02439024390244,
          10.526315789473683,
          50,
          48.837209302325576,
          69.23076923076923,
          32.5,
          17.073170731707318,
          34.146341463414636,
          31.11111111111111,
          46.34146341463415,
          50,
          30,
          46.34146341463415,
          23.684210526315788,
          56.09756097560976,
          19.51219512195122,
          47.5,
          56.81818181818182,
          9.75609756097561,
          46.15384615384615,
          19.047619047619047,
          60.97560975609756,
          19.51219512195122,
          46.15384615384615,
          32.5,
          23.25581395348837,
          30.434782608695656,
          9.523809523809524,
          45,
          64.1025641025641,
          71.7948717948718,
          40,
          30,
          31.818181818181817,
          23.809523809523807,
          48.717948717948715,
          24.390243902439025,
          36.58536585365854,
          42.857142857142854,
          9.75609756097561,
          50,
          46.34146341463415,
          36.58536585365854,
          15,
          42.5,
          68.29268292682927,
          48.78048780487805,
          51.21951219512195,
          50,
          22.5,
          26.666666666666668,
          26.190476190476193,
          39.02439024390244,
          50,
          34.146341463414636,
          57.49999999999999,
          24.390243902439025,
          68.29268292682927,
          51.21951219512195,
          37.5,
          19.51219512195122,
          80.48780487804879,
          70.73170731707317,
          51.21951219512195,
          34.146341463414636,
          46.34146341463415,
          9.523809523809524,
          19.047619047619047,
          43.90243902439025,
          39.02439024390244,
          24.390243902439025,
          43.90243902439025,
          80.48780487804879,
          29.268292682926827,
          53.65853658536586,
          48.78048780487805,
          29.268292682926827,
          17.073170731707318,
          73.17073170731707,
          60.97560975609756,
          53.65853658536586,
          7.317073170731707,
          39.02439024390244,
          19.51219512195122,
          29.268292682926827,
          24.390243902439025,
          56.09756097560976,
          34.146341463414636,
          29.268292682926827,
          52.38095238095239,
          26.82926829268293,
          52.5,
          51.21951219512195,
          32.5,
          38.63636363636363,
          41.46341463414634,
          60,
          51.21951219512195,
          21.951219512195124,
          14.634146341463413,
          12.195121951219512,
          31.70731707317073,
          34.146341463414636,
          37.5,
          56.09756097560976,
          21.951219512195124,
          78.04878048780488,
          26.82926829268293,
          43.90243902439025,
          41.46341463414634,
          29.268292682926827,
          46.34146341463415,
          21.951219512195124,
          31.70731707317073,
          41.46341463414634,
          34.146341463414636,
          24.390243902439025,
          22.5,
          36.58536585365854,
          45.23809523809524,
          7.317073170731707,
          58.536585365853654,
          34.146341463414636,
          21.951219512195124,
          56.09756097560976,
          48.78048780487805,
          21.951219512195124,
          56.09756097560976,
          30.952380952380953,
          45,
          22.5,
          39.02439024390244,
          34.146341463414636,
          29.268292682926827,
          36.58536585365854,
          28.57142857142857,
          14.634146341463413,
          29.268292682926827,
          39.02439024390244,
          41.46341463414634,
          29.268292682926827,
          29.268292682926827,
          39.02439024390244,
          34.146341463414636,
          31.70731707317073,
          34.146341463414636,
          41.46341463414634,
          36.58536585365854,
          17.073170731707318,
          39.02439024390244,
          14.634146341463413,
          29.268292682926827,
          34.146341463414636,
          26.82926829268293,
          43.90243902439025,
          19.51219512195122,
          34.146341463414636,
          29.268292682926827,
          31.70731707317073,
          31.70731707317073,
          21.951219512195124,
          39.02439024390244,
          34.146341463414636,
          29.268292682926827,
          19.51219512195122,
          39.02439024390244,
          26.82926829268293,
          36.58536585365854,
          31.70731707317073,
          17.073170731707318,
          17.073170731707318,
          39.02439024390244,
          39.02439024390244,
          14.634146341463413,
          34.146341463414636,
          24.390243902439025,
          43.90243902439025,
          36.58536585365854,
          53.65853658536586,
          21.951219512195124,
          48.78048780487805,
          39.02439024390244,
          29.268292682926827,
          36.58536585365854,
          34.146341463414636,
          29.268292682926827,
          19.51219512195122,
          24.390243902439025,
          29.268292682926827,
          43.90243902439025,
          36.58536585365854,
          41.46341463414634,
          34.146341463414636,
          39.02439024390244,
          24.390243902439025,
          29.268292682926827,
          19.51219512195122,
          31.70731707317073,
          39.02439024390244,
          43.90243902439025,
          29.268292682926827,
          39.02439024390244,
          46.34146341463415,
          51.21951219512195,
          9.75609756097561,
          56.09756097560976,
          19.51219512195122,
          43.90243902439025,
          63.41463414634146,
          21.951219512195124,
          21.951219512195124,
          14.634146341463413,
          21.951219512195124,
          29.268292682926827,
          26.82926829268293,
          56.09756097560976,
          50,
          29.268292682926827,
          34.146341463414636,
          26.82926829268293,
          56.09756097560976,
          45,
          29.268292682926827,
          41.46341463414634,
          34.146341463414636,
          56.09756097560976,
          17.073170731707318,
          36.58536585365854,
          7.317073170731707,
          26.82926829268293,
          65.85365853658537,
          19.51219512195122,
          46.34146341463415,
          9.75609756097561,
          34.146341463414636,
          31.70731707317073,
          36.58536585365854,
          34.146341463414636,
          58.536585365853654,
          63.41463414634146,
          19.51219512195122,
          53.65853658536586,
          41.46341463414634,
          60.97560975609756,
          51.21951219512195,
          36.58536585365854,
          39.02439024390244,
          43.90243902439025,
          29.268292682926827,
          19.51219512195122,
          31.70731707317073,
          17.073170731707318,
          43.90243902439025,
          68.29268292682927,
          14.634146341463413,
          29.268292682926827,
          29.268292682926827,
          41.46341463414634,
          41.46341463414634,
          51.21951219512195,
          14.634146341463413,
          65.85365853658537,
          58.536585365853654,
          46.34146341463415,
          34.146341463414636,
          24.390243902439025,
          63.41463414634146,
          36.58536585365854,
          36.58536585365854,
          17.073170731707318,
          46.34146341463415,
          51.21951219512195,
          17.073170731707318,
          51.21951219512195,
          39.02439024390244,
          41.46341463414634,
          56.09756097560976,
          19.51219512195122,
          24.390243902439025,
          36.58536585365854,
          39.02439024390244,
          21.951219512195124,
          12.195121951219512,
          17.073170731707318,
          60.97560975609756,
          48.78048780487805,
          46.34146341463415,
          43.90243902439025,
          14.634146341463413,
          73.17073170731707,
          51.21951219512195,
          36.58536585365854,
          36.58536585365854,
          53.65853658536586,
          46.34146341463415,
          21.951219512195124,
          36.58536585365854,
          34.146341463414636,
          21.951219512195124,
          70.73170731707317,
          12.195121951219512,
          21.951219512195124,
          29.268292682926827,
          26.82926829268293,
          24.390243902439025,
          19.51219512195122,
          12.195121951219512,
          63.41463414634146,
          48.78048780487805,
          39.02439024390244,
          43.90243902439025,
          14.634146341463413,
          48.78048780487805,
          24.390243902439025,
          36.58536585365854,
          29.268292682926827,
          21.951219512195124,
          24.390243902439025,
          34.146341463414636,
          24.390243902439025,
          46.34146341463415,
          36.58536585365854,
          68.29268292682927,
          39.02439024390244,
          29.268292682926827,
          48.78048780487805,
          43.90243902439025,
          12.195121951219512,
          46.34146341463415,
          26.82926829268293,
          63.41463414634146,
          56.09756097560976,
          36.58536585365854,
          12.195121951219512,
          14.634146341463413,
          58.536585365853654,
          24.390243902439025,
          29.268292682926827,
          19.51219512195122,
          26.82926829268293,
          26.82926829268293,
          36.58536585365854,
          29.268292682926827,
          48.78048780487805,
          39.02439024390244,
          65.85365853658537,
          31.70731707317073,
          19.51219512195122,
          43.90243902439025,
          31.70731707317073,
          14.634146341463413,
          36.58536585365854,
          24.390243902439025,
          65.85365853658537,
          58.536585365853654,
          31.70731707317073,
          19.51219512195122,
          17.073170731707318,
          56.09756097560976,
          21.951219512195124,
          31.70731707317073,
          29.268292682926827,
          34.146341463414636,
          17.073170731707318,
          36.58536585365854,
          31.70731707317073,
          36.58536585365854,
          53.65853658536586,
          48.78048780487805,
          14.634146341463413,
          26.82926829268293,
          48.78048780487805,
          24.390243902439025,
          41.46341463414634,
          41.46341463414634,
          7.317073170731707,
          68.29268292682927,
          43.90243902439025,
          12.195121951219512,
          14.634146341463413,
          31.70731707317073,
          41.46341463414634,
          24.390243902439025,
          36.58536585365854,
          21.951219512195124,
          17.073170731707318,
          34.146341463414636,
          31.70731707317073,
          36.58536585365854,
          48.78048780487805,
          48.78048780487805,
          51.21951219512195,
          26.82926829268293,
          48.78048780487805,
          48.78048780487805,
          46.34146341463415,
          9.75609756097561,
          36.58536585365854,
          7.317073170731707,
          63.41463414634146,
          29.268292682926827,
          7.317073170731707,
          21.951219512195124,
          31.70731707317073,
          21.951219512195124,
          14.634146341463413,
          48.78048780487805,
          12.195121951219512,
          19.51219512195122,
          29.268292682926827,
          34.146341463414636,
          31.70731707317073,
          48.78048780487805,
          46.34146341463415,
          24.390243902439025,
          48.78048780487805,
          41.46341463414634,
          34.146341463414636,
          21.951219512195124,
          34.146341463414636,
          34.146341463414636,
          9.75609756097561,
          53.65853658536586,
          7.317073170731707,
          43.90243902439025,
          21.951219512195124,
          41.46341463414634,
          19.51219512195122,
          39.02439024390244,
          48.78048780487805,
          26.82926829268293,
          14.634146341463413,
          7.317073170731707,
          39.02439024390244,
          41.46341463414634,
          24.390243902439025,
          63.41463414634146,
          19.51219512195122,
          39.02439024390244,
          53.65853658536586,
          36.58536585365854,
          46.34146341463415,
          41.46341463414634,
          36.58536585365854,
          24.390243902439025,
          24.390243902439025,
          24.390243902439025,
          63.41463414634146,
          17.073170731707318,
          41.46341463414634,
          12.195121951219512,
          9.75609756097561,
          39.02439024390244,
          14.634146341463413,
          34.146341463414636,
          46.34146341463415,
          53.65853658536586,
          58.536585365853654,
          17.073170731707318,
          53.65853658536586,
          26.82926829268293,
          46.34146341463415,
          26.82926829268293,
          58.536585365853654,
          14.634146341463413,
          34.146341463414636,
          51.21951219512195,
          24.390243902439025,
          63.41463414634146,
          19.51219512195122,
          7.317073170731707,
          34.146341463414636,
          51.21951219512195,
          19.51219512195122,
          60.97560975609756,
          14.634146341463413,
          36.58536585365854,
          19.51219512195122,
          14.634146341463413,
          43.90243902439025,
          17.073170731707318,
          29.268292682926827,
          36.58536585365854,
          56.09756097560976,
          65.85365853658537,
          2.4390243902439024,
          53.65853658536586,
          31.70731707317073,
          43.90243902439025,
          21.951219512195124,
          43.90243902439025,
          21.951219512195124,
          36.58536585365854,
          41.46341463414634,
          53.65853658536586,
          75.60975609756098,
          17.073170731707318,
          14.634146341463413,
          58.536585365853654,
          34.146341463414636,
          39.02439024390244,
          46.34146341463415,
          24.390243902439025,
          14.634146341463413,
          14.634146341463413,
          36.58536585365854,
          51.21951219512195,
          19.51219512195122,
          34.146341463414636,
          29.268292682926827,
          41.46341463414634,
          58.536585365853654,
          19.51219512195122,
          39.02439024390244,
          46.34146341463415,
          43.90243902439025,
          26.82926829268293,
          56.09756097560976,
          21.951219512195124,
          43.90243902439025,
          48.78048780487805,
          46.34146341463415,
          63.41463414634146,
          9.75609756097561,
          19.51219512195122,
          36.58536585365854,
          58.536585365853654,
          34.146341463414636,
          46.34146341463415,
          24.390243902439025,
          24.390243902439025,
          19.51219512195122,
          41.46341463414634,
          56.09756097560976,
          34.146341463414636,
          34.146341463414636,
          26.82926829268293,
          65.85365853658537,
          51.21951219512195,
          21.951219512195124,
          43.90243902439025,
          53.65853658536586,
          46.34146341463415,
          17.073170731707318,
          29.268292682926827,
          53.65853658536586,
          51.21951219512195,
          34.146341463414636,
          39.02439024390244,
          58.536585365853654,
          17.073170731707318,
          34.146341463414636,
          51.21951219512195,
          56.09756097560976,
          24.390243902439025,
          29.268292682926827,
          48.78048780487805,
          21.951219512195124,
          17.073170731707318,
          39.02439024390244,
          60.97560975609756,
          46.34146341463415,
          43.90243902439025,
          24.390243902439025,
          48.78048780487805,
          41.46341463414634,
          19.51219512195122,
          56.09756097560976,
          63.41463414634146,
          48.78048780487805,
          17.073170731707318,
          24.390243902439025,
          31.70731707317073,
          43.90243902439025,
          36.58536585365854,
          41.46341463414634,
          46.34146341463415,
          41.46341463414634,
          43.90243902439025,
          26.82926829268293,
          53.65853658536586,
          9.75609756097561,
          46.34146341463415,
          24.390243902439025,
          29.268292682926827,
          19.51219512195122,
          24.390243902439025,
          63.41463414634146,
          43.90243902439025,
          46.34146341463415,
          24.390243902439025,
          65.85365853658537,
          43.90243902439025,
          29.268292682926827,
          70.73170731707317,
          60.97560975609756,
          65.85365853658537,
          19.51219512195122,
          14.634146341463413,
          51.21951219512195,
          48.78048780487805,
          36.58536585365854,
          51.21951219512195,
          80.48780487804879,
          24.390243902439025,
          26.82926829268293,
          31.70731707317073,
          51.21951219512195,
          24.390243902439025,
          56.09756097560976,
          39.02439024390244,
          26.82926829268293,
          21.951219512195124,
          24.390243902439025,
          51.21951219512195,
          56.09756097560976,
          48.78048780487805,
          17.073170731707318,
          39.02439024390244,
          43.90243902439025,
          31.70731707317073,
          63.41463414634146,
          63.41463414634146,
          14.634146341463413,
          51.21951219512195,
          12.195121951219512,
          34.146341463414636,
          39.02439024390244,
          39.02439024390244,
          48.78048780487805,
          9.75609756097561,
          41.46341463414634,
          73.17073170731707,
          24.390243902439025,
          21.951219512195124,
          29.268292682926827,
          65.85365853658537,
          36.58536585365854,
          60.97560975609756,
          78.04878048780488,
          31.70731707317073,
          36.58536585365854,
          24.390243902439025,
          63.41463414634146,
          46.34146341463415,
          43.90243902439025,
          26.82926829268293,
          36.58536585365854,
          48.78048780487805,
          29.268292682926827,
          19.51219512195122,
          63.41463414634146,
          29.268292682926827,
          63.41463414634146,
          14.634146341463413,
          46.34146341463415,
          58.536585365853654,
          58.536585365853654,
          51.21951219512195,
          29.268292682926827,
          48.78048780487805,
          60.97560975609756,
          17.073170731707318,
          4.878048780487805,
          17.073170731707318,
          41.46341463414634,
          14.634146341463413,
          68.29268292682927,
          60.97560975609756,
          36.58536585365854,
          46.34146341463415,
          41.46341463414634,
          36.58536585365854,
          41.46341463414634,
          63.41463414634146,
          29.268292682926827,
          63.41463414634146,
          48.78048780487805,
          14.634146341463413,
          60.97560975609756,
          63.41463414634146,
          17.073170731707318,
          63.41463414634146,
          12.195121951219512,
          43.90243902439025,
          29.268292682926827,
          46.34146341463415,
          60,
          36,
          28.000000000000004,
          20,
          16,
          8,
          32,
          48,
          12,
          52,
          60,
          44,
          28.000000000000004,
          16,
          32,
          48,
          60,
          44,
          48,
          52,
          44,
          64,
          32,
          36,
          60,
          4,
          20,
          48,
          40,
          17.073170731707318,
          21.951219512195124,
          24.390243902439025,
          12.195121951219512,
          43.90243902439025,
          24.390243902439025,
          17.073170731707318,
          29.268292682926827,
          12.195121951219512,
          75.60975609756098,
          46.34146341463415,
          46.34146341463415,
          58.536585365853654,
          21.951219512195124,
          41.46341463414634,
          36.58536585365854,
          48.78048780487805,
          48.78048780487805,
          51.21951219512195,
          70.73170731707317,
          34.146341463414636,
          53.65853658536586,
          51.21951219512195,
          46.34146341463415,
          58.536585365853654,
          24.390243902439025,
          29.268292682926827,
          36.58536585365854,
          46.34146341463415,
          17.073170731707318,
          39.02439024390244,
          24.390243902439025,
          12.195121951219512,
          60.97560975609756,
          26.82926829268293,
          14.634146341463413,
          51.21951219512195,
          21.951219512195124,
          60.97560975609756,
          51.21951219512195,
          51.21951219512195,
          41.46341463414634,
          19.51219512195122,
          43.90243902439025,
          41.46341463414634,
          36.58536585365854,
          65.85365853658537,
          48.78048780487805,
          53.65853658536586,
          53.65853658536586,
          60.97560975609756,
          43.90243902439025,
          48.78048780487805,
          60.97560975609756,
          19.51219512195122,
          17.073170731707318,
          34.146341463414636,
          43.90243902439025,
          24.390243902439025,
          53.65853658536586,
          21.951219512195124,
          17.073170731707318,
          65.85365853658537,
          17.073170731707318,
          17.073170731707318,
          24.390243902439025,
          34.146341463414636,
          58.536585365853654,
          43.90243902439025,
          39.02439024390244,
          51.21951219512195,
          46.34146341463415,
          26.82926829268293,
          41.46341463414634,
          41.46341463414634,
          51.21951219512195,
          31.70731707317073,
          46.34146341463415,
          60.97560975609756,
          63.41463414634146,
          46.34146341463415,
          43.90243902439025,
          46.34146341463415,
          19.51219512195122,
          36.58536585365854,
          58.536585365853654,
          56.09756097560976,
          21.951219512195124,
          46.34146341463415,
          7.317073170731707,
          43.90243902439025,
          7.317073170731707,
          65.85365853658537,
          9.75609756097561,
          34.146341463414636,
          36.58536585365854,
          26.82926829268293,
          46.34146341463415,
          21.951219512195124,
          40.476190476190474,
          43.90243902439025,
          39.02439024390244,
          31.70731707317073,
          39.02439024390244,
          39.02439024390244,
          56.09756097560976,
          34.146341463414636,
          56.09756097560976,
          58.536585365853654,
          66.66666666666666,
          36.58536585365854,
          21.951219512195124,
          43.90243902439025,
          19.51219512195122,
          34.146341463414636,
          48.78048780487805,
          24.390243902439025,
          41.46341463414634,
          29.268292682926827,
          39.02439024390244,
          21.951219512195124,
          39.02439024390244,
          34.146341463414636,
          24.390243902439025,
          43.90243902439025,
          24.390243902439025,
          53.65853658536586,
          31.70731707317073,
          34.146341463414636,
          65.85365853658537,
          46.34146341463415,
          39.02439024390244,
          24.390243902439025,
          65.85365853658537,
          29.268292682926827,
          26.82926829268293,
          39.02439024390244,
          51.21951219512195,
          58.536585365853654,
          39.02439024390244,
          36.58536585365854,
          34.146341463414636,
          46.34146341463415,
          19.51219512195122,
          56.09756097560976,
          9.75609756097561,
          43.90243902439025,
          31.70731707317073,
          17.073170731707318,
          48.78048780487805,
          70.73170731707317,
          43.90243902439025,
          34.146341463414636,
          60.97560975609756,
          24.390243902439025,
          29.268292682926827,
          58.536585365853654,
          17.073170731707318,
          48.78048780487805,
          43.90243902439025,
          26.82926829268293,
          29.268292682926827,
          46.34146341463415,
          43.90243902439025,
          75.60975609756098,
          21.951219512195124,
          48.78048780487805,
          51.21951219512195,
          63.41463414634146,
          26.82926829268293,
          19.51219512195122,
          46.34146341463415,
          39.02439024390244,
          53.65853658536586,
          9.75609756097561,
          19.51219512195122,
          29.268292682926827,
          46.34146341463415,
          34.146341463414636,
          48.78048780487805,
          63.41463414634146,
          43.90243902439025,
          31.70731707317073,
          46.34146341463415,
          48.78048780487805,
          43.90243902439025,
          51.21951219512195,
          36.58536585365854,
          21.951219512195124,
          48.78048780487805,
          19.51219512195122,
          24.390243902439025,
          34.146341463414636,
          36.58536585365854,
          56.09756097560976,
          14.634146341463413,
          41.46341463414634,
          70.73170731707317,
          31.70731707317073,
          29.268292682926827,
          46.34146341463415,
          46.34146341463415,
          36.58536585365854,
          65.85365853658537,
          21.951219512195124,
          29.268292682926827,
          29.268292682926827,
          48.78048780487805,
          36.58536585365854,
          43.90243902439025,
          75.60975609756098,
          53.65853658536586,
          29.268292682926827,
          58.536585365853654,
          36.58536585365854,
          41.46341463414634,
          41.46341463414634,
          24.390243902439025,
          29.268292682926827,
          41.46341463414634,
          34.146341463414636,
          36.58536585365854,
          31.70731707317073,
          34.146341463414636,
          68.29268292682927,
          34.146341463414636,
          31.70731707317073,
          65.85365853658537,
          26.82926829268293,
          41.46341463414634,
          48.78048780487805,
          19.51219512195122,
          36.58536585365854,
          65.85365853658537,
          31.70731707317073,
          29.268292682926827,
          75.60975609756098,
          43.90243902439025,
          63.41463414634146,
          31.70731707317073,
          41.46341463414634,
          41.46341463414634,
          51.21951219512195,
          58.536585365853654,
          24.390243902439025,
          65.85365853658537,
          14.634146341463413,
          17.073170731707318,
          17.073170731707318,
          31.70731707317073,
          19.51219512195122,
          65.85365853658537,
          36.58536585365854,
          43.90243902439025,
          60.97560975609756,
          31.70731707317073,
          29.268292682926827,
          52.38095238095239,
          17.073170731707318,
          39.02439024390244,
          41.46341463414634,
          19.51219512195122,
          43.90243902439025,
          60.97560975609756,
          26.82926829268293,
          39.02439024390244,
          65.85365853658537,
          65.85365853658537,
          51.21951219512195,
          31.70731707317073,
          43.90243902439025,
          51.21951219512195,
          19.51219512195122,
          48.78048780487805,
          19.51219512195122,
          70.73170731707317,
          36.58536585365854,
          29.268292682926827,
          31.70731707317073,
          36.58536585365854,
          29.268292682926827,
          65.85365853658537,
          26.82926829268293,
          41.46341463414634,
          43.90243902439025,
          48.78048780487805,
          14.634146341463413,
          63.41463414634146,
          19.51219512195122,
          36.58536585365854,
          36.58536585365854,
          19.51219512195122,
          14.634146341463413,
          43.90243902439025,
          29.268292682926827,
          46.34146341463415,
          63.41463414634146,
          63.41463414634146,
          31.70731707317073,
          41.46341463414634,
          65.85365853658537,
          46.34146341463415,
          19.51219512195122,
          46.34146341463415,
          19.51219512195122,
          56.09756097560976,
          56.09756097560976,
          43.90243902439025,
          12.195121951219512,
          9.75609756097561,
          26.82926829268293,
          60.97560975609756,
          21.951219512195124,
          36.58536585365854,
          53.65853658536586,
          58.536585365853654,
          17.073170731707318,
          51.21951219512195,
          56.09756097560976,
          36.58536585365854,
          51.21951219512195,
          41.46341463414634,
          26.82926829268293,
          24.390243902439025,
          31.70731707317073,
          48.78048780487805,
          56.09756097560976,
          17.073170731707318,
          43.90243902439025,
          63.41463414634146,
          68.29268292682927,
          41.46341463414634,
          24.390243902439025,
          43.90243902439025,
          21.951219512195124,
          65.85365853658537,
          68.29268292682927,
          31.70731707317073,
          12.195121951219512,
          12.195121951219512,
          46.34146341463415,
          56.09756097560976,
          31.70731707317073,
          36.58536585365854,
          41.46341463414634,
          43.90243902439025,
          31.70731707317073,
          60.97560975609756,
          60.97560975609756,
          14.634146341463413,
          43.90243902439025,
          39.02439024390244,
          7.317073170731707,
          21.951219512195124,
          31.70731707317073,
          51.515151515151516,
          45.45454545454545,
          30.303030303030305,
          30.303030303030305,
          72.72727272727273,
          39.39393939393939,
          54.54545454545454,
          33.33333333333333,
          36.36363636363637,
          48.484848484848484,
          45.45454545454545,
          54.54545454545454,
          42.42424242424242,
          39.39393939393939,
          39.39393939393939,
          42.42424242424242,
          48.484848484848484,
          57.57575757575758,
          48.484848484848484,
          42.42424242424242,
          24.242424242424242,
          18.181818181818183,
          66.66666666666666,
          63.63636363636363,
          30.303030303030305,
          33.33333333333333,
          45.45454545454545,
          27.27272727272727,
          21.21212121212121,
          9.090909090909092,
          46.34146341463415,
          34.146341463414636,
          24.390243902439025,
          26.82926829268293,
          51.21951219512195,
          41.46341463414634,
          46.34146341463415,
          46.34146341463415,
          39.02439024390244,
          58.536585365853654,
          39.02439024390244,
          70.73170731707317,
          41.46341463414634,
          26.82926829268293,
          56.09756097560976,
          56.09756097560976,
          19.51219512195122,
          47.5,
          26.82926829268293,
          19.51219512195122,
          26.82926829268293,
          19.51219512195122,
          56.09756097560976,
          63.41463414634146,
          31.70731707317073,
          31.70731707317073,
          58.536585365853654,
          17.073170731707318,
          26.82926829268293,
          14.634146341463413,
          32.55813953488372,
          23.25581395348837,
          34.883720930232556,
          29.268292682926827,
          52.38095238095239,
          57.14285714285714,
          34.146341463414636,
          59.523809523809526,
          52.38095238095239,
          57.14285714285714,
          31.70731707317073,
          52.38095238095239,
          11.627906976744185,
          39.02439024390244,
          36.734693877551024,
          45.23809523809524,
          9.30232558139535,
          48.837209302325576,
          21.428571428571427,
          54.761904761904766,
          54.761904761904766,
          26.190476190476193,
          73.17073170731707,
          59.523809523809526,
          55.55555555555556,
          21.951219512195124,
          56.09756097560976,
          59.64912280701754,
          30.23255813953488,
          46.51162790697674,
          60.97560975609756,
          46.34146341463415,
          53.65853658536586,
          41.46341463414634,
          56.09756097560976,
          56.09756097560976,
          26.82926829268293,
          68.29268292682927,
          63.41463414634146,
          63.41463414634146,
          21.951219512195124,
          41.46341463414634,
          43.90243902439025,
          17.073170731707318,
          46.34146341463415,
          17.073170731707318,
          29.268292682926827,
          36.58536585365854,
          14.634146341463413,
          41.46341463414634,
          46.34146341463415,
          26.82926829268293,
          53.65853658536586,
          39.02439024390244,
          53.65853658536586,
          41.46341463414634,
          58.536585365853654,
          41.46341463414634,
          34.146341463414636,
          34.146341463414636,
          51.21951219512195,
          48.78048780487805,
          58.536585365853654,
          21.951219512195124,
          39.02439024390244,
          46.34146341463415,
          36.58536585365854,
          82.92682926829268,
          43.90243902439025,
          58.536585365853654,
          12.195121951219512,
          48.78048780487805,
          24.390243902439025,
          36.58536585365854,
          17.073170731707318,
          34.146341463414636,
          29.268292682926827,
          46.34146341463415,
          7.317073170731707,
          21.951219512195124,
          39.02439024390244,
          36.58536585365854,
          65.85365853658537,
          56.09756097560976,
          58.536585365853654,
          39.02439024390244,
          39.02439024390244,
          46.34146341463415,
          43.90243902439025,
          43.90243902439025,
          48.78048780487805,
          56.09756097560976,
          48.78048780487805,
          31.70731707317073,
          39.02439024390244,
          29.268292682926827,
          43.90243902439025,
          75.60975609756098,
          60.97560975609756,
          53.65853658536586,
          21.951219512195124,
          43.90243902439025,
          46.34146341463415,
          26.82926829268293,
          17.073170731707318,
          29.268292682926827,
          31.70731707317073,
          31.70731707317073,
          26.82926829268293,
          21.951219512195124,
          39.02439024390244,
          36.58536585365854,
          73.17073170731707,
          45.23809523809524,
          56.09756097560976,
          53.65853658536586,
          46.34146341463415,
          46.34146341463415,
          31.70731707317073,
          34.146341463414636,
          19.51219512195122,
          68.29268292682927,
          51.21951219512195,
          58.536585365853654,
          23.809523809523807,
          21.951219512195124,
          36.58536585365854,
          70.73170731707317,
          75.60975609756098,
          48.78048780487805,
          36.58536585365854,
          43.90243902439025,
          46.34146341463415,
          40.476190476190474,
          31.70731707317073,
          24.390243902439025,
          19.51219512195122,
          51.21951219512195,
          53.65853658536586,
          26.82926829268293,
          51.162790697674424,
          31.70731707317073,
          34.146341463414636,
          51.21951219512195,
          60.97560975609756,
          48.78048780487805,
          14.634146341463413,
          48.78048780487805,
          34.146341463414636,
          36.58536585365854,
          29.268292682926827,
          51.21951219512195,
          14.634146341463413,
          34.146341463414636,
          31.70731707317073,
          21.951219512195124,
          48.78048780487805,
          65.85365853658537,
          53.65853658536586,
          53.65853658536586,
          36.58536585365854,
          48.78048780487805,
          65.85365853658537,
          26.82926829268293,
          46.34146341463415,
          19.51219512195122,
          41.46341463414634,
          46.34146341463415,
          48.78048780487805,
          17.073170731707318,
          51.21951219512195,
          36.58536585365854,
          39.02439024390244,
          53.65853658536586,
          63.41463414634146,
          51.21951219512195,
          29.268292682926827,
          24.390243902439025,
          36.58536585365854,
          34.146341463414636,
          18.181818181818183,
          61.111111111111114,
          27.586206896551722,
          41.66666666666667,
          25.806451612903224,
          62.16216216216216,
          55.55555555555556,
          22.58064516129032,
          55.55555555555556,
          61.111111111111114,
          75,
          40.54054054054054,
          68.42105263157895,
          34.375,
          41.66666666666667,
          30.303030303030305,
          39.473684210526315,
          54.054054054054056,
          31.57894736842105,
          50,
          36.84210526315789,
          40.54054054054054,
          35.13513513513514,
          60,
          75,
          56.75675675675676,
          38.88888888888889,
          25,
          27.27272727272727,
          38.23529411764706,
          44.44444444444444,
          43.24324324324324,
          25,
          36.11111111111111,
          44.44444444444444,
          55.55555555555556,
          55.55555555555556,
          38.88888888888889,
          22.22222222222222,
          59.45945945945946,
          58.333333333333336,
          52.77777777777778,
          56.75675675675676,
          25,
          54.054054054054056,
          44.44444444444444,
          27.77777777777778,
          58.333333333333336,
          55.55555555555556,
          66.66666666666666,
          58.333333333333336,
          38.88888888888889,
          50,
          33.33333333333333,
          27.77777777777778,
          55.55555555555556,
          55.55555555555556,
          41.66666666666667,
          18.91891891891892,
          41.66666666666667
         ],
         "yaxis": "y"
        }
       ],
       "layout": {
        "legend": {
         "title": {
          "text": "Lieu de jeu"
         },
         "tracegroupgap": 0
        },
        "template": {
         "data": {
          "bar": [
           {
            "error_x": {
             "color": "#2a3f5f"
            },
            "error_y": {
             "color": "#2a3f5f"
            },
            "marker": {
             "line": {
              "color": "#E5ECF6",
              "width": 0.5
             },
             "pattern": {
              "fillmode": "overlay",
              "size": 10,
              "solidity": 0.2
             }
            },
            "type": "bar"
           }
          ],
          "barpolar": [
           {
            "marker": {
             "line": {
              "color": "#E5ECF6",
              "width": 0.5
             },
             "pattern": {
              "fillmode": "overlay",
              "size": 10,
              "solidity": 0.2
             }
            },
            "type": "barpolar"
           }
          ],
          "carpet": [
           {
            "aaxis": {
             "endlinecolor": "#2a3f5f",
             "gridcolor": "white",
             "linecolor": "white",
             "minorgridcolor": "white",
             "startlinecolor": "#2a3f5f"
            },
            "baxis": {
             "endlinecolor": "#2a3f5f",
             "gridcolor": "white",
             "linecolor": "white",
             "minorgridcolor": "white",
             "startlinecolor": "#2a3f5f"
            },
            "type": "carpet"
           }
          ],
          "choropleth": [
           {
            "colorbar": {
             "outlinewidth": 0,
             "ticks": ""
            },
            "type": "choropleth"
           }
          ],
          "contour": [
           {
            "colorbar": {
             "outlinewidth": 0,
             "ticks": ""
            },
            "colorscale": [
             [
              0,
              "#0d0887"
             ],
             [
              0.1111111111111111,
              "#46039f"
             ],
             [
              0.2222222222222222,
              "#7201a8"
             ],
             [
              0.3333333333333333,
              "#9c179e"
             ],
             [
              0.4444444444444444,
              "#bd3786"
             ],
             [
              0.5555555555555556,
              "#d8576b"
             ],
             [
              0.6666666666666666,
              "#ed7953"
             ],
             [
              0.7777777777777778,
              "#fb9f3a"
             ],
             [
              0.8888888888888888,
              "#fdca26"
             ],
             [
              1,
              "#f0f921"
             ]
            ],
            "type": "contour"
           }
          ],
          "contourcarpet": [
           {
            "colorbar": {
             "outlinewidth": 0,
             "ticks": ""
            },
            "type": "contourcarpet"
           }
          ],
          "heatmap": [
           {
            "colorbar": {
             "outlinewidth": 0,
             "ticks": ""
            },
            "colorscale": [
             [
              0,
              "#0d0887"
             ],
             [
              0.1111111111111111,
              "#46039f"
             ],
             [
              0.2222222222222222,
              "#7201a8"
             ],
             [
              0.3333333333333333,
              "#9c179e"
             ],
             [
              0.4444444444444444,
              "#bd3786"
             ],
             [
              0.5555555555555556,
              "#d8576b"
             ],
             [
              0.6666666666666666,
              "#ed7953"
             ],
             [
              0.7777777777777778,
              "#fb9f3a"
             ],
             [
              0.8888888888888888,
              "#fdca26"
             ],
             [
              1,
              "#f0f921"
             ]
            ],
            "type": "heatmap"
           }
          ],
          "heatmapgl": [
           {
            "colorbar": {
             "outlinewidth": 0,
             "ticks": ""
            },
            "colorscale": [
             [
              0,
              "#0d0887"
             ],
             [
              0.1111111111111111,
              "#46039f"
             ],
             [
              0.2222222222222222,
              "#7201a8"
             ],
             [
              0.3333333333333333,
              "#9c179e"
             ],
             [
              0.4444444444444444,
              "#bd3786"
             ],
             [
              0.5555555555555556,
              "#d8576b"
             ],
             [
              0.6666666666666666,
              "#ed7953"
             ],
             [
              0.7777777777777778,
              "#fb9f3a"
             ],
             [
              0.8888888888888888,
              "#fdca26"
             ],
             [
              1,
              "#f0f921"
             ]
            ],
            "type": "heatmapgl"
           }
          ],
          "histogram": [
           {
            "marker": {
             "pattern": {
              "fillmode": "overlay",
              "size": 10,
              "solidity": 0.2
             }
            },
            "type": "histogram"
           }
          ],
          "histogram2d": [
           {
            "colorbar": {
             "outlinewidth": 0,
             "ticks": ""
            },
            "colorscale": [
             [
              0,
              "#0d0887"
             ],
             [
              0.1111111111111111,
              "#46039f"
             ],
             [
              0.2222222222222222,
              "#7201a8"
             ],
             [
              0.3333333333333333,
              "#9c179e"
             ],
             [
              0.4444444444444444,
              "#bd3786"
             ],
             [
              0.5555555555555556,
              "#d8576b"
             ],
             [
              0.6666666666666666,
              "#ed7953"
             ],
             [
              0.7777777777777778,
              "#fb9f3a"
             ],
             [
              0.8888888888888888,
              "#fdca26"
             ],
             [
              1,
              "#f0f921"
             ]
            ],
            "type": "histogram2d"
           }
          ],
          "histogram2dcontour": [
           {
            "colorbar": {
             "outlinewidth": 0,
             "ticks": ""
            },
            "colorscale": [
             [
              0,
              "#0d0887"
             ],
             [
              0.1111111111111111,
              "#46039f"
             ],
             [
              0.2222222222222222,
              "#7201a8"
             ],
             [
              0.3333333333333333,
              "#9c179e"
             ],
             [
              0.4444444444444444,
              "#bd3786"
             ],
             [
              0.5555555555555556,
              "#d8576b"
             ],
             [
              0.6666666666666666,
              "#ed7953"
             ],
             [
              0.7777777777777778,
              "#fb9f3a"
             ],
             [
              0.8888888888888888,
              "#fdca26"
             ],
             [
              1,
              "#f0f921"
             ]
            ],
            "type": "histogram2dcontour"
           }
          ],
          "mesh3d": [
           {
            "colorbar": {
             "outlinewidth": 0,
             "ticks": ""
            },
            "type": "mesh3d"
           }
          ],
          "parcoords": [
           {
            "line": {
             "colorbar": {
              "outlinewidth": 0,
              "ticks": ""
             }
            },
            "type": "parcoords"
           }
          ],
          "pie": [
           {
            "automargin": true,
            "type": "pie"
           }
          ],
          "scatter": [
           {
            "fillpattern": {
             "fillmode": "overlay",
             "size": 10,
             "solidity": 0.2
            },
            "type": "scatter"
           }
          ],
          "scatter3d": [
           {
            "line": {
             "colorbar": {
              "outlinewidth": 0,
              "ticks": ""
             }
            },
            "marker": {
             "colorbar": {
              "outlinewidth": 0,
              "ticks": ""
             }
            },
            "type": "scatter3d"
           }
          ],
          "scattercarpet": [
           {
            "marker": {
             "colorbar": {
              "outlinewidth": 0,
              "ticks": ""
             }
            },
            "type": "scattercarpet"
           }
          ],
          "scattergeo": [
           {
            "marker": {
             "colorbar": {
              "outlinewidth": 0,
              "ticks": ""
             }
            },
            "type": "scattergeo"
           }
          ],
          "scattergl": [
           {
            "marker": {
             "colorbar": {
              "outlinewidth": 0,
              "ticks": ""
             }
            },
            "type": "scattergl"
           }
          ],
          "scattermapbox": [
           {
            "marker": {
             "colorbar": {
              "outlinewidth": 0,
              "ticks": ""
             }
            },
            "type": "scattermapbox"
           }
          ],
          "scatterpolar": [
           {
            "marker": {
             "colorbar": {
              "outlinewidth": 0,
              "ticks": ""
             }
            },
            "type": "scatterpolar"
           }
          ],
          "scatterpolargl": [
           {
            "marker": {
             "colorbar": {
              "outlinewidth": 0,
              "ticks": ""
             }
            },
            "type": "scatterpolargl"
           }
          ],
          "scatterternary": [
           {
            "marker": {
             "colorbar": {
              "outlinewidth": 0,
              "ticks": ""
             }
            },
            "type": "scatterternary"
           }
          ],
          "surface": [
           {
            "colorbar": {
             "outlinewidth": 0,
             "ticks": ""
            },
            "colorscale": [
             [
              0,
              "#0d0887"
             ],
             [
              0.1111111111111111,
              "#46039f"
             ],
             [
              0.2222222222222222,
              "#7201a8"
             ],
             [
              0.3333333333333333,
              "#9c179e"
             ],
             [
              0.4444444444444444,
              "#bd3786"
             ],
             [
              0.5555555555555556,
              "#d8576b"
             ],
             [
              0.6666666666666666,
              "#ed7953"
             ],
             [
              0.7777777777777778,
              "#fb9f3a"
             ],
             [
              0.8888888888888888,
              "#fdca26"
             ],
             [
              1,
              "#f0f921"
             ]
            ],
            "type": "surface"
           }
          ],
          "table": [
           {
            "cells": {
             "fill": {
              "color": "#EBF0F8"
             },
             "line": {
              "color": "white"
             }
            },
            "header": {
             "fill": {
              "color": "#C8D4E3"
             },
             "line": {
              "color": "white"
             }
            },
            "type": "table"
           }
          ]
         },
         "layout": {
          "annotationdefaults": {
           "arrowcolor": "#2a3f5f",
           "arrowhead": 0,
           "arrowwidth": 1
          },
          "autotypenumbers": "strict",
          "coloraxis": {
           "colorbar": {
            "outlinewidth": 0,
            "ticks": ""
           }
          },
          "colorscale": {
           "diverging": [
            [
             0,
             "#8e0152"
            ],
            [
             0.1,
             "#c51b7d"
            ],
            [
             0.2,
             "#de77ae"
            ],
            [
             0.3,
             "#f1b6da"
            ],
            [
             0.4,
             "#fde0ef"
            ],
            [
             0.5,
             "#f7f7f7"
            ],
            [
             0.6,
             "#e6f5d0"
            ],
            [
             0.7,
             "#b8e186"
            ],
            [
             0.8,
             "#7fbc41"
            ],
            [
             0.9,
             "#4d9221"
            ],
            [
             1,
             "#276419"
            ]
           ],
           "sequential": [
            [
             0,
             "#0d0887"
            ],
            [
             0.1111111111111111,
             "#46039f"
            ],
            [
             0.2222222222222222,
             "#7201a8"
            ],
            [
             0.3333333333333333,
             "#9c179e"
            ],
            [
             0.4444444444444444,
             "#bd3786"
            ],
            [
             0.5555555555555556,
             "#d8576b"
            ],
            [
             0.6666666666666666,
             "#ed7953"
            ],
            [
             0.7777777777777778,
             "#fb9f3a"
            ],
            [
             0.8888888888888888,
             "#fdca26"
            ],
            [
             1,
             "#f0f921"
            ]
           ],
           "sequentialminus": [
            [
             0,
             "#0d0887"
            ],
            [
             0.1111111111111111,
             "#46039f"
            ],
            [
             0.2222222222222222,
             "#7201a8"
            ],
            [
             0.3333333333333333,
             "#9c179e"
            ],
            [
             0.4444444444444444,
             "#bd3786"
            ],
            [
             0.5555555555555556,
             "#d8576b"
            ],
            [
             0.6666666666666666,
             "#ed7953"
            ],
            [
             0.7777777777777778,
             "#fb9f3a"
            ],
            [
             0.8888888888888888,
             "#fdca26"
            ],
            [
             1,
             "#f0f921"
            ]
           ]
          },
          "colorway": [
           "#636efa",
           "#EF553B",
           "#00cc96",
           "#ab63fa",
           "#FFA15A",
           "#19d3f3",
           "#FF6692",
           "#B6E880",
           "#FF97FF",
           "#FECB52"
          ],
          "font": {
           "color": "#2a3f5f"
          },
          "geo": {
           "bgcolor": "white",
           "lakecolor": "white",
           "landcolor": "#E5ECF6",
           "showlakes": true,
           "showland": true,
           "subunitcolor": "white"
          },
          "hoverlabel": {
           "align": "left"
          },
          "hovermode": "closest",
          "mapbox": {
           "style": "light"
          },
          "paper_bgcolor": "white",
          "plot_bgcolor": "#E5ECF6",
          "polar": {
           "angularaxis": {
            "gridcolor": "white",
            "linecolor": "white",
            "ticks": ""
           },
           "bgcolor": "#E5ECF6",
           "radialaxis": {
            "gridcolor": "white",
            "linecolor": "white",
            "ticks": ""
           }
          },
          "scene": {
           "xaxis": {
            "backgroundcolor": "#E5ECF6",
            "gridcolor": "white",
            "gridwidth": 2,
            "linecolor": "white",
            "showbackground": true,
            "ticks": "",
            "zerolinecolor": "white"
           },
           "yaxis": {
            "backgroundcolor": "#E5ECF6",
            "gridcolor": "white",
            "gridwidth": 2,
            "linecolor": "white",
            "showbackground": true,
            "ticks": "",
            "zerolinecolor": "white"
           },
           "zaxis": {
            "backgroundcolor": "#E5ECF6",
            "gridcolor": "white",
            "gridwidth": 2,
            "linecolor": "white",
            "showbackground": true,
            "ticks": "",
            "zerolinecolor": "white"
           }
          },
          "shapedefaults": {
           "line": {
            "color": "#2a3f5f"
           }
          },
          "ternary": {
           "aaxis": {
            "gridcolor": "white",
            "linecolor": "white",
            "ticks": ""
           },
           "baxis": {
            "gridcolor": "white",
            "linecolor": "white",
            "ticks": ""
           },
           "bgcolor": "#E5ECF6",
           "caxis": {
            "gridcolor": "white",
            "linecolor": "white",
            "ticks": ""
           }
          },
          "title": {
           "x": 0.05
          },
          "xaxis": {
           "automargin": true,
           "gridcolor": "white",
           "linecolor": "white",
           "ticks": "",
           "title": {
            "standoff": 15
           },
           "zerolinecolor": "white",
           "zerolinewidth": 2
          },
          "yaxis": {
           "automargin": true,
           "gridcolor": "white",
           "linecolor": "white",
           "ticks": "",
           "title": {
            "standoff": 15
           },
           "zerolinecolor": "white",
           "zerolinewidth": 2
          }
         }
        },
        "title": {
         "text": "Pourcentage de victoires par équipe et par lieu de jeu (1946-2020)"
        },
        "xaxis": {
         "anchor": "y",
         "domain": [
          0,
          1
         ],
         "title": {
          "text": "Saison"
         }
        },
        "yaxis": {
         "anchor": "x",
         "domain": [
          0,
          1
         ],
         "title": {
          "text": "Pourcentage de victoires"
         }
        }
       }
      }
     },
     "metadata": {},
     "output_type": "display_data"
    }
   ],
   "source": [
    "import pandas as pd\n",
    "import plotly.express as px\n",
    "\n",
    "# Charger les fichiers CSV\n",
    "games = pd.read_csv('./csv/Game.csv')\n",
    "teams = pd.read_csv('./csv/Team_Attributes.csv')\n",
    "\n",
    "# Extraire l'année de la saison à partir de SEASON_ID\n",
    "games['SEASON_YEAR'] = games['SEASON_ID'].astype(str).str[1:5].astype(int)\n",
    "\n",
    "# Calculer le nombre de victoires et de matchs joués à domicile et à l'extérieur pour chaque équipe chaque saison\n",
    "home_stats = games.groupby(['SEASON_YEAR', 'TEAM_ID_HOME']).agg(\n",
    "    HOME_WINS=('WL_HOME', lambda x: (x == 'W').sum()),\n",
    "    HOME_GAMES=('TEAM_ID_HOME', 'count')\n",
    ").reset_index()\n",
    "home_stats['HOME_WIN_PCT'] = (home_stats['HOME_WINS'] / home_stats['HOME_GAMES']) * 100\n",
    "home_stats['game_location'] = 'home'\n",
    "home_stats.rename(columns={'TEAM_ID_HOME': 'TEAM_ID'}, inplace=True)\n",
    "\n",
    "away_stats = games.groupby(['SEASON_YEAR', 'TEAM_ID_AWAY']).agg(\n",
    "    AWAY_WINS=('WL_AWAY', lambda x: (x == 'W').sum()),\n",
    "    AWAY_GAMES=('TEAM_ID_AWAY', 'count')\n",
    ").reset_index()\n",
    "away_stats['AWAY_WIN_PCT'] = (away_stats['AWAY_WINS'] / away_stats['AWAY_GAMES']) * 100\n",
    "away_stats['game_location'] = 'away'\n",
    "away_stats.rename(columns={'TEAM_ID_AWAY': 'TEAM_ID'}, inplace=True)\n",
    "\n",
    "# Fusionner les données de victoires à domicile et à l'extérieur\n",
    "home_stats = home_stats[['SEASON_YEAR', 'TEAM_ID', 'HOME_WIN_PCT', 'game_location']]\n",
    "home_stats.rename(columns={'HOME_WIN_PCT': 'win_percentage'}, inplace=True)\n",
    "away_stats = away_stats[['SEASON_YEAR', 'TEAM_ID', 'AWAY_WIN_PCT', 'game_location']]\n",
    "away_stats.rename(columns={'AWAY_WIN_PCT': 'win_percentage'}, inplace=True)\n",
    "\n",
    "team_stats = pd.concat([home_stats, away_stats], ignore_index=True)\n",
    "\n",
    "# Ajouter les noms des équipes en utilisant Team_Attributes.csv\n",
    "teams = teams[['ID', 'NICKNAME']]\n",
    "team_stats = pd.merge(team_stats, teams, left_on='TEAM_ID', right_on='ID', how='left')\n",
    "\n",
    "# Calculer le pourcentage global de victoires à domicile pour chaque saison\n",
    "overall_home_stats = games.groupby('SEASON_YEAR').agg(\n",
    "    home_win_count=('WL_HOME', lambda x: (x == 'W').sum()),\n",
    "    total_game_count=('TEAM_ID_HOME', 'count')\n",
    ").reset_index()\n",
    "overall_home_stats['home_won_percentage'] = (overall_home_stats['home_win_count'] / overall_home_stats['total_game_count']) * 100\n",
    "\n",
    "# Utiliser plotly.express pour créer le graphique linéaire pour le pourcentage global de victoires à domicile\n",
    "fig1 = px.line(overall_home_stats, x='SEASON_YEAR', y='home_won_percentage', \n",
    "               title='1946-2020: Pourcentage global de victoires à domicile',\n",
    "               labels={'SEASON_YEAR': 'Saison', 'home_won_percentage': 'Pourcentage de victoires à domicile'})\n",
    "\n",
    "fig1.show()\n",
    "\n",
    "# Utiliser plotly.express pour créer le scatter plot\n",
    "fig2 = px.scatter(team_stats, x='SEASON_YEAR', y='win_percentage', color='game_location', \n",
    "                 title='Pourcentage de victoires par équipe et par lieu de jeu (1946-2020)',\n",
    "                 labels={'SEASON_YEAR': 'Saison', 'win_percentage': 'Pourcentage de victoires', 'game_location': 'Lieu de jeu', 'NICKNAME': 'Équipe'},\n",
    "                 hover_data=['NICKNAME'])\n",
    "\n",
    "fig2.show()\n"
   ]
  },
  {
   "cell_type": "markdown",
   "metadata": {},
   "source": [
    "### Le tir à 3 points"
   ]
  },
  {
   "cell_type": "code",
   "execution_count": 52,
   "metadata": {},
   "outputs": [
    {
     "name": "stderr",
     "output_type": "stream",
     "text": [
      "C:\\Users\\Public\\Documents\\Wondershare\\CreatorTemp\\ipykernel_18068\\692667930.py:7: DtypeWarning:\n",
      "\n",
      "Columns (58,64,65,68,79,93) have mixed types. Specify dtype option on import or set low_memory=False.\n",
      "\n"
     ]
    },
    {
     "data": {
      "application/vnd.plotly.v1+json": {
       "config": {
        "plotlyServerURL": "https://plot.ly"
       },
       "data": [
        {
         "line": {
          "color": "blue"
         },
         "mode": "lines",
         "name": "Nombre de tirs à 3 points tentés par match",
         "type": "scatter",
         "x": [
          1987,
          1988,
          1989,
          1990,
          1991,
          1992,
          1993,
          1994,
          1995,
          1996,
          1997,
          1998,
          1999,
          2000,
          2001,
          2002,
          2003,
          2004,
          2005,
          2006,
          2007,
          2008,
          2009,
          2010,
          2011,
          2012,
          2013,
          2014,
          2015,
          2016,
          2017,
          2018,
          2019,
          2020
         ],
         "xaxis": "x",
         "y": [
          4.8560439560439566,
          5.283028455284553,
          6.800755429650613,
          6.685983827493262,
          7.438620071684587,
          7.938081936685289,
          9.358997314234557,
          11.64517583408476,
          15.558311575282854,
          16.36136552872606,
          15.213865546218486,
          13.112924281984334,
          13.234088927637316,
          13.681177446102819,
          14.200507614213198,
          14.606048053024026,
          14.863140218303947,
          15.107296137339056,
          15.799273021001616,
          16.441293929712458,
          17.416666666666668,
          18.103849238171613,
          18.084484159220146,
          18.2590799031477,
          17.981965174129353,
          18.904316546762587,
          20.452076677316292,
          21.79580745341615,
          23.079967689822293,
          25.25541299117883,
          27.847911741528762,
          30.131260096930532,
          33.10379746835443,
          34.492776886035315
         ],
         "yaxis": "y"
        },
        {
         "line": {
          "color": "red"
         },
         "mode": "lines",
         "name": "Nombre de tirs à 3 points réussis par match",
         "type": "scatter",
         "x": [
          1987,
          1988,
          1989,
          1990,
          1991,
          1992,
          1993,
          1994,
          1995,
          1996,
          1997,
          1998,
          1999,
          2000,
          2001,
          2002,
          2003,
          2004,
          2005,
          2006,
          2007,
          2008,
          2009,
          2010,
          2011,
          2012,
          2013,
          2014,
          2015,
          2016,
          2017,
          2018,
          2019,
          2020
         ],
         "xaxis": "x",
         "y": [
          1.4901098901098901,
          1.6829268292682928,
          2.1978281397544857,
          2.2223719676549867,
          2.387096774193548,
          2.6527001862197395,
          3.131154879140555,
          3.9927862939585212,
          5.637075718015666,
          5.96044962531224,
          5.402521008403362,
          4.573107049608355,
          4.5231037489102,
          4.8121890547263675,
          5.052876480541455,
          5.152858326429163,
          5.157850545759866,
          5.270815450643777,
          5.650242326332794,
          5.85982428115016,
          6.2752032520325205,
          6.580593424218124,
          6.554833468724614,
          6.567796610169491,
          6.395522388059701,
          6.659352517985612,
          7.348242811501597,
          7.775621118012422,
          8.067851373182553,
          8.9915797914996,
          10.040977147360126,
          10.75605815831987,
          11.786075949367088,
          12.447833065810595
         ],
         "yaxis": "y"
        },
        {
         "line": {
          "color": "green"
         },
         "mode": "lines",
         "name": "Points par match",
         "type": "scatter",
         "x": [
          1987,
          1988,
          1989,
          1990,
          1991,
          1992,
          1993,
          1994,
          1995,
          1996,
          1997,
          1998,
          1999,
          2000,
          2001,
          2002,
          2003,
          2004,
          2005,
          2006,
          2007,
          2008,
          2009,
          2010,
          2011,
          2012,
          2013,
          2014,
          2015,
          2016,
          2017,
          2018,
          2019,
          2020
         ],
         "xaxis": "x",
         "y": [
          219.47252747252747,
          217.0589430894309,
          215.91784702549575,
          215.19496855345912,
          210.86200716845877,
          211.2122905027933,
          207.26857654431512,
          203.87917042380522,
          202.12793733681463,
          194.97835137385513,
          193.8126050420168,
          191.77284595300262,
          187.29468177855276,
          192.24212271973465,
          190.53384094754654,
          190.1814415907208,
          189.10999160369437,
          189.4618025751073,
          194.54200323101776,
          195.59105431309905,
          197.64634146341464,
          199.72173215717723,
          200.75385865150284,
          200.4818401937046,
          199.07960199004975,
          193.4338129496403,
          198.11102236421726,
          202.180900621118,
          200.4660743134087,
          208.11307137129108,
          211.78014184397162,
          217.078352180937,
          222.63544303797468,
          226.07383627608345
         ],
         "yaxis": "y2"
        }
       ],
       "layout": {
        "template": {
         "data": {
          "bar": [
           {
            "error_x": {
             "color": "#2a3f5f"
            },
            "error_y": {
             "color": "#2a3f5f"
            },
            "marker": {
             "line": {
              "color": "#E5ECF6",
              "width": 0.5
             },
             "pattern": {
              "fillmode": "overlay",
              "size": 10,
              "solidity": 0.2
             }
            },
            "type": "bar"
           }
          ],
          "barpolar": [
           {
            "marker": {
             "line": {
              "color": "#E5ECF6",
              "width": 0.5
             },
             "pattern": {
              "fillmode": "overlay",
              "size": 10,
              "solidity": 0.2
             }
            },
            "type": "barpolar"
           }
          ],
          "carpet": [
           {
            "aaxis": {
             "endlinecolor": "#2a3f5f",
             "gridcolor": "white",
             "linecolor": "white",
             "minorgridcolor": "white",
             "startlinecolor": "#2a3f5f"
            },
            "baxis": {
             "endlinecolor": "#2a3f5f",
             "gridcolor": "white",
             "linecolor": "white",
             "minorgridcolor": "white",
             "startlinecolor": "#2a3f5f"
            },
            "type": "carpet"
           }
          ],
          "choropleth": [
           {
            "colorbar": {
             "outlinewidth": 0,
             "ticks": ""
            },
            "type": "choropleth"
           }
          ],
          "contour": [
           {
            "colorbar": {
             "outlinewidth": 0,
             "ticks": ""
            },
            "colorscale": [
             [
              0,
              "#0d0887"
             ],
             [
              0.1111111111111111,
              "#46039f"
             ],
             [
              0.2222222222222222,
              "#7201a8"
             ],
             [
              0.3333333333333333,
              "#9c179e"
             ],
             [
              0.4444444444444444,
              "#bd3786"
             ],
             [
              0.5555555555555556,
              "#d8576b"
             ],
             [
              0.6666666666666666,
              "#ed7953"
             ],
             [
              0.7777777777777778,
              "#fb9f3a"
             ],
             [
              0.8888888888888888,
              "#fdca26"
             ],
             [
              1,
              "#f0f921"
             ]
            ],
            "type": "contour"
           }
          ],
          "contourcarpet": [
           {
            "colorbar": {
             "outlinewidth": 0,
             "ticks": ""
            },
            "type": "contourcarpet"
           }
          ],
          "heatmap": [
           {
            "colorbar": {
             "outlinewidth": 0,
             "ticks": ""
            },
            "colorscale": [
             [
              0,
              "#0d0887"
             ],
             [
              0.1111111111111111,
              "#46039f"
             ],
             [
              0.2222222222222222,
              "#7201a8"
             ],
             [
              0.3333333333333333,
              "#9c179e"
             ],
             [
              0.4444444444444444,
              "#bd3786"
             ],
             [
              0.5555555555555556,
              "#d8576b"
             ],
             [
              0.6666666666666666,
              "#ed7953"
             ],
             [
              0.7777777777777778,
              "#fb9f3a"
             ],
             [
              0.8888888888888888,
              "#fdca26"
             ],
             [
              1,
              "#f0f921"
             ]
            ],
            "type": "heatmap"
           }
          ],
          "heatmapgl": [
           {
            "colorbar": {
             "outlinewidth": 0,
             "ticks": ""
            },
            "colorscale": [
             [
              0,
              "#0d0887"
             ],
             [
              0.1111111111111111,
              "#46039f"
             ],
             [
              0.2222222222222222,
              "#7201a8"
             ],
             [
              0.3333333333333333,
              "#9c179e"
             ],
             [
              0.4444444444444444,
              "#bd3786"
             ],
             [
              0.5555555555555556,
              "#d8576b"
             ],
             [
              0.6666666666666666,
              "#ed7953"
             ],
             [
              0.7777777777777778,
              "#fb9f3a"
             ],
             [
              0.8888888888888888,
              "#fdca26"
             ],
             [
              1,
              "#f0f921"
             ]
            ],
            "type": "heatmapgl"
           }
          ],
          "histogram": [
           {
            "marker": {
             "pattern": {
              "fillmode": "overlay",
              "size": 10,
              "solidity": 0.2
             }
            },
            "type": "histogram"
           }
          ],
          "histogram2d": [
           {
            "colorbar": {
             "outlinewidth": 0,
             "ticks": ""
            },
            "colorscale": [
             [
              0,
              "#0d0887"
             ],
             [
              0.1111111111111111,
              "#46039f"
             ],
             [
              0.2222222222222222,
              "#7201a8"
             ],
             [
              0.3333333333333333,
              "#9c179e"
             ],
             [
              0.4444444444444444,
              "#bd3786"
             ],
             [
              0.5555555555555556,
              "#d8576b"
             ],
             [
              0.6666666666666666,
              "#ed7953"
             ],
             [
              0.7777777777777778,
              "#fb9f3a"
             ],
             [
              0.8888888888888888,
              "#fdca26"
             ],
             [
              1,
              "#f0f921"
             ]
            ],
            "type": "histogram2d"
           }
          ],
          "histogram2dcontour": [
           {
            "colorbar": {
             "outlinewidth": 0,
             "ticks": ""
            },
            "colorscale": [
             [
              0,
              "#0d0887"
             ],
             [
              0.1111111111111111,
              "#46039f"
             ],
             [
              0.2222222222222222,
              "#7201a8"
             ],
             [
              0.3333333333333333,
              "#9c179e"
             ],
             [
              0.4444444444444444,
              "#bd3786"
             ],
             [
              0.5555555555555556,
              "#d8576b"
             ],
             [
              0.6666666666666666,
              "#ed7953"
             ],
             [
              0.7777777777777778,
              "#fb9f3a"
             ],
             [
              0.8888888888888888,
              "#fdca26"
             ],
             [
              1,
              "#f0f921"
             ]
            ],
            "type": "histogram2dcontour"
           }
          ],
          "mesh3d": [
           {
            "colorbar": {
             "outlinewidth": 0,
             "ticks": ""
            },
            "type": "mesh3d"
           }
          ],
          "parcoords": [
           {
            "line": {
             "colorbar": {
              "outlinewidth": 0,
              "ticks": ""
             }
            },
            "type": "parcoords"
           }
          ],
          "pie": [
           {
            "automargin": true,
            "type": "pie"
           }
          ],
          "scatter": [
           {
            "fillpattern": {
             "fillmode": "overlay",
             "size": 10,
             "solidity": 0.2
            },
            "type": "scatter"
           }
          ],
          "scatter3d": [
           {
            "line": {
             "colorbar": {
              "outlinewidth": 0,
              "ticks": ""
             }
            },
            "marker": {
             "colorbar": {
              "outlinewidth": 0,
              "ticks": ""
             }
            },
            "type": "scatter3d"
           }
          ],
          "scattercarpet": [
           {
            "marker": {
             "colorbar": {
              "outlinewidth": 0,
              "ticks": ""
             }
            },
            "type": "scattercarpet"
           }
          ],
          "scattergeo": [
           {
            "marker": {
             "colorbar": {
              "outlinewidth": 0,
              "ticks": ""
             }
            },
            "type": "scattergeo"
           }
          ],
          "scattergl": [
           {
            "marker": {
             "colorbar": {
              "outlinewidth": 0,
              "ticks": ""
             }
            },
            "type": "scattergl"
           }
          ],
          "scattermapbox": [
           {
            "marker": {
             "colorbar": {
              "outlinewidth": 0,
              "ticks": ""
             }
            },
            "type": "scattermapbox"
           }
          ],
          "scatterpolar": [
           {
            "marker": {
             "colorbar": {
              "outlinewidth": 0,
              "ticks": ""
             }
            },
            "type": "scatterpolar"
           }
          ],
          "scatterpolargl": [
           {
            "marker": {
             "colorbar": {
              "outlinewidth": 0,
              "ticks": ""
             }
            },
            "type": "scatterpolargl"
           }
          ],
          "scatterternary": [
           {
            "marker": {
             "colorbar": {
              "outlinewidth": 0,
              "ticks": ""
             }
            },
            "type": "scatterternary"
           }
          ],
          "surface": [
           {
            "colorbar": {
             "outlinewidth": 0,
             "ticks": ""
            },
            "colorscale": [
             [
              0,
              "#0d0887"
             ],
             [
              0.1111111111111111,
              "#46039f"
             ],
             [
              0.2222222222222222,
              "#7201a8"
             ],
             [
              0.3333333333333333,
              "#9c179e"
             ],
             [
              0.4444444444444444,
              "#bd3786"
             ],
             [
              0.5555555555555556,
              "#d8576b"
             ],
             [
              0.6666666666666666,
              "#ed7953"
             ],
             [
              0.7777777777777778,
              "#fb9f3a"
             ],
             [
              0.8888888888888888,
              "#fdca26"
             ],
             [
              1,
              "#f0f921"
             ]
            ],
            "type": "surface"
           }
          ],
          "table": [
           {
            "cells": {
             "fill": {
              "color": "#EBF0F8"
             },
             "line": {
              "color": "white"
             }
            },
            "header": {
             "fill": {
              "color": "#C8D4E3"
             },
             "line": {
              "color": "white"
             }
            },
            "type": "table"
           }
          ]
         },
         "layout": {
          "annotationdefaults": {
           "arrowcolor": "#2a3f5f",
           "arrowhead": 0,
           "arrowwidth": 1
          },
          "autotypenumbers": "strict",
          "coloraxis": {
           "colorbar": {
            "outlinewidth": 0,
            "ticks": ""
           }
          },
          "colorscale": {
           "diverging": [
            [
             0,
             "#8e0152"
            ],
            [
             0.1,
             "#c51b7d"
            ],
            [
             0.2,
             "#de77ae"
            ],
            [
             0.3,
             "#f1b6da"
            ],
            [
             0.4,
             "#fde0ef"
            ],
            [
             0.5,
             "#f7f7f7"
            ],
            [
             0.6,
             "#e6f5d0"
            ],
            [
             0.7,
             "#b8e186"
            ],
            [
             0.8,
             "#7fbc41"
            ],
            [
             0.9,
             "#4d9221"
            ],
            [
             1,
             "#276419"
            ]
           ],
           "sequential": [
            [
             0,
             "#0d0887"
            ],
            [
             0.1111111111111111,
             "#46039f"
            ],
            [
             0.2222222222222222,
             "#7201a8"
            ],
            [
             0.3333333333333333,
             "#9c179e"
            ],
            [
             0.4444444444444444,
             "#bd3786"
            ],
            [
             0.5555555555555556,
             "#d8576b"
            ],
            [
             0.6666666666666666,
             "#ed7953"
            ],
            [
             0.7777777777777778,
             "#fb9f3a"
            ],
            [
             0.8888888888888888,
             "#fdca26"
            ],
            [
             1,
             "#f0f921"
            ]
           ],
           "sequentialminus": [
            [
             0,
             "#0d0887"
            ],
            [
             0.1111111111111111,
             "#46039f"
            ],
            [
             0.2222222222222222,
             "#7201a8"
            ],
            [
             0.3333333333333333,
             "#9c179e"
            ],
            [
             0.4444444444444444,
             "#bd3786"
            ],
            [
             0.5555555555555556,
             "#d8576b"
            ],
            [
             0.6666666666666666,
             "#ed7953"
            ],
            [
             0.7777777777777778,
             "#fb9f3a"
            ],
            [
             0.8888888888888888,
             "#fdca26"
            ],
            [
             1,
             "#f0f921"
            ]
           ]
          },
          "colorway": [
           "#636efa",
           "#EF553B",
           "#00cc96",
           "#ab63fa",
           "#FFA15A",
           "#19d3f3",
           "#FF6692",
           "#B6E880",
           "#FF97FF",
           "#FECB52"
          ],
          "font": {
           "color": "#2a3f5f"
          },
          "geo": {
           "bgcolor": "white",
           "lakecolor": "white",
           "landcolor": "#E5ECF6",
           "showlakes": true,
           "showland": true,
           "subunitcolor": "white"
          },
          "hoverlabel": {
           "align": "left"
          },
          "hovermode": "closest",
          "mapbox": {
           "style": "light"
          },
          "paper_bgcolor": "white",
          "plot_bgcolor": "#E5ECF6",
          "polar": {
           "angularaxis": {
            "gridcolor": "white",
            "linecolor": "white",
            "ticks": ""
           },
           "bgcolor": "#E5ECF6",
           "radialaxis": {
            "gridcolor": "white",
            "linecolor": "white",
            "ticks": ""
           }
          },
          "scene": {
           "xaxis": {
            "backgroundcolor": "#E5ECF6",
            "gridcolor": "white",
            "gridwidth": 2,
            "linecolor": "white",
            "showbackground": true,
            "ticks": "",
            "zerolinecolor": "white"
           },
           "yaxis": {
            "backgroundcolor": "#E5ECF6",
            "gridcolor": "white",
            "gridwidth": 2,
            "linecolor": "white",
            "showbackground": true,
            "ticks": "",
            "zerolinecolor": "white"
           },
           "zaxis": {
            "backgroundcolor": "#E5ECF6",
            "gridcolor": "white",
            "gridwidth": 2,
            "linecolor": "white",
            "showbackground": true,
            "ticks": "",
            "zerolinecolor": "white"
           }
          },
          "shapedefaults": {
           "line": {
            "color": "#2a3f5f"
           }
          },
          "ternary": {
           "aaxis": {
            "gridcolor": "white",
            "linecolor": "white",
            "ticks": ""
           },
           "baxis": {
            "gridcolor": "white",
            "linecolor": "white",
            "ticks": ""
           },
           "bgcolor": "#E5ECF6",
           "caxis": {
            "gridcolor": "white",
            "linecolor": "white",
            "ticks": ""
           }
          },
          "title": {
           "x": 0.05
          },
          "xaxis": {
           "automargin": true,
           "gridcolor": "white",
           "linecolor": "white",
           "ticks": "",
           "title": {
            "standoff": 15
           },
           "zerolinecolor": "white",
           "zerolinewidth": 2
          },
          "yaxis": {
           "automargin": true,
           "gridcolor": "white",
           "linecolor": "white",
           "ticks": "",
           "title": {
            "standoff": 15
           },
           "zerolinecolor": "white",
           "zerolinewidth": 2
          }
         }
        },
        "title": {
         "text": "Évolution du nombre de tirs à 3 points tentés et réussis par match et de la moyenne des points par match en NBA depuis 1986"
        },
        "xaxis": {
         "anchor": "y",
         "domain": [
          0,
          0.94
         ]
        },
        "yaxis": {
         "anchor": "x",
         "domain": [
          0,
          1
         ],
         "title": {
          "text": "Nombre de tirs à 3 points par match"
         }
        },
        "yaxis2": {
         "anchor": "x",
         "overlaying": "y",
         "side": "right",
         "title": {
          "text": "Points par match"
         }
        }
       }
      }
     },
     "metadata": {},
     "output_type": "display_data"
    }
   ],
   "source": [
    "import pandas as pd\n",
    "import plotly.express as px\n",
    "from plotly.subplots import make_subplots\n",
    "import plotly.graph_objects as go\n",
    "\n",
    "# Charger le fichier CSV\n",
    "df = pd.read_csv('./csv/Game.csv')\n",
    "\n",
    "# Ajouter une colonne pour la saison (extraction de l'année)\n",
    "df['season'] = df['GAME_DATE'].str[:4].astype(int)\n",
    "\n",
    "# Exclure la saison 2021\n",
    "df = df[df['season'] != 2021]\n",
    "\n",
    "# Calculer le nombre de tirs à 3 points tentés et réussis par match pour chaque équipe\n",
    "df['three_point_attempts_home'] = df['FG3A_HOME'].astype(float)\n",
    "df['three_point_attempts_away'] = df['FG3A_AWAY'].astype(float)\n",
    "df['three_point_made_home'] = df['FG3M_HOME'].astype(float)\n",
    "df['three_point_made_away'] = df['FG3M_AWAY'].astype(float)\n",
    "\n",
    "# Calculer le nombre de points par match pour chaque équipe\n",
    "df['total_points'] = df['PTS_HOME'].astype(float) + df['PTS_AWAY'].astype(float)\n",
    "\n",
    "# Agréger les données par saison pour obtenir la moyenne des tirs à 3 points tentés et réussis par match et la moyenne des points par match\n",
    "season_stats = df.groupby('season').agg({\n",
    "    'three_point_attempts_home': 'mean', \n",
    "    'three_point_attempts_away': 'mean', \n",
    "    'three_point_made_home': 'mean', \n",
    "    'three_point_made_away': 'mean', \n",
    "    'total_points': 'mean'\n",
    "}).reset_index()\n",
    "\n",
    "season_stats['avg_3P_attempts'] = season_stats[['three_point_attempts_home', 'three_point_attempts_away']].mean(axis=1)\n",
    "season_stats['avg_3P_made'] = season_stats[['three_point_made_home', 'three_point_made_away']].mean(axis=1)\n",
    "\n",
    "# Filtrer les données pour afficher les saisons après 1986\n",
    "season_stats_filtered = season_stats[season_stats['season'] > 1986]\n",
    "\n",
    "# Créer une visualisation avec deux axes y\n",
    "fig = make_subplots(specs=[[{\"secondary_y\": True}]])\n",
    "\n",
    "# Tracer le nombre moyen de tirs à 3 points tentés par match\n",
    "trace_3P_attempts = go.Scatter(\n",
    "    x=season_stats_filtered['season'], \n",
    "    y=season_stats_filtered['avg_3P_attempts'], \n",
    "    mode='lines', \n",
    "    name='Nombre de tirs à 3 points tentés par match', \n",
    "    line=dict(color='blue')\n",
    ")\n",
    "fig.add_trace(trace_3P_attempts, secondary_y=False)\n",
    "\n",
    "# Tracer le nombre moyen de tirs à 3 points réussis par match\n",
    "trace_3P_made = go.Scatter(\n",
    "    x=season_stats_filtered['season'], \n",
    "    y=season_stats_filtered['avg_3P_made'], \n",
    "    mode='lines', \n",
    "    name='Nombre de tirs à 3 points réussis par match', \n",
    "    line=dict(color='red')\n",
    ")\n",
    "fig.add_trace(trace_3P_made, secondary_y=False)\n",
    "\n",
    "# Tracer le nombre moyen de points par match\n",
    "trace_points = go.Scatter(\n",
    "    x=season_stats_filtered['season'], \n",
    "    y=season_stats_filtered['total_points'], \n",
    "    mode='lines', \n",
    "    name='Points par match', \n",
    "    line=dict(color='green')\n",
    ")\n",
    "fig.add_trace(trace_points, secondary_y=True)\n",
    "\n",
    "# Mettre à jour les titres et les axes\n",
    "fig.update_yaxes(title_text=\"Nombre de tirs à 3 points par match\", secondary_y=False)\n",
    "fig.update_yaxes(title_text=\"Points par match\", secondary_y=True)\n",
    "fig.update_layout(title_text=\"Évolution du nombre de tirs à 3 points tentés et réussis par match et de la moyenne des points par match en NBA depuis 1986\")\n",
    "\n",
    "fig.show()\n"
   ]
  },
  {
   "cell_type": "markdown",
   "metadata": {},
   "source": [
    "#### Tir à 2 points VS 3 points"
   ]
  },
  {
   "cell_type": "code",
   "execution_count": 53,
   "metadata": {},
   "outputs": [
    {
     "name": "stderr",
     "output_type": "stream",
     "text": [
      "C:\\Users\\Public\\Documents\\Wondershare\\CreatorTemp\\ipykernel_6732\\733209220.py:7: DtypeWarning:\n",
      "\n",
      "Columns (58,64,65,68,79,93) have mixed types. Specify dtype option on import or set low_memory=False.\n",
      "\n"
     ]
    },
    {
     "data": {
      "application/vnd.plotly.v1+json": {
       "config": {
        "plotlyServerURL": "https://plot.ly"
       },
       "data": [
        {
         "line": {
          "color": "blue"
         },
         "mode": "lines",
         "name": "Points par tir à 3 points",
         "type": "scatter",
         "x": [
          1987,
          1988,
          1989,
          1990,
          1991,
          1992,
          1993,
          1994,
          1995,
          1996,
          1997,
          1998,
          1999,
          2000,
          2001,
          2002,
          2003,
          2004,
          2005,
          2006,
          2007,
          2008,
          2009,
          2010,
          2011,
          2012,
          2013,
          2014,
          2015,
          2016,
          2017,
          2018,
          2019,
          2020
         ],
         "xaxis": "x",
         "y": [
          0.8440356159180671,
          0.898165228140816,
          0.91376501528919,
          0.9266024379231279,
          0.9274866315598049,
          0.9684771164367252,
          0.9759411390176975,
          1.0077449036972315,
          1.0833576719293365,
          1.0862010875320536,
          1.04488559241201,
          1.0349189874953242,
          1.0067316422354946,
          1.0475308633276899,
          1.0559971998875506,
          1.0480696934995346,
          1.024777925504908,
          1.0385658594504583,
          1.057640927510208,
          1.0591122940143447,
          1.0689661015529937,
          1.0749648254691393,
          1.0754346436217186,
          1.071028962421428,
          1.0494276645530265,
          1.0428116204790288,
          1.0664295638454404,
          1.0659476745895293,
          1.0410638375727315,
          1.0633547750399996,
          1.079439317262394,
          1.0717515743056318,
          1.0668019922440286,
          1.0824109298801303
         ],
         "yaxis": "y"
        },
        {
         "line": {
          "color": "green"
         },
         "mode": "lines",
         "name": "Points par tir à 2 points",
         "type": "scatter",
         "x": [
          1987,
          1988,
          1989,
          1990,
          1991,
          1992,
          1993,
          1994,
          1995,
          1996,
          1997,
          1998,
          1999,
          2000,
          2001,
          2002,
          2003,
          2004,
          2005,
          2006,
          2007,
          2008,
          2009,
          2010,
          2011,
          2012,
          2013,
          2014,
          2015,
          2016,
          2017,
          2018,
          2019,
          2020
         ],
         "xaxis": "x",
         "y": [
          0.9851103383015329,
          0.9837040600419262,
          0.9800635183893137,
          0.9826052963708569,
          0.9738326674731235,
          0.978795689649833,
          0.9777379899871145,
          0.9759173184975815,
          0.9823645064258776,
          0.9650081132881885,
          0.9596310751057742,
          0.949406930063548,
          0.9217405501730094,
          0.9342136514242253,
          0.9273110304868397,
          0.9290826412700282,
          0.9288104788666021,
          0.9293965721583123,
          0.947066767722073,
          0.9685126035702927,
          0.9696472971925585,
          0.9722038414216893,
          0.9805498771818526,
          0.9830928428654127,
          0.9804744871875114,
          0.9564226492690193,
          0.9757045300858722,
          0.9853470808951659,
          0.9712820147799444,
          0.9960421232081342,
          1.0205239010648262,
          1.0334646098620723,
          1.0427320831566274,
          1.064900889329936
         ],
         "yaxis": "y"
        },
        {
         "marker": {
          "color": "blue"
         },
         "mode": "markers+text",
         "name": "Pourcentage de tirs à 3 points",
         "text": [
          "28.13%",
          "29.94%",
          "30.46%",
          "30.89%",
          "30.92%",
          "32.28%",
          "32.53%",
          "33.59%",
          "36.11%",
          "36.21%",
          "34.83%",
          "34.50%",
          "33.56%",
          "34.92%",
          "35.20%",
          "34.94%",
          "34.16%",
          "34.62%",
          "35.25%",
          "35.30%",
          "35.63%",
          "35.83%",
          "35.85%",
          "35.70%",
          "34.98%",
          "34.76%",
          "35.55%",
          "35.53%",
          "34.70%",
          "35.45%",
          "35.98%",
          "35.73%",
          "35.56%",
          "36.08%"
         ],
         "textposition": "top center",
         "type": "scatter",
         "x": [
          1987,
          1988,
          1989,
          1990,
          1991,
          1992,
          1993,
          1994,
          1995,
          1996,
          1997,
          1998,
          1999,
          2000,
          2001,
          2002,
          2003,
          2004,
          2005,
          2006,
          2007,
          2008,
          2009,
          2010,
          2011,
          2012,
          2013,
          2014,
          2015,
          2016,
          2017,
          2018,
          2019,
          2020
         ],
         "xaxis": "x",
         "y": [
          0.28134520530602236,
          0.299388409380272,
          0.30458833842973,
          0.3088674793077093,
          0.309162210519935,
          0.3228257054789084,
          0.3253137130058992,
          0.33591496789907715,
          0.36111922397644547,
          0.3620670291773512,
          0.34829519747066995,
          0.3449729958317747,
          0.3355772140784982,
          0.34917695444256325,
          0.35199906662918357,
          0.34935656449984487,
          0.3415926418349694,
          0.3461886198168194,
          0.35254697583673605,
          0.35303743133811494,
          0.3563220338509979,
          0.35832160848971306,
          0.3584782145405728,
          0.35700965414047603,
          0.34980922151767546,
          0.3476038734930096,
          0.3554765212818135,
          0.3553158915298431,
          0.34702127919091047,
          0.35445159167999984,
          0.3598131057541313,
          0.35725052476854396,
          0.3556006640813429,
          0.3608036432933768
         ],
         "yaxis": "y2"
        },
        {
         "marker": {
          "color": "green"
         },
         "mode": "markers+text",
         "name": "Pourcentage de tirs à 2 points",
         "text": [
          "49.26%",
          "49.19%",
          "49.00%",
          "49.13%",
          "48.69%",
          "48.94%",
          "48.89%",
          "48.80%",
          "49.12%",
          "48.25%",
          "47.98%",
          "47.47%",
          "46.09%",
          "46.71%",
          "46.37%",
          "46.45%",
          "46.44%",
          "46.47%",
          "47.35%",
          "48.43%",
          "48.48%",
          "48.61%",
          "49.03%",
          "49.15%",
          "49.02%",
          "47.82%",
          "48.79%",
          "49.27%",
          "48.56%",
          "49.80%",
          "51.03%",
          "51.67%",
          "52.14%",
          "53.25%"
         ],
         "textposition": "bottom center",
         "type": "scatter",
         "x": [
          1987,
          1988,
          1989,
          1990,
          1991,
          1992,
          1993,
          1994,
          1995,
          1996,
          1997,
          1998,
          1999,
          2000,
          2001,
          2002,
          2003,
          2004,
          2005,
          2006,
          2007,
          2008,
          2009,
          2010,
          2011,
          2012,
          2013,
          2014,
          2015,
          2016,
          2017,
          2018,
          2019,
          2020
         ],
         "xaxis": "x",
         "y": [
          0.49255516915076647,
          0.4918520300209631,
          0.49003175919465686,
          0.49130264818542846,
          0.48691633373656174,
          0.4893978448249165,
          0.48886899499355724,
          0.4879586592487907,
          0.4911822532129388,
          0.48250405664409424,
          0.4798155375528871,
          0.474703465031774,
          0.4608702750865047,
          0.46710682571211265,
          0.46365551524341986,
          0.4645413206350141,
          0.46440523943330103,
          0.46469828607915614,
          0.4735333838610365,
          0.48425630178514634,
          0.48482364859627924,
          0.4861019207108446,
          0.4902749385909263,
          0.4915464214327063,
          0.4902372435937557,
          0.47821132463450966,
          0.4878522650429361,
          0.49267354044758294,
          0.4856410073899722,
          0.4980210616040671,
          0.5102619505324131,
          0.5167323049310362,
          0.5213660415783137,
          0.532450444664968
         ],
         "yaxis": "y2"
        }
       ],
       "layout": {
        "legend": {
         "title": {
          "text": "Type de tir"
         }
        },
        "template": {
         "data": {
          "bar": [
           {
            "error_x": {
             "color": "#2a3f5f"
            },
            "error_y": {
             "color": "#2a3f5f"
            },
            "marker": {
             "line": {
              "color": "#E5ECF6",
              "width": 0.5
             },
             "pattern": {
              "fillmode": "overlay",
              "size": 10,
              "solidity": 0.2
             }
            },
            "type": "bar"
           }
          ],
          "barpolar": [
           {
            "marker": {
             "line": {
              "color": "#E5ECF6",
              "width": 0.5
             },
             "pattern": {
              "fillmode": "overlay",
              "size": 10,
              "solidity": 0.2
             }
            },
            "type": "barpolar"
           }
          ],
          "carpet": [
           {
            "aaxis": {
             "endlinecolor": "#2a3f5f",
             "gridcolor": "white",
             "linecolor": "white",
             "minorgridcolor": "white",
             "startlinecolor": "#2a3f5f"
            },
            "baxis": {
             "endlinecolor": "#2a3f5f",
             "gridcolor": "white",
             "linecolor": "white",
             "minorgridcolor": "white",
             "startlinecolor": "#2a3f5f"
            },
            "type": "carpet"
           }
          ],
          "choropleth": [
           {
            "colorbar": {
             "outlinewidth": 0,
             "ticks": ""
            },
            "type": "choropleth"
           }
          ],
          "contour": [
           {
            "colorbar": {
             "outlinewidth": 0,
             "ticks": ""
            },
            "colorscale": [
             [
              0,
              "#0d0887"
             ],
             [
              0.1111111111111111,
              "#46039f"
             ],
             [
              0.2222222222222222,
              "#7201a8"
             ],
             [
              0.3333333333333333,
              "#9c179e"
             ],
             [
              0.4444444444444444,
              "#bd3786"
             ],
             [
              0.5555555555555556,
              "#d8576b"
             ],
             [
              0.6666666666666666,
              "#ed7953"
             ],
             [
              0.7777777777777778,
              "#fb9f3a"
             ],
             [
              0.8888888888888888,
              "#fdca26"
             ],
             [
              1,
              "#f0f921"
             ]
            ],
            "type": "contour"
           }
          ],
          "contourcarpet": [
           {
            "colorbar": {
             "outlinewidth": 0,
             "ticks": ""
            },
            "type": "contourcarpet"
           }
          ],
          "heatmap": [
           {
            "colorbar": {
             "outlinewidth": 0,
             "ticks": ""
            },
            "colorscale": [
             [
              0,
              "#0d0887"
             ],
             [
              0.1111111111111111,
              "#46039f"
             ],
             [
              0.2222222222222222,
              "#7201a8"
             ],
             [
              0.3333333333333333,
              "#9c179e"
             ],
             [
              0.4444444444444444,
              "#bd3786"
             ],
             [
              0.5555555555555556,
              "#d8576b"
             ],
             [
              0.6666666666666666,
              "#ed7953"
             ],
             [
              0.7777777777777778,
              "#fb9f3a"
             ],
             [
              0.8888888888888888,
              "#fdca26"
             ],
             [
              1,
              "#f0f921"
             ]
            ],
            "type": "heatmap"
           }
          ],
          "heatmapgl": [
           {
            "colorbar": {
             "outlinewidth": 0,
             "ticks": ""
            },
            "colorscale": [
             [
              0,
              "#0d0887"
             ],
             [
              0.1111111111111111,
              "#46039f"
             ],
             [
              0.2222222222222222,
              "#7201a8"
             ],
             [
              0.3333333333333333,
              "#9c179e"
             ],
             [
              0.4444444444444444,
              "#bd3786"
             ],
             [
              0.5555555555555556,
              "#d8576b"
             ],
             [
              0.6666666666666666,
              "#ed7953"
             ],
             [
              0.7777777777777778,
              "#fb9f3a"
             ],
             [
              0.8888888888888888,
              "#fdca26"
             ],
             [
              1,
              "#f0f921"
             ]
            ],
            "type": "heatmapgl"
           }
          ],
          "histogram": [
           {
            "marker": {
             "pattern": {
              "fillmode": "overlay",
              "size": 10,
              "solidity": 0.2
             }
            },
            "type": "histogram"
           }
          ],
          "histogram2d": [
           {
            "colorbar": {
             "outlinewidth": 0,
             "ticks": ""
            },
            "colorscale": [
             [
              0,
              "#0d0887"
             ],
             [
              0.1111111111111111,
              "#46039f"
             ],
             [
              0.2222222222222222,
              "#7201a8"
             ],
             [
              0.3333333333333333,
              "#9c179e"
             ],
             [
              0.4444444444444444,
              "#bd3786"
             ],
             [
              0.5555555555555556,
              "#d8576b"
             ],
             [
              0.6666666666666666,
              "#ed7953"
             ],
             [
              0.7777777777777778,
              "#fb9f3a"
             ],
             [
              0.8888888888888888,
              "#fdca26"
             ],
             [
              1,
              "#f0f921"
             ]
            ],
            "type": "histogram2d"
           }
          ],
          "histogram2dcontour": [
           {
            "colorbar": {
             "outlinewidth": 0,
             "ticks": ""
            },
            "colorscale": [
             [
              0,
              "#0d0887"
             ],
             [
              0.1111111111111111,
              "#46039f"
             ],
             [
              0.2222222222222222,
              "#7201a8"
             ],
             [
              0.3333333333333333,
              "#9c179e"
             ],
             [
              0.4444444444444444,
              "#bd3786"
             ],
             [
              0.5555555555555556,
              "#d8576b"
             ],
             [
              0.6666666666666666,
              "#ed7953"
             ],
             [
              0.7777777777777778,
              "#fb9f3a"
             ],
             [
              0.8888888888888888,
              "#fdca26"
             ],
             [
              1,
              "#f0f921"
             ]
            ],
            "type": "histogram2dcontour"
           }
          ],
          "mesh3d": [
           {
            "colorbar": {
             "outlinewidth": 0,
             "ticks": ""
            },
            "type": "mesh3d"
           }
          ],
          "parcoords": [
           {
            "line": {
             "colorbar": {
              "outlinewidth": 0,
              "ticks": ""
             }
            },
            "type": "parcoords"
           }
          ],
          "pie": [
           {
            "automargin": true,
            "type": "pie"
           }
          ],
          "scatter": [
           {
            "fillpattern": {
             "fillmode": "overlay",
             "size": 10,
             "solidity": 0.2
            },
            "type": "scatter"
           }
          ],
          "scatter3d": [
           {
            "line": {
             "colorbar": {
              "outlinewidth": 0,
              "ticks": ""
             }
            },
            "marker": {
             "colorbar": {
              "outlinewidth": 0,
              "ticks": ""
             }
            },
            "type": "scatter3d"
           }
          ],
          "scattercarpet": [
           {
            "marker": {
             "colorbar": {
              "outlinewidth": 0,
              "ticks": ""
             }
            },
            "type": "scattercarpet"
           }
          ],
          "scattergeo": [
           {
            "marker": {
             "colorbar": {
              "outlinewidth": 0,
              "ticks": ""
             }
            },
            "type": "scattergeo"
           }
          ],
          "scattergl": [
           {
            "marker": {
             "colorbar": {
              "outlinewidth": 0,
              "ticks": ""
             }
            },
            "type": "scattergl"
           }
          ],
          "scattermapbox": [
           {
            "marker": {
             "colorbar": {
              "outlinewidth": 0,
              "ticks": ""
             }
            },
            "type": "scattermapbox"
           }
          ],
          "scatterpolar": [
           {
            "marker": {
             "colorbar": {
              "outlinewidth": 0,
              "ticks": ""
             }
            },
            "type": "scatterpolar"
           }
          ],
          "scatterpolargl": [
           {
            "marker": {
             "colorbar": {
              "outlinewidth": 0,
              "ticks": ""
             }
            },
            "type": "scatterpolargl"
           }
          ],
          "scatterternary": [
           {
            "marker": {
             "colorbar": {
              "outlinewidth": 0,
              "ticks": ""
             }
            },
            "type": "scatterternary"
           }
          ],
          "surface": [
           {
            "colorbar": {
             "outlinewidth": 0,
             "ticks": ""
            },
            "colorscale": [
             [
              0,
              "#0d0887"
             ],
             [
              0.1111111111111111,
              "#46039f"
             ],
             [
              0.2222222222222222,
              "#7201a8"
             ],
             [
              0.3333333333333333,
              "#9c179e"
             ],
             [
              0.4444444444444444,
              "#bd3786"
             ],
             [
              0.5555555555555556,
              "#d8576b"
             ],
             [
              0.6666666666666666,
              "#ed7953"
             ],
             [
              0.7777777777777778,
              "#fb9f3a"
             ],
             [
              0.8888888888888888,
              "#fdca26"
             ],
             [
              1,
              "#f0f921"
             ]
            ],
            "type": "surface"
           }
          ],
          "table": [
           {
            "cells": {
             "fill": {
              "color": "#EBF0F8"
             },
             "line": {
              "color": "white"
             }
            },
            "header": {
             "fill": {
              "color": "#C8D4E3"
             },
             "line": {
              "color": "white"
             }
            },
            "type": "table"
           }
          ]
         },
         "layout": {
          "annotationdefaults": {
           "arrowcolor": "#2a3f5f",
           "arrowhead": 0,
           "arrowwidth": 1
          },
          "autotypenumbers": "strict",
          "coloraxis": {
           "colorbar": {
            "outlinewidth": 0,
            "ticks": ""
           }
          },
          "colorscale": {
           "diverging": [
            [
             0,
             "#8e0152"
            ],
            [
             0.1,
             "#c51b7d"
            ],
            [
             0.2,
             "#de77ae"
            ],
            [
             0.3,
             "#f1b6da"
            ],
            [
             0.4,
             "#fde0ef"
            ],
            [
             0.5,
             "#f7f7f7"
            ],
            [
             0.6,
             "#e6f5d0"
            ],
            [
             0.7,
             "#b8e186"
            ],
            [
             0.8,
             "#7fbc41"
            ],
            [
             0.9,
             "#4d9221"
            ],
            [
             1,
             "#276419"
            ]
           ],
           "sequential": [
            [
             0,
             "#0d0887"
            ],
            [
             0.1111111111111111,
             "#46039f"
            ],
            [
             0.2222222222222222,
             "#7201a8"
            ],
            [
             0.3333333333333333,
             "#9c179e"
            ],
            [
             0.4444444444444444,
             "#bd3786"
            ],
            [
             0.5555555555555556,
             "#d8576b"
            ],
            [
             0.6666666666666666,
             "#ed7953"
            ],
            [
             0.7777777777777778,
             "#fb9f3a"
            ],
            [
             0.8888888888888888,
             "#fdca26"
            ],
            [
             1,
             "#f0f921"
            ]
           ],
           "sequentialminus": [
            [
             0,
             "#0d0887"
            ],
            [
             0.1111111111111111,
             "#46039f"
            ],
            [
             0.2222222222222222,
             "#7201a8"
            ],
            [
             0.3333333333333333,
             "#9c179e"
            ],
            [
             0.4444444444444444,
             "#bd3786"
            ],
            [
             0.5555555555555556,
             "#d8576b"
            ],
            [
             0.6666666666666666,
             "#ed7953"
            ],
            [
             0.7777777777777778,
             "#fb9f3a"
            ],
            [
             0.8888888888888888,
             "#fdca26"
            ],
            [
             1,
             "#f0f921"
            ]
           ]
          },
          "colorway": [
           "#636efa",
           "#EF553B",
           "#00cc96",
           "#ab63fa",
           "#FFA15A",
           "#19d3f3",
           "#FF6692",
           "#B6E880",
           "#FF97FF",
           "#FECB52"
          ],
          "font": {
           "color": "#2a3f5f"
          },
          "geo": {
           "bgcolor": "white",
           "lakecolor": "white",
           "landcolor": "#E5ECF6",
           "showlakes": true,
           "showland": true,
           "subunitcolor": "white"
          },
          "hoverlabel": {
           "align": "left"
          },
          "hovermode": "closest",
          "mapbox": {
           "style": "light"
          },
          "paper_bgcolor": "white",
          "plot_bgcolor": "#E5ECF6",
          "polar": {
           "angularaxis": {
            "gridcolor": "white",
            "linecolor": "white",
            "ticks": ""
           },
           "bgcolor": "#E5ECF6",
           "radialaxis": {
            "gridcolor": "white",
            "linecolor": "white",
            "ticks": ""
           }
          },
          "scene": {
           "xaxis": {
            "backgroundcolor": "#E5ECF6",
            "gridcolor": "white",
            "gridwidth": 2,
            "linecolor": "white",
            "showbackground": true,
            "ticks": "",
            "zerolinecolor": "white"
           },
           "yaxis": {
            "backgroundcolor": "#E5ECF6",
            "gridcolor": "white",
            "gridwidth": 2,
            "linecolor": "white",
            "showbackground": true,
            "ticks": "",
            "zerolinecolor": "white"
           },
           "zaxis": {
            "backgroundcolor": "#E5ECF6",
            "gridcolor": "white",
            "gridwidth": 2,
            "linecolor": "white",
            "showbackground": true,
            "ticks": "",
            "zerolinecolor": "white"
           }
          },
          "shapedefaults": {
           "line": {
            "color": "#2a3f5f"
           }
          },
          "ternary": {
           "aaxis": {
            "gridcolor": "white",
            "linecolor": "white",
            "ticks": ""
           },
           "baxis": {
            "gridcolor": "white",
            "linecolor": "white",
            "ticks": ""
           },
           "bgcolor": "#E5ECF6",
           "caxis": {
            "gridcolor": "white",
            "linecolor": "white",
            "ticks": ""
           }
          },
          "title": {
           "x": 0.05
          },
          "xaxis": {
           "automargin": true,
           "gridcolor": "white",
           "linecolor": "white",
           "ticks": "",
           "title": {
            "standoff": 15
           },
           "zerolinecolor": "white",
           "zerolinewidth": 2
          },
          "yaxis": {
           "automargin": true,
           "gridcolor": "white",
           "linecolor": "white",
           "ticks": "",
           "title": {
            "standoff": 15
           },
           "zerolinecolor": "white",
           "zerolinewidth": 2
          }
         }
        },
        "title": {
         "text": "Points moyens obtenus par tir à 3 points et à 2 points en NBA depuis 1986 (avec % de réussite)"
        },
        "xaxis": {
         "anchor": "y",
         "domain": [
          0,
          0.94
         ]
        },
        "yaxis": {
         "anchor": "x",
         "domain": [
          0,
          1
         ],
         "title": {
          "text": "Points par tir"
         }
        },
        "yaxis2": {
         "anchor": "x",
         "overlaying": "y",
         "side": "right",
         "title": {
          "text": "Pourcentage de réussite"
         }
        }
       }
      }
     },
     "metadata": {},
     "output_type": "display_data"
    }
   ],
   "source": [
    "import pandas as pd\n",
    "import plotly.express as px\n",
    "from plotly.subplots import make_subplots\n",
    "import plotly.graph_objects as go\n",
    "\n",
    "# Charger le fichier CSV\n",
    "df = pd.read_csv('./csv/Game.csv')\n",
    "\n",
    "# Ajouter une colonne pour la saison (extraction de l'année)\n",
    "df['season'] = df['GAME_DATE'].str[:4].astype(int)\n",
    "\n",
    "# Exclure la saison 2021\n",
    "df = df[df['season'] != 2021]\n",
    "\n",
    "# Calculer le pourcentage de tirs à 3 points pour chaque équipe et chaque saison\n",
    "df['FG3_PCT_HOME'] = df['FG3M_HOME'].astype(float) / df['FG3A_HOME'].astype(float)\n",
    "df['FG3_PCT_AWAY'] = df['FG3M_AWAY'].astype(float) / df['FG3A_AWAY'].astype(float)\n",
    "\n",
    "# Calculer le pourcentage de tirs à 2 points pour chaque équipe et chaque saison\n",
    "df['FG2M_HOME'] = df['FGM_HOME'].astype(float) - df['FG3M_HOME'].astype(float)\n",
    "df['FG2A_HOME'] = df['FGA_HOME'].astype(float) - df['FG3A_HOME'].astype(float)\n",
    "df['FG2M_AWAY'] = df['FGM_AWAY'].astype(float) - df['FG3M_AWAY'].astype(float)\n",
    "df['FG2A_AWAY'] = df['FGA_AWAY'].astype(float) - df['FG3A_AWAY'].astype(float)\n",
    "df['FG2_PCT_HOME'] = df['FG2M_HOME'] / df['FG2A_HOME']\n",
    "df['FG2_PCT_AWAY'] = df['FG2M_AWAY'] / df['FG2A_AWAY']\n",
    "\n",
    "# Agréger les données par saison pour obtenir les moyennes des pourcentages\n",
    "season_stats = df.groupby('season').agg({\n",
    "    'FG3_PCT_HOME': 'mean', 'FG3_PCT_AWAY': 'mean',\n",
    "    'FG2_PCT_HOME': 'mean', 'FG2_PCT_AWAY': 'mean'\n",
    "}).reset_index()\n",
    "\n",
    "# Calculer les moyennes globales des pourcentages\n",
    "season_stats['avg_3P_pct'] = season_stats[['FG3_PCT_HOME', 'FG3_PCT_AWAY']].mean(axis=1)\n",
    "season_stats['avg_2P_pct'] = season_stats[['FG2_PCT_HOME', 'FG2_PCT_AWAY']].mean(axis=1)\n",
    "\n",
    "# Calculer les points moyens obtenus par tir à 3 points et à 2 points\n",
    "season_stats['points_per_3P'] = 3 * season_stats['avg_3P_pct']\n",
    "season_stats['points_per_2P'] = 2 * season_stats['avg_2P_pct']\n",
    "\n",
    "# Filtrer les données pour afficher les saisons après 1986\n",
    "season_stats_filtered = season_stats[season_stats['season'] > 1986]\n",
    "\n",
    "# Créer une visualisation avec deux axes y\n",
    "fig = make_subplots(specs=[[{\"secondary_y\": True}]])\n",
    "\n",
    "# Tracer les points moyens obtenus par tir à 3 points\n",
    "trace_3P = go.Scatter(\n",
    "    x=season_stats_filtered['season'], \n",
    "    y=season_stats_filtered['points_per_3P'], \n",
    "    mode='lines', \n",
    "    name='Points par tir à 3 points', \n",
    "    line=dict(color='blue')\n",
    ")\n",
    "fig.add_trace(trace_3P, secondary_y=False)\n",
    "\n",
    "# Tracer les points moyens obtenus par tir à 2 points\n",
    "trace_2P = go.Scatter(\n",
    "    x=season_stats_filtered['season'], \n",
    "    y=season_stats_filtered['points_per_2P'], \n",
    "    mode='lines', \n",
    "    name='Points par tir à 2 points', \n",
    "    line=dict(color='green')\n",
    ")\n",
    "fig.add_trace(trace_2P, secondary_y=False)\n",
    "\n",
    "# Ajouter des annotations pour indiquer les pourcentages de réussite\n",
    "fig.add_trace(go.Scatter(\n",
    "    x=season_stats_filtered['season'], \n",
    "    y=season_stats_filtered['avg_3P_pct'], \n",
    "    mode='markers+text', \n",
    "    name='Pourcentage de tirs à 3 points',\n",
    "    text=[f\"{pct:.2%}\" for pct in season_stats_filtered['avg_3P_pct']],\n",
    "    textposition=\"top center\",\n",
    "    marker=dict(color='blue')\n",
    "), secondary_y=True)\n",
    "\n",
    "fig.add_trace(go.Scatter(\n",
    "    x=season_stats_filtered['season'], \n",
    "    y=season_stats_filtered['avg_2P_pct'], \n",
    "    mode='markers+text', \n",
    "    name='Pourcentage de tirs à 2 points',\n",
    "    text=[f\"{pct:.2%}\" for pct in season_stats_filtered['avg_2P_pct']],\n",
    "    textposition=\"bottom center\",\n",
    "    marker=dict(color='green')\n",
    "), secondary_y=True)\n",
    "\n",
    "# Mettre à jour les titres et les axes\n",
    "fig.update_yaxes(title_text=\"Points par tir\", secondary_y=False)\n",
    "fig.update_yaxes(title_text=\"Pourcentage de réussite\", secondary_y=True)\n",
    "fig.update_layout(\n",
    "    title_text=\"Points moyens obtenus par tir à 3 points et à 2 points en NBA depuis 1986\",\n",
    "    legend_title_text=\"Type de tir\"\n",
    ")\n",
    "\n",
    "fig.show()\n"
   ]
  },
  {
   "cell_type": "markdown",
   "metadata": {},
   "source": [
    "En 2020, pour que le tir à 2 points soit plus efficace, il devrait dépasser les 54.12% de réussite."
   ]
  },
  {
   "cell_type": "markdown",
   "metadata": {},
   "source": [
    "## Les salaires"
   ]
  },
  {
   "cell_type": "code",
   "execution_count": 66,
   "metadata": {},
   "outputs": [
    {
     "data": {
      "text/html": [
       "<div>\n",
       "<style scoped>\n",
       "    .dataframe tbody tr th:only-of-type {\n",
       "        vertical-align: middle;\n",
       "    }\n",
       "\n",
       "    .dataframe tbody tr th {\n",
       "        vertical-align: top;\n",
       "    }\n",
       "\n",
       "    .dataframe thead th {\n",
       "        text-align: right;\n",
       "    }\n",
       "</style>\n",
       "<table border=\"1\" class=\"dataframe\">\n",
       "  <thead>\n",
       "    <tr style=\"text-align: right;\">\n",
       "      <th></th>\n",
       "      <th>Nom du Joueur</th>\n",
       "      <th>Équipe</th>\n",
       "      <th>Âge</th>\n",
       "      <th>Année de Draft</th>\n",
       "      <th>Années en NBA</th>\n",
       "      <th>Position</th>\n",
       "      <th>Salaire (en millions)</th>\n",
       "    </tr>\n",
       "  </thead>\n",
       "  <tbody>\n",
       "    <tr>\n",
       "      <th>696</th>\n",
       "      <td>Giannis Antetokounmpo</td>\n",
       "      <td>Milwaukee Bucks</td>\n",
       "      <td>27</td>\n",
       "      <td>2013</td>\n",
       "      <td>8</td>\n",
       "      <td>Forward</td>\n",
       "      <td>48.79</td>\n",
       "    </tr>\n",
       "    <tr>\n",
       "      <th>1057</th>\n",
       "      <td>Damian Lillard</td>\n",
       "      <td>Portland Trail Blazers</td>\n",
       "      <td>31</td>\n",
       "      <td>2012</td>\n",
       "      <td>9</td>\n",
       "      <td>Guard</td>\n",
       "      <td>48.79</td>\n",
       "    </tr>\n",
       "    <tr>\n",
       "      <th>547</th>\n",
       "      <td>Paul George</td>\n",
       "      <td>Los Angeles Clippers</td>\n",
       "      <td>31</td>\n",
       "      <td>2010</td>\n",
       "      <td>11</td>\n",
       "      <td>Forward</td>\n",
       "      <td>48.79</td>\n",
       "    </tr>\n",
       "    <tr>\n",
       "      <th>106</th>\n",
       "      <td>James Harden</td>\n",
       "      <td>Brooklyn Nets</td>\n",
       "      <td>32</td>\n",
       "      <td>2009</td>\n",
       "      <td>12</td>\n",
       "      <td>Guard</td>\n",
       "      <td>47.37</td>\n",
       "    </tr>\n",
       "    <tr>\n",
       "      <th>465</th>\n",
       "      <td>John Wall</td>\n",
       "      <td>Houston Rockets</td>\n",
       "      <td>31</td>\n",
       "      <td>2010</td>\n",
       "      <td>11</td>\n",
       "      <td>Guard</td>\n",
       "      <td>47.37</td>\n",
       "    </tr>\n",
       "    <tr>\n",
       "      <th>1289</th>\n",
       "      <td>Russell Westbrook</td>\n",
       "      <td>Washington Wizards</td>\n",
       "      <td>33</td>\n",
       "      <td>2008</td>\n",
       "      <td>13</td>\n",
       "      <td>Guard</td>\n",
       "      <td>47.06</td>\n",
       "    </tr>\n",
       "    <tr>\n",
       "      <th>432</th>\n",
       "      <td>Stephen Curry</td>\n",
       "      <td>Golden State Warriors</td>\n",
       "      <td>33</td>\n",
       "      <td>2009</td>\n",
       "      <td>12</td>\n",
       "      <td>Guard</td>\n",
       "      <td>45.78</td>\n",
       "    </tr>\n",
       "    <tr>\n",
       "      <th>582</th>\n",
       "      <td>LeBron James</td>\n",
       "      <td>Los Angeles Lakers</td>\n",
       "      <td>37</td>\n",
       "      <td>2003</td>\n",
       "      <td>18</td>\n",
       "      <td>Forward</td>\n",
       "      <td>44.47</td>\n",
       "    </tr>\n",
       "    <tr>\n",
       "      <th>1007</th>\n",
       "      <td>Chris Paul</td>\n",
       "      <td>Phoenix Suns</td>\n",
       "      <td>36</td>\n",
       "      <td>2005</td>\n",
       "      <td>16</td>\n",
       "      <td>Guard</td>\n",
       "      <td>44.21</td>\n",
       "    </tr>\n",
       "    <tr>\n",
       "      <th>114</th>\n",
       "      <td>Kevin Durant</td>\n",
       "      <td>Brooklyn Nets</td>\n",
       "      <td>33</td>\n",
       "      <td>2007</td>\n",
       "      <td>14</td>\n",
       "      <td>Forward</td>\n",
       "      <td>43.93</td>\n",
       "    </tr>\n",
       "  </tbody>\n",
       "</table>\n",
       "</div>"
      ],
      "text/plain": [
       "              Nom du Joueur                  Équipe  Âge  Année de Draft  \\\n",
       "696   Giannis Antetokounmpo         Milwaukee Bucks   27            2013   \n",
       "1057         Damian Lillard  Portland Trail Blazers   31            2012   \n",
       "547             Paul George    Los Angeles Clippers   31            2010   \n",
       "106            James Harden           Brooklyn Nets   32            2009   \n",
       "465               John Wall         Houston Rockets   31            2010   \n",
       "1289      Russell Westbrook      Washington Wizards   33            2008   \n",
       "432           Stephen Curry   Golden State Warriors   33            2009   \n",
       "582            LeBron James      Los Angeles Lakers   37            2003   \n",
       "1007             Chris Paul            Phoenix Suns   36            2005   \n",
       "114            Kevin Durant           Brooklyn Nets   33            2007   \n",
       "\n",
       "      Années en NBA Position  Salaire (en millions)  \n",
       "696               8  Forward                  48.79  \n",
       "1057              9    Guard                  48.79  \n",
       "547              11  Forward                  48.79  \n",
       "106              12    Guard                  47.37  \n",
       "465              11    Guard                  47.37  \n",
       "1289             13    Guard                  47.06  \n",
       "432              12    Guard                  45.78  \n",
       "582              18  Forward                  44.47  \n",
       "1007             16    Guard                  44.21  \n",
       "114              14  Forward                  43.93  "
      ]
     },
     "execution_count": 66,
     "metadata": {},
     "output_type": "execute_result"
    }
   ],
   "source": [
    "import pandas as pd\n",
    "\n",
    "# Charger les fichiers CSV (remplacez les chemins par les chemins réels de vos fichiers CSV)\n",
    "player_salary = pd.read_csv('./csv/Player_Salary.csv')\n",
    "player = pd.read_csv('./csv/Player.csv')\n",
    "player_attributes = pd.read_csv('./csv/Player_Attributes.csv')\n",
    "\n",
    "# Simuler les données de la table Player_Salary\n",
    "player_salary = player_salary.rename(columns={'namePlayer': 'player_name', 'nameTeam': 'team_name', 'value': 'salary', 'slugSeason': 'season'})\n",
    "player_salary['season'] = '2020-21'\n",
    "\n",
    "# Simuler les données de la table Player\n",
    "player = player.rename(columns={'id': 'player_id', 'full_name': 'player_name'})\n",
    "\n",
    "# Simuler les données de la table Player_Attributes\n",
    "player_attributes = player_attributes.rename(columns={'ID': 'player_id', 'BIRTHDATE': 'birthdate', 'DRAFT_YEAR': 'draft_year', 'POSITION': 'position'})\n",
    "\n",
    "# Convertir les types de données\n",
    "player_attributes['birthdate'] = pd.to_datetime(player_attributes['birthdate'], errors='coerce')\n",
    "player_attributes['draft_year'] = pd.to_numeric(player_attributes['draft_year'], errors='coerce')\n",
    "\n",
    "# Joindre les trois tables\n",
    "merged_data = player_salary.merge(player, on='player_name', how='left').merge(player_attributes, on='player_id', how='left')\n",
    "\n",
    "# Calculer les colonnes supplémentaires\n",
    "merged_data['age'] = (2021 - merged_data['birthdate'].dt.year).astype('Int64')\n",
    "merged_data['years_in_NBA'] = (2021 - merged_data['draft_year']).astype('Int64')\n",
    "merged_data['draft_year'] = merged_data['draft_year'].astype('Int64')  # Convertir en entier\n",
    "merged_data['salary_in_millions'] = round(merged_data['salary'] / 1000000, 2)\n",
    "\n",
    "# Filtrer les données pour la saison 2020-21 et trier par salaire\n",
    "player_salary_top_10 = merged_data[merged_data['season'] == '2020-21'].sort_values(by='salary_in_millions', ascending=False)\n",
    "\n",
    "# Exclure les joueurs qui sont présents plusieurs fois\n",
    "player_salary_top_10 = player_salary_top_10.drop_duplicates(subset=['player_name']).head(10)\n",
    "\n",
    "# Sélectionner les colonnes nécessaires\n",
    "player_salary_top_10 = player_salary_top_10[['player_name', 'team_name', 'age', 'draft_year', 'years_in_NBA', 'position', 'salary_in_millions']]\n",
    "\n",
    "# Afficher les données dans un joli tableau\n",
    "player_salary_top_10.rename(columns={\n",
    "    'player_name': 'Nom du Joueur',\n",
    "    'team_name': 'Équipe',\n",
    "    'age': 'Âge',\n",
    "    'draft_year': 'Année de Draft',\n",
    "    'years_in_NBA': 'Années en NBA',\n",
    "    'position': 'Position',\n",
    "    'salary_in_millions': 'Salaire (en millions)'\n",
    "}, inplace=True)\n",
    "\n",
    "player_salary_top_10\n"
   ]
  },
  {
   "cell_type": "markdown",
   "metadata": {},
   "source": [
    "### Les postes les mieux payés"
   ]
  },
  {
   "cell_type": "code",
   "execution_count": 5,
   "metadata": {},
   "outputs": [
    {
     "data": {
      "application/vnd.plotly.v1+json": {
       "config": {
        "plotlyServerURL": "https://plot.ly"
       },
       "data": [
        {
         "alignmentgroup": "True",
         "hovertemplate": "Poste=%{x}<br>Salaire (en millions)=%{y}<extra></extra>",
         "legendgroup": "",
         "marker": {
          "color": "#636efa",
          "pattern": {
           "shape": ""
          }
         },
         "name": "",
         "offsetgroup": "",
         "orientation": "v",
         "showlegend": false,
         "textposition": "auto",
         "type": "bar",
         "x": [
          "Center",
          "Center-Forward",
          "Forward",
          "Forward-Center",
          "Forward-Guard",
          "Guard",
          "Guard-Forward"
         ],
         "xaxis": "x",
         "y": [
          11.384583333333333,
          10.786458333333334,
          12.867276422764228,
          11.22323943661972,
          8.108727272727274,
          13.317746913580246,
          8.028316831683169
         ],
         "yaxis": "y"
        }
       ],
       "layout": {
        "barmode": "relative",
        "legend": {
         "tracegroupgap": 0
        },
        "template": {
         "data": {
          "bar": [
           {
            "error_x": {
             "color": "#2a3f5f"
            },
            "error_y": {
             "color": "#2a3f5f"
            },
            "marker": {
             "line": {
              "color": "#E5ECF6",
              "width": 0.5
             },
             "pattern": {
              "fillmode": "overlay",
              "size": 10,
              "solidity": 0.2
             }
            },
            "type": "bar"
           }
          ],
          "barpolar": [
           {
            "marker": {
             "line": {
              "color": "#E5ECF6",
              "width": 0.5
             },
             "pattern": {
              "fillmode": "overlay",
              "size": 10,
              "solidity": 0.2
             }
            },
            "type": "barpolar"
           }
          ],
          "carpet": [
           {
            "aaxis": {
             "endlinecolor": "#2a3f5f",
             "gridcolor": "white",
             "linecolor": "white",
             "minorgridcolor": "white",
             "startlinecolor": "#2a3f5f"
            },
            "baxis": {
             "endlinecolor": "#2a3f5f",
             "gridcolor": "white",
             "linecolor": "white",
             "minorgridcolor": "white",
             "startlinecolor": "#2a3f5f"
            },
            "type": "carpet"
           }
          ],
          "choropleth": [
           {
            "colorbar": {
             "outlinewidth": 0,
             "ticks": ""
            },
            "type": "choropleth"
           }
          ],
          "contour": [
           {
            "colorbar": {
             "outlinewidth": 0,
             "ticks": ""
            },
            "colorscale": [
             [
              0,
              "#0d0887"
             ],
             [
              0.1111111111111111,
              "#46039f"
             ],
             [
              0.2222222222222222,
              "#7201a8"
             ],
             [
              0.3333333333333333,
              "#9c179e"
             ],
             [
              0.4444444444444444,
              "#bd3786"
             ],
             [
              0.5555555555555556,
              "#d8576b"
             ],
             [
              0.6666666666666666,
              "#ed7953"
             ],
             [
              0.7777777777777778,
              "#fb9f3a"
             ],
             [
              0.8888888888888888,
              "#fdca26"
             ],
             [
              1,
              "#f0f921"
             ]
            ],
            "type": "contour"
           }
          ],
          "contourcarpet": [
           {
            "colorbar": {
             "outlinewidth": 0,
             "ticks": ""
            },
            "type": "contourcarpet"
           }
          ],
          "heatmap": [
           {
            "colorbar": {
             "outlinewidth": 0,
             "ticks": ""
            },
            "colorscale": [
             [
              0,
              "#0d0887"
             ],
             [
              0.1111111111111111,
              "#46039f"
             ],
             [
              0.2222222222222222,
              "#7201a8"
             ],
             [
              0.3333333333333333,
              "#9c179e"
             ],
             [
              0.4444444444444444,
              "#bd3786"
             ],
             [
              0.5555555555555556,
              "#d8576b"
             ],
             [
              0.6666666666666666,
              "#ed7953"
             ],
             [
              0.7777777777777778,
              "#fb9f3a"
             ],
             [
              0.8888888888888888,
              "#fdca26"
             ],
             [
              1,
              "#f0f921"
             ]
            ],
            "type": "heatmap"
           }
          ],
          "heatmapgl": [
           {
            "colorbar": {
             "outlinewidth": 0,
             "ticks": ""
            },
            "colorscale": [
             [
              0,
              "#0d0887"
             ],
             [
              0.1111111111111111,
              "#46039f"
             ],
             [
              0.2222222222222222,
              "#7201a8"
             ],
             [
              0.3333333333333333,
              "#9c179e"
             ],
             [
              0.4444444444444444,
              "#bd3786"
             ],
             [
              0.5555555555555556,
              "#d8576b"
             ],
             [
              0.6666666666666666,
              "#ed7953"
             ],
             [
              0.7777777777777778,
              "#fb9f3a"
             ],
             [
              0.8888888888888888,
              "#fdca26"
             ],
             [
              1,
              "#f0f921"
             ]
            ],
            "type": "heatmapgl"
           }
          ],
          "histogram": [
           {
            "marker": {
             "pattern": {
              "fillmode": "overlay",
              "size": 10,
              "solidity": 0.2
             }
            },
            "type": "histogram"
           }
          ],
          "histogram2d": [
           {
            "colorbar": {
             "outlinewidth": 0,
             "ticks": ""
            },
            "colorscale": [
             [
              0,
              "#0d0887"
             ],
             [
              0.1111111111111111,
              "#46039f"
             ],
             [
              0.2222222222222222,
              "#7201a8"
             ],
             [
              0.3333333333333333,
              "#9c179e"
             ],
             [
              0.4444444444444444,
              "#bd3786"
             ],
             [
              0.5555555555555556,
              "#d8576b"
             ],
             [
              0.6666666666666666,
              "#ed7953"
             ],
             [
              0.7777777777777778,
              "#fb9f3a"
             ],
             [
              0.8888888888888888,
              "#fdca26"
             ],
             [
              1,
              "#f0f921"
             ]
            ],
            "type": "histogram2d"
           }
          ],
          "histogram2dcontour": [
           {
            "colorbar": {
             "outlinewidth": 0,
             "ticks": ""
            },
            "colorscale": [
             [
              0,
              "#0d0887"
             ],
             [
              0.1111111111111111,
              "#46039f"
             ],
             [
              0.2222222222222222,
              "#7201a8"
             ],
             [
              0.3333333333333333,
              "#9c179e"
             ],
             [
              0.4444444444444444,
              "#bd3786"
             ],
             [
              0.5555555555555556,
              "#d8576b"
             ],
             [
              0.6666666666666666,
              "#ed7953"
             ],
             [
              0.7777777777777778,
              "#fb9f3a"
             ],
             [
              0.8888888888888888,
              "#fdca26"
             ],
             [
              1,
              "#f0f921"
             ]
            ],
            "type": "histogram2dcontour"
           }
          ],
          "mesh3d": [
           {
            "colorbar": {
             "outlinewidth": 0,
             "ticks": ""
            },
            "type": "mesh3d"
           }
          ],
          "parcoords": [
           {
            "line": {
             "colorbar": {
              "outlinewidth": 0,
              "ticks": ""
             }
            },
            "type": "parcoords"
           }
          ],
          "pie": [
           {
            "automargin": true,
            "type": "pie"
           }
          ],
          "scatter": [
           {
            "fillpattern": {
             "fillmode": "overlay",
             "size": 10,
             "solidity": 0.2
            },
            "type": "scatter"
           }
          ],
          "scatter3d": [
           {
            "line": {
             "colorbar": {
              "outlinewidth": 0,
              "ticks": ""
             }
            },
            "marker": {
             "colorbar": {
              "outlinewidth": 0,
              "ticks": ""
             }
            },
            "type": "scatter3d"
           }
          ],
          "scattercarpet": [
           {
            "marker": {
             "colorbar": {
              "outlinewidth": 0,
              "ticks": ""
             }
            },
            "type": "scattercarpet"
           }
          ],
          "scattergeo": [
           {
            "marker": {
             "colorbar": {
              "outlinewidth": 0,
              "ticks": ""
             }
            },
            "type": "scattergeo"
           }
          ],
          "scattergl": [
           {
            "marker": {
             "colorbar": {
              "outlinewidth": 0,
              "ticks": ""
             }
            },
            "type": "scattergl"
           }
          ],
          "scattermapbox": [
           {
            "marker": {
             "colorbar": {
              "outlinewidth": 0,
              "ticks": ""
             }
            },
            "type": "scattermapbox"
           }
          ],
          "scatterpolar": [
           {
            "marker": {
             "colorbar": {
              "outlinewidth": 0,
              "ticks": ""
             }
            },
            "type": "scatterpolar"
           }
          ],
          "scatterpolargl": [
           {
            "marker": {
             "colorbar": {
              "outlinewidth": 0,
              "ticks": ""
             }
            },
            "type": "scatterpolargl"
           }
          ],
          "scatterternary": [
           {
            "marker": {
             "colorbar": {
              "outlinewidth": 0,
              "ticks": ""
             }
            },
            "type": "scatterternary"
           }
          ],
          "surface": [
           {
            "colorbar": {
             "outlinewidth": 0,
             "ticks": ""
            },
            "colorscale": [
             [
              0,
              "#0d0887"
             ],
             [
              0.1111111111111111,
              "#46039f"
             ],
             [
              0.2222222222222222,
              "#7201a8"
             ],
             [
              0.3333333333333333,
              "#9c179e"
             ],
             [
              0.4444444444444444,
              "#bd3786"
             ],
             [
              0.5555555555555556,
              "#d8576b"
             ],
             [
              0.6666666666666666,
              "#ed7953"
             ],
             [
              0.7777777777777778,
              "#fb9f3a"
             ],
             [
              0.8888888888888888,
              "#fdca26"
             ],
             [
              1,
              "#f0f921"
             ]
            ],
            "type": "surface"
           }
          ],
          "table": [
           {
            "cells": {
             "fill": {
              "color": "#EBF0F8"
             },
             "line": {
              "color": "white"
             }
            },
            "header": {
             "fill": {
              "color": "#C8D4E3"
             },
             "line": {
              "color": "white"
             }
            },
            "type": "table"
           }
          ]
         },
         "layout": {
          "annotationdefaults": {
           "arrowcolor": "#2a3f5f",
           "arrowhead": 0,
           "arrowwidth": 1
          },
          "autotypenumbers": "strict",
          "coloraxis": {
           "colorbar": {
            "outlinewidth": 0,
            "ticks": ""
           }
          },
          "colorscale": {
           "diverging": [
            [
             0,
             "#8e0152"
            ],
            [
             0.1,
             "#c51b7d"
            ],
            [
             0.2,
             "#de77ae"
            ],
            [
             0.3,
             "#f1b6da"
            ],
            [
             0.4,
             "#fde0ef"
            ],
            [
             0.5,
             "#f7f7f7"
            ],
            [
             0.6,
             "#e6f5d0"
            ],
            [
             0.7,
             "#b8e186"
            ],
            [
             0.8,
             "#7fbc41"
            ],
            [
             0.9,
             "#4d9221"
            ],
            [
             1,
             "#276419"
            ]
           ],
           "sequential": [
            [
             0,
             "#0d0887"
            ],
            [
             0.1111111111111111,
             "#46039f"
            ],
            [
             0.2222222222222222,
             "#7201a8"
            ],
            [
             0.3333333333333333,
             "#9c179e"
            ],
            [
             0.4444444444444444,
             "#bd3786"
            ],
            [
             0.5555555555555556,
             "#d8576b"
            ],
            [
             0.6666666666666666,
             "#ed7953"
            ],
            [
             0.7777777777777778,
             "#fb9f3a"
            ],
            [
             0.8888888888888888,
             "#fdca26"
            ],
            [
             1,
             "#f0f921"
            ]
           ],
           "sequentialminus": [
            [
             0,
             "#0d0887"
            ],
            [
             0.1111111111111111,
             "#46039f"
            ],
            [
             0.2222222222222222,
             "#7201a8"
            ],
            [
             0.3333333333333333,
             "#9c179e"
            ],
            [
             0.4444444444444444,
             "#bd3786"
            ],
            [
             0.5555555555555556,
             "#d8576b"
            ],
            [
             0.6666666666666666,
             "#ed7953"
            ],
            [
             0.7777777777777778,
             "#fb9f3a"
            ],
            [
             0.8888888888888888,
             "#fdca26"
            ],
            [
             1,
             "#f0f921"
            ]
           ]
          },
          "colorway": [
           "#636efa",
           "#EF553B",
           "#00cc96",
           "#ab63fa",
           "#FFA15A",
           "#19d3f3",
           "#FF6692",
           "#B6E880",
           "#FF97FF",
           "#FECB52"
          ],
          "font": {
           "color": "#2a3f5f"
          },
          "geo": {
           "bgcolor": "white",
           "lakecolor": "white",
           "landcolor": "#E5ECF6",
           "showlakes": true,
           "showland": true,
           "subunitcolor": "white"
          },
          "hoverlabel": {
           "align": "left"
          },
          "hovermode": "closest",
          "mapbox": {
           "style": "light"
          },
          "paper_bgcolor": "white",
          "plot_bgcolor": "#E5ECF6",
          "polar": {
           "angularaxis": {
            "gridcolor": "white",
            "linecolor": "white",
            "ticks": ""
           },
           "bgcolor": "#E5ECF6",
           "radialaxis": {
            "gridcolor": "white",
            "linecolor": "white",
            "ticks": ""
           }
          },
          "scene": {
           "xaxis": {
            "backgroundcolor": "#E5ECF6",
            "gridcolor": "white",
            "gridwidth": 2,
            "linecolor": "white",
            "showbackground": true,
            "ticks": "",
            "zerolinecolor": "white"
           },
           "yaxis": {
            "backgroundcolor": "#E5ECF6",
            "gridcolor": "white",
            "gridwidth": 2,
            "linecolor": "white",
            "showbackground": true,
            "ticks": "",
            "zerolinecolor": "white"
           },
           "zaxis": {
            "backgroundcolor": "#E5ECF6",
            "gridcolor": "white",
            "gridwidth": 2,
            "linecolor": "white",
            "showbackground": true,
            "ticks": "",
            "zerolinecolor": "white"
           }
          },
          "shapedefaults": {
           "line": {
            "color": "#2a3f5f"
           }
          },
          "ternary": {
           "aaxis": {
            "gridcolor": "white",
            "linecolor": "white",
            "ticks": ""
           },
           "baxis": {
            "gridcolor": "white",
            "linecolor": "white",
            "ticks": ""
           },
           "bgcolor": "#E5ECF6",
           "caxis": {
            "gridcolor": "white",
            "linecolor": "white",
            "ticks": ""
           }
          },
          "title": {
           "x": 0.05
          },
          "xaxis": {
           "automargin": true,
           "gridcolor": "white",
           "linecolor": "white",
           "ticks": "",
           "title": {
            "standoff": 15
           },
           "zerolinecolor": "white",
           "zerolinewidth": 2
          },
          "yaxis": {
           "automargin": true,
           "gridcolor": "white",
           "linecolor": "white",
           "ticks": "",
           "title": {
            "standoff": 15
           },
           "zerolinecolor": "white",
           "zerolinewidth": 2
          }
         }
        },
        "title": {
         "text": "Moyenne de salaire par poste pour les joueurs actifs en 2020"
        },
        "xaxis": {
         "anchor": "y",
         "domain": [
          0,
          1
         ],
         "title": {
          "text": "Poste"
         }
        },
        "yaxis": {
         "anchor": "x",
         "domain": [
          0,
          1
         ],
         "title": {
          "text": "Salaire (en millions)"
         }
        }
       }
      }
     },
     "metadata": {},
     "output_type": "display_data"
    }
   ],
   "source": [
    "import pandas as pd\n",
    "import plotly.express as px\n",
    "\n",
    "# Charger les fichiers CSV (remplacez les chemins par les chemins réels de vos fichiers CSV)\n",
    "player_salary = pd.read_csv('./csv/Player_Salary.csv')\n",
    "player = pd.read_csv('./csv/Player.csv')\n",
    "player_attributes = pd.read_csv('./csv/Player_Attributes.csv')\n",
    "\n",
    "# Simuler les données de la table Player_Salary\n",
    "player_salary = player_salary.rename(columns={'namePlayer': 'player_name', 'nameTeam': 'team_name', 'value': 'salary', 'slugSeason': 'season'})\n",
    "player_salary['season'] = '2020-21'\n",
    "\n",
    "# Simuler les données de la table Player\n",
    "player = player.rename(columns={'id': 'player_id', 'full_name': 'player_name'})\n",
    "\n",
    "# Simuler les données de la table Player_Attributes\n",
    "player_attributes = player_attributes.rename(columns={'ID': 'player_id', 'BIRTHDATE': 'birthdate', 'DRAFT_YEAR': 'draft_year', 'POSITION': 'position'})\n",
    "\n",
    "# Convertir les types de données\n",
    "player_attributes['birthdate'] = pd.to_datetime(player_attributes['birthdate'], errors='coerce')\n",
    "player_attributes['draft_year'] = pd.to_numeric(player_attributes['draft_year'], errors='coerce')\n",
    "\n",
    "# Filtrer les joueurs actifs\n",
    "player_active = player[player['is_active'] == 1]\n",
    "\n",
    "# Joindre les trois tables\n",
    "merged_data = player_salary.merge(player_active, on='player_name', how='left').merge(player_attributes, on='player_id', how='left')\n",
    "\n",
    "# Filtrer les données pour la saison 2020-21\n",
    "merged_data_2020 = merged_data[merged_data['season'] == '2020-21']\n",
    "\n",
    "# Calculer les colonnes supplémentaires\n",
    "merged_data_2020['salary_in_millions'] = round(merged_data_2020['salary'] / 1000000, 2)\n",
    "\n",
    "# Calculer la moyenne des salaires par poste\n",
    "avg_salary_by_position = merged_data_2020.groupby('position')['salary_in_millions'].mean().reset_index()\n",
    "\n",
    "# Créer l'histogramme\n",
    "fig = px.bar(avg_salary_by_position, x='position', y='salary_in_millions',\n",
    "             title='Moyenne de salaire par poste pour les joueurs actifs en 2020',\n",
    "             labels={'position': 'Poste', 'salary_in_millions': 'Salaire (en millions)'})\n",
    "\n",
    "fig.show()\n"
   ]
  },
  {
   "cell_type": "markdown",
   "metadata": {},
   "source": [
    "### La corrélation entre les statistiques d'un joueur et son salaire"
   ]
  },
  {
   "cell_type": "code",
   "execution_count": 36,
   "metadata": {},
   "outputs": [
    {
     "data": {
      "application/vnd.plotly.v1+json": {
       "config": {
        "plotlyServerURL": "https://plot.ly"
       },
       "data": [
        {
         "customdata": [
          [
           "Steven Adams"
          ],
          [
           "Bam Adebayo"
          ],
          [
           "LaMarcus Aldridge"
          ],
          [
           "LaMarcus Aldridge"
          ],
          [
           "Grayson Allen"
          ],
          [
           "Jarrett Allen"
          ],
          [
           "Justin Anderson"
          ],
          [
           "Kyle Anderson"
          ],
          [
           "Ryan Anderson"
          ],
          [
           "Giannis Antetokounmpo"
          ],
          [
           "Thanasis Antetokounmpo"
          ],
          [
           "Carmelo Anthony"
          ],
          [
           "OG Anunoby"
          ],
          [
           "Ryan Arcidiacono"
          ],
          [
           "Trevor Ariza"
          ],
          [
           "Deandre Ayton"
          ],
          [
           "Dwayne Bacon"
          ],
          [
           "Marvin Bagley III"
          ],
          [
           "Lonzo Ball"
          ],
          [
           "Mo Bamba"
          ],
          [
           "Harrison Barnes"
          ],
          [
           "RJ Barrett"
          ],
          [
           "Will Barton"
          ],
          [
           "Nicolas Batum"
          ],
          [
           "Nicolas Batum"
          ],
          [
           "Aron Baynes"
          ],
          [
           "Kent Bazemore"
          ],
          [
           "Darius Bazley"
          ],
          [
           "Bradley Beal"
          ],
          [
           "Malik Beasley"
          ],
          [
           "Jordan Bell"
          ],
          [
           "Jordan Bell"
          ],
          [
           "DeAndre' Bembry"
          ],
          [
           "Davis Bertans"
          ],
          [
           "Patrick Beverley"
          ],
          [
           "Khem Birch"
          ],
          [
           "Goga Bitadze"
          ],
          [
           "Bismack Biyombo"
          ],
          [
           "Nemanja Bjelica"
          ],
          [
           "Eric Bledsoe"
          ],
          [
           "Bogdan Bogdanovic"
          ],
          [
           "Bojan Bogdanovic"
          ],
          [
           "Isaac Bonga"
          ],
          [
           "Devin Booker"
          ],
          [
           "Chris Boucher"
          ],
          [
           "Avery Bradley"
          ],
          [
           "Tony Bradley"
          ],
          [
           "Mikal Bridges"
          ],
          [
           "Miles Bridges"
          ],
          [
           "Oshae Brissett"
          ],
          [
           "Oshae Brissett"
          ],
          [
           "Malcolm Brogdon"
          ],
          [
           "Dillon Brooks"
          ],
          [
           "Jaylen Brown"
          ],
          [
           "Moses Brown"
          ],
          [
           "Sterling Brown"
          ],
          [
           "Jalen Brunson"
          ],
          [
           "Thomas Bryant"
          ],
          [
           "Reggie Bullock"
          ],
          [
           "Trey Burke"
          ],
          [
           "Alec Burks"
          ],
          [
           "Jimmy Butler"
          ],
          [
           "Bruno Caboclo"
          ],
          [
           "Vlatko Cancar"
          ],
          [
           "Clint Capela"
          ],
          [
           "DeMarre Carroll"
          ],
          [
           "Jevon Carter"
          ],
          [
           "Alex Caruso"
          ],
          [
           "Zylan Cheatham"
          ],
          [
           "Marquese Chriss"
          ],
          [
           "Gary Clark"
          ],
          [
           "Brandon Clarke"
          ],
          [
           "Jordan Clarkson"
          ],
          [
           "Nicolas Claxton"
          ],
          [
           "Chris Clemons"
          ],
          [
           "John Collins"
          ],
          [
           "Zach Collins"
          ],
          [
           "Mike Conley"
          ],
          [
           "Pat Connaughton"
          ],
          [
           "Quinn Cook"
          ],
          [
           "Quinn Cook"
          ],
          [
           "Tyler Cook"
          ],
          [
           "DeMarcus Cousins"
          ],
          [
           "DeMarcus Cousins"
          ],
          [
           "Robert Covington"
          ],
          [
           "Torrey Craig"
          ],
          [
           "Jae Crowder"
          ],
          [
           "Jarrett Culver"
          ],
          [
           "Seth Curry"
          ],
          [
           "Stephen Curry"
          ],
          [
           "Anthony Davis"
          ],
          [
           "Ed Davis"
          ],
          [
           "Terence Davis"
          ],
          [
           "DeMar DeRozan"
          ],
          [
           "Dewayne Dedmon"
          ],
          [
           "Matthew Dellavedova"
          ],
          [
           "Hamidou Diallo"
          ],
          [
           "Gorgui Dieng"
          ],
          [
           "Gorgui Dieng"
          ],
          [
           "Spencer Dinwiddie"
          ],
          [
           "Luka Doncic"
          ],
          [
           "Luguentz Dort"
          ],
          [
           "Damyean Dotson"
          ],
          [
           "Sekou Doumbouya"
          ],
          [
           "PJ Dozier"
          ],
          [
           "Goran Dragic"
          ],
          [
           "Andre Drummond"
          ],
          [
           "Andre Drummond"
          ],
          [
           "Jared Dudley"
          ],
          [
           "Kris Dunn"
          ],
          [
           "Kevin Durant"
          ],
          [
           "Carsen Edwards"
          ],
          [
           "Henry Ellenson"
          ],
          [
           "Wayne Ellington"
          ],
          [
           "Wayne Ellington"
          ],
          [
           "Joel Embiid"
          ],
          [
           "Drew Eubanks"
          ],
          [
           "Jacob Evans"
          ],
          [
           "Dante Exum"
          ],
          [
           "Derrick Favors"
          ],
          [
           "Cristiano Felicio"
          ],
          [
           "Terrance Ferguson"
          ],
          [
           "Bruno Fernando"
          ],
          [
           "Yogi Ferrell"
          ],
          [
           "Bryn Forbes"
          ],
          [
           "Evan Fournier"
          ],
          [
           "De'Aaron Fox"
          ],
          [
           "Tim Frazier"
          ],
          [
           "Markelle Fultz"
          ],
          [
           "Wenyen Gabriel"
          ],
          [
           "Daniel Gafford"
          ],
          [
           "Danilo Gallinari"
          ],
          [
           "Langston Galloway"
          ],
          [
           "Darius Garland"
          ],
          [
           "Marc Gasol"
          ],
          [
           "Rudy Gay"
          ],
          [
           "Paul George"
          ],
          [
           "Taj Gibson"
          ],
          [
           "Rudy Gobert"
          ],
          [
           "Brandon Goodwin"
          ],
          [
           "Aaron Gordon"
          ],
          [
           "Eric Gordon"
          ],
          [
           "Devonte' Graham"
          ],
          [
           "Jerami Grant"
          ],
          [
           "Josh Gray"
          ],
          [
           "Danny Green"
          ],
          [
           "Draymond Green"
          ],
          [
           "JaMychal Green"
          ],
          [
           "Javonte Green"
          ],
          [
           "Jeff Green"
          ],
          [
           "Blake Griffin"
          ],
          [
           "Blake Griffin"
          ],
          [
           "Marko Guduric"
          ],
          [
           "Rui Hachimura"
          ],
          [
           "James Harden"
          ],
          [
           "Maurice Harkless"
          ],
          [
           "Montrezl Harrell"
          ],
          [
           "Gary Harris"
          ],
          [
           "Joe Harris"
          ],
          [
           "Tobias Harris"
          ],
          [
           "Shaquille Harrison"
          ],
          [
           "Josh Hart"
          ],
          [
           "Isaiah Hartenstein"
          ],
          [
           "Udonis Haslem"
          ],
          [
           "Jaxson Hayes"
          ],
          [
           "Gordon Hayward"
          ],
          [
           "John Henson"
          ],
          [
           "Juancho Hernangomez"
          ],
          [
           "Willy Hernangomez"
          ],
          [
           "Tyler Herro"
          ],
          [
           "Mario Hezonja"
          ],
          [
           "Buddy Hield"
          ],
          [
           "George Hill"
          ],
          [
           "Solomon Hill"
          ],
          [
           "Aaron Holiday"
          ],
          [
           "Jrue Holiday"
          ],
          [
           "Justin Holiday"
          ],
          [
           "Richaun Holmes"
          ],
          [
           "Rodney Hood"
          ],
          [
           "Al Horford"
          ],
          [
           "Dwight Howard"
          ],
          [
           "Kevin Huerter"
          ],
          [
           "De'Andre Hunter"
          ],
          [
           "Chandler Hutchison"
          ],
          [
           "Serge Ibaka"
          ],
          [
           "Andre Iguodala"
          ],
          [
           "Ersan Ilyasova"
          ],
          [
           "Joe Ingles"
          ],
          [
           "Brandon Ingram"
          ],
          [
           "Kyrie Irving"
          ],
          [
           "Jonathan Isaac"
          ],
          [
           "Frank Jackson"
          ],
          [
           "Josh Jackson"
          ],
          [
           "Justin Jackson"
          ],
          [
           "Reggie Jackson"
          ],
          [
           "Justin James"
          ],
          [
           "LeBron James"
          ],
          [
           "DaQuan Jeffries"
          ],
          [
           "Ty Jerome"
          ],
          [
           "Alize Johnson"
          ],
          [
           "Cameron Johnson"
          ],
          [
           "James Johnson"
          ],
          [
           "Keldon Johnson"
          ],
          [
           "Stanley Johnson"
          ],
          [
           "Tyler Johnson"
          ],
          [
           "Nikola Jokic"
          ],
          [
           "Damian Jones"
          ],
          [
           "Damian Jones"
          ],
          [
           "Tyus Jones"
          ],
          [
           "DeAndre Jordan"
          ],
          [
           "Cory Joseph"
          ],
          [
           "Mfiondu Kabengele"
          ],
          [
           "Frank Kaminsky"
          ],
          [
           "Enes Kanter"
          ],
          [
           "Luke Kennard"
          ],
          [
           "Maxi Kleber"
          ],
          [
           "John Konchar"
          ],
          [
           "Furkan Korkmaz"
          ],
          [
           "Luke Kornet"
          ],
          [
           "Rodions Kurucs"
          ],
          [
           "Kyle Kuzma"
          ],
          [
           "Zach LaVine"
          ],
          [
           "Jeremy Lamb"
          ],
          [
           "Romeo Langford"
          ],
          [
           "Jake Layman"
          ],
          [
           "Caris LeVert"
          ],
          [
           "Jalen Lecque"
          ],
          [
           "Damion Lee"
          ],
          [
           "Alex Len"
          ],
          [
           "Alex Len"
          ],
          [
           "Kawhi Leonard"
          ],
          [
           "Meyers Leonard"
          ],
          [
           "Damian Lillard"
          ],
          [
           "Nassir Little"
          ],
          [
           "Kevon Looney"
          ],
          [
           "Brook Lopez"
          ],
          [
           "Robin Lopez"
          ],
          [
           "Kevin Love"
          ],
          [
           "Kyle Lowry"
          ],
          [
           "Trey Lyles"
          ],
          [
           "Thon Maker"
          ],
          [
           "Terance Mann"
          ],
          [
           "Boban Marjanovic"
          ],
          [
           "Lauri Markkanen"
          ],
          [
           "Caleb Martin"
          ],
          [
           "Cody Martin"
          ],
          [
           "Kelan Martin"
          ],
          [
           "Wesley Matthews"
          ],
          [
           "Patrick McCaw"
          ],
          [
           "CJ McCollum"
          ],
          [
           "Jalen McDaniels"
          ],
          [
           "Doug McDermott"
          ],
          [
           "JaVale McGee"
          ],
          [
           "Rodney McGruder"
          ],
          [
           "Alfonzo McKinnie"
          ],
          [
           "Ben McLemore"
          ],
          [
           "Ben McLemore"
          ],
          [
           "Nicolo Melli"
          ],
          [
           "De'Anthony Melton"
          ],
          [
           "Chimezie Metu"
          ],
          [
           "Khris Middleton"
          ],
          [
           "Darius Miller"
          ],
          [
           "Patty Mills"
          ],
          [
           "Paul Millsap"
          ],
          [
           "Shake Milton"
          ],
          [
           "Donovan Mitchell"
          ],
          [
           "Malik Monk"
          ],
          [
           "E'Twaun Moore"
          ],
          [
           "Ja Morant"
          ],
          [
           "Juwan Morgan"
          ],
          [
           "Markieff Morris"
          ],
          [
           "Monte Morris"
          ],
          [
           "Dejounte Murray"
          ],
          [
           "Jamal Murray"
          ],
          [
           "Dzanan Musa"
          ],
          [
           "Mike Muscala"
          ],
          [
           "Svi Mykhailiuk"
          ],
          [
           "Abdel Nader"
          ],
          [
           "Raul Neto"
          ],
          [
           "Georges Niang"
          ],
          [
           "Nerlens Noel"
          ],
          [
           "Jaylen Nowell"
          ],
          [
           "Frank Ntilikina"
          ],
          [
           "Kendrick Nunn"
          ],
          [
           "Jusuf Nurkic"
          ],
          [
           "David Nwaba"
          ],
          [
           "Royce O'Neale"
          ],
          [
           "Semi Ojeleye"
          ],
          [
           "Jahlil Okafor"
          ],
          [
           "Josh Okogie"
          ],
          [
           "KZ Okpala"
          ],
          [
           "Victor Oladipo"
          ],
          [
           "Kelly Olynyk"
          ],
          [
           "Miye Oni"
          ],
          [
           "Cedi Osman"
          ],
          [
           "Jabari Parker"
          ],
          [
           "Eric Paschall"
          ],
          [
           "Anzejs Pasecniks"
          ],
          [
           "Patrick Patterson"
          ],
          [
           "Patrick Patterson"
          ],
          [
           "Chris Paul"
          ],
          [
           "Elfrid Payton"
          ],
          [
           "Norvel Pelle"
          ],
          [
           "Norvel Pelle"
          ],
          [
           "Norvel Pelle"
          ],
          [
           "Mason Plumlee"
          ],
          [
           "Jakob Poeltl"
          ],
          [
           "Vincent Poirier"
          ],
          [
           "Jordan Poole"
          ],
          [
           "Bobby Portis"
          ],
          [
           "Kristaps Porzingis"
          ],
          [
           "Dwight Powell"
          ],
          [
           "Norman Powell"
          ],
          [
           "Taurean Prince"
          ],
          [
           "Julius Randle"
          ],
          [
           "Cam Reddish"
          ],
          [
           "JJ Redick"
          ],
          [
           "Naz Reid"
          ],
          [
           "Cameron Reynolds"
          ],
          [
           "Josh Richardson"
          ],
          [
           "Austin Rivers"
          ],
          [
           "Andre Roberson"
          ],
          [
           "Duncan Robinson"
          ],
          [
           "Jerome Robinson"
          ],
          [
           "Justin Robinson"
          ],
          [
           "Mitchell Robinson"
          ],
          [
           "Glenn Robinson III"
          ],
          [
           "Isaiah Roby"
          ],
          [
           "Rajon Rondo"
          ],
          [
           "Derrick Rose"
          ],
          [
           "Terrence Ross"
          ],
          [
           "Terry Rozier"
          ],
          [
           "Ricky Rubio"
          ],
          [
           "D'Angelo Russell"
          ],
          [
           "Domantas Sabonis"
          ],
          [
           "Luka Samanic"
          ],
          [
           "JaKarr Sampson"
          ],
          [
           "Dario Saric"
          ],
          [
           "Tomas Satoransky"
          ],
          [
           "Admiral Schofield"
          ],
          [
           "Dennis Schroder"
          ],
          [
           "Mike Scott"
          ],
          [
           "Collin Sexton"
          ],
          [
           "Landry Shamet"
          ],
          [
           "Iman Shumpert"
          ],
          [
           "Pascal Siakam"
          ],
          [
           "Chris Silva"
          ],
          [
           "Ben Simmons"
          ],
          [
           "Anfernee Simons"
          ],
          [
           "Alen Smailagic"
          ],
          [
           "Marcus Smart"
          ],
          [
           "Ish Smith"
          ],
          [
           "Zhaire Smith"
          ],
          [
           "Tony Snell"
          ],
          [
           "Omari Spellman"
          ],
          [
           "Edmond Sumner"
          ],
          [
           "Jayson Tatum"
          ],
          [
           "Jeff Teague"
          ],
          [
           "Jeff Teague"
          ],
          [
           "Garrett Temple"
          ],
          [
           "Daniel Theis"
          ],
          [
           "Isaiah Thomas"
          ],
          [
           "Khyri Thomas"
          ],
          [
           "Matt Thomas"
          ],
          [
           "Klay Thompson"
          ],
          [
           "Tristan Thompson"
          ],
          [
           "Matisse Thybulle"
          ],
          [
           "Rayjon Tucker"
          ],
          [
           "Myles Turner"
          ],
          [
           "Jonas Valanciunas"
          ],
          [
           "Denzel Valentine"
          ],
          [
           "Fred VanVleet"
          ],
          [
           "Jarred Vanderbilt"
          ],
          [
           "Noah Vonleh"
          ],
          [
           "Nikola Vucevic"
          ],
          [
           "Dean Wade"
          ],
          [
           "Moritz Wagner"
          ],
          [
           "Dion Waiters"
          ],
          [
           "Kemba Walker"
          ],
          [
           "John Wall"
          ],
          [
           "Brad Wanamaker"
          ],
          [
           "Paul Watson"
          ],
          [
           "Russell Westbrook"
          ],
          [
           "Coby White"
          ],
          [
           "Derrick White"
          ],
          [
           "Hassan Whiteside"
          ],
          [
           "Andrew Wiggins"
          ],
          [
           "Grant Williams"
          ],
          [
           "Kenrich Williams"
          ],
          [
           "Lou Williams"
          ],
          [
           "Zion Williamson"
          ],
          [
           "Dylan Windler"
          ],
          [
           "Justise Winslow"
          ],
          [
           "Christian Wood"
          ],
          [
           "Delon Wright"
          ],
          [
           "Thaddeus Young"
          ],
          [
           "Trae Young"
          ],
          [
           "Cody Zeller"
          ],
          [
           "Ivica Zubac"
          ]
         ],
         "hovertemplate": "Salaire ($)=%{x}<br>Points par match=%{y}<br>Rebonds=%{marker.size}<br>full_name=%{customdata[0]}<br>Assists=%{marker.color}<extra></extra>",
         "legendgroup": "",
         "marker": {
          "color": [
           2,
           5.4,
           1.7,
           1.7,
           2.1,
           1.6,
           0.7,
           3.4,
           0.9,
           6.4,
           0.7,
           1.7,
           1.6,
           1.2,
           1,
           1.6,
           1.1,
           0.9,
           5.6,
           0.3,
           3.7,
           3,
           3.2,
           2.3,
           2.3,
           0.9,
           1.6,
           1.5,
           4.6,
           2.5,
           1.7,
           1.7,
           1.9,
           0.9,
           2.1,
           1,
           0.3,
           1.3,
           1.9,
           3.7,
           2.3,
           1.9,
           0.6,
           4.6,
           1,
           1.4,
           0.9,
           2.4,
           2,
           0.4,
           0.4,
           6.1,
           2.6,
           3.9,
           0.3,
           1.6,
           3.2,
           1.5,
           1.4,
           1.5,
           2.2,
           7.3,
           0.2,
           0.3,
           0.9,
           1.3,
           1.1,
           2.4,
           0.8,
           1,
           0.9,
           1.5,
           2.2,
           0.9,
           0.8,
           1.3,
           1.5,
           5.5,
           1.3,
           0.7,
           0.7,
           0.3,
           2.4,
           2.4,
           1.7,
           0.9,
           2,
           0.8,
           2.9,
           6.2,
           3,
           1,
           1.1,
           7.4,
           0.7,
           3.2,
           2.4,
           1.3,
           1.3,
           3,
           9.2,
           1.6,
           2.2,
           0.6,
           1.6,
           4.9,
           2.6,
           2.6,
           0.5,
           3.4,
           5.3,
           0.6,
           2.5,
           1.4,
           1.4,
           3.3,
           0.9,
           0.9,
           2.2,
           0.9,
           0.7,
           0.2,
           0.4,
           2.5,
           0.6,
           3.7,
           7.4,
           2.3,
           5.4,
           0.3,
           0.6,
           1.5,
           0.8,
           5.8,
           2,
           1.5,
           5.5,
           0.5,
           1.3,
           1.6,
           4.3,
           2.6,
           5.2,
           2.8,
           2,
           1.7,
           8.4,
           0.8,
           0.4,
           1.5,
           3.5,
           3.5,
           1,
           1.5,
           11.2,
           0.6,
           1.1,
           1.7,
           1.8,
           3.6,
           0.5,
           2.2,
           0.5,
           0.3,
           0.5,
           4.2,
           1.1,
           0.6,
           1.2,
           3.4,
           1.3,
           3.3,
           3.1,
           0.9,
           1.7,
           5.2,
           1.7,
           1.8,
           1.2,
           3.3,
           0.8,
           3.6,
           2.2,
           0.6,
           1.7,
           2.1,
           1,
           4.2,
           4.7,
           5.7,
           1.4,
           0.8,
           2.1,
           1.5,
           2.8,
           0.5,
           7.9,
           0.3,
           3.6,
           0.4,
           1.4,
           1.7,
           2,
           1.2,
           0.9,
           8.6,
           0.2,
           0.2,
           4.3,
           1.7,
           2.4,
           0.2,
           1.6,
           1.3,
           1.8,
           1.4,
           1.1,
           1.1,
           0.3,
           0.4,
           1.5,
           4.9,
           1.6,
           0.4,
           0.8,
           5.3,
           0.5,
           1.4,
           0.9,
           0.9,
           4.9,
           0.7,
           7.7,
           0.4,
           1.6,
           0.7,
           0.9,
           1.3,
           7.4,
           0.6,
           0.5,
           1.2,
           0.2,
           0.9,
           1.1,
           1.2,
           0.1,
           1,
           0.8,
           4.3,
           0.5,
           1.4,
           1,
           1,
           0.1,
           0.9,
           0.9,
           1.1,
           2.9,
           0.5,
           5.5,
           1.1,
           2.5,
           1.6,
           3.1,
           5.5,
           1.8,
           1.5,
           7.5,
           0.2,
           1.1,
           3.4,
           5.1,
           4.8,
           0.9,
           0.8,
           1.6,
           0.8,
           2.2,
           0.7,
           0.6,
           1.4,
           0.8,
           2.6,
           2.8,
           1,
           2.6,
           0.8,
           0.3,
           1.2,
           0.4,
           4.7,
           2.1,
           0.2,
           2.7,
           0.3,
           1.3,
           1,
           0.5,
           0.5,
           8.8,
           3.7,
           0.3,
           0.3,
           0.3,
           3.6,
           1.8,
           0.2,
           1.4,
           1.1,
           1.3,
           0.8,
           1.8,
           1.7,
           5.9,
           1.3,
           1.3,
           1.2,
           0.7,
           2.7,
           2,
           0.8,
           1.7,
           1.4,
           0.8,
           0.6,
           0.9,
           1.7,
           3.5,
           4.5,
           2.3,
           3.3,
           6.8,
           5.1,
           6.2,
           0.2,
           0.1,
           1.3,
           4.8,
           0.5,
           4.7,
           0.5,
           4.3,
           1.1,
           0,
           4.7,
           0.5,
           7.6,
           1.4,
           0,
           5.4,
           4.7,
           0.9,
           1.4,
           1,
           0.4,
           4.3,
           2.2,
           2.2,
           2,
           1.6,
           5,
           0.3,
           0.4,
           2.4,
           1,
           1,
           1,
           1,
           1.8,
           1.7,
           6.5,
           1.4,
           0.3,
           3.8,
           0.8,
           1.3,
           2.8,
           4.6,
           6.3,
           2.5,
           0.4,
           10.3,
           4.7,
           3.4,
           0.6,
           2.1,
           0.9,
           1.8,
           3.5,
           3.4,
           1.1,
           1.8,
           1.4,
           5.1,
           4.4,
           9.4,
           2.3,
           1.1
          ],
          "coloraxis": "coloraxis",
          "size": [
           9.2,
           9.5,
           4.5,
           4.5,
           3.1,
           9.9,
           2.5,
           5.8,
           5.3,
           11.7,
           2,
           3.3,
           5.7,
           1.6,
           3.3,
           11,
           2.8,
           7.4,
           4.2,
           3.9,
           6.5,
           6.1,
           4.1,
           4.7,
           4.7,
           5.5,
           2.9,
           7.5,
           5.1,
           4.6,
           5.3,
           5.3,
           2.3,
           2.9,
           3.7,
           5.2,
           2.2,
           5.5,
           3.8,
           3.4,
           3.3,
           3.9,
           2.1,
           4,
           6.4,
           1.8,
           4.9,
           4.9,
           5.6,
           1.4,
           1.4,
           4.7,
           3,
           5.6,
           6.5,
           4.5,
           3.4,
           6.1,
           3.4,
           0.9,
           4.3,
           7.9,
           2.3,
           1.2,
           14.2,
           4.2,
           1.1,
           2.9,
           2.3,
           6.5,
           3.2,
           5.5,
           3.9,
           4.3,
           0.9,
           7.8,
           6.3,
           3.4,
           4.5,
           0.7,
           0.7,
           1.5,
           7.6,
           7.6,
           6.7,
           2.4,
           5,
           4.3,
           2.2,
           5.3,
           8.4,
           5.1,
           2,
           4.5,
           6,
           1.3,
           5.2,
           4.5,
           4.5,
           4.3,
           8.4,
           3.5,
           1.9,
           2.2,
           3.8,
           3.3,
           13.5,
           13.5,
           1.7,
           3.6,
           7.3,
           1.1,
           6,
           1.8,
           1.8,
           11.5,
           3.2,
           1.1,
           2.8,
           5.3,
           1.7,
           0.1,
           3,
           3.5,
           1.2,
           3,
           3.4,
           1.3,
           3.1,
           1.2,
           3.3,
           3.9,
           1,
           2.2,
           4.1,
           4.9,
           6,
           4.5,
           13.4,
           1,
           6.6,
           2.1,
           2.7,
           5,
           1.7,
           3.6,
           6.6,
           5.5,
           2.1,
           3.8,
           5,
           5,
           1.7,
           5.8,
           7.9,
           1.2,
           6.6,
           2.5,
           3.5,
           7.7,
           0.5,
           7.6,
           2.8,
           4,
           3.5,
           5.6,
           5.3,
           4.2,
           6.2,
           5.4,
           3.1,
           4.6,
           2.1,
           2.3,
           1.2,
           4.6,
           3.9,
           8.8,
           1.9,
           6.7,
           8.2,
           3.7,
           5.2,
           2.9,
           6.7,
           3.6,
           0,
           3.6,
           5.1,
           4.8,
           6.8,
           1.4,
           4.2,
           2.2,
           2.6,
           0.5,
           7.9,
           1.6,
           3.5,
           2.8,
           3.3,
           3,
           6.5,
           2.2,
           1.8,
           11.3,
           2,
           2,
           2.2,
           7.5,
           2.2,
           0.6,
           3.7,
           11.6,
           2.7,
           5.4,
           3.3,
           2.2,
           1.2,
           0.9,
           6.7,
           5.1,
           3.6,
           1.3,
           1.9,
           4.2,
           1.3,
           3.3,
           3.6,
           3.6,
           6.3,
           2.3,
           4.4,
           2.6,
           4.2,
           5,
           4.1,
           3.3,
           5.6,
           3.8,
           2.3,
           3.4,
           3.9,
           6,
           2.6,
           2.4,
           0.9,
           1.4,
           0.6,
           3.8,
           2.4,
           3.9,
           5.2,
           1.4,
           1.1,
           2.2,
           2.2,
           2.6,
           3.4,
           2.1,
           6,
           1.4,
           1.8,
           5,
           2.3,
           4.6,
           2.7,
           1.8,
           3.3,
           0.8,
           4.2,
           2.2,
           7,
           4,
           1.9,
           3.8,
           2.1,
           2.6,
           2.2,
           2.2,
           6,
           2.2,
           1.2,
           3.2,
           7.7,
           3.9,
           6.6,
           3,
           2.3,
           2.6,
           2,
           5,
           6.1,
           1.6,
           3.6,
           2,
           3.2,
           1,
           2,
           2,
           4.7,
           3.9,
           2,
           2,
           2,
           9.5,
           7.8,
           1.4,
           1.6,
           6.9,
           8.6,
           3.3,
           3,
           3.6,
           10.9,
           4,
           1.7,
           4.6,
           1.6,
           3.3,
           2.2,
           3,
           3.8,
           2.5,
           0.6,
           8.4,
           2,
           5.5,
           2,
           2.2,
           3.5,
           3.8,
           3.2,
           2.6,
           11.2,
           2.5,
           1.9,
           4.2,
           2.5,
           1.4,
           3.5,
           2.6,
           2.8,
           1.8,
           0.5,
           7.3,
           2.3,
           8,
           2.3,
           0,
           2.8,
           3.5,
           1.2,
           2.3,
           4.3,
           1.4,
           6.8,
           1.6,
           1.6,
           3.1,
           5.3,
           2.5,
           0.6,
           0.8,
           3.8,
           8.4,
           1.7,
           0,
           6.5,
           12.3,
           3.9,
           4.4,
           5.6,
           0.3,
           11.7,
           2.3,
           2.9,
           2.6,
           3.6,
           3.5,
           1.7,
           1.3,
           9.5,
           4.6,
           2.4,
           5.8,
           4.6,
           2.9,
           4.1,
           2.1,
           7,
           3.6,
           4.9,
           9.8,
           4.6,
           6.5,
           4.1,
           7.1,
           7
          ],
          "sizemode": "area",
          "sizeref": 0.0355,
          "symbol": "circle"
         },
         "mode": "markers",
         "name": "",
         "orientation": "v",
         "showlegend": false,
         "type": "scatter",
         "x": [
          29592695,
          5115492,
          554988,
          16750000,
          2545320,
          3909902,
          125000,
          9505100,
          5214583,
          27528088,
          1701593,
          1620564,
          3872215,
          3000000,
          12800000,
          10018200,
          1678854,
          8963640,
          11003782,
          5969040,
          22215909,
          8231760,
          13723214,
          9043478,
          1620564,
          7000000,
          1620564,
          2399160,
          28751774,
          13425895,
          580062,
          110998,
          1737145,
          15000000,
          13333333,
          3000000,
          2957520,
          3500000,
          7150000,
          16875000,
          18000000,
          17850000,
          1663861,
          29467800,
          6500000,
          5635000,
          3542060,
          4359000,
          3934320,
          99020,
          300000,
          20700000,
          11400000,
          23437500,
          1250000,
          1620564,
          1663861,
          8333333,
          4200000,
          3000000,
          6000000,
          34379100,
          361256,
          1517981,
          16000000,
          6119676,
          3925000,
          2750000,
          1445697,
          1824003,
          2000000,
          2602920,
          11500000,
          1517981,
          1517981,
          4137302,
          5406255,
          34502132,
          4938273,
          110998,
          1000000,
          99020,
          1620564,
          110998,
          12138345,
          1620564,
          9258000,
          6104280,
          7834449,
          43006362,
          32742000,
          5005350,
          1517981,
          27739975,
          2866667,
          1620564,
          1663861,
          16587688,
          1000000,
          11454048,
          8049360,
          1517981,
          2000000,
          3449400,
          1762796,
          18000000,
          27957238,
          554988,
          1620564,
          4767000,
          40108950,
          1517981,
          110998,
          1620564,
          1000000,
          29542010,
          1620564,
          2017320,
          9600000,
          9258000,
          7529020,
          3944013,
          1517981,
          110998,
          2337145,
          17450000,
          8099627,
          110998,
          12288697,
          1620564,
          1517981,
          19500000,
          1620564,
          6720720,
          2564753,
          14500000,
          35450412,
          1442968,
          27525281,
          1701593,
          18136364,
          16869276,
          1663861,
          19050000,
          1620564,
          15365853,
          22246956,
          7199760,
          1517981,
          1620564,
          776873,
          32670565,
          2750000,
          4692840,
          41254920,
          3623000,
          9258000,
          19160714,
          16071429,
          34358850,
          770433,
          3491159,
          1620564,
          1620564,
          5105160,
          28500000,
          110998,
          6493000,
          1620564,
          3822240,
          1977011,
          24701834,
          9590602,
          1620564,
          2345640,
          25876111,
          5720400,
          5005350,
          10047450,
          27500000,
          1620564,
          2761920,
          7422000,
          2443440,
          9258000,
          15000000,
          754783,
          10863637,
          27285000,
          33460350,
          7362566,
          250000,
          4767000,
          5029650,
          1620564,
          1517981,
          39219566,
          1445697,
          2303040,
          110998,
          4235160,
          16047100,
          2048040,
          3804150,
          1620564,
          29542010,
          110998,
          785285,
          8817143,
          10375678,
          12600000,
          2075880,
          1620564,
          5005350,
          5273826,
          8325000,
          2100000,
          1762796,
          2250000,
          1780152,
          3562178,
          19500000,
          10500000,
          3631200,
          3761085,
          16203704,
          1517981,
          1762796,
          2258000,
          1265372,
          34379100,
          9400000,
          31626953,
          2210640,
          4821429,
          12697675,
          7300000,
          31258256,
          30500000,
          5500000,
          309355,
          1517981,
          3500000,
          6731508,
          1517981,
          1517981,
          1445697,
          3623000,
          4000000,
          29354152,
          1517981,
          7333333,
          4200000,
          5192307,
          1762796,
          2283034,
          455090,
          3897436,
          9571712,
          50000,
          33051724,
          7000000,
          13535714,
          10000000,
          1701593,
          5195501,
          5345687,
          1620564,
          9166800,
          1517981,
          1620564,
          1723707,
          14286000,
          27285000,
          2002800,
          2283034,
          1663861,
          1752950,
          1620564,
          1783557,
          5000000,
          1517981,
          6176578,
          1663861,
          12888889,
          1824003,
          8500000,
          1752950,
          1882867,
          2651040,
          1517981,
          21000000,
          12819649,
          1517981,
          8840580,
          6500000,
          1517981,
          374297,
          3077704,
          737067,
          41358814,
          4767000,
          217845,
          99020,
          99020,
          8000000,
          8101852,
          2619207,
          2063280,
          3623000,
          29467800,
          11080125,
          10865952,
          12250000,
          18900000,
          4458000,
          13013700,
          1517981,
          110998,
          10865952,
          3500000,
          163818,
          1663861,
          3737520,
          99020,
          1663861,
          930930,
          1517981,
          8250000,
          7682926,
          13500000,
          18900000,
          17000000,
          28649250,
          19800000,
          2824320,
          1620564,
          9250000,
          10000000,
          1517981,
          16000000,
          5005350,
          4991880,
          2090040,
          447155,
          30559200,
          1517981,
          30559200,
          2252040,
          1517981,
          13446428,
          6000000,
          1068200,
          12178571,
          1988280,
          2160000,
          9897120,
          510589,
          1620564,
          4767000,
          5000000,
          110998,
          744684,
          1517981,
          35361360,
          9258000,
          2711280,
          340000,
          18000000,
          15000000,
          4642800,
          21250000,
          1663861,
          263995,
          26000000,
          1517981,
          2161920,
          12650000,
          34379100,
          41254920,
          2250000,
          1445697,
          41358814,
          5572680,
          3516284,
          1620564,
          29542010,
          2498760,
          2000000,
          8000000,
          10245480,
          2137440,
          13000000,
          13015874,
          9000000,
          13545000,
          6571800,
          15415730,
          7000000
         ],
         "xaxis": "x",
         "y": [
          8.1,
          19.2,
          13.7,
          13.7,
          9.5,
          12.9,
          5.2,
          12.8,
          12.3,
          29,
          2.2,
          14,
          14,
          3.2,
          4,
          14.5,
          9.9,
          13.9,
          14.2,
          4.6,
          16.3,
          17.3,
          13,
          8.6,
          8.6,
          6.1,
          6.1,
          11.9,
          31.8,
          20.5,
          3.3,
          3.3,
          4.6,
          10.8,
          8.3,
          5.5,
          3.8,
          5.5,
          7.2,
          11.3,
          9.6,
          14.9,
          2.2,
          25.1,
          13.8,
          8.5,
          4.8,
          13.7,
          9.6,
          1.9,
          1.9,
          21.6,
          15.8,
          24.7,
          6.6,
          7.6,
          12.2,
          14.3,
          9.3,
          7,
          12.6,
          21.3,
          2.8,
          1.4,
          14.3,
          8.9,
          2.8,
          5.8,
          3,
          6.5,
          3.4,
          11.8,
          17.5,
          9.8,
          4.9,
          18.3,
          7,
          16.4,
          6.9,
          2.9,
          2.9,
          0.7,
          9.6,
          9.6,
          8.6,
          2.9,
          10.1,
          6.8,
          12.9,
          29,
          22.5,
          2.3,
          7,
          20.6,
          6.4,
          3.1,
          11.9,
          7.9,
          7.9,
          6.7,
          29,
          12.6,
          6.7,
          3.9,
          7.7,
          13.9,
          17.5,
          17.5,
          0.5,
          7.3,
          29,
          5.1,
          7.5,
          10.6,
          10.6,
          29.9,
          4.6,
          2.8,
          3.8,
          5.9,
          1.6,
          0.2,
          1.5,
          9.5,
          9.5,
          19.6,
          23.8,
          1.3,
          12.9,
          0.2,
          4.8,
          12.8,
          5.1,
          16.4,
          4.8,
          10.9,
          22.5,
          4.2,
          14.5,
          3.9,
          14.6,
          17.8,
          13.1,
          23.3,
          4.9,
          9.2,
          6.1,
          8.7,
          4.2,
          9.8,
          11.6,
          11.6,
          3.9,
          13.4,
          25.3,
          1.4,
          14.8,
          9.7,
          14.7,
          20.8,
          1,
          9.1,
          3.5,
          3,
          5.5,
          20.4,
          7.6,
          6.2,
          6.3,
          15.1,
          6.9,
          16.9,
          11.8,
          4.2,
          6.9,
          15.9,
          11.6,
          13.9,
          4.7,
          14.3,
          6.6,
          11.9,
          16.7,
          1.9,
          10.9,
          4.7,
          0,
          12.3,
          24.2,
          28.1,
          11.9,
          5.2,
          13.2,
          7,
          8.7,
          2.1,
          25.4,
          3.9,
          9.9,
          2,
          10.3,
          5.7,
          13.9,
          2.9,
          5.2,
          27.1,
          3,
          3,
          7.5,
          7.6,
          6.7,
          1.2,
          6.6,
          12.1,
          8,
          7.8,
          4,
          9.2,
          2,
          1,
          12.1,
          28.2,
          11.1,
          2.5,
          6.1,
          17.3,
          1.3,
          6.7,
          6.1,
          6.1,
          25.9,
          3.3,
          30.1,
          5.3,
          3.9,
          11.4,
          8.2,
          5.8,
          17.6,
          5,
          3.8,
          5.3,
          4.4,
          17.7,
          5.3,
          3.8,
          1.3,
          4.5,
          1,
          23.8,
          4.5,
          13.6,
          8,
          5.6,
          2.5,
          6.6,
          6.6,
          2,
          9.6,
          3.4,
          20.4,
          3.4,
          12.9,
          9.5,
          13.8,
          25.4,
          12.3,
          4.3,
          19.3,
          0.9,
          6.1,
          10.4,
          15.6,
          21.1,
          4.3,
          9.7,
          7,
          6.7,
          7.7,
          5,
          4.8,
          10.5,
          4.3,
          13.3,
          9.8,
          9.2,
          7.5,
          5.4,
          4.3,
          4.8,
          2.7,
          20.8,
          10,
          2,
          10.1,
          2.7,
          9.5,
          0,
          4.7,
          4.7,
          15.7,
          12.4,
          2.3,
          2.3,
          2.3,
          10.3,
          7.1,
          0.8,
          10.8,
          10.8,
          19.7,
          4.4,
          19.5,
          8.3,
          23.3,
          11.2,
          8.7,
          11.4,
          5,
          13.3,
          7.3,
          1.2,
          12.5,
          5.2,
          1.4,
          8.6,
          5.3,
          9,
          3.9,
          13.5,
          16,
          20.2,
          8.8,
          19.3,
          20.2,
          3.8,
          2.6,
          10.3,
          7.5,
          3,
          15,
          3.8,
          24,
          7.8,
          1,
          19.8,
          2.7,
          16.1,
          8,
          1.7,
          12.8,
          5.2,
          3.7,
          5.6,
          6.8,
          4.9,
          24.9,
          6.6,
          6.6,
          8.5,
          9.4,
          18.1,
          2.3,
          2.6,
          21.5,
          7.9,
          3.7,
          4,
          13.2,
          15.9,
          7.4,
          20.1,
          5.6,
          0,
          24.5,
          4.1,
          7.1,
          13.1,
          17.7,
          21.1,
          4.7,
          2.6,
          21.7,
          15.2,
          12.8,
          8,
          17.7,
          5,
          7,
          12,
          25.7,
          5.4,
          7.8,
          21.9,
          10.5,
          12.2,
          25.7,
          9.2,
          8.5
         ],
         "yaxis": "y"
        }
       ],
       "layout": {
        "coloraxis": {
         "colorbar": {
          "title": {
           "text": "Assists"
          }
         },
         "colorscale": [
          [
           0,
           "#0d0887"
          ],
          [
           0.1111111111111111,
           "#46039f"
          ],
          [
           0.2222222222222222,
           "#7201a8"
          ],
          [
           0.3333333333333333,
           "#9c179e"
          ],
          [
           0.4444444444444444,
           "#bd3786"
          ],
          [
           0.5555555555555556,
           "#d8576b"
          ],
          [
           0.6666666666666666,
           "#ed7953"
          ],
          [
           0.7777777777777778,
           "#fb9f3a"
          ],
          [
           0.8888888888888888,
           "#fdca26"
          ],
          [
           1,
           "#f0f921"
          ]
         ]
        },
        "legend": {
         "itemsizing": "constant",
         "tracegroupgap": 0
        },
        "template": {
         "data": {
          "bar": [
           {
            "error_x": {
             "color": "#2a3f5f"
            },
            "error_y": {
             "color": "#2a3f5f"
            },
            "marker": {
             "line": {
              "color": "#E5ECF6",
              "width": 0.5
             },
             "pattern": {
              "fillmode": "overlay",
              "size": 10,
              "solidity": 0.2
             }
            },
            "type": "bar"
           }
          ],
          "barpolar": [
           {
            "marker": {
             "line": {
              "color": "#E5ECF6",
              "width": 0.5
             },
             "pattern": {
              "fillmode": "overlay",
              "size": 10,
              "solidity": 0.2
             }
            },
            "type": "barpolar"
           }
          ],
          "carpet": [
           {
            "aaxis": {
             "endlinecolor": "#2a3f5f",
             "gridcolor": "white",
             "linecolor": "white",
             "minorgridcolor": "white",
             "startlinecolor": "#2a3f5f"
            },
            "baxis": {
             "endlinecolor": "#2a3f5f",
             "gridcolor": "white",
             "linecolor": "white",
             "minorgridcolor": "white",
             "startlinecolor": "#2a3f5f"
            },
            "type": "carpet"
           }
          ],
          "choropleth": [
           {
            "colorbar": {
             "outlinewidth": 0,
             "ticks": ""
            },
            "type": "choropleth"
           }
          ],
          "contour": [
           {
            "colorbar": {
             "outlinewidth": 0,
             "ticks": ""
            },
            "colorscale": [
             [
              0,
              "#0d0887"
             ],
             [
              0.1111111111111111,
              "#46039f"
             ],
             [
              0.2222222222222222,
              "#7201a8"
             ],
             [
              0.3333333333333333,
              "#9c179e"
             ],
             [
              0.4444444444444444,
              "#bd3786"
             ],
             [
              0.5555555555555556,
              "#d8576b"
             ],
             [
              0.6666666666666666,
              "#ed7953"
             ],
             [
              0.7777777777777778,
              "#fb9f3a"
             ],
             [
              0.8888888888888888,
              "#fdca26"
             ],
             [
              1,
              "#f0f921"
             ]
            ],
            "type": "contour"
           }
          ],
          "contourcarpet": [
           {
            "colorbar": {
             "outlinewidth": 0,
             "ticks": ""
            },
            "type": "contourcarpet"
           }
          ],
          "heatmap": [
           {
            "colorbar": {
             "outlinewidth": 0,
             "ticks": ""
            },
            "colorscale": [
             [
              0,
              "#0d0887"
             ],
             [
              0.1111111111111111,
              "#46039f"
             ],
             [
              0.2222222222222222,
              "#7201a8"
             ],
             [
              0.3333333333333333,
              "#9c179e"
             ],
             [
              0.4444444444444444,
              "#bd3786"
             ],
             [
              0.5555555555555556,
              "#d8576b"
             ],
             [
              0.6666666666666666,
              "#ed7953"
             ],
             [
              0.7777777777777778,
              "#fb9f3a"
             ],
             [
              0.8888888888888888,
              "#fdca26"
             ],
             [
              1,
              "#f0f921"
             ]
            ],
            "type": "heatmap"
           }
          ],
          "heatmapgl": [
           {
            "colorbar": {
             "outlinewidth": 0,
             "ticks": ""
            },
            "colorscale": [
             [
              0,
              "#0d0887"
             ],
             [
              0.1111111111111111,
              "#46039f"
             ],
             [
              0.2222222222222222,
              "#7201a8"
             ],
             [
              0.3333333333333333,
              "#9c179e"
             ],
             [
              0.4444444444444444,
              "#bd3786"
             ],
             [
              0.5555555555555556,
              "#d8576b"
             ],
             [
              0.6666666666666666,
              "#ed7953"
             ],
             [
              0.7777777777777778,
              "#fb9f3a"
             ],
             [
              0.8888888888888888,
              "#fdca26"
             ],
             [
              1,
              "#f0f921"
             ]
            ],
            "type": "heatmapgl"
           }
          ],
          "histogram": [
           {
            "marker": {
             "pattern": {
              "fillmode": "overlay",
              "size": 10,
              "solidity": 0.2
             }
            },
            "type": "histogram"
           }
          ],
          "histogram2d": [
           {
            "colorbar": {
             "outlinewidth": 0,
             "ticks": ""
            },
            "colorscale": [
             [
              0,
              "#0d0887"
             ],
             [
              0.1111111111111111,
              "#46039f"
             ],
             [
              0.2222222222222222,
              "#7201a8"
             ],
             [
              0.3333333333333333,
              "#9c179e"
             ],
             [
              0.4444444444444444,
              "#bd3786"
             ],
             [
              0.5555555555555556,
              "#d8576b"
             ],
             [
              0.6666666666666666,
              "#ed7953"
             ],
             [
              0.7777777777777778,
              "#fb9f3a"
             ],
             [
              0.8888888888888888,
              "#fdca26"
             ],
             [
              1,
              "#f0f921"
             ]
            ],
            "type": "histogram2d"
           }
          ],
          "histogram2dcontour": [
           {
            "colorbar": {
             "outlinewidth": 0,
             "ticks": ""
            },
            "colorscale": [
             [
              0,
              "#0d0887"
             ],
             [
              0.1111111111111111,
              "#46039f"
             ],
             [
              0.2222222222222222,
              "#7201a8"
             ],
             [
              0.3333333333333333,
              "#9c179e"
             ],
             [
              0.4444444444444444,
              "#bd3786"
             ],
             [
              0.5555555555555556,
              "#d8576b"
             ],
             [
              0.6666666666666666,
              "#ed7953"
             ],
             [
              0.7777777777777778,
              "#fb9f3a"
             ],
             [
              0.8888888888888888,
              "#fdca26"
             ],
             [
              1,
              "#f0f921"
             ]
            ],
            "type": "histogram2dcontour"
           }
          ],
          "mesh3d": [
           {
            "colorbar": {
             "outlinewidth": 0,
             "ticks": ""
            },
            "type": "mesh3d"
           }
          ],
          "parcoords": [
           {
            "line": {
             "colorbar": {
              "outlinewidth": 0,
              "ticks": ""
             }
            },
            "type": "parcoords"
           }
          ],
          "pie": [
           {
            "automargin": true,
            "type": "pie"
           }
          ],
          "scatter": [
           {
            "fillpattern": {
             "fillmode": "overlay",
             "size": 10,
             "solidity": 0.2
            },
            "type": "scatter"
           }
          ],
          "scatter3d": [
           {
            "line": {
             "colorbar": {
              "outlinewidth": 0,
              "ticks": ""
             }
            },
            "marker": {
             "colorbar": {
              "outlinewidth": 0,
              "ticks": ""
             }
            },
            "type": "scatter3d"
           }
          ],
          "scattercarpet": [
           {
            "marker": {
             "colorbar": {
              "outlinewidth": 0,
              "ticks": ""
             }
            },
            "type": "scattercarpet"
           }
          ],
          "scattergeo": [
           {
            "marker": {
             "colorbar": {
              "outlinewidth": 0,
              "ticks": ""
             }
            },
            "type": "scattergeo"
           }
          ],
          "scattergl": [
           {
            "marker": {
             "colorbar": {
              "outlinewidth": 0,
              "ticks": ""
             }
            },
            "type": "scattergl"
           }
          ],
          "scattermapbox": [
           {
            "marker": {
             "colorbar": {
              "outlinewidth": 0,
              "ticks": ""
             }
            },
            "type": "scattermapbox"
           }
          ],
          "scatterpolar": [
           {
            "marker": {
             "colorbar": {
              "outlinewidth": 0,
              "ticks": ""
             }
            },
            "type": "scatterpolar"
           }
          ],
          "scatterpolargl": [
           {
            "marker": {
             "colorbar": {
              "outlinewidth": 0,
              "ticks": ""
             }
            },
            "type": "scatterpolargl"
           }
          ],
          "scatterternary": [
           {
            "marker": {
             "colorbar": {
              "outlinewidth": 0,
              "ticks": ""
             }
            },
            "type": "scatterternary"
           }
          ],
          "surface": [
           {
            "colorbar": {
             "outlinewidth": 0,
             "ticks": ""
            },
            "colorscale": [
             [
              0,
              "#0d0887"
             ],
             [
              0.1111111111111111,
              "#46039f"
             ],
             [
              0.2222222222222222,
              "#7201a8"
             ],
             [
              0.3333333333333333,
              "#9c179e"
             ],
             [
              0.4444444444444444,
              "#bd3786"
             ],
             [
              0.5555555555555556,
              "#d8576b"
             ],
             [
              0.6666666666666666,
              "#ed7953"
             ],
             [
              0.7777777777777778,
              "#fb9f3a"
             ],
             [
              0.8888888888888888,
              "#fdca26"
             ],
             [
              1,
              "#f0f921"
             ]
            ],
            "type": "surface"
           }
          ],
          "table": [
           {
            "cells": {
             "fill": {
              "color": "#EBF0F8"
             },
             "line": {
              "color": "white"
             }
            },
            "header": {
             "fill": {
              "color": "#C8D4E3"
             },
             "line": {
              "color": "white"
             }
            },
            "type": "table"
           }
          ]
         },
         "layout": {
          "annotationdefaults": {
           "arrowcolor": "#2a3f5f",
           "arrowhead": 0,
           "arrowwidth": 1
          },
          "autotypenumbers": "strict",
          "coloraxis": {
           "colorbar": {
            "outlinewidth": 0,
            "ticks": ""
           }
          },
          "colorscale": {
           "diverging": [
            [
             0,
             "#8e0152"
            ],
            [
             0.1,
             "#c51b7d"
            ],
            [
             0.2,
             "#de77ae"
            ],
            [
             0.3,
             "#f1b6da"
            ],
            [
             0.4,
             "#fde0ef"
            ],
            [
             0.5,
             "#f7f7f7"
            ],
            [
             0.6,
             "#e6f5d0"
            ],
            [
             0.7,
             "#b8e186"
            ],
            [
             0.8,
             "#7fbc41"
            ],
            [
             0.9,
             "#4d9221"
            ],
            [
             1,
             "#276419"
            ]
           ],
           "sequential": [
            [
             0,
             "#0d0887"
            ],
            [
             0.1111111111111111,
             "#46039f"
            ],
            [
             0.2222222222222222,
             "#7201a8"
            ],
            [
             0.3333333333333333,
             "#9c179e"
            ],
            [
             0.4444444444444444,
             "#bd3786"
            ],
            [
             0.5555555555555556,
             "#d8576b"
            ],
            [
             0.6666666666666666,
             "#ed7953"
            ],
            [
             0.7777777777777778,
             "#fb9f3a"
            ],
            [
             0.8888888888888888,
             "#fdca26"
            ],
            [
             1,
             "#f0f921"
            ]
           ],
           "sequentialminus": [
            [
             0,
             "#0d0887"
            ],
            [
             0.1111111111111111,
             "#46039f"
            ],
            [
             0.2222222222222222,
             "#7201a8"
            ],
            [
             0.3333333333333333,
             "#9c179e"
            ],
            [
             0.4444444444444444,
             "#bd3786"
            ],
            [
             0.5555555555555556,
             "#d8576b"
            ],
            [
             0.6666666666666666,
             "#ed7953"
            ],
            [
             0.7777777777777778,
             "#fb9f3a"
            ],
            [
             0.8888888888888888,
             "#fdca26"
            ],
            [
             1,
             "#f0f921"
            ]
           ]
          },
          "colorway": [
           "#636efa",
           "#EF553B",
           "#00cc96",
           "#ab63fa",
           "#FFA15A",
           "#19d3f3",
           "#FF6692",
           "#B6E880",
           "#FF97FF",
           "#FECB52"
          ],
          "font": {
           "color": "#2a3f5f"
          },
          "geo": {
           "bgcolor": "white",
           "lakecolor": "white",
           "landcolor": "#E5ECF6",
           "showlakes": true,
           "showland": true,
           "subunitcolor": "white"
          },
          "hoverlabel": {
           "align": "left"
          },
          "hovermode": "closest",
          "mapbox": {
           "style": "light"
          },
          "paper_bgcolor": "white",
          "plot_bgcolor": "#E5ECF6",
          "polar": {
           "angularaxis": {
            "gridcolor": "white",
            "linecolor": "white",
            "ticks": ""
           },
           "bgcolor": "#E5ECF6",
           "radialaxis": {
            "gridcolor": "white",
            "linecolor": "white",
            "ticks": ""
           }
          },
          "scene": {
           "xaxis": {
            "backgroundcolor": "#E5ECF6",
            "gridcolor": "white",
            "gridwidth": 2,
            "linecolor": "white",
            "showbackground": true,
            "ticks": "",
            "zerolinecolor": "white"
           },
           "yaxis": {
            "backgroundcolor": "#E5ECF6",
            "gridcolor": "white",
            "gridwidth": 2,
            "linecolor": "white",
            "showbackground": true,
            "ticks": "",
            "zerolinecolor": "white"
           },
           "zaxis": {
            "backgroundcolor": "#E5ECF6",
            "gridcolor": "white",
            "gridwidth": 2,
            "linecolor": "white",
            "showbackground": true,
            "ticks": "",
            "zerolinecolor": "white"
           }
          },
          "shapedefaults": {
           "line": {
            "color": "#2a3f5f"
           }
          },
          "ternary": {
           "aaxis": {
            "gridcolor": "white",
            "linecolor": "white",
            "ticks": ""
           },
           "baxis": {
            "gridcolor": "white",
            "linecolor": "white",
            "ticks": ""
           },
           "bgcolor": "#E5ECF6",
           "caxis": {
            "gridcolor": "white",
            "linecolor": "white",
            "ticks": ""
           }
          },
          "title": {
           "x": 0.05
          },
          "xaxis": {
           "automargin": true,
           "gridcolor": "white",
           "linecolor": "white",
           "ticks": "",
           "title": {
            "standoff": 15
           },
           "zerolinecolor": "white",
           "zerolinewidth": 2
          },
          "yaxis": {
           "automargin": true,
           "gridcolor": "white",
           "linecolor": "white",
           "ticks": "",
           "title": {
            "standoff": 15
           },
           "zerolinecolor": "white",
           "zerolinewidth": 2
          }
         }
        },
        "title": {
         "text": "Corrélation entre le salaire, les points, les assists et les rebonds des joueurs actifs en 2020"
        },
        "xaxis": {
         "anchor": "y",
         "domain": [
          0,
          1
         ],
         "title": {
          "text": "Salaire ($)"
         }
        },
        "yaxis": {
         "anchor": "x",
         "domain": [
          0,
          1
         ],
         "title": {
          "text": "Points par match"
         }
        }
       }
      }
     },
     "metadata": {},
     "output_type": "display_data"
    }
   ],
   "source": [
    "import pandas as pd\n",
    "import plotly.express as px\n",
    "\n",
    "# Charger les fichiers CSV\n",
    "players = pd.read_csv('./csv/Player.csv')\n",
    "salaries = pd.read_csv('./csv/Player_Salary.csv')\n",
    "attributes = pd.read_csv('./csv/Player_Attributes.csv')\n",
    "\n",
    "# Filtrer les joueurs actifs\n",
    "active_players = players[players['is_active'] == 1]\n",
    "\n",
    "# Filtrer les salaires pour l'année 2020\n",
    "salaries_2020 = salaries[salaries['slugSeason'] == '2020-21']\n",
    "\n",
    "# Fusionner les données des joueurs actifs avec leurs attributs et salaires\n",
    "active_players_2020 = active_players.merge(attributes, left_on=['full_name'], right_on=['DISPLAY_FIRST_LAST'])\n",
    "active_players_2020 = active_players_2020.merge(salaries_2020, left_on=['full_name'], right_on=['namePlayer'])\n",
    "\n",
    "# Extraire les salaires, les points, les assists et les rebonds\n",
    "salary_points_2020 = active_players_2020[['full_name', 'value', 'PTS', 'AST', 'REB']]\n",
    "\n",
    "# Créer un bubble chart interactif\n",
    "fig = px.scatter(salary_points_2020, x='value', y='PTS', size='REB', color='AST', hover_data=['full_name'],\n",
    "                 labels={'value': 'Salaire ($)', 'PTS': 'Points par match', 'REB': 'Rebonds', 'AST': 'Assists'},\n",
    "                 title='Corrélation entre le salaire, les points, les assists et les rebonds des joueurs actifs en 2020')\n",
    "\n",
    "fig.show()\n"
   ]
  }
 ],
 "metadata": {
  "kernelspec": {
   "display_name": "Python 3",
   "language": "python",
   "name": "python3"
  },
  "language_info": {
   "codemirror_mode": {
    "name": "ipython",
    "version": 3
   },
   "file_extension": ".py",
   "mimetype": "text/x-python",
   "name": "python",
   "nbconvert_exporter": "python",
   "pygments_lexer": "ipython3",
   "version": "3.12.0"
  }
 },
 "nbformat": 4,
 "nbformat_minor": 2
}
